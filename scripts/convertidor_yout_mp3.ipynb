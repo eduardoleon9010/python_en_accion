{
  "nbformat": 4,
  "nbformat_minor": 0,
  "metadata": {
    "colab": {
      "provenance": []
    },
    "kernelspec": {
      "name": "python3",
      "display_name": "Python 3"
    },
    "language_info": {
      "name": "python"
    }
  },
  "cells": [
    {
      "cell_type": "markdown",
      "source": [
        "# **Ejercicio académicao: Descarga de audio en formato MP3 desde YouTube**\n",
        "\n",
        "## **1. Introducción**\n",
        "\n",
        "Este documento presenta una descripción detallada del código en Python que permite descargar audio en formato MP3 desde videos de YouTube. Se emplea la biblioteca `yt_dlp`, una versión avanzada de youtube-dl, optimizada para evitar restricciones impuestas por YouTube. Además, el código se ejecuta en Google Colab, permitiendo la descarga y almacenamiento del archivo resultante.\n",
        "\n",
        "### **2. Requisitos previos**\n",
        "\n",
        "Antes de ejecutar el script, es necesario cumplir con los siguientes requisitos:\n",
        "\n",
        "Tener Python instalado (si se ejecuta localmente).\n",
        "\n",
        "Instalar la biblioteca `yt-dlp` mediante el siguiente comando:\n",
        "\n",
        "`!pip install yt-dlp`\n",
        "\n",
        "\n",
        "\n"
      ],
      "metadata": {
        "id": "CBEcncudzz4N"
      }
    },
    {
      "cell_type": "code",
      "source": [
        "!pip install yt-dlp"
      ],
      "metadata": {
        "colab": {
          "base_uri": "https://localhost:8080/"
        },
        "id": "bmMYSprpz29J",
        "outputId": "be6963f2-fa1c-4c4b-a489-b67a6fa5ce0a"
      },
      "execution_count": 15,
      "outputs": [
        {
          "output_type": "stream",
          "name": "stdout",
          "text": [
            "Requirement already satisfied: yt-dlp in /usr/local/lib/python3.11/dist-packages (2025.3.27)\n"
          ]
        }
      ]
    },
    {
      "cell_type": "code",
      "source": [
        "!pip install --upgrade pytube --quiet"
      ],
      "metadata": {
        "id": "KuxbM70vz2jb"
      },
      "execution_count": 2,
      "outputs": []
    },
    {
      "cell_type": "markdown",
      "source": [
        "### **3. Explicación del script**\n",
        "\n",
        "***3.1. Importación de bibliotecas***"
      ],
      "metadata": {
        "id": "baCgEtTD6GhO"
      }
    },
    {
      "cell_type": "code",
      "source": [
        "import yt_dlp  # Biblioteca para descargar videos y audios de YouTube\n",
        "import os  # Manejo de archivos y directorios\n",
        "from google.colab import files  # Para descargar archivos en Google Colab"
      ],
      "metadata": {
        "id": "qAMOjQJ06Fcw"
      },
      "execution_count": 23,
      "outputs": []
    },
    {
      "cell_type": "markdown",
      "source": [
        "***Se importan las siguientes bibliotecas:***\n",
        "\n",
        "`yt_dlp`: Permite extraer y descargar el contenido multimedia de YouTube.\n",
        "\n",
        "`os`: Facilita operaciones sobre archivos y directorios.\n",
        "\n",
        "`google.colab.files`: Permite descargar archivos desde Google Colab al sistema local del usuario."
      ],
      "metadata": {
        "id": "mDCiiRKd6WlB"
      }
    },
    {
      "cell_type": "markdown",
      "source": [
        "***3.2. Definición de la Función descargar_audio_mp3(url)***\n",
        "\n",
        "```\n",
        "def descargar_audio_mp3(url):\n",
        "    \"\"\"\n",
        "    Descarga el audio en formato MP3 de un video de YouTube.\n",
        "    :param url: URL del video de YouTube.\n",
        "    \"\"\"\n",
        "    nombre_salida = \"audio_descargado.mp3\"  # Nombre del archivo final\n",
        "```\n",
        "\n"
      ],
      "metadata": {
        "id": "sTOyM7226oQO"
      }
    },
    {
      "cell_type": "markdown",
      "source": [
        "Se define la función `descargar_audio_mp3(url)`, que recibe como parámetro la URL del video de YouTube y almacena el archivo descargado con el nombre `audio_descargado.mp3`"
      ],
      "metadata": {
        "id": "DxwXqDB26yEl"
      }
    },
    {
      "cell_type": "markdown",
      "source": [
        "***3.3. Configuración de opciones para la descarga***\n",
        "\n",
        "\n",
        "\n",
        "```\n",
        "    # Configuración de opciones para la descarga\n",
        "    opciones = {\n",
        "        'format': 'bestaudio/best',  # Selecciona el mejor formato de audio disponible\n",
        "        'postprocessors': [{\n",
        "            'key': 'FFmpegExtractAudio',  # Convierte el audio a MP3\n",
        "            'preferredcodec': 'mp3',\n",
        "            'preferredquality': '192',  # Calidad de 192 kbps\n",
        "        }],\n",
        "        'outtmpl': 'temp_audio.%(ext)s',  # Nombre temporal del archivo descargado\n",
        "        'http_headers': {'User-Agent': 'Mozilla/5.0 (Windows NT 10.0; Win64; x64)'},\n",
        "        'extractor_args': {'youtube': {'player_client': ['web']}}  # Evita restricciones en la descarga\n",
        "    }\n",
        "```\n",
        "\n"
      ],
      "metadata": {
        "id": "lN2TFUJ8642r"
      }
    },
    {
      "cell_type": "markdown",
      "source": [
        "***Se configuran los siguientes parámetros:***\n",
        "\n",
        "`format`: Selecciona el mejor formato de audio disponible.\n",
        "\n",
        "`postprocessors:` Convierte el audio descargado a MP3 usando FFmpeg con una calidad de 192 kbps.\n",
        "\n",
        "`outtmpl:` Define el nombre temporal del archivo descargado (temp_audio.mp3).\n",
        "\n",
        "`http_headers:` Simula la petición como si se realizara desde un navegador.\n",
        "\n",
        "`extractor_args:` Evita restricciones en la descarga al indicar que se use el cliente web de YouTube."
      ],
      "metadata": {
        "id": "ZXOLfr1H7Bxh"
      }
    },
    {
      "cell_type": "markdown",
      "source": [
        "***3.4. Ejecución del proceso de descarga***\n",
        "\n",
        "    try:\n",
        "        with yt_dlp.YoutubeDL(opciones) as ydl:\n",
        "            info = ydl.extract_info(url, download=True)  # Descarga el audio del video\n",
        "\n",
        "        # Obtener el nombre del archivo descargado\n",
        "        archivo_descargado = ydl.prepare_filename(info).rsplit(\".\", 1)[0] + \".mp3\"\n",
        "        \n",
        "        # Verificar si el archivo se descargó correctamente\n",
        "        if os.path.exists(archivo_descargado):\n",
        "            os.rename(archivo_descargado, nombre_salida)  # Renombrar el archivo\n",
        "            print(f\"\\n✅ Descarga exitosa: '{nombre_salida}'\")\n",
        "            files.download(nombre_salida)  # Descargar el archivo en el sistema local\n",
        "            print(\"📂 Se ha descargado en tu carpeta 'Descargas'.\")\n",
        "        else:\n",
        "            print(\"❌ Error: No se encontró el archivo descargado.\")\n",
        "    except Exception as e:\n",
        "        print(f\"❌ Ocurrió un error: {e}\")"
      ],
      "metadata": {
        "id": "Ls3HYgCV7c_W"
      }
    },
    {
      "cell_type": "markdown",
      "source": [
        " **3.5. Solicitar la URL al usuario por consola**\n",
        "\n",
        "\n",
        "\n",
        "```\n",
        "if __name__ == \"__main__\":\n",
        "    url_video = input(\"🔗 Ingresa la URL de YouTube: \").strip()\n",
        "    descargar_audio_mp3(url_video)\n",
        "  ```\n",
        "\n"
      ],
      "metadata": {
        "id": "PqxdqMC47ku1"
      }
    },
    {
      "cell_type": "markdown",
      "source": [
        "**3.6. Script completo**"
      ],
      "metadata": {
        "id": "7ZYlAcLd02x-"
      }
    },
    {
      "cell_type": "code",
      "source": [
        "def descargar_audio_mp3(url):\n",
        "    \"\"\"\n",
        "    Descarga el audio en formato MP3 de un video de YouTube.\n",
        "    :param url: URL del video de YouTube.\n",
        "    \"\"\"\n",
        "    nombre_salida = \"audio_descargado.mp3\"  # Nombre del archivo final\n",
        "\n",
        "    # Configuración de opciones para la descarga\n",
        "    opciones = {\n",
        "        'format': 'bestaudio/best',  # Selecciona el mejor formato de audio disponible\n",
        "        'postprocessors': [{\n",
        "            'key': 'FFmpegExtractAudio',  # Convierte el audio a MP3\n",
        "            'preferredcodec': 'mp3',\n",
        "            'preferredquality': '192',  # Calidad de 192 kbps\n",
        "        }],\n",
        "        'outtmpl': 'temp_audio.%(ext)s',  # Nombre temporal del archivo descargado\n",
        "        'http_headers': {'User-Agent': 'Mozilla/5.0 (Windows NT 10.0; Win64; x64)'},\n",
        "        'extractor_args': {'youtube': {'player_client': ['web']}}  # Evita restricciones en la descarga\n",
        "    }\n",
        "\n",
        "    try:\n",
        "        with yt_dlp.YoutubeDL(opciones) as ydl:\n",
        "            info = ydl.extract_info(url, download=True)  # Descarga el audio del video\n",
        "\n",
        "        # Obtener el nombre del archivo descargado\n",
        "        archivo_descargado = ydl.prepare_filename(info).rsplit(\".\", 1)[0] + \".mp3\"\n",
        "\n",
        "        # Verificar si el archivo se descargó correctamente\n",
        "        if os.path.exists(archivo_descargado):\n",
        "            os.rename(archivo_descargado, nombre_salida)  # Renombrar el archivo\n",
        "            print(f\"\\n✅ Descarga exitosa: '{nombre_salida}'\")\n",
        "            files.download(nombre_salida)  # Descargar el archivo en el sistema local\n",
        "            print(\"📂 Se ha descargado en tu carpeta 'Descargas'.\")\n",
        "        else:\n",
        "            print(\"❌ Error: No se encontró el archivo descargado.\")\n",
        "    except Exception as e:\n",
        "        print(f\"❌ Ocurrió un error: {e}\")\n",
        "\n",
        "# 📌 Solicitar URL al usuario e iniciar la descarga\n",
        "if __name__ == \"__main__\":\n",
        "    url_video = input(\"🔗 Ingresa la URL de YouTube: \").strip()\n",
        "    descargar_audio_mp3(url_video)\n"
      ],
      "metadata": {
        "colab": {
          "base_uri": "https://localhost:8080/",
          "height": 208
        },
        "id": "PayvHNWs3PWq",
        "outputId": "e14d39d3-6951-46e4-f2db-e5797b156eda"
      },
      "execution_count": 37,
      "outputs": [
        {
          "output_type": "stream",
          "name": "stdout",
          "text": [
            "🔗 Ingresa la URL de YouTube: https://www.youtube.com/watch?v=h5S6D1S5__c&t=5s\n",
            "[youtube] Extracting URL: https://www.youtube.com/watch?v=h5S6D1S5__c&t=5s\n",
            "[youtube] h5S6D1S5__c: Downloading webpage\n",
            "[info] h5S6D1S5__c: Downloading 1 format(s): 18\n",
            "[download] Destination: temp_audio.mp4\n",
            "[download] 100% of   71.13MiB in 00:00:06 at 11.63MiB/s  \n",
            "[ExtractAudio] Destination: temp_audio.mp3\n",
            "Deleting original file temp_audio.mp4 (pass -k to keep)\n",
            "\n",
            "✅ Descarga exitosa: 'audio_descargado.mp3'\n"
          ]
        },
        {
          "output_type": "display_data",
          "data": {
            "text/plain": [
              "<IPython.core.display.Javascript object>"
            ],
            "application/javascript": [
              "\n",
              "    async function download(id, filename, size) {\n",
              "      if (!google.colab.kernel.accessAllowed) {\n",
              "        return;\n",
              "      }\n",
              "      const div = document.createElement('div');\n",
              "      const label = document.createElement('label');\n",
              "      label.textContent = `Downloading \"${filename}\": `;\n",
              "      div.appendChild(label);\n",
              "      const progress = document.createElement('progress');\n",
              "      progress.max = size;\n",
              "      div.appendChild(progress);\n",
              "      document.body.appendChild(div);\n",
              "\n",
              "      const buffers = [];\n",
              "      let downloaded = 0;\n",
              "\n",
              "      const channel = await google.colab.kernel.comms.open(id);\n",
              "      // Send a message to notify the kernel that we're ready.\n",
              "      channel.send({})\n",
              "\n",
              "      for await (const message of channel.messages) {\n",
              "        // Send a message to notify the kernel that we're ready.\n",
              "        channel.send({})\n",
              "        if (message.buffers) {\n",
              "          for (const buffer of message.buffers) {\n",
              "            buffers.push(buffer);\n",
              "            downloaded += buffer.byteLength;\n",
              "            progress.value = downloaded;\n",
              "          }\n",
              "        }\n",
              "      }\n",
              "      const blob = new Blob(buffers, {type: 'application/binary'});\n",
              "      const a = document.createElement('a');\n",
              "      a.href = window.URL.createObjectURL(blob);\n",
              "      a.download = filename;\n",
              "      div.appendChild(a);\n",
              "      a.click();\n",
              "      div.remove();\n",
              "    }\n",
              "  "
            ]
          },
          "metadata": {}
        },
        {
          "output_type": "display_data",
          "data": {
            "text/plain": [
              "<IPython.core.display.Javascript object>"
            ],
            "application/javascript": [
              "download(\"download_e9f37f35-8d9d-46e1-a342-4a72905ee4ea\", \"audio_descargado.mp3\", 58423934)"
            ]
          },
          "metadata": {}
        },
        {
          "output_type": "stream",
          "name": "stdout",
          "text": [
            "📂 Se ha descargado en tu carpeta 'Descargas'.\n"
          ]
        }
      ]
    },
    {
      "cell_type": "markdown",
      "source": [
        "## **4. Resultados**\n",
        "\n",
        "En el desarrollo de esta práctica académica, se implementó un script en **Python** utilizando la biblioteca `yt_dlp` para la descarga de audio en formato **MP3** desde videos de YouTube. Se presentan los principales resultados obtenidos:  \n",
        "\n",
        "1. **Extracción y conversión exitosa de audio**  \n",
        "   - Se logró la extracción del audio en su mejor calidad disponible y su conversión a formato **MP3** con una tasa de bits de **192 kbps** utilizando `FFmpeg`.  \n",
        "\n",
        "2. **Automatización y facilidad de uso**  \n",
        "   - La función `descargar_audio_mp3(url)` permitió que el usuario introdujera la URL de un video de YouTube y descargara automáticamente el audio en su dispositivo.  \n",
        "   - La integración con **Google Colab** facilitó la descarga del archivo de salida mediante `google.colab.files`.  \n",
        "\n",
        "3. **Manejo de errores y validación de entrada**  \n",
        "   - Se implementó una estructura de manejo de excepciones (`try-except`) para capturar errores derivados de enlaces inválidos, restricciones de descarga o problemas de conexión.  \n",
        "   - Se verificó la existencia del archivo tras la conversión para garantizar que el proceso se completara correctamente.  \n",
        "\n",
        "\n",
        "\n"
      ],
      "metadata": {
        "id": "AomYtTG60aAQ"
      }
    },
    {
      "cell_type": "markdown",
      "source": [
        "## **5. Conclusiones**\n",
        "\n",
        "1. **Eficiencia del proceso**  \n",
        "   La utilización de `yt_dlp` y `FFmpeg` permitió una descarga y conversión de audio eficiente sin necesidad de intervención manual.  \n",
        "\n",
        "2. **Viabilidad en entornos educativos y de investigación**  \n",
        "   Esta práctica es útil para el análisis de contenido multimedia en el ámbito académico, como en investigaciones sobre análisis de audio, lingüística computacional y machine learning aplicado a procesamiento de señales de audio.  \n",
        "\n",
        "3. **Aspectos legales y eticos**  \n",
        "   Se debe garantizar el cumplimiento de los términos de uso de YouTube y las normativas de derechos de autor, limitando la descarga a contenido de uso legítimo o con licencia abierta.  \n",
        "\n",
        "4. **Posibles extensiones y mejoras**  \n",
        "   Implementar una **interfaz gráfica de usuario (GUI)** para mejorar la experiencia del usuario.  \n",
        "   Incorporar opciones avanzadas como la selección de diferentes calidades de audio o compatibilidad con otros formatos.  \n",
        "   Automatizar el análisis del audio descargado mediante técnicas de inteligencia artificial o minería de datos.  \n",
        "\n",
        "\n",
        "\n"
      ],
      "metadata": {
        "id": "Pl9_ms9vCdMY"
      }
    },
    {
      "cell_type": "markdown",
      "source": [
        "### 📚 **Referencias**  \n",
        "\n",
        "- Google. (2024). *Google Colaboratory Documentation*. Recuperado el 28 de marzo de 2025, de [https://colab.research.google.com/](https://colab.research.google.com/)  \n",
        "- Python Software Foundation. (2024). *os — Miscellaneous operating system interfaces*. Recuperado el 28 de marzo de 2025, de [https://docs.python.org/3/library/os.html](https://docs.python.org/3/library/os.html)  \n",
        "- yt-dlp Contributors. (2024). *yt-dlp Documentation*. Recuperado el 28 de marzo de 2025, de [https://github.com/yt-dlp/yt-dlp](https://github.com/yt-dlp/yt-dlp)  \n",
        "- YouTube. (2024). *Términos de Servicio*. Recuperado el 28 de marzo de 2025, de [https://www.youtube.com/t/terms](https://www.youtube.com/t/terms)  \n",
        "- FFmpeg Developers. (2024). *FFmpeg Documentation*. Recuperado el 28 de marzo de 2025, de [https://ffmpeg.org/documentation.html](https://ffmpeg.org/documentation.html)  \n",
        "\n",
        ""
      ],
      "metadata": {
        "id": "9N2A_rENC6LN"
      }
    }
  ]
}