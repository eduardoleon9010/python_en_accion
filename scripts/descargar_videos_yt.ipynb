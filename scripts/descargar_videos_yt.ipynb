{
  "nbformat": 4,
  "nbformat_minor": 0,
  "metadata": {
    "colab": {
      "provenance": []
    },
    "kernelspec": {
      "name": "python3",
      "display_name": "Python 3"
    },
    "language_info": {
      "name": "python"
    }
  },
  "cells": [
    {
      "cell_type": "markdown",
      "source": [
        "# 📌 **Descarga de Videos de YouTube con `yt-dlp` en Google Colab**  \n",
        "\n",
        "## 🔹 **Introducción**\n",
        "Este notebook tiene como objetivo educativo explicar cómo descargar videos de YouTube utilizando la biblioteca `yt-dlp` en **Google Colab**.  \n",
        "YouTube impone restricciones en algunos videos, pero `yt-dlp` es una herramienta avanzada que permite la descarga sin necesidad de autenticación en la mayoría de los casos.  \n",
        "\n",
        "---\n"
      ],
      "metadata": {
        "id": "mS4h2GBEDBTh"
      }
    },
    {
      "cell_type": "markdown",
      "source": [
        "🔹 **1. Instalar `yt-dlp`**"
      ],
      "metadata": {
        "id": "EoDO3xKMDnqf"
      }
    },
    {
      "cell_type": "code",
      "source": [
        "!pip install yt-dlp"
      ],
      "metadata": {
        "colab": {
          "base_uri": "https://localhost:8080/"
        },
        "id": "vKR9J2y9E4Pf",
        "outputId": "18234f67-9bcd-4d96-beec-119d558ff731"
      },
      "execution_count": null,
      "outputs": [
        {
          "output_type": "stream",
          "name": "stdout",
          "text": [
            "Collecting yt-dlp\n",
            "  Downloading yt_dlp-2025.1.15-py3-none-any.whl.metadata (172 kB)\n",
            "\u001b[?25l     \u001b[90m━━━━━━━━━━━━━━━━━━━━━━━━━━━━━━━━━━━━━━━━\u001b[0m \u001b[32m0.0/172.2 kB\u001b[0m \u001b[31m?\u001b[0m eta \u001b[36m-:--:--\u001b[0m\r\u001b[2K     \u001b[90m━━━━━━━━━━━━━━━━━━━━━━━━━━━━━━━━━━━━━━━━\u001b[0m \u001b[32m172.2/172.2 kB\u001b[0m \u001b[31m5.8 MB/s\u001b[0m eta \u001b[36m0:00:00\u001b[0m\n",
            "\u001b[?25hDownloading yt_dlp-2025.1.15-py3-none-any.whl (3.2 MB)\n",
            "\u001b[?25l   \u001b[90m━━━━━━━━━━━━━━━━━━━━━━━━━━━━━━━━━━━━━━━━\u001b[0m \u001b[32m0.0/3.2 MB\u001b[0m \u001b[31m?\u001b[0m eta \u001b[36m-:--:--\u001b[0m\r\u001b[2K   \u001b[91m━━━━━━━━━━━━━━━━━━━━━━━━━━━━━━━━━━━━━━━\u001b[0m\u001b[91m╸\u001b[0m \u001b[32m3.2/3.2 MB\u001b[0m \u001b[31m95.5 MB/s\u001b[0m eta \u001b[36m0:00:01\u001b[0m\r\u001b[2K   \u001b[90m━━━━━━━━━━━━━━━━━━━━━━━━━━━━━━━━━━━━━━━━\u001b[0m \u001b[32m3.2/3.2 MB\u001b[0m \u001b[31m48.7 MB/s\u001b[0m eta \u001b[36m0:00:00\u001b[0m\n",
            "\u001b[?25hInstalling collected packages: yt-dlp\n",
            "Successfully installed yt-dlp-2025.1.15\n"
          ]
        }
      ]
    },
    {
      "cell_type": "markdown",
      "source": [
        "🔹 **2. Arreglar posibles errores de importación**\n",
        "\n",
        "Este código añade un directorio a la lista de rutas de búsqueda de módulos de Python, llamada `sys.path`. Al hacerlo, Python podrá buscar e importar módulos desde esa ubicación específica.\n",
        "\n",
        "En este caso, estás agregando el directorio /`usr/local/lib/python3.10/dist-packagesa sys.path`. Esto puede ser útil si necesitas asegurarte de que Python pueda acceder a paquetes o bibliotecas instaladas en ese directorio."
      ],
      "metadata": {
        "id": "dkXW6cy6Dqml"
      }
    },
    {
      "cell_type": "code",
      "source": [
        "import sys\n",
        "sys.path.append(\"/usr/local/lib/python3.10/dist-packages\")"
      ],
      "metadata": {
        "id": "GbeO1y_qDyTC"
      },
      "execution_count": null,
      "outputs": []
    },
    {
      "cell_type": "markdown",
      "source": [
        "🔹 **3. Código para descargar videos en Colab**"
      ],
      "metadata": {
        "id": "3g1tOwkJD9HA"
      }
    },
    {
      "cell_type": "code",
      "source": [
        "import yt_dlp\n",
        "\n",
        "def descargar_video_yt_dlp(url, ruta_destino=\"/content/\"):\n",
        "    \"\"\"\n",
        "    Descarga un video de YouTube usando yt-dlp.\n",
        "\n",
        "    Parámetros:\n",
        "    url (str): Enlace del video de YouTube.\n",
        "    ruta_destino (str): Carpeta donde se guardará el video.\n",
        "\n",
        "    Retorna:\n",
        "    str: Mensaje indicando el éxito o error en la descarga.\n",
        "    \"\"\"\n",
        "    try:\n",
        "        opciones = {\n",
        "            'outtmpl': f'{ruta_destino}/%(title)s.%(ext)s',\n",
        "            'format': 'bestvideo+bestaudio/best'\n",
        "        }\n",
        "\n",
        "        with yt_dlp.YoutubeDL(opciones) as ydl:\n",
        "            ydl.download([url])\n",
        "\n",
        "        return \"Descarga completada.\"\n",
        "\n",
        "    except Exception as e:\n",
        "        return f\"Error al descargar el video: {str(e)}\"\n",
        "\n",
        "# 🔹 Solicitar URL del usuario y descargar el video\n",
        "url_video = input(\"Ingrese la URL del video de YouTube: \")\n",
        "mensaje = descargar_video_yt_dlp(url_video)\n",
        "print(mensaje)\n"
      ],
      "metadata": {
        "colab": {
          "base_uri": "https://localhost:8080/"
        },
        "id": "bfY0Lwb1EAGH",
        "outputId": "4e0c19a3-62d4-4605-e693-52798073248e"
      },
      "execution_count": 15,
      "outputs": [
        {
          "output_type": "stream",
          "name": "stdout",
          "text": [
            "Ingrese la URL del video de YouTube: https://www.youtube.com/watch?v=OJ0Iyegy1oc\n",
            "[youtube] Extracting URL: https://www.youtube.com/watch?v=OJ0Iyegy1oc\n",
            "[youtube] OJ0Iyegy1oc: Downloading webpage\n",
            "[youtube] OJ0Iyegy1oc: Downloading tv player API JSON\n",
            "[youtube] OJ0Iyegy1oc: Downloading ios player API JSON\n",
            "[youtube] OJ0Iyegy1oc: Downloading m3u8 information\n",
            "[info] OJ0Iyegy1oc: Downloading 1 format(s): 137+251\n",
            "[download] Destination: /content//AlcolirycoZ - Historial crediticio (Con Muelas de Gallo) Prod. El Arkeólogo - letrAZ.f137.mp4\n",
            "[download] 100% of    9.66MiB in 00:00:00 at 17.67MiB/s  \n",
            "[download] Destination: /content//AlcolirycoZ - Historial crediticio (Con Muelas de Gallo) Prod. El Arkeólogo - letrAZ.f251.webm\n",
            "[download] 100% of    3.35MiB in 00:00:00 at 6.97MiB/s   \n",
            "[Merger] Merging formats into \"/content//AlcolirycoZ - Historial crediticio (Con Muelas de Gallo) Prod. El Arkeólogo - letrAZ.mkv\"\n",
            "Deleting original file /content//AlcolirycoZ - Historial crediticio (Con Muelas de Gallo) Prod. El Arkeólogo - letrAZ.f137.mp4 (pass -k to keep)\n",
            "Deleting original file /content//AlcolirycoZ - Historial crediticio (Con Muelas de Gallo) Prod. El Arkeólogo - letrAZ.f251.webm (pass -k to keep)\n",
            "Descarga completada.\n"
          ]
        }
      ]
    },
    {
      "cell_type": "markdown",
      "source": [
        "🔹 ***¿Dónde se guarda el vídeo?***\n",
        "\n",
        "Por defecto, el video descargado se almacena en la carpeta /content/ de Google Colab.\n",
        "Puedes verificarlo ejecutando:"
      ],
      "metadata": {
        "id": "upwCwAceHiqt"
      }
    },
    {
      "cell_type": "code",
      "source": [
        "!ls /content/"
      ],
      "metadata": {
        "id": "ZB0jnHbsHa29",
        "colab": {
          "base_uri": "https://localhost:8080/"
        },
        "outputId": "44643ead-0348-4aeb-dc08-d3dc0ba356d1"
      },
      "execution_count": 16,
      "outputs": [
        {
          "output_type": "stream",
          "name": "stdout",
          "text": [
            "'AlcolirycoZ - Historial crediticio (Con Muelas de Gallo) Prod. El Arkeólogo - letrAZ.mkv'\n",
            "'AlcolirykoZ - Dicotomía (Prod. El Arkeólogo).webm'\n",
            "'AlcolirykoZ - Historial crediticio (Con Muelas de Gallo) Prod. El Arkeólogo.webm'\n",
            "'AlcolirykoZ - Medellificación (con Jerónimo) Prod. El Arkeólogo.webm'\n",
            "'Alcolirykoz - Misa de sanazión (Con Tito Agudelo) Prod. El Arkeólogo.webm'\n",
            "'Alcolirykoz - Pambelé (Prod. El Arkeólogo).f251.webm'\n",
            "'Alcolirykoz - Pambelé (Prod. El Arkeólogo).f400.mp4'\n",
            "'Alcolirykoz - Pambelé (Prod. El Arkeólogo).temp.webm'\n",
            "'Alcolirykoz - Sancocho en Leña (Prod. El Arkeólogo).webm'\n",
            "'AlcolirykoZ - Suero casero (Prod. El Arkeólogo).webm'\n",
            "'AlcolirykoZ - Todo lo Bueno Tarda (Prod. El Arkeólogo).webm'\n",
            "'El Arkeólogo - ARKETIPO (Temporada 2) Álbum completo.webm'\n",
            " sample_data\n"
          ]
        }
      ]
    },
    {
      "cell_type": "markdown",
      "source": [
        "🔹 **Descargar el archivo a tu computadora**\n",
        "\n",
        "Una vez descargado el video, puedes transferirlo a tu computadora con el siguiente código:\n",
        "\n",
        "\n",
        "\n",
        "```\n",
        "from google.colab import files\n",
        "files.download(\"/content/NOMBRE_DEL_VIDEO.webm\")\n",
        "```\n",
        "\n",
        "\n"
      ],
      "metadata": {
        "id": "XufiheS_GNOf"
      }
    },
    {
      "cell_type": "markdown",
      "source": [
        "💡 **Nota:**\n",
        "\n",
        "Debes reemplazar \"`NOMBRE_DEL_VIDEO.webm`\" con el nombre real del archivo descargado."
      ],
      "metadata": {
        "id": "zWE9F411IHXc"
      }
    },
    {
      "cell_type": "code",
      "source": [
        "from google.colab import files\n",
        "files.download(\"/content/AlcolirycoZ - Historial crediticio (Con Muelas de Gallo) Prod. El Arkeólogo - letrAZ.mkv\")"
      ],
      "metadata": {
        "id": "2lgGfv1XHq4e",
        "colab": {
          "base_uri": "https://localhost:8080/",
          "height": 17
        },
        "outputId": "c79fb531-695d-4f72-b1a3-4f5833862889"
      },
      "execution_count": 18,
      "outputs": [
        {
          "output_type": "display_data",
          "data": {
            "text/plain": [
              "<IPython.core.display.Javascript object>"
            ],
            "application/javascript": [
              "\n",
              "    async function download(id, filename, size) {\n",
              "      if (!google.colab.kernel.accessAllowed) {\n",
              "        return;\n",
              "      }\n",
              "      const div = document.createElement('div');\n",
              "      const label = document.createElement('label');\n",
              "      label.textContent = `Downloading \"${filename}\": `;\n",
              "      div.appendChild(label);\n",
              "      const progress = document.createElement('progress');\n",
              "      progress.max = size;\n",
              "      div.appendChild(progress);\n",
              "      document.body.appendChild(div);\n",
              "\n",
              "      const buffers = [];\n",
              "      let downloaded = 0;\n",
              "\n",
              "      const channel = await google.colab.kernel.comms.open(id);\n",
              "      // Send a message to notify the kernel that we're ready.\n",
              "      channel.send({})\n",
              "\n",
              "      for await (const message of channel.messages) {\n",
              "        // Send a message to notify the kernel that we're ready.\n",
              "        channel.send({})\n",
              "        if (message.buffers) {\n",
              "          for (const buffer of message.buffers) {\n",
              "            buffers.push(buffer);\n",
              "            downloaded += buffer.byteLength;\n",
              "            progress.value = downloaded;\n",
              "          }\n",
              "        }\n",
              "      }\n",
              "      const blob = new Blob(buffers, {type: 'application/binary'});\n",
              "      const a = document.createElement('a');\n",
              "      a.href = window.URL.createObjectURL(blob);\n",
              "      a.download = filename;\n",
              "      div.appendChild(a);\n",
              "      a.click();\n",
              "      div.remove();\n",
              "    }\n",
              "  "
            ]
          },
          "metadata": {}
        },
        {
          "output_type": "display_data",
          "data": {
            "text/plain": [
              "<IPython.core.display.Javascript object>"
            ],
            "application/javascript": [
              "download(\"download_0e4ca33e-bee7-420b-9107-bf7674f061f0\", \"AlcolirycoZ - Historial crediticio (Con Muelas de Gallo) Prod. El Arke\\u00f3logo - letrAZ.mkv\", 13602658)"
            ]
          },
          "metadata": {}
        }
      ]
    },
    {
      "cell_type": "markdown",
      "source": [
        "🔹 **Importante:**\n",
        "\n",
        "Google Colab no permite descargas automáticas grandes. Si el archivo es muy pesado , la descarga puede fallar.\n",
        "\n",
        "Si el archivo es mayor a 2GB, considere dividirlo en partes o usar Google Drive."
      ],
      "metadata": {
        "id": "jBQP7ltNLscr"
      }
    },
    {
      "cell_type": "markdown",
      "source": [
        "🔹 **Código para eliminar archivos excepto el primero:**"
      ],
      "metadata": {
        "id": "aLFlo9KNMOjH"
      }
    },
    {
      "cell_type": "code",
      "source": [
        "import os\n",
        "\n",
        "# Lista de archivos\n",
        "archivos = [\n",
        "    'AlcolirycoZ - Historial crediticio (Con Muelas de Gallo) Prod. El Arkeólogo - letrAZ.mkv',\n",
        "    'AlcolirykoZ - Dicotomía (Prod. El Arkeólogo).webm',\n",
        "    'AlcolirykoZ - Historial crediticio (Con Muelas de Gallo) Prod. El Arkeólogo.webm',\n",
        "    'AlcolirykoZ - Medellificación (con Jerónimo) Prod. El Arkeólogo.webm',\n",
        "    'Alcolirykoz - Misa de sanazión (Con Tito Agudelo) Prod. El Arkeólogo.webm',\n",
        "    'Alcolirykoz - Pambelé (Prod. El Arkeólogo).f251.webm',\n",
        "    'Alcolirykoz - Pambelé (Prod. El Arkeólogo).f400.mp4',\n",
        "    'Alcolirykoz - Pambelé (Prod. El Arkeólogo).temp.webm',\n",
        "    'Alcolirykoz - Sancocho en Leña (Prod. El Arkeólogo).webm',\n",
        "    'AlcolirykoZ - Suero casero (Prod. El Arkeólogo).webm',\n",
        "    'AlcolirykoZ - Todo lo Bueno Tarda (Prod. El Arkeólogo).webm',\n",
        "    'El Arkeólogo - ARKETIPO (Temporada 2) Álbum completo.webm'\n",
        "]\n",
        "\n",
        "# Carpeta de destino\n",
        "ruta_destino = '/content/'\n",
        "\n",
        "# Eliminar archivos, excepto el primero\n",
        "for archivo in archivos[1:]:  # Excluye el primer archivo\n",
        "    archivo_path = os.path.join(ruta_destino, archivo)\n",
        "    if os.path.exists(archivo_path):\n",
        "        os.remove(archivo_path)\n",
        "        print(f\"✅ Archivo eliminado: {archivo}\")\n",
        "    else:\n",
        "        print(f\"⚠️ El archivo no existe: {archivo}\")\n",
        "\n",
        "# Verificación de los archivos restantes\n",
        "print(\"\\nArchivos restantes en /content/:\")\n",
        "!ls /content/"
      ],
      "metadata": {
        "colab": {
          "base_uri": "https://localhost:8080/"
        },
        "id": "oZPb33mpMWpy",
        "outputId": "fe96fc33-15b7-4763-c4cf-35a8ffd6d19b"
      },
      "execution_count": 19,
      "outputs": [
        {
          "output_type": "stream",
          "name": "stdout",
          "text": [
            "✅ Archivo eliminado: AlcolirykoZ - Dicotomía (Prod. El Arkeólogo).webm\n",
            "✅ Archivo eliminado: AlcolirykoZ - Historial crediticio (Con Muelas de Gallo) Prod. El Arkeólogo.webm\n",
            "✅ Archivo eliminado: AlcolirykoZ - Medellificación (con Jerónimo) Prod. El Arkeólogo.webm\n",
            "✅ Archivo eliminado: Alcolirykoz - Misa de sanazión (Con Tito Agudelo) Prod. El Arkeólogo.webm\n",
            "✅ Archivo eliminado: Alcolirykoz - Pambelé (Prod. El Arkeólogo).f251.webm\n",
            "✅ Archivo eliminado: Alcolirykoz - Pambelé (Prod. El Arkeólogo).f400.mp4\n",
            "✅ Archivo eliminado: Alcolirykoz - Pambelé (Prod. El Arkeólogo).temp.webm\n",
            "✅ Archivo eliminado: Alcolirykoz - Sancocho en Leña (Prod. El Arkeólogo).webm\n",
            "✅ Archivo eliminado: AlcolirykoZ - Suero casero (Prod. El Arkeólogo).webm\n",
            "✅ Archivo eliminado: AlcolirykoZ - Todo lo Bueno Tarda (Prod. El Arkeólogo).webm\n",
            "✅ Archivo eliminado: El Arkeólogo - ARKETIPO (Temporada 2) Álbum completo.webm\n",
            "\n",
            "Archivos restantes en /content/:\n",
            "'AlcolirycoZ - Historial crediticio (Con Muelas de Gallo) Prod. El Arkeólogo - letrAZ.mkv'\n",
            " sample_data\n"
          ]
        }
      ]
    },
    {
      "cell_type": "markdown",
      "source": [
        "🔹 **Eliminar todos los archivos descargados**\n",
        "\n",
        "Si quieres eliminar todos los archivos de /content/, usa este comando:\n",
        "\n"
      ],
      "metadata": {
        "id": "pzjoSSr2Mj_Y"
      }
    },
    {
      "cell_type": "code",
      "source": [
        "!rm -rf /content/*"
      ],
      "metadata": {
        "id": "--B5k81XMsOa"
      },
      "execution_count": null,
      "outputs": []
    },
    {
      "cell_type": "markdown",
      "source": [
        "⚠️ **Precaución:**\n",
        "\n",
        "Este comando borra todos los archivos en /content/, incluyendo otros datos o descargas.\n",
        "\n",
        "No se puede recuperar después de ejecutarlo."
      ],
      "metadata": {
        "id": "_7VBuNazMziC"
      }
    },
    {
      "cell_type": "markdown",
      "source": [
        "🔹 **Consideraciones y Advertencias**\n",
        "\n",
        "📜 ***Uso Legal***: Este cuaderno está diseñado con fines académicos y educativos.\n",
        "No se recomienda descargar contenido protegido por derechos de autor sin permiso.\n",
        "\n",
        "🚀 ***Alternativa:*** Si yt-dlpfalla, puedes probar otro formato o calidad modificando el parámetro 'format'en el código.\n",
        "\n"
      ],
      "metadata": {
        "id": "YdGcgGJeIWgt"
      }
    },
    {
      "cell_type": "markdown",
      "source": [
        "🔹 **Conclusión**\n",
        "\n",
        "Con este método, podemos descargar videos de YouTube en Google Colab sin requerir autorización en la mayoría de los casos.\n",
        "Esto es útil para fines educativos, como analizar contenido multimedia, procesar datos o estudiar técnicas de compresión de video.\n",
        "\n",
        "🔗 Para más información sobre yt-dlp, consulta su documentación oficial:\n",
        "📖 [yt -dlp GitHub](https://github.com/yt-dlp/yt-dlp)"
      ],
      "metadata": {
        "id": "59V3kiTGIf4D"
      }
    }
  ]
}