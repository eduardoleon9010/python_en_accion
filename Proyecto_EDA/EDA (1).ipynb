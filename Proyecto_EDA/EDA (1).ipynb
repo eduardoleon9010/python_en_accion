{
  "nbformat": 4,
  "nbformat_minor": 0,
  "metadata": {
    "colab": {
      "provenance": []
    },
    "kernelspec": {
      "name": "python3",
      "display_name": "Python 3"
    },
    "language_info": {
      "name": "python"
    }
  },
  "cells": [
    {
      "cell_type": "markdown",
      "source": [
        "# Análisis Exploratorio de Datos (EDA) en inmubles\n",
        "Autor: **Ing. Leon**\n",
        "\n",
        "\n",
        "## Introducción\n",
        "\n",
        "El análisis exploratorio de datos (EDA) es una herramienta fundamental en el análisis de datos que se basa en el uso de gráficos para la visualización de conjuntos de datos. Su objetivo principal es investigar y comprender los datos, más que confirmar hipótesis estadísticas. Aunque el EDA está basado en análisis planeados, también puede implicar la limpieza de datos para analizar subgrupos o obtener una comprensión más profunda de los datos.\n",
        "\n",
        "EDA, por sus siglas en inglés, se refiere al proceso de exploración de datos mediante resúmenes numéricos y visualización, buscando corroborar posibles relaciones entre variables y detectar anomalías. Es un proceso investigativo basado en estadísticas descriptivas y gráficos, que permite obtener un conocimiento intrínseco de los datos.\n",
        "\n",
        "### Caso\n",
        "\n",
        "La empresa A&A Ltda ha comenzado un proceso de implementación de Machine Learning. Usted ha sido designado para una tarea crucial dentro del proyecto: realizar el análisis exploratorio de los datos y documentar los resultados en un informe. El archivo que se analizará contiene información sobre precios de viviendas y locales para la venta, con variables relacionadas con estos valores."
      ],
      "metadata": {
        "id": "tn0GGdjJCLKr"
      }
    },
    {
      "cell_type": "code",
      "source": [
        "# Librerías necesarias para el análisis y visualización de datos\n",
        "\n",
        "# pandas: Manipulación y análisis de datos\n",
        "import pandas as pd\n",
        "\n",
        "# numpy: Operaciones numéricas y manipulación de arrays\n",
        "import numpy as np\n",
        "\n",
        "# matplotlib.pyplot: Creación de gráficos estáticos\n",
        "import matplotlib.pyplot as plt\n",
        "\n",
        "# seaborn: Visualización de datos estadísticos con gráficos estilizados\n",
        "import seaborn as sns\n",
        "\n",
        "# plotly.express: Creación de gráficos interactivos sencillos\n",
        "import plotly.express as px\n",
        "\n",
        "# plotly.graph_objects: Personalización avanzada de gráficos interactivos\n",
        "import plotly.graph_objects as go\n",
        "\n",
        "# plotly.subplots: Creación de figuras con múltiples subgráficos\n",
        "import plotly.subplots as sp\n",
        "\n",
        "# plotly.figure_factory: Creación de gráficos avanzados, como mapas de calor\n",
        "import plotly.figure_factory as ff\n",
        "\n",
        "import plotly.io as pio"
      ],
      "metadata": {
        "id": "Ak5-FAh08S7t"
      },
      "execution_count": 1,
      "outputs": []
    },
    {
      "cell_type": "code",
      "source": [
        "# Carga del dataset\n",
        "df = pd.read_csv('/content/Data_Caso_Propuesto.csv')\n"
      ],
      "metadata": {
        "id": "LlssmZyB8W4P"
      },
      "execution_count": 2,
      "outputs": []
    },
    {
      "cell_type": "code",
      "source": [
        "# Información general del DataFrame\n",
        "print(\"Total de registros:\", df.shape[0])\n",
        "print(\"Total de columnas:\", df.shape[1])"
      ],
      "metadata": {
        "colab": {
          "base_uri": "https://localhost:8080/"
        },
        "id": "DlaegQuM8nnO",
        "outputId": "633979f8-2a88-4edd-c806-8c7ec9578620"
      },
      "execution_count": 3,
      "outputs": [
        {
          "output_type": "stream",
          "name": "stdout",
          "text": [
            "Total de registros: 463\n",
            "Total de columnas: 12\n"
          ]
        }
      ]
    },
    {
      "cell_type": "code",
      "source": [
        "# Mostrar nombres de columnas\n",
        "print(\"Nombres de columnas en el DataFrame:\")\n",
        "print(df.columns)"
      ],
      "metadata": {
        "colab": {
          "base_uri": "https://localhost:8080/"
        },
        "id": "aD08R_I28rWO",
        "outputId": "e3f75588-42a8-487d-8129-71aa6897aa88"
      },
      "execution_count": 4,
      "outputs": [
        {
          "output_type": "stream",
          "name": "stdout",
          "text": [
            "Nombres de columnas en el DataFrame:\n",
            "Index(['Codigo', 'Ciudad', 'Departamento', 'Barrio', 'Direccion',\n",
            "       'Area Terreno', 'Area Construida', 'Detalle Disponibilidad', 'Estrato',\n",
            "       'Precio', 'Tipo de Inmueble', 'Datos Adicionales'],\n",
            "      dtype='object')\n"
          ]
        }
      ]
    },
    {
      "cell_type": "code",
      "source": [
        "# Tipos de columnas y valores nulos\n",
        "print(\"\\nDetalle de las columnas:\")\n",
        "print(df.info())"
      ],
      "metadata": {
        "colab": {
          "base_uri": "https://localhost:8080/"
        },
        "id": "vI6yvky58t6u",
        "outputId": "4849ee69-d375-478d-a2d6-921a9013a120"
      },
      "execution_count": 5,
      "outputs": [
        {
          "output_type": "stream",
          "name": "stdout",
          "text": [
            "\n",
            "Detalle de las columnas:\n",
            "<class 'pandas.core.frame.DataFrame'>\n",
            "RangeIndex: 463 entries, 0 to 462\n",
            "Data columns (total 12 columns):\n",
            " #   Column                  Non-Null Count  Dtype  \n",
            "---  ------                  --------------  -----  \n",
            " 0   Codigo                  463 non-null    int64  \n",
            " 1   Ciudad                  463 non-null    object \n",
            " 2   Departamento            463 non-null    object \n",
            " 3   Barrio                  40 non-null     object \n",
            " 4   Direccion               463 non-null    object \n",
            " 5   Area Terreno            463 non-null    float64\n",
            " 6   Area Construida         463 non-null    float64\n",
            " 7   Detalle Disponibilidad  463 non-null    object \n",
            " 8   Estrato                 463 non-null    object \n",
            " 9   Precio                  463 non-null    float64\n",
            " 10  Tipo de Inmueble        463 non-null    object \n",
            " 11  Datos Adicionales       118 non-null    object \n",
            "dtypes: float64(3), int64(1), object(8)\n",
            "memory usage: 43.5+ KB\n",
            "None\n"
          ]
        }
      ]
    },
    {
      "cell_type": "code",
      "source": [
        "# Verificar valores nulos\n",
        "valores_nulos = df.isnull().sum()\n",
        "print(\"\\nValores nulos por columna:\")\n",
        "print(valores_nulos)"
      ],
      "metadata": {
        "colab": {
          "base_uri": "https://localhost:8080/"
        },
        "id": "VLEFE51x8t9q",
        "outputId": "69a3fe2f-aa9a-4c32-cbfd-052bd01ec953"
      },
      "execution_count": 6,
      "outputs": [
        {
          "output_type": "stream",
          "name": "stdout",
          "text": [
            "\n",
            "Valores nulos por columna:\n",
            "Codigo                      0\n",
            "Ciudad                      0\n",
            "Departamento                0\n",
            "Barrio                    423\n",
            "Direccion                   0\n",
            "Area Terreno                0\n",
            "Area Construida             0\n",
            "Detalle Disponibilidad      0\n",
            "Estrato                     0\n",
            "Precio                      0\n",
            "Tipo de Inmueble            0\n",
            "Datos Adicionales         345\n",
            "dtype: int64\n"
          ]
        }
      ]
    },
    {
      "cell_type": "code",
      "source": [
        "# Columnas más afectadas por valores nulos\n",
        "print(\"\\nColumnas más afectadas por valores nulos:\")\n",
        "print(valores_nulos[valores_nulos > 0])"
      ],
      "metadata": {
        "colab": {
          "base_uri": "https://localhost:8080/"
        },
        "id": "FRqkGHrX8uAS",
        "outputId": "c7d444fe-95d5-4181-a73c-8296a2aa42bb"
      },
      "execution_count": 7,
      "outputs": [
        {
          "output_type": "stream",
          "name": "stdout",
          "text": [
            "\n",
            "Columnas más afectadas por valores nulos:\n",
            "Barrio               423\n",
            "Datos Adicionales    345\n",
            "dtype: int64\n"
          ]
        }
      ]
    },
    {
      "cell_type": "code",
      "source": [
        "# Comprobación de valores duplicados\n",
        "duplicados = df.duplicated().sum()\n",
        "print(\"\\nRegistros duplicados:\", duplicados)"
      ],
      "metadata": {
        "colab": {
          "base_uri": "https://localhost:8080/"
        },
        "id": "8Ay5g0Bz8uDQ",
        "outputId": "d70022c6-b568-412e-809b-35add23e20d0"
      },
      "execution_count": 8,
      "outputs": [
        {
          "output_type": "stream",
          "name": "stdout",
          "text": [
            "\n",
            "Registros duplicados: 0\n"
          ]
        }
      ]
    },
    {
      "cell_type": "code",
      "source": [
        "# Crear una función para clasificar el rango de precios\n",
        "def clasificar_rango_precio(precio):\n",
        "    if 1.534802e+07 <= precio <= 2.060800e+07:\n",
        "        return 'A'\n",
        "    elif 2.070134e+07 <= precio <= 2.960534e+07:\n",
        "        return 'B'\n",
        "    elif 4.916800e+07 <= precio <= 1.253700e+08:\n",
        "        return 'C'\n",
        "    else:\n",
        "        return 'Fuera de Rango'\n",
        "\n",
        "# Aplicar la función para crear la nueva columna 'Rango_precios'\n",
        "df['Rango_precios'] = df['Precio'].apply(clasificar_rango_precio)\n",
        "\n",
        "# Mostrar las primeras filas del DataFrame para verificar\n",
        "print(df.head())"
      ],
      "metadata": {
        "colab": {
          "base_uri": "https://localhost:8080/"
        },
        "id": "Fxepdzzq8uL4",
        "outputId": "a80a3fd0-3a67-4be8-b067-afbcf60625c1"
      },
      "execution_count": 9,
      "outputs": [
        {
          "output_type": "stream",
          "name": "stdout",
          "text": [
            "   Codigo    Ciudad     Departamento             Barrio  \\\n",
            "0   17180    BOGOTA     CUNDINAMARCA                NaN   \n",
            "1   19292    BOGOTA     CUNDINAMARCA                NaN   \n",
            "2   19292    BOGOTA     CUNDINAMARCA                NaN   \n",
            "3    2575  SOGAMOSO           BOYACÁ             CENTRO   \n",
            "4   11409      BUGA  VALLE DEL CAUCA  VEREDA CHAMBIMBAL   \n",
            "\n",
            "                                           Direccion  Area Terreno  \\\n",
            "0                          AV CR 7 NO. 166 - 51 LT B          0.00   \n",
            "1                                  CL 72 No. 12 - 77          0.00   \n",
            "2                                  CL 72 No. 12 - 77          0.00   \n",
            "3  CRA. 10 #11- 78/80 Ó CL 12 # 9 - 77/85 Ó CALLE...       1655.08   \n",
            "4  LT A1-A24 B1-B79 C1-C51 D1-D9 STA ROSA LT1-46 ...    3217197.00   \n",
            "\n",
            "   Area Construida            Detalle Disponibilidad    Estrato        Precio  \\\n",
            "0              0.0   COMERCIALIZABLE CON RESTRICCION       TRES  2.958081e+10   \n",
            "1              0.0                   COMERCIALIZABLE  COMERCIAL  1.646059e+10   \n",
            "2              0.0  COMERCIALIZABLE VENTA ANTICIPADA  COMERCIAL  1.646059e+10   \n",
            "3           7269.0   COMERCIALIZABLE CON RESTRICCION     CUATRO  1.376828e+10   \n",
            "4          22724.0           COMERCIALIZABLE FIDUCIA      RURAL  4.523379e+10   \n",
            "\n",
            "  Tipo de Inmueble                                  Datos Adicionales  \\\n",
            "0   LOTE COMERCIAL  ESTE INMUEBLE SE COMERCIALIZARÁ A TRAVES DE SU...   \n",
            "1         EDIFICIO                                                NaN   \n",
            "2         EDIFICIO                                                NaN   \n",
            "3          CLINICA  ESTE INMUEBLE SE COMERCIALIZARÁ A TRAVÉS DE SU...   \n",
            "4       LOTE MIXTO                                                NaN   \n",
            "\n",
            "    Rango_precios  \n",
            "0  Fuera de Rango  \n",
            "1  Fuera de Rango  \n",
            "2  Fuera de Rango  \n",
            "3  Fuera de Rango  \n",
            "4  Fuera de Rango  \n"
          ]
        }
      ]
    },
    {
      "cell_type": "code",
      "source": [
        "# Calcular los cuartiles y el IQR para identificar valores atípicos en 'Precio'\n",
        "Q1 = df['Precio'].quantile(0.25)\n",
        "Q3 = df['Precio'].quantile(0.75)\n",
        "IQR = Q3 - Q1\n",
        "\n",
        "# Definir los límites para los valores atípicos\n",
        "lower_bound = Q1 - 1.5 * IQR\n",
        "upper_bound = Q3 + 1.5 * IQR\n",
        "\n",
        "# Identificar los valores atípicos en 'Precio'\n",
        "outliers_precio = df[(df['Precio'] < lower_bound) | (df['Precio'] > upper_bound)]\n",
        "\n",
        "# Mostrar los valores atípicos\n",
        "print(f\"Valores atípicos en 'Precio':\")\n",
        "print(outliers_precio[['Precio']])\n",
        "\n",
        "# Contar los valores atípicos\n",
        "print(f\"Total de valores atípicos en 'Precio': {len(outliers_precio)}\")"
      ],
      "metadata": {
        "colab": {
          "base_uri": "https://localhost:8080/"
        },
        "id": "7FZdDiF68uOq",
        "outputId": "52d8535a-1045-41fa-b941-592f2fa9b186"
      },
      "execution_count": 10,
      "outputs": [
        {
          "output_type": "stream",
          "name": "stdout",
          "text": [
            "Valores atípicos en 'Precio':\n",
            "           Precio\n",
            "0    2.958081e+10\n",
            "1    1.646059e+10\n",
            "2    1.646059e+10\n",
            "3    1.376828e+10\n",
            "4    4.523379e+10\n",
            "..            ...\n",
            "384  5.184820e+08\n",
            "387  5.527388e+08\n",
            "448  3.774340e+08\n",
            "452  1.667784e+09\n",
            "459  1.448242e+09\n",
            "\n",
            "[86 rows x 1 columns]\n",
            "Total de valores atípicos en 'Precio': 86\n"
          ]
        }
      ]
    },
    {
      "cell_type": "code",
      "source": [
        "# Gráfico boxplot de los precios\n",
        "fig = px.box(\n",
        "    df,\n",
        "    y='Precio',\n",
        "    title='Boxplot de Precios con Valores Atípicos',\n",
        "    labels={'Precio': 'Precio'},\n",
        "    height=600\n",
        ")\n",
        "\n",
        "# Encontrar valores atípicos\n",
        "q1 = df['Precio'].quantile(0.25)\n",
        "q3 = df['Precio'].quantile(0.75)\n",
        "iqr = q3 - q1\n",
        "outliers = df[(df['Precio'] < (q1 - 1.5 * iqr)) | (df['Precio'] > (q3 + 1.5 * iqr))]\n",
        "\n",
        "# Agregar trazas para los valores atípicos con anotaciones\n",
        "fig.add_trace(\n",
        "    go.Scatter(\n",
        "        x=[None] * len(outliers),  # Coordenada X no está especificada para Scatter\n",
        "        y=outliers['Precio'],      # Valores atípicos en el eje Y\n",
        "        mode='markers+text',       # Mostrar como marcadores y texto\n",
        "        text=outliers['Precio'].apply(lambda x: f'${x:,.0f}'),  # Formato de texto para los precios\n",
        "        textposition='top center',\n",
        "        marker=dict(color='red', size=10),  # Color rojo para resaltar los valores atípicos\n",
        "        name='Valores Atípicos'\n",
        "    )\n",
        ")\n",
        "\n",
        "# Actualizar diseño del gráfico\n",
        "fig.update_layout(\n",
        "    yaxis_title='Precio',\n",
        "    boxmode='overlay',  # Superponer las cajas\n",
        "    title='Boxplot de Precios con Valores Atípicos',\n",
        "    showlegend=False\n",
        ")\n",
        "\n",
        "# Mostrar el gráfico\n",
        "fig.show()\n"
      ],
      "metadata": {
        "colab": {
          "base_uri": "https://localhost:8080/",
          "height": 617
        },
        "id": "YdMK0ojy8uRq",
        "outputId": "611bf9f8-9be7-4e4e-dfb1-3cf328ed35e2"
      },
      "execution_count": 26,
      "outputs": [
        {
          "output_type": "display_data",
          "data": {
            "text/html": [
              "<html>\n",
              "<head><meta charset=\"utf-8\" /></head>\n",
              "<body>\n",
              "    <div>            <script src=\"https://cdnjs.cloudflare.com/ajax/libs/mathjax/2.7.5/MathJax.js?config=TeX-AMS-MML_SVG\"></script><script type=\"text/javascript\">if (window.MathJax && window.MathJax.Hub && window.MathJax.Hub.Config) {window.MathJax.Hub.Config({SVG: {font: \"STIX-Web\"}});}</script>                <script type=\"text/javascript\">window.PlotlyConfig = {MathJaxConfig: 'local'};</script>\n",
              "        <script charset=\"utf-8\" src=\"https://cdn.plot.ly/plotly-2.24.1.min.js\"></script>                <div id=\"5f16898e-7e0f-40a5-8954-f207089b0297\" class=\"plotly-graph-div\" style=\"height:600px; width:100%;\"></div>            <script type=\"text/javascript\">                                    window.PLOTLYENV=window.PLOTLYENV || {};                                    if (document.getElementById(\"5f16898e-7e0f-40a5-8954-f207089b0297\")) {                    Plotly.newPlot(                        \"5f16898e-7e0f-40a5-8954-f207089b0297\",                        [{\"alignmentgroup\":\"True\",\"hovertemplate\":\"Precio=%{y}\\u003cextra\\u003e\\u003c\\u002fextra\\u003e\",\"legendgroup\":\"\",\"marker\":{\"color\":\"#636efa\"},\"name\":\"\",\"notched\":false,\"offsetgroup\":\"\",\"orientation\":\"v\",\"showlegend\":false,\"x0\":\" \",\"xaxis\":\"x\",\"y\":[29580811900.0,16460591500.0,16460591500.0,13768280900.0,45233789820.0,4190155021.0,3109306614.0,10407336173.0,2100890600.0,2042687988.0,2041211340.0,1946238900.0,1935725000.0,1802514500.0,2558936000.0,1190905320.0,1169682630.0,1040013730.0,4747362800.0,25416536260.0,866644750.0,784336820.0,713410050.0,697548450.0,693405250.0,4527473614.0,616860411.0,610203893.0,591399414.0,589300353.0,552796000.0,550361250.0,535670500.0,514454000.0,513681000.0,503871960.0,19522132996.0,5171323500.0,466226810.0,454689116.4,453180000.0,447827419.0,1448241600.0,730379000.0,404780000.0,392665000.0,389433000.0,682988850.0,691426800.0,3027404897.0,268847500.0,268574800.0,428457000.0,264330000.0,2704524600.0,2700092084.0,253872000.0,837590790.0,230611914.0,228904300.0,2406650268.0,222132480.0,222132480.0,214110000.0,213205760.0,213205760.0,213205760.0,213205760.0,2237659000.0,187458000.0,186144000.0,186144000.0,186144000.0,186144000.0,185848000.0,182340000.0,178310000.0,178106700.0,168826320.0,167418000.0,1754039040.0,3535117700.0,159019520.0,159019520.0,145587375.0,144636000.0,1416213286.0,130099200.0,1101246490.0,552000000.0,100645710.0,100138200.0,99324000.0,1042886694.0,98360090.0,93776684.08,83179100.0,80844118.53,77202090.0,810975010.0,72976720.0,67320232.56,66820196.0,66744770.0,10683777981.0,131355000.0,125370000.0,53401590.0,50600000.0,3336090000.0,42570000.0,40468000.0,38149440.0,37509500.0,36039500.0,34015370.0,1764406000.0,31335500.0,31062880.0,30368800.0,29596000.0,29596000.0,29596000.0,29596000.0,29407403.52,29185200.0,28981920.0,28959000.0,84262517.5,28427892.82,1504512000.0,1452272000.0,27034500.0,26924299.0,1092904000.0,26130000.0,25896500.0,25406500.0,25093000.0,159924173.1,24012000.0,23920000.0,23920000.0,23920000.0,1262902000.0,23517000.0,23517000.0,23517000.0,1247230000.0,23250500.0,1223722000.0,1221390000.0,22295000.0,21708000.0,21708000.0,21708000.0,21316750.0,21168000.0,1115324000.0,20874000.0,20381660.0,20310500.0,3931747250.0,19918500.0,19832000.0,19596000.0,19067000.0,19067000.0,19062435.15,18446000.0,970358000.0,18252500.0,18228000.0,18203500.0,18007500.0,17566500.0,17566500.0,925954000.0,17419500.0,17419500.0,17223500.0,17199000.0,17199000.0,17199000.0,17199000.0,17199000.0,17150000.0,17120000.0,110257063.9,16997000.0,16997000.0,16537000.0,16491000.0,16415000.0,16169000.0,16169000.0,16169000.0,16169000.0,16169000.0,16169000.0,16169000.0,16169000.0,16169000.0,16169000.0,16169000.0,16169000.0,16169000.0,16169000.0,16169000.0,16169000.0,16169000.0,16169000.0,16169000.0,16169000.0,1589428800.0,15974000.0,15870000.0,15870000.0,15870000.0,15870000.0,15870000.0,15870000.0,15870000.0,15870000.0,15870000.0,15870000.0,15870000.0,15870000.0,15870000.0,15870000.0,15870000.0,15870000.0,15870000.0,15732000.0,15709000.0,15680000.0,15348020.0,15043000.0,14904000.0,14488072.83,14357000.0,14099000.0,13989500.0,13846000.0,13455000.0,13455000.0,13440000.0,13386000.0,13386000.0,13386000.0,13386000.0,13386000.0,13386000.0,13386000.0,13386000.0,13107500.0,13107500.0,13009500.0,13009500.0,12936000.0,12857000.0,12857000.0,12857000.0,12696000.0,12466000.0,12416000.0,12305000.0,12305000.0,12305000.0,12305000.0,12305000.0,12305000.0,12305000.0,12305000.0,12305000.0,12305000.0,12305000.0,12305000.0,12305000.0,12305000.0,12305000.0,12305000.0,12305000.0,12305000.0,12305000.0,12305000.0,12305000.0,12305000.0,12305000.0,12305000.0,12305000.0,12305000.0,12305000.0,12305000.0,12305000.0,12305000.0,12305000.0,12305000.0,12305000.0,12305000.0,12305000.0,12305000.0,12305000.0,12305000.0,12305000.0,12305000.0,12305000.0,12305000.0,12305000.0,12305000.0,12305000.0,12305000.0,12305000.0,12305000.0,12305000.0,12305000.0,12305000.0,12305000.0,12305000.0,12305000.0,12305000.0,12305000.0,12305000.0,12305000.0,12305000.0,12305000.0,12305000.0,12305000.0,12305000.0,12305000.0,12305000.0,12305000.0,12305000.0,12305000.0,12305000.0,12305000.0,12305000.0,12305000.0,12305000.0,12305000.0,12305000.0,12305000.0,12305000.0,12305000.0,12305000.0,12305000.0,12305000.0,12305000.0,12305000.0,12305000.0,12305000.0,12305000.0,12305000.0,12305000.0,12305000.0,12305000.0,12240000.0,12240000.0,12240000.0,12171250.0,11680000.0,11680000.0,11680000.0,11680000.0,11680000.0,11232000.0,11232000.0,11232000.0,11232000.0,11232000.0,11232000.0,11232000.0,569416000.0,564192000.0,10284500.0,10152000.0,10152000.0,10152000.0,10152000.0,10152000.0,10152000.0,536766000.0,9800000.0,9800000.0,518482000.0,8624000.0,8379000.0,552738798.5,7350000.0,7350000.0,7350000.0,7350000.0,7350000.0,7350000.0,7350000.0,7350000.0,7350000.0,7350000.0,7350000.0,7350000.0,7350000.0,7350000.0,7350000.0,7350000.0,7350000.0,7350000.0,7350000.0,7350000.0,7350000.0,7350000.0,7350000.0,7350000.0,7350000.0,7350000.0,7350000.0,7350000.0,7350000.0,7350000.0,7350000.0,7350000.0,7350000.0,7350000.0,7350000.0,7350000.0,7350000.0,7350000.0,7350000.0,7350000.0,7350000.0,7350000.0,7350000.0,7350000.0,7350000.0,7350000.0,7350000.0,7350000.0,7350000.0,7350000.0,7350000.0,7350000.0,7350000.0,7350000.0,7350000.0,7350000.0,7350000.0,7350000.0,7350000.0,7152000.0,377434000.0,6884500.0,6835500.0,6832720.0,1667784060.0,6333900.0,49168000.0,4650000.0,282520862.6,24000000.0,29605338.62,1448241600.0,20701337.03,20608003.68,20608003.68],\"y0\":\" \",\"yaxis\":\"y\",\"type\":\"box\"},{\"marker\":{\"color\":\"red\",\"size\":10},\"mode\":\"markers+text\",\"name\":\"Valores At\\u00edpicos\",\"text\":[\"$29,580,811,900\",\"$16,460,591,500\",\"$16,460,591,500\",\"$13,768,280,900\",\"$45,233,789,820\",\"$4,190,155,021\",\"$3,109,306,614\",\"$10,407,336,173\",\"$2,100,890,600\",\"$2,042,687,988\",\"$2,041,211,340\",\"$1,946,238,900\",\"$1,935,725,000\",\"$1,802,514,500\",\"$2,558,936,000\",\"$1,190,905,320\",\"$1,169,682,630\",\"$1,040,013,730\",\"$4,747,362,800\",\"$25,416,536,260\",\"$866,644,750\",\"$784,336,820\",\"$713,410,050\",\"$697,548,450\",\"$693,405,250\",\"$4,527,473,614\",\"$616,860,411\",\"$610,203,893\",\"$591,399,414\",\"$589,300,353\",\"$552,796,000\",\"$550,361,250\",\"$535,670,500\",\"$514,454,000\",\"$513,681,000\",\"$503,871,960\",\"$19,522,132,996\",\"$5,171,323,500\",\"$466,226,810\",\"$454,689,116\",\"$453,180,000\",\"$447,827,419\",\"$1,448,241,600\",\"$730,379,000\",\"$404,780,000\",\"$392,665,000\",\"$389,433,000\",\"$682,988,850\",\"$691,426,800\",\"$3,027,404,897\",\"$428,457,000\",\"$2,704,524,600\",\"$2,700,092,084\",\"$837,590,790\",\"$2,406,650,268\",\"$2,237,659,000\",\"$1,754,039,040\",\"$3,535,117,700\",\"$1,416,213,286\",\"$1,101,246,490\",\"$552,000,000\",\"$1,042,886,694\",\"$810,975,010\",\"$10,683,777,981\",\"$3,336,090,000\",\"$1,764,406,000\",\"$1,504,512,000\",\"$1,452,272,000\",\"$1,092,904,000\",\"$1,262,902,000\",\"$1,247,230,000\",\"$1,223,722,000\",\"$1,221,390,000\",\"$1,115,324,000\",\"$3,931,747,250\",\"$970,358,000\",\"$925,954,000\",\"$1,589,428,800\",\"$569,416,000\",\"$564,192,000\",\"$536,766,000\",\"$518,482,000\",\"$552,738,798\",\"$377,434,000\",\"$1,667,784,060\",\"$1,448,241,600\"],\"textposition\":\"top center\",\"x\":[null,null,null,null,null,null,null,null,null,null,null,null,null,null,null,null,null,null,null,null,null,null,null,null,null,null,null,null,null,null,null,null,null,null,null,null,null,null,null,null,null,null,null,null,null,null,null,null,null,null,null,null,null,null,null,null,null,null,null,null,null,null,null,null,null,null,null,null,null,null,null,null,null,null,null,null,null,null,null,null,null,null,null,null,null,null],\"y\":[29580811900.0,16460591500.0,16460591500.0,13768280900.0,45233789820.0,4190155021.0,3109306614.0,10407336173.0,2100890600.0,2042687988.0,2041211340.0,1946238900.0,1935725000.0,1802514500.0,2558936000.0,1190905320.0,1169682630.0,1040013730.0,4747362800.0,25416536260.0,866644750.0,784336820.0,713410050.0,697548450.0,693405250.0,4527473614.0,616860411.0,610203893.0,591399414.0,589300353.0,552796000.0,550361250.0,535670500.0,514454000.0,513681000.0,503871960.0,19522132996.0,5171323500.0,466226810.0,454689116.4,453180000.0,447827419.0,1448241600.0,730379000.0,404780000.0,392665000.0,389433000.0,682988850.0,691426800.0,3027404897.0,428457000.0,2704524600.0,2700092084.0,837590790.0,2406650268.0,2237659000.0,1754039040.0,3535117700.0,1416213286.0,1101246490.0,552000000.0,1042886694.0,810975010.0,10683777981.0,3336090000.0,1764406000.0,1504512000.0,1452272000.0,1092904000.0,1262902000.0,1247230000.0,1223722000.0,1221390000.0,1115324000.0,3931747250.0,970358000.0,925954000.0,1589428800.0,569416000.0,564192000.0,536766000.0,518482000.0,552738798.5,377434000.0,1667784060.0,1448241600.0],\"type\":\"scatter\"}],                        {\"template\":{\"data\":{\"histogram2dcontour\":[{\"type\":\"histogram2dcontour\",\"colorbar\":{\"outlinewidth\":0,\"ticks\":\"\"},\"colorscale\":[[0.0,\"#0d0887\"],[0.1111111111111111,\"#46039f\"],[0.2222222222222222,\"#7201a8\"],[0.3333333333333333,\"#9c179e\"],[0.4444444444444444,\"#bd3786\"],[0.5555555555555556,\"#d8576b\"],[0.6666666666666666,\"#ed7953\"],[0.7777777777777778,\"#fb9f3a\"],[0.8888888888888888,\"#fdca26\"],[1.0,\"#f0f921\"]]}],\"choropleth\":[{\"type\":\"choropleth\",\"colorbar\":{\"outlinewidth\":0,\"ticks\":\"\"}}],\"histogram2d\":[{\"type\":\"histogram2d\",\"colorbar\":{\"outlinewidth\":0,\"ticks\":\"\"},\"colorscale\":[[0.0,\"#0d0887\"],[0.1111111111111111,\"#46039f\"],[0.2222222222222222,\"#7201a8\"],[0.3333333333333333,\"#9c179e\"],[0.4444444444444444,\"#bd3786\"],[0.5555555555555556,\"#d8576b\"],[0.6666666666666666,\"#ed7953\"],[0.7777777777777778,\"#fb9f3a\"],[0.8888888888888888,\"#fdca26\"],[1.0,\"#f0f921\"]]}],\"heatmap\":[{\"type\":\"heatmap\",\"colorbar\":{\"outlinewidth\":0,\"ticks\":\"\"},\"colorscale\":[[0.0,\"#0d0887\"],[0.1111111111111111,\"#46039f\"],[0.2222222222222222,\"#7201a8\"],[0.3333333333333333,\"#9c179e\"],[0.4444444444444444,\"#bd3786\"],[0.5555555555555556,\"#d8576b\"],[0.6666666666666666,\"#ed7953\"],[0.7777777777777778,\"#fb9f3a\"],[0.8888888888888888,\"#fdca26\"],[1.0,\"#f0f921\"]]}],\"heatmapgl\":[{\"type\":\"heatmapgl\",\"colorbar\":{\"outlinewidth\":0,\"ticks\":\"\"},\"colorscale\":[[0.0,\"#0d0887\"],[0.1111111111111111,\"#46039f\"],[0.2222222222222222,\"#7201a8\"],[0.3333333333333333,\"#9c179e\"],[0.4444444444444444,\"#bd3786\"],[0.5555555555555556,\"#d8576b\"],[0.6666666666666666,\"#ed7953\"],[0.7777777777777778,\"#fb9f3a\"],[0.8888888888888888,\"#fdca26\"],[1.0,\"#f0f921\"]]}],\"contourcarpet\":[{\"type\":\"contourcarpet\",\"colorbar\":{\"outlinewidth\":0,\"ticks\":\"\"}}],\"contour\":[{\"type\":\"contour\",\"colorbar\":{\"outlinewidth\":0,\"ticks\":\"\"},\"colorscale\":[[0.0,\"#0d0887\"],[0.1111111111111111,\"#46039f\"],[0.2222222222222222,\"#7201a8\"],[0.3333333333333333,\"#9c179e\"],[0.4444444444444444,\"#bd3786\"],[0.5555555555555556,\"#d8576b\"],[0.6666666666666666,\"#ed7953\"],[0.7777777777777778,\"#fb9f3a\"],[0.8888888888888888,\"#fdca26\"],[1.0,\"#f0f921\"]]}],\"surface\":[{\"type\":\"surface\",\"colorbar\":{\"outlinewidth\":0,\"ticks\":\"\"},\"colorscale\":[[0.0,\"#0d0887\"],[0.1111111111111111,\"#46039f\"],[0.2222222222222222,\"#7201a8\"],[0.3333333333333333,\"#9c179e\"],[0.4444444444444444,\"#bd3786\"],[0.5555555555555556,\"#d8576b\"],[0.6666666666666666,\"#ed7953\"],[0.7777777777777778,\"#fb9f3a\"],[0.8888888888888888,\"#fdca26\"],[1.0,\"#f0f921\"]]}],\"mesh3d\":[{\"type\":\"mesh3d\",\"colorbar\":{\"outlinewidth\":0,\"ticks\":\"\"}}],\"scatter\":[{\"fillpattern\":{\"fillmode\":\"overlay\",\"size\":10,\"solidity\":0.2},\"type\":\"scatter\"}],\"parcoords\":[{\"type\":\"parcoords\",\"line\":{\"colorbar\":{\"outlinewidth\":0,\"ticks\":\"\"}}}],\"scatterpolargl\":[{\"type\":\"scatterpolargl\",\"marker\":{\"colorbar\":{\"outlinewidth\":0,\"ticks\":\"\"}}}],\"bar\":[{\"error_x\":{\"color\":\"#2a3f5f\"},\"error_y\":{\"color\":\"#2a3f5f\"},\"marker\":{\"line\":{\"color\":\"#E5ECF6\",\"width\":0.5},\"pattern\":{\"fillmode\":\"overlay\",\"size\":10,\"solidity\":0.2}},\"type\":\"bar\"}],\"scattergeo\":[{\"type\":\"scattergeo\",\"marker\":{\"colorbar\":{\"outlinewidth\":0,\"ticks\":\"\"}}}],\"scatterpolar\":[{\"type\":\"scatterpolar\",\"marker\":{\"colorbar\":{\"outlinewidth\":0,\"ticks\":\"\"}}}],\"histogram\":[{\"marker\":{\"pattern\":{\"fillmode\":\"overlay\",\"size\":10,\"solidity\":0.2}},\"type\":\"histogram\"}],\"scattergl\":[{\"type\":\"scattergl\",\"marker\":{\"colorbar\":{\"outlinewidth\":0,\"ticks\":\"\"}}}],\"scatter3d\":[{\"type\":\"scatter3d\",\"line\":{\"colorbar\":{\"outlinewidth\":0,\"ticks\":\"\"}},\"marker\":{\"colorbar\":{\"outlinewidth\":0,\"ticks\":\"\"}}}],\"scattermapbox\":[{\"type\":\"scattermapbox\",\"marker\":{\"colorbar\":{\"outlinewidth\":0,\"ticks\":\"\"}}}],\"scatterternary\":[{\"type\":\"scatterternary\",\"marker\":{\"colorbar\":{\"outlinewidth\":0,\"ticks\":\"\"}}}],\"scattercarpet\":[{\"type\":\"scattercarpet\",\"marker\":{\"colorbar\":{\"outlinewidth\":0,\"ticks\":\"\"}}}],\"carpet\":[{\"aaxis\":{\"endlinecolor\":\"#2a3f5f\",\"gridcolor\":\"white\",\"linecolor\":\"white\",\"minorgridcolor\":\"white\",\"startlinecolor\":\"#2a3f5f\"},\"baxis\":{\"endlinecolor\":\"#2a3f5f\",\"gridcolor\":\"white\",\"linecolor\":\"white\",\"minorgridcolor\":\"white\",\"startlinecolor\":\"#2a3f5f\"},\"type\":\"carpet\"}],\"table\":[{\"cells\":{\"fill\":{\"color\":\"#EBF0F8\"},\"line\":{\"color\":\"white\"}},\"header\":{\"fill\":{\"color\":\"#C8D4E3\"},\"line\":{\"color\":\"white\"}},\"type\":\"table\"}],\"barpolar\":[{\"marker\":{\"line\":{\"color\":\"#E5ECF6\",\"width\":0.5},\"pattern\":{\"fillmode\":\"overlay\",\"size\":10,\"solidity\":0.2}},\"type\":\"barpolar\"}],\"pie\":[{\"automargin\":true,\"type\":\"pie\"}]},\"layout\":{\"autotypenumbers\":\"strict\",\"colorway\":[\"#636efa\",\"#EF553B\",\"#00cc96\",\"#ab63fa\",\"#FFA15A\",\"#19d3f3\",\"#FF6692\",\"#B6E880\",\"#FF97FF\",\"#FECB52\"],\"font\":{\"color\":\"#2a3f5f\"},\"hovermode\":\"closest\",\"hoverlabel\":{\"align\":\"left\"},\"paper_bgcolor\":\"white\",\"plot_bgcolor\":\"#E5ECF6\",\"polar\":{\"bgcolor\":\"#E5ECF6\",\"angularaxis\":{\"gridcolor\":\"white\",\"linecolor\":\"white\",\"ticks\":\"\"},\"radialaxis\":{\"gridcolor\":\"white\",\"linecolor\":\"white\",\"ticks\":\"\"}},\"ternary\":{\"bgcolor\":\"#E5ECF6\",\"aaxis\":{\"gridcolor\":\"white\",\"linecolor\":\"white\",\"ticks\":\"\"},\"baxis\":{\"gridcolor\":\"white\",\"linecolor\":\"white\",\"ticks\":\"\"},\"caxis\":{\"gridcolor\":\"white\",\"linecolor\":\"white\",\"ticks\":\"\"}},\"coloraxis\":{\"colorbar\":{\"outlinewidth\":0,\"ticks\":\"\"}},\"colorscale\":{\"sequential\":[[0.0,\"#0d0887\"],[0.1111111111111111,\"#46039f\"],[0.2222222222222222,\"#7201a8\"],[0.3333333333333333,\"#9c179e\"],[0.4444444444444444,\"#bd3786\"],[0.5555555555555556,\"#d8576b\"],[0.6666666666666666,\"#ed7953\"],[0.7777777777777778,\"#fb9f3a\"],[0.8888888888888888,\"#fdca26\"],[1.0,\"#f0f921\"]],\"sequentialminus\":[[0.0,\"#0d0887\"],[0.1111111111111111,\"#46039f\"],[0.2222222222222222,\"#7201a8\"],[0.3333333333333333,\"#9c179e\"],[0.4444444444444444,\"#bd3786\"],[0.5555555555555556,\"#d8576b\"],[0.6666666666666666,\"#ed7953\"],[0.7777777777777778,\"#fb9f3a\"],[0.8888888888888888,\"#fdca26\"],[1.0,\"#f0f921\"]],\"diverging\":[[0,\"#8e0152\"],[0.1,\"#c51b7d\"],[0.2,\"#de77ae\"],[0.3,\"#f1b6da\"],[0.4,\"#fde0ef\"],[0.5,\"#f7f7f7\"],[0.6,\"#e6f5d0\"],[0.7,\"#b8e186\"],[0.8,\"#7fbc41\"],[0.9,\"#4d9221\"],[1,\"#276419\"]]},\"xaxis\":{\"gridcolor\":\"white\",\"linecolor\":\"white\",\"ticks\":\"\",\"title\":{\"standoff\":15},\"zerolinecolor\":\"white\",\"automargin\":true,\"zerolinewidth\":2},\"yaxis\":{\"gridcolor\":\"white\",\"linecolor\":\"white\",\"ticks\":\"\",\"title\":{\"standoff\":15},\"zerolinecolor\":\"white\",\"automargin\":true,\"zerolinewidth\":2},\"scene\":{\"xaxis\":{\"backgroundcolor\":\"#E5ECF6\",\"gridcolor\":\"white\",\"linecolor\":\"white\",\"showbackground\":true,\"ticks\":\"\",\"zerolinecolor\":\"white\",\"gridwidth\":2},\"yaxis\":{\"backgroundcolor\":\"#E5ECF6\",\"gridcolor\":\"white\",\"linecolor\":\"white\",\"showbackground\":true,\"ticks\":\"\",\"zerolinecolor\":\"white\",\"gridwidth\":2},\"zaxis\":{\"backgroundcolor\":\"#E5ECF6\",\"gridcolor\":\"white\",\"linecolor\":\"white\",\"showbackground\":true,\"ticks\":\"\",\"zerolinecolor\":\"white\",\"gridwidth\":2}},\"shapedefaults\":{\"line\":{\"color\":\"#2a3f5f\"}},\"annotationdefaults\":{\"arrowcolor\":\"#2a3f5f\",\"arrowhead\":0,\"arrowwidth\":1},\"geo\":{\"bgcolor\":\"white\",\"landcolor\":\"#E5ECF6\",\"subunitcolor\":\"white\",\"showland\":true,\"showlakes\":true,\"lakecolor\":\"white\"},\"title\":{\"x\":0.05},\"mapbox\":{\"style\":\"light\"}}},\"xaxis\":{\"anchor\":\"y\",\"domain\":[0.0,1.0]},\"yaxis\":{\"anchor\":\"x\",\"domain\":[0.0,1.0],\"title\":{\"text\":\"Precio\"}},\"legend\":{\"tracegroupgap\":0},\"title\":{\"text\":\"Boxplot de Precios con Valores At\\u00edpicos\"},\"boxmode\":\"overlay\",\"height\":600,\"showlegend\":false},                        {\"responsive\": true}                    ).then(function(){\n",
              "                            \n",
              "var gd = document.getElementById('5f16898e-7e0f-40a5-8954-f207089b0297');\n",
              "var x = new MutationObserver(function (mutations, observer) {{\n",
              "        var display = window.getComputedStyle(gd).display;\n",
              "        if (!display || display === 'none') {{\n",
              "            console.log([gd, 'removed!']);\n",
              "            Plotly.purge(gd);\n",
              "            observer.disconnect();\n",
              "        }}\n",
              "}});\n",
              "\n",
              "// Listen for the removal of the full notebook cells\n",
              "var notebookContainer = gd.closest('#notebook-container');\n",
              "if (notebookContainer) {{\n",
              "    x.observe(notebookContainer, {childList: true});\n",
              "}}\n",
              "\n",
              "// Listen for the clearing of the current output cell\n",
              "var outputEl = gd.closest('.output');\n",
              "if (outputEl) {{\n",
              "    x.observe(outputEl, {childList: true});\n",
              "}}\n",
              "\n",
              "                        })                };                            </script>        </div>\n",
              "</body>\n",
              "</html>"
            ]
          },
          "metadata": {}
        }
      ]
    },
    {
      "cell_type": "code",
      "source": [
        "# Filtrar las columnas relevantes para el análisis\n",
        "df_filtered = df[['Ciudad', 'Precio', 'Tipo de Inmueble', 'Estrato']].dropna()\n",
        "\n",
        "# Convertir la columna 'Estrato' a tipo string para evitar problemas con categorías mixtas\n",
        "df_filtered['Estrato'] = df_filtered['Estrato'].astype(str)\n",
        "\n",
        "# Gráfico de cajas de precios por ciudad\n",
        "fig_ciudad = px.box(\n",
        "    df_filtered,\n",
        "    x='Ciudad',\n",
        "    y='Precio',\n",
        "    title='Distribución de Precios por Ciudad',\n",
        "    labels={'Precio': 'Precio', 'Ciudad': 'Ciudad'},\n",
        "    height=600\n",
        ")\n",
        "fig_ciudad.show()\n",
        "\n",
        "# Gráfico de cajas de precios por tipo de inmueble\n",
        "fig_tipo_inmueble = px.box(\n",
        "    df_filtered,\n",
        "    x='Tipo de Inmueble',\n",
        "    y='Precio',\n",
        "    title='Distribución de Precios por Tipo de Inmueble',\n",
        "    labels={'Precio': 'Precio', 'Tipo de Inmueble': 'Tipo de Inmueble'},\n",
        "    height=600\n",
        ")\n",
        "fig_tipo_inmueble.show()\n",
        "\n",
        "# Gráfico de cajas de precios por estrato\n",
        "fig_estrato = px.box(\n",
        "    df_filtered,\n",
        "    x='Estrato',\n",
        "    y='Precio',\n",
        "    title='Distribución de Precios por Estrato',\n",
        "    labels={'Precio': 'Precio', 'Estrato': 'Estrato'},\n",
        "    height=600\n",
        ")\n",
        "fig_estrato.show()\n"
      ],
      "metadata": {
        "colab": {
          "base_uri": "https://localhost:8080/",
          "height": 1000
        },
        "id": "0jAPlr0e_4-a",
        "outputId": "d6c2ffe4-5fcb-42e6-a3b6-072e0f542308"
      },
      "execution_count": 27,
      "outputs": [
        {
          "output_type": "display_data",
          "data": {
            "text/html": [
              "<html>\n",
              "<head><meta charset=\"utf-8\" /></head>\n",
              "<body>\n",
              "    <div>            <script src=\"https://cdnjs.cloudflare.com/ajax/libs/mathjax/2.7.5/MathJax.js?config=TeX-AMS-MML_SVG\"></script><script type=\"text/javascript\">if (window.MathJax && window.MathJax.Hub && window.MathJax.Hub.Config) {window.MathJax.Hub.Config({SVG: {font: \"STIX-Web\"}});}</script>                <script type=\"text/javascript\">window.PlotlyConfig = {MathJaxConfig: 'local'};</script>\n",
              "        <script charset=\"utf-8\" src=\"https://cdn.plot.ly/plotly-2.24.1.min.js\"></script>                <div id=\"9c81d156-9d6c-4ed8-a392-37c46eed906f\" class=\"plotly-graph-div\" style=\"height:600px; width:100%;\"></div>            <script type=\"text/javascript\">                                    window.PLOTLYENV=window.PLOTLYENV || {};                                    if (document.getElementById(\"9c81d156-9d6c-4ed8-a392-37c46eed906f\")) {                    Plotly.newPlot(                        \"9c81d156-9d6c-4ed8-a392-37c46eed906f\",                        [{\"alignmentgroup\":\"True\",\"hovertemplate\":\"Ciudad=%{x}\\u003cbr\\u003ePrecio=%{y}\\u003cextra\\u003e\\u003c\\u002fextra\\u003e\",\"legendgroup\":\"\",\"marker\":{\"color\":\"#636efa\"},\"name\":\"\",\"notched\":false,\"offsetgroup\":\"\",\"orientation\":\"v\",\"showlegend\":false,\"x\":[\"BOGOTA\",\"BOGOTA\",\"BOGOTA\",\"SOGAMOSO\",\"BUGA\",\"PUERTO LOPEZ\",\"TARAZA\",\"RICAURTE\",\"FUNZA\",\"BOGOTA\",\"ENVIGADO\",\"PEREIRA\",\"BUCARAMANGA\",\"CALI\",\"CHIA\",\"MEDELLIN\",\"BOGOTA\",\"VILLAVICENCIO\",\"BOGOTA\",\"BOGOTA\",\"BOGOTA\",\"BOGOTA\",\"BOGOTA\",\"BOGOTA\",\"LA CEJA\",\"CARTAGENA\",\"TARAZA\",\"TARAZA\",\"TARAZA\",\"TARAZA\",\"CAUCASIA\",\"PUERTO BOYACA\",\"MONTERIA\",\"MONTERIA\",\"TURBO\",\"BOGOTA\",\"LA DORADA\",\"CALIMA EL DARIEN\",\"BOGOTA\",\"PEREIRA\",\"PUERTO BOYACA\",\"EL PLAYON\",\"BOGOTA\",\"BARRANQUILLA\",\"BUENAVISTA\",\"MONTERIA\",\"SONSON\",\"SOATA\",\"MEDELLIN\",\"CALIMA EL DARIEN\",\"MEDELLIN\",\"PUERTO BOYACA\",\"BOGOTA\",\"MONTERIA\",\"CALIMA EL DARIEN\",\"CALIMA EL DARIEN\",\"MEDELLIN\",\"MANIZALES\",\"TARAZA\",\"SONSON\",\"CALIMA EL DARIEN\",\"BARRANQUILLA\",\"BARRANQUILLA\",\"NORCASIA\",\"BARRANQUILLA\",\"BARRANQUILLA\",\"BARRANQUILLA\",\"BARRANQUILLA\",\"CALIMA EL DARIEN\",\"PUERTO BOYACA\",\"BARRANQUILLA\",\"BARRANQUILLA\",\"BARRANQUILLA\",\"BARRANQUILLA\",\"SANMIGUEL\",\"MANIZALES\",\"PIEDECUESTA\",\"TARAZA\",\"MANIZALES\",\"BOGOTA\",\"CALIMA EL DARIEN\",\"BARRANQUILLA\",\"BARRANQUILLA\",\"BARRANQUILLA\",\"VALENCIA\",\"BARRANQUILLA\",\"SANTANDER DE QUILICHAO\",\"TULUA\",\"PEREIRA\",\"LA CALERA\",\"VALENCIA\",\"PEREIRA\",\"BARRANQUILLA\",\"CALIMA EL DARIEN\",\"TIERRALTA\",\"ACANDI\",\"TARAZA\",\"PEREIRA\",\"BOGOTA\",\"CALIMA EL DARIEN\",\"VILLAVICENCIO\",\"ACANDI\",\"MONTERIA\",\"TARAZA\",\"EL ROSAL\",\"CARTAGENA\",\"CARTAGENA\",\"PEREIRA\",\"SAN MARTIN\",\"BOGOTA\",\"BOGOTA\",\"VILLAVICENCIO\",\"CALI\",\"VILLAVICENCIO\",\"VILLAVICENCIO\",\"PEREIRA\",\"CARTAGENA\",\"VILLAVICENCIO\",\"CALI\",\"BOGOTA\",\"VILLAVICENCIO\",\"VILLAVICENCIO\",\"VILLAVICENCIO\",\"VILLAVICENCIO\",\"CALI\",\"BOGOTA\",\"BOGOTA\",\"VILLAVICENCIO\",\"GIRARDOT\",\"PEREIRA\",\"CARTAGENA\",\"CARTAGENA\",\"VILLAVICENCIO\",\"BUENAVENTURA\",\"BUCARAMANGA\",\"VILLAVICENCIO\",\"VILLAVICENCIO\",\"VILLAVICENCIO\",\"VILLAVICENCIO\",\"MEDELLIN\",\"VILLAVICENCIO\",\"VILLAVICENCIO\",\"VILLAVICENCIO\",\"VILLAVICENCIO\",\"CARTAGENA\",\"VILLAVICENCIO\",\"VILLAVICENCIO\",\"VILLAVICENCIO\",\"CARTAGENA\",\"VILLAVICENCIO\",\"CARTAGENA\",\"CARTAGENA\",\"VILLAVICENCIO\",\"VILLAVICENCIO\",\"VILLAVICENCIO\",\"VILLAVICENCIO\",\"VILLAVICENCIO\",\"VILLAVICENCIO\",\"CARTAGENA\",\"VILLAVICENCIO\",\"TARAZA\",\"VILLAVICENCIO\",\"PEREIRA\",\"VILLAVICENCIO\",\"VILLAVICENCIO\",\"VILLAVICENCIO\",\"VILLAVICENCIO\",\"VILLAVICENCIO\",\"PEREIRA\",\"VILLAVICENCIO\",\"CARTAGENA\",\"VILLAVICENCIO\",\"VILLAVICENCIO\",\"VILLAVICENCIO\",\"VILLAVICENCIO\",\"VILLAVICENCIO\",\"VILLAVICENCIO\",\"CARTAGENA\",\"VILLAVICENCIO\",\"VILLAVICENCIO\",\"VILLAVICENCIO\",\"VILLAVICENCIO\",\"VILLAVICENCIO\",\"VILLAVICENCIO\",\"VILLAVICENCIO\",\"VILLAVICENCIO\",\"VILLAVICENCIO\",\"VILLAVICENCIO\",\"MEDELLIN\",\"VILLAVICENCIO\",\"VILLAVICENCIO\",\"VILLAVICENCIO\",\"VILLAVICENCIO\",\"VILLAVICENCIO\",\"VILLAVICENCIO\",\"VILLAVICENCIO\",\"VILLAVICENCIO\",\"VILLAVICENCIO\",\"VILLAVICENCIO\",\"VILLAVICENCIO\",\"VILLAVICENCIO\",\"VILLAVICENCIO\",\"VILLAVICENCIO\",\"VILLAVICENCIO\",\"VILLAVICENCIO\",\"VILLAVICENCIO\",\"VILLAVICENCIO\",\"VILLAVICENCIO\",\"VILLAVICENCIO\",\"VILLAVICENCIO\",\"VILLAVICENCIO\",\"VILLAVICENCIO\",\"VILLAVICENCIO\",\"VILLAVICENCIO\",\"BARRANQUILLA\",\"VILLAVICENCIO\",\"VILLAVICENCIO\",\"VILLAVICENCIO\",\"VILLAVICENCIO\",\"VILLAVICENCIO\",\"VILLAVICENCIO\",\"VILLAVICENCIO\",\"VILLAVICENCIO\",\"VILLAVICENCIO\",\"VILLAVICENCIO\",\"VILLAVICENCIO\",\"VILLAVICENCIO\",\"VILLAVICENCIO\",\"VILLAVICENCIO\",\"VILLAVICENCIO\",\"VILLAVICENCIO\",\"VILLAVICENCIO\",\"VILLAVICENCIO\",\"VILLAVICENCIO\",\"VILLAVICENCIO\",\"VILLAVICENCIO\",\"SANTANDER DE QUILICHAO\",\"VILLAVICENCIO\",\"VILLAVICENCIO\",\"PEREIRA\",\"VILLAVICENCIO\",\"VILLAVICENCIO\",\"VILLAVICENCIO\",\"VILLAVICENCIO\",\"VILLAVICENCIO\",\"VILLAVICENCIO\",\"VILLAVICENCIO\",\"VILLAVICENCIO\",\"VILLAVICENCIO\",\"VILLAVICENCIO\",\"VILLAVICENCIO\",\"VILLAVICENCIO\",\"VILLAVICENCIO\",\"VILLAVICENCIO\",\"VILLAVICENCIO\",\"VILLAVICENCIO\",\"VILLAVICENCIO\",\"VILLAVICENCIO\",\"VILLAVICENCIO\",\"VILLAVICENCIO\",\"VILLAVICENCIO\",\"VILLAVICENCIO\",\"VILLAVICENCIO\",\"VILLAVICENCIO\",\"VILLAVICENCIO\",\"VILLAVICENCIO\",\"VILLAVICENCIO\",\"VILLAVICENCIO\",\"VILLAVICENCIO\",\"VILLAVICENCIO\",\"VILLAVICENCIO\",\"VILLAVICENCIO\",\"VILLAVICENCIO\",\"VILLAVICENCIO\",\"VILLAVICENCIO\",\"VILLAVICENCIO\",\"VILLAVICENCIO\",\"VILLAVICENCIO\",\"VILLAVICENCIO\",\"VILLAVICENCIO\",\"VILLAVICENCIO\",\"VILLAVICENCIO\",\"VILLAVICENCIO\",\"VILLAVICENCIO\",\"VILLAVICENCIO\",\"VILLAVICENCIO\",\"VILLAVICENCIO\",\"VILLAVICENCIO\",\"VILLAVICENCIO\",\"VILLAVICENCIO\",\"VILLAVICENCIO\",\"VILLAVICENCIO\",\"VILLAVICENCIO\",\"VILLAVICENCIO\",\"VILLAVICENCIO\",\"VILLAVICENCIO\",\"VILLAVICENCIO\",\"VILLAVICENCIO\",\"VILLAVICENCIO\",\"VILLAVICENCIO\",\"VILLAVICENCIO\",\"VILLAVICENCIO\",\"VILLAVICENCIO\",\"VILLAVICENCIO\",\"VILLAVICENCIO\",\"VILLAVICENCIO\",\"VILLAVICENCIO\",\"VILLAVICENCIO\",\"VILLAVICENCIO\",\"VILLAVICENCIO\",\"VILLAVICENCIO\",\"VILLAVICENCIO\",\"VILLAVICENCIO\",\"VILLAVICENCIO\",\"VILLAVICENCIO\",\"VILLAVICENCIO\",\"VILLAVICENCIO\",\"VILLAVICENCIO\",\"VILLAVICENCIO\",\"VILLAVICENCIO\",\"VILLAVICENCIO\",\"VILLAVICENCIO\",\"VILLAVICENCIO\",\"VILLAVICENCIO\",\"VILLAVICENCIO\",\"VILLAVICENCIO\",\"VILLAVICENCIO\",\"VILLAVICENCIO\",\"VILLAVICENCIO\",\"VILLAVICENCIO\",\"VILLAVICENCIO\",\"VILLAVICENCIO\",\"VILLAVICENCIO\",\"VILLAVICENCIO\",\"VILLAVICENCIO\",\"VILLAVICENCIO\",\"VILLAVICENCIO\",\"VILLAVICENCIO\",\"VILLAVICENCIO\",\"VILLAVICENCIO\",\"VILLAVICENCIO\",\"VILLAVICENCIO\",\"VILLAVICENCIO\",\"VILLAVICENCIO\",\"VILLAVICENCIO\",\"VILLAVICENCIO\",\"VILLAVICENCIO\",\"VILLAVICENCIO\",\"VILLAVICENCIO\",\"VILLAVICENCIO\",\"VILLAVICENCIO\",\"VILLAVICENCIO\",\"VILLAVICENCIO\",\"VILLAVICENCIO\",\"VILLAVICENCIO\",\"VILLAVICENCIO\",\"PACORA\",\"PACORA\",\"PACORA\",\"VILLAVICENCIO\",\"VILLAVICENCIO\",\"VILLAVICENCIO\",\"VILLAVICENCIO\",\"VILLAVICENCIO\",\"VILLAVICENCIO\",\"PACORA\",\"PACORA\",\"PACORA\",\"PACORA\",\"PACORA\",\"PACORA\",\"PACORA\",\"CARTAGENA\",\"CARTAGENA\",\"VILLAVICENCIO\",\"PACORA\",\"PACORA\",\"PACORA\",\"PACORA\",\"PACORA\",\"PACORA\",\"CARTAGENA\",\"VILLAVICENCIO\",\"VILLAVICENCIO\",\"CARTAGENA\",\"VILLAVICENCIO\",\"VILLAVICENCIO\",\"GIRARDOT\",\"VILLAVICENCIO\",\"VILLAVICENCIO\",\"VILLAVICENCIO\",\"VILLAVICENCIO\",\"VILLAVICENCIO\",\"VILLAVICENCIO\",\"VILLAVICENCIO\",\"VILLAVICENCIO\",\"VILLAVICENCIO\",\"VILLAVICENCIO\",\"VILLAVICENCIO\",\"VILLAVICENCIO\",\"VILLAVICENCIO\",\"VILLAVICENCIO\",\"VILLAVICENCIO\",\"VILLAVICENCIO\",\"VILLAVICENCIO\",\"VILLAVICENCIO\",\"VILLAVICENCIO\",\"VILLAVICENCIO\",\"VILLAVICENCIO\",\"VILLAVICENCIO\",\"VILLAVICENCIO\",\"VILLAVICENCIO\",\"VILLAVICENCIO\",\"VILLAVICENCIO\",\"VILLAVICENCIO\",\"VILLAVICENCIO\",\"VILLAVICENCIO\",\"VILLAVICENCIO\",\"VILLAVICENCIO\",\"VILLAVICENCIO\",\"VILLAVICENCIO\",\"VILLAVICENCIO\",\"VILLAVICENCIO\",\"VILLAVICENCIO\",\"VILLAVICENCIO\",\"VILLAVICENCIO\",\"VILLAVICENCIO\",\"VILLAVICENCIO\",\"VILLAVICENCIO\",\"VILLAVICENCIO\",\"VILLAVICENCIO\",\"VILLAVICENCIO\",\"VILLAVICENCIO\",\"VILLAVICENCIO\",\"VILLAVICENCIO\",\"VILLAVICENCIO\",\"VILLAVICENCIO\",\"VILLAVICENCIO\",\"VILLAVICENCIO\",\"VILLAVICENCIO\",\"VILLAVICENCIO\",\"VILLAVICENCIO\",\"VILLAVICENCIO\",\"VILLAVICENCIO\",\"VILLAVICENCIO\",\"VILLAVICENCIO\",\"VILLAVICENCIO\",\"CALI\",\"CARTAGENA\",\"VILLAVICENCIO\",\"VILLAVICENCIO\",\"PEREIRA\",\"CALI\",\"PEREIRA\",\"CALIMA EL DARIEN\",\"VALENCIA\",\"PEREIRA\",\"MARSELLA\",\"CALI\",\"BOGOTA\",\"CALI\",\"CALI\",\"CALI\"],\"x0\":\" \",\"xaxis\":\"x\",\"y\":[29580811900.0,16460591500.0,16460591500.0,13768280900.0,45233789820.0,4190155021.0,3109306614.0,10407336173.0,2100890600.0,2042687988.0,2041211340.0,1946238900.0,1935725000.0,1802514500.0,2558936000.0,1190905320.0,1169682630.0,1040013730.0,4747362800.0,25416536260.0,866644750.0,784336820.0,713410050.0,697548450.0,693405250.0,4527473614.0,616860411.0,610203893.0,591399414.0,589300353.0,552796000.0,550361250.0,535670500.0,514454000.0,513681000.0,503871960.0,19522132996.0,5171323500.0,466226810.0,454689116.4,453180000.0,447827419.0,1448241600.0,730379000.0,404780000.0,392665000.0,389433000.0,682988850.0,691426800.0,3027404897.0,268847500.0,268574800.0,428457000.0,264330000.0,2704524600.0,2700092084.0,253872000.0,837590790.0,230611914.0,228904300.0,2406650268.0,222132480.0,222132480.0,214110000.0,213205760.0,213205760.0,213205760.0,213205760.0,2237659000.0,187458000.0,186144000.0,186144000.0,186144000.0,186144000.0,185848000.0,182340000.0,178310000.0,178106700.0,168826320.0,167418000.0,1754039040.0,3535117700.0,159019520.0,159019520.0,145587375.0,144636000.0,1416213286.0,130099200.0,1101246490.0,552000000.0,100645710.0,100138200.0,99324000.0,1042886694.0,98360090.0,93776684.08,83179100.0,80844118.53,77202090.0,810975010.0,72976720.0,67320232.56,66820196.0,66744770.0,10683777981.0,131355000.0,125370000.0,53401590.0,50600000.0,3336090000.0,42570000.0,40468000.0,38149440.0,37509500.0,36039500.0,34015370.0,1764406000.0,31335500.0,31062880.0,30368800.0,29596000.0,29596000.0,29596000.0,29596000.0,29407403.52,29185200.0,28981920.0,28959000.0,84262517.5,28427892.82,1504512000.0,1452272000.0,27034500.0,26924299.0,1092904000.0,26130000.0,25896500.0,25406500.0,25093000.0,159924173.1,24012000.0,23920000.0,23920000.0,23920000.0,1262902000.0,23517000.0,23517000.0,23517000.0,1247230000.0,23250500.0,1223722000.0,1221390000.0,22295000.0,21708000.0,21708000.0,21708000.0,21316750.0,21168000.0,1115324000.0,20874000.0,20381660.0,20310500.0,3931747250.0,19918500.0,19832000.0,19596000.0,19067000.0,19067000.0,19062435.15,18446000.0,970358000.0,18252500.0,18228000.0,18203500.0,18007500.0,17566500.0,17566500.0,925954000.0,17419500.0,17419500.0,17223500.0,17199000.0,17199000.0,17199000.0,17199000.0,17199000.0,17150000.0,17120000.0,110257063.9,16997000.0,16997000.0,16537000.0,16491000.0,16415000.0,16169000.0,16169000.0,16169000.0,16169000.0,16169000.0,16169000.0,16169000.0,16169000.0,16169000.0,16169000.0,16169000.0,16169000.0,16169000.0,16169000.0,16169000.0,16169000.0,16169000.0,16169000.0,16169000.0,16169000.0,1589428800.0,15974000.0,15870000.0,15870000.0,15870000.0,15870000.0,15870000.0,15870000.0,15870000.0,15870000.0,15870000.0,15870000.0,15870000.0,15870000.0,15870000.0,15870000.0,15870000.0,15870000.0,15870000.0,15732000.0,15709000.0,15680000.0,15348020.0,15043000.0,14904000.0,14488072.83,14357000.0,14099000.0,13989500.0,13846000.0,13455000.0,13455000.0,13440000.0,13386000.0,13386000.0,13386000.0,13386000.0,13386000.0,13386000.0,13386000.0,13386000.0,13107500.0,13107500.0,13009500.0,13009500.0,12936000.0,12857000.0,12857000.0,12857000.0,12696000.0,12466000.0,12416000.0,12305000.0,12305000.0,12305000.0,12305000.0,12305000.0,12305000.0,12305000.0,12305000.0,12305000.0,12305000.0,12305000.0,12305000.0,12305000.0,12305000.0,12305000.0,12305000.0,12305000.0,12305000.0,12305000.0,12305000.0,12305000.0,12305000.0,12305000.0,12305000.0,12305000.0,12305000.0,12305000.0,12305000.0,12305000.0,12305000.0,12305000.0,12305000.0,12305000.0,12305000.0,12305000.0,12305000.0,12305000.0,12305000.0,12305000.0,12305000.0,12305000.0,12305000.0,12305000.0,12305000.0,12305000.0,12305000.0,12305000.0,12305000.0,12305000.0,12305000.0,12305000.0,12305000.0,12305000.0,12305000.0,12305000.0,12305000.0,12305000.0,12305000.0,12305000.0,12305000.0,12305000.0,12305000.0,12305000.0,12305000.0,12305000.0,12305000.0,12305000.0,12305000.0,12305000.0,12305000.0,12305000.0,12305000.0,12305000.0,12305000.0,12305000.0,12305000.0,12305000.0,12305000.0,12305000.0,12305000.0,12305000.0,12305000.0,12305000.0,12305000.0,12305000.0,12305000.0,12305000.0,12305000.0,12305000.0,12305000.0,12240000.0,12240000.0,12240000.0,12171250.0,11680000.0,11680000.0,11680000.0,11680000.0,11680000.0,11232000.0,11232000.0,11232000.0,11232000.0,11232000.0,11232000.0,11232000.0,569416000.0,564192000.0,10284500.0,10152000.0,10152000.0,10152000.0,10152000.0,10152000.0,10152000.0,536766000.0,9800000.0,9800000.0,518482000.0,8624000.0,8379000.0,552738798.5,7350000.0,7350000.0,7350000.0,7350000.0,7350000.0,7350000.0,7350000.0,7350000.0,7350000.0,7350000.0,7350000.0,7350000.0,7350000.0,7350000.0,7350000.0,7350000.0,7350000.0,7350000.0,7350000.0,7350000.0,7350000.0,7350000.0,7350000.0,7350000.0,7350000.0,7350000.0,7350000.0,7350000.0,7350000.0,7350000.0,7350000.0,7350000.0,7350000.0,7350000.0,7350000.0,7350000.0,7350000.0,7350000.0,7350000.0,7350000.0,7350000.0,7350000.0,7350000.0,7350000.0,7350000.0,7350000.0,7350000.0,7350000.0,7350000.0,7350000.0,7350000.0,7350000.0,7350000.0,7350000.0,7350000.0,7350000.0,7350000.0,7350000.0,7350000.0,7152000.0,377434000.0,6884500.0,6835500.0,6832720.0,1667784060.0,6333900.0,49168000.0,4650000.0,282520862.6,24000000.0,29605338.62,1448241600.0,20701337.03,20608003.68,20608003.68],\"y0\":\" \",\"yaxis\":\"y\",\"type\":\"box\"}],                        {\"template\":{\"data\":{\"histogram2dcontour\":[{\"type\":\"histogram2dcontour\",\"colorbar\":{\"outlinewidth\":0,\"ticks\":\"\"},\"colorscale\":[[0.0,\"#0d0887\"],[0.1111111111111111,\"#46039f\"],[0.2222222222222222,\"#7201a8\"],[0.3333333333333333,\"#9c179e\"],[0.4444444444444444,\"#bd3786\"],[0.5555555555555556,\"#d8576b\"],[0.6666666666666666,\"#ed7953\"],[0.7777777777777778,\"#fb9f3a\"],[0.8888888888888888,\"#fdca26\"],[1.0,\"#f0f921\"]]}],\"choropleth\":[{\"type\":\"choropleth\",\"colorbar\":{\"outlinewidth\":0,\"ticks\":\"\"}}],\"histogram2d\":[{\"type\":\"histogram2d\",\"colorbar\":{\"outlinewidth\":0,\"ticks\":\"\"},\"colorscale\":[[0.0,\"#0d0887\"],[0.1111111111111111,\"#46039f\"],[0.2222222222222222,\"#7201a8\"],[0.3333333333333333,\"#9c179e\"],[0.4444444444444444,\"#bd3786\"],[0.5555555555555556,\"#d8576b\"],[0.6666666666666666,\"#ed7953\"],[0.7777777777777778,\"#fb9f3a\"],[0.8888888888888888,\"#fdca26\"],[1.0,\"#f0f921\"]]}],\"heatmap\":[{\"type\":\"heatmap\",\"colorbar\":{\"outlinewidth\":0,\"ticks\":\"\"},\"colorscale\":[[0.0,\"#0d0887\"],[0.1111111111111111,\"#46039f\"],[0.2222222222222222,\"#7201a8\"],[0.3333333333333333,\"#9c179e\"],[0.4444444444444444,\"#bd3786\"],[0.5555555555555556,\"#d8576b\"],[0.6666666666666666,\"#ed7953\"],[0.7777777777777778,\"#fb9f3a\"],[0.8888888888888888,\"#fdca26\"],[1.0,\"#f0f921\"]]}],\"heatmapgl\":[{\"type\":\"heatmapgl\",\"colorbar\":{\"outlinewidth\":0,\"ticks\":\"\"},\"colorscale\":[[0.0,\"#0d0887\"],[0.1111111111111111,\"#46039f\"],[0.2222222222222222,\"#7201a8\"],[0.3333333333333333,\"#9c179e\"],[0.4444444444444444,\"#bd3786\"],[0.5555555555555556,\"#d8576b\"],[0.6666666666666666,\"#ed7953\"],[0.7777777777777778,\"#fb9f3a\"],[0.8888888888888888,\"#fdca26\"],[1.0,\"#f0f921\"]]}],\"contourcarpet\":[{\"type\":\"contourcarpet\",\"colorbar\":{\"outlinewidth\":0,\"ticks\":\"\"}}],\"contour\":[{\"type\":\"contour\",\"colorbar\":{\"outlinewidth\":0,\"ticks\":\"\"},\"colorscale\":[[0.0,\"#0d0887\"],[0.1111111111111111,\"#46039f\"],[0.2222222222222222,\"#7201a8\"],[0.3333333333333333,\"#9c179e\"],[0.4444444444444444,\"#bd3786\"],[0.5555555555555556,\"#d8576b\"],[0.6666666666666666,\"#ed7953\"],[0.7777777777777778,\"#fb9f3a\"],[0.8888888888888888,\"#fdca26\"],[1.0,\"#f0f921\"]]}],\"surface\":[{\"type\":\"surface\",\"colorbar\":{\"outlinewidth\":0,\"ticks\":\"\"},\"colorscale\":[[0.0,\"#0d0887\"],[0.1111111111111111,\"#46039f\"],[0.2222222222222222,\"#7201a8\"],[0.3333333333333333,\"#9c179e\"],[0.4444444444444444,\"#bd3786\"],[0.5555555555555556,\"#d8576b\"],[0.6666666666666666,\"#ed7953\"],[0.7777777777777778,\"#fb9f3a\"],[0.8888888888888888,\"#fdca26\"],[1.0,\"#f0f921\"]]}],\"mesh3d\":[{\"type\":\"mesh3d\",\"colorbar\":{\"outlinewidth\":0,\"ticks\":\"\"}}],\"scatter\":[{\"fillpattern\":{\"fillmode\":\"overlay\",\"size\":10,\"solidity\":0.2},\"type\":\"scatter\"}],\"parcoords\":[{\"type\":\"parcoords\",\"line\":{\"colorbar\":{\"outlinewidth\":0,\"ticks\":\"\"}}}],\"scatterpolargl\":[{\"type\":\"scatterpolargl\",\"marker\":{\"colorbar\":{\"outlinewidth\":0,\"ticks\":\"\"}}}],\"bar\":[{\"error_x\":{\"color\":\"#2a3f5f\"},\"error_y\":{\"color\":\"#2a3f5f\"},\"marker\":{\"line\":{\"color\":\"#E5ECF6\",\"width\":0.5},\"pattern\":{\"fillmode\":\"overlay\",\"size\":10,\"solidity\":0.2}},\"type\":\"bar\"}],\"scattergeo\":[{\"type\":\"scattergeo\",\"marker\":{\"colorbar\":{\"outlinewidth\":0,\"ticks\":\"\"}}}],\"scatterpolar\":[{\"type\":\"scatterpolar\",\"marker\":{\"colorbar\":{\"outlinewidth\":0,\"ticks\":\"\"}}}],\"histogram\":[{\"marker\":{\"pattern\":{\"fillmode\":\"overlay\",\"size\":10,\"solidity\":0.2}},\"type\":\"histogram\"}],\"scattergl\":[{\"type\":\"scattergl\",\"marker\":{\"colorbar\":{\"outlinewidth\":0,\"ticks\":\"\"}}}],\"scatter3d\":[{\"type\":\"scatter3d\",\"line\":{\"colorbar\":{\"outlinewidth\":0,\"ticks\":\"\"}},\"marker\":{\"colorbar\":{\"outlinewidth\":0,\"ticks\":\"\"}}}],\"scattermapbox\":[{\"type\":\"scattermapbox\",\"marker\":{\"colorbar\":{\"outlinewidth\":0,\"ticks\":\"\"}}}],\"scatterternary\":[{\"type\":\"scatterternary\",\"marker\":{\"colorbar\":{\"outlinewidth\":0,\"ticks\":\"\"}}}],\"scattercarpet\":[{\"type\":\"scattercarpet\",\"marker\":{\"colorbar\":{\"outlinewidth\":0,\"ticks\":\"\"}}}],\"carpet\":[{\"aaxis\":{\"endlinecolor\":\"#2a3f5f\",\"gridcolor\":\"white\",\"linecolor\":\"white\",\"minorgridcolor\":\"white\",\"startlinecolor\":\"#2a3f5f\"},\"baxis\":{\"endlinecolor\":\"#2a3f5f\",\"gridcolor\":\"white\",\"linecolor\":\"white\",\"minorgridcolor\":\"white\",\"startlinecolor\":\"#2a3f5f\"},\"type\":\"carpet\"}],\"table\":[{\"cells\":{\"fill\":{\"color\":\"#EBF0F8\"},\"line\":{\"color\":\"white\"}},\"header\":{\"fill\":{\"color\":\"#C8D4E3\"},\"line\":{\"color\":\"white\"}},\"type\":\"table\"}],\"barpolar\":[{\"marker\":{\"line\":{\"color\":\"#E5ECF6\",\"width\":0.5},\"pattern\":{\"fillmode\":\"overlay\",\"size\":10,\"solidity\":0.2}},\"type\":\"barpolar\"}],\"pie\":[{\"automargin\":true,\"type\":\"pie\"}]},\"layout\":{\"autotypenumbers\":\"strict\",\"colorway\":[\"#636efa\",\"#EF553B\",\"#00cc96\",\"#ab63fa\",\"#FFA15A\",\"#19d3f3\",\"#FF6692\",\"#B6E880\",\"#FF97FF\",\"#FECB52\"],\"font\":{\"color\":\"#2a3f5f\"},\"hovermode\":\"closest\",\"hoverlabel\":{\"align\":\"left\"},\"paper_bgcolor\":\"white\",\"plot_bgcolor\":\"#E5ECF6\",\"polar\":{\"bgcolor\":\"#E5ECF6\",\"angularaxis\":{\"gridcolor\":\"white\",\"linecolor\":\"white\",\"ticks\":\"\"},\"radialaxis\":{\"gridcolor\":\"white\",\"linecolor\":\"white\",\"ticks\":\"\"}},\"ternary\":{\"bgcolor\":\"#E5ECF6\",\"aaxis\":{\"gridcolor\":\"white\",\"linecolor\":\"white\",\"ticks\":\"\"},\"baxis\":{\"gridcolor\":\"white\",\"linecolor\":\"white\",\"ticks\":\"\"},\"caxis\":{\"gridcolor\":\"white\",\"linecolor\":\"white\",\"ticks\":\"\"}},\"coloraxis\":{\"colorbar\":{\"outlinewidth\":0,\"ticks\":\"\"}},\"colorscale\":{\"sequential\":[[0.0,\"#0d0887\"],[0.1111111111111111,\"#46039f\"],[0.2222222222222222,\"#7201a8\"],[0.3333333333333333,\"#9c179e\"],[0.4444444444444444,\"#bd3786\"],[0.5555555555555556,\"#d8576b\"],[0.6666666666666666,\"#ed7953\"],[0.7777777777777778,\"#fb9f3a\"],[0.8888888888888888,\"#fdca26\"],[1.0,\"#f0f921\"]],\"sequentialminus\":[[0.0,\"#0d0887\"],[0.1111111111111111,\"#46039f\"],[0.2222222222222222,\"#7201a8\"],[0.3333333333333333,\"#9c179e\"],[0.4444444444444444,\"#bd3786\"],[0.5555555555555556,\"#d8576b\"],[0.6666666666666666,\"#ed7953\"],[0.7777777777777778,\"#fb9f3a\"],[0.8888888888888888,\"#fdca26\"],[1.0,\"#f0f921\"]],\"diverging\":[[0,\"#8e0152\"],[0.1,\"#c51b7d\"],[0.2,\"#de77ae\"],[0.3,\"#f1b6da\"],[0.4,\"#fde0ef\"],[0.5,\"#f7f7f7\"],[0.6,\"#e6f5d0\"],[0.7,\"#b8e186\"],[0.8,\"#7fbc41\"],[0.9,\"#4d9221\"],[1,\"#276419\"]]},\"xaxis\":{\"gridcolor\":\"white\",\"linecolor\":\"white\",\"ticks\":\"\",\"title\":{\"standoff\":15},\"zerolinecolor\":\"white\",\"automargin\":true,\"zerolinewidth\":2},\"yaxis\":{\"gridcolor\":\"white\",\"linecolor\":\"white\",\"ticks\":\"\",\"title\":{\"standoff\":15},\"zerolinecolor\":\"white\",\"automargin\":true,\"zerolinewidth\":2},\"scene\":{\"xaxis\":{\"backgroundcolor\":\"#E5ECF6\",\"gridcolor\":\"white\",\"linecolor\":\"white\",\"showbackground\":true,\"ticks\":\"\",\"zerolinecolor\":\"white\",\"gridwidth\":2},\"yaxis\":{\"backgroundcolor\":\"#E5ECF6\",\"gridcolor\":\"white\",\"linecolor\":\"white\",\"showbackground\":true,\"ticks\":\"\",\"zerolinecolor\":\"white\",\"gridwidth\":2},\"zaxis\":{\"backgroundcolor\":\"#E5ECF6\",\"gridcolor\":\"white\",\"linecolor\":\"white\",\"showbackground\":true,\"ticks\":\"\",\"zerolinecolor\":\"white\",\"gridwidth\":2}},\"shapedefaults\":{\"line\":{\"color\":\"#2a3f5f\"}},\"annotationdefaults\":{\"arrowcolor\":\"#2a3f5f\",\"arrowhead\":0,\"arrowwidth\":1},\"geo\":{\"bgcolor\":\"white\",\"landcolor\":\"#E5ECF6\",\"subunitcolor\":\"white\",\"showland\":true,\"showlakes\":true,\"lakecolor\":\"white\"},\"title\":{\"x\":0.05},\"mapbox\":{\"style\":\"light\"}}},\"xaxis\":{\"anchor\":\"y\",\"domain\":[0.0,1.0],\"title\":{\"text\":\"Ciudad\"}},\"yaxis\":{\"anchor\":\"x\",\"domain\":[0.0,1.0],\"title\":{\"text\":\"Precio\"}},\"legend\":{\"tracegroupgap\":0},\"title\":{\"text\":\"Distribuci\\u00f3n de Precios por Ciudad\"},\"boxmode\":\"group\",\"height\":600},                        {\"responsive\": true}                    ).then(function(){\n",
              "                            \n",
              "var gd = document.getElementById('9c81d156-9d6c-4ed8-a392-37c46eed906f');\n",
              "var x = new MutationObserver(function (mutations, observer) {{\n",
              "        var display = window.getComputedStyle(gd).display;\n",
              "        if (!display || display === 'none') {{\n",
              "            console.log([gd, 'removed!']);\n",
              "            Plotly.purge(gd);\n",
              "            observer.disconnect();\n",
              "        }}\n",
              "}});\n",
              "\n",
              "// Listen for the removal of the full notebook cells\n",
              "var notebookContainer = gd.closest('#notebook-container');\n",
              "if (notebookContainer) {{\n",
              "    x.observe(notebookContainer, {childList: true});\n",
              "}}\n",
              "\n",
              "// Listen for the clearing of the current output cell\n",
              "var outputEl = gd.closest('.output');\n",
              "if (outputEl) {{\n",
              "    x.observe(outputEl, {childList: true});\n",
              "}}\n",
              "\n",
              "                        })                };                            </script>        </div>\n",
              "</body>\n",
              "</html>"
            ]
          },
          "metadata": {}
        },
        {
          "output_type": "display_data",
          "data": {
            "text/html": [
              "<html>\n",
              "<head><meta charset=\"utf-8\" /></head>\n",
              "<body>\n",
              "    <div>            <script src=\"https://cdnjs.cloudflare.com/ajax/libs/mathjax/2.7.5/MathJax.js?config=TeX-AMS-MML_SVG\"></script><script type=\"text/javascript\">if (window.MathJax && window.MathJax.Hub && window.MathJax.Hub.Config) {window.MathJax.Hub.Config({SVG: {font: \"STIX-Web\"}});}</script>                <script type=\"text/javascript\">window.PlotlyConfig = {MathJaxConfig: 'local'};</script>\n",
              "        <script charset=\"utf-8\" src=\"https://cdn.plot.ly/plotly-2.24.1.min.js\"></script>                <div id=\"c32cb293-cf9d-4359-a5cb-c2804f77bdfe\" class=\"plotly-graph-div\" style=\"height:600px; width:100%;\"></div>            <script type=\"text/javascript\">                                    window.PLOTLYENV=window.PLOTLYENV || {};                                    if (document.getElementById(\"c32cb293-cf9d-4359-a5cb-c2804f77bdfe\")) {                    Plotly.newPlot(                        \"c32cb293-cf9d-4359-a5cb-c2804f77bdfe\",                        [{\"alignmentgroup\":\"True\",\"hovertemplate\":\"Tipo de Inmueble=%{x}\\u003cbr\\u003ePrecio=%{y}\\u003cextra\\u003e\\u003c\\u002fextra\\u003e\",\"legendgroup\":\"\",\"marker\":{\"color\":\"#636efa\"},\"name\":\"\",\"notched\":false,\"offsetgroup\":\"\",\"orientation\":\"v\",\"showlegend\":false,\"x\":[\"LOTE COMERCIAL\",\"EDIFICIO\",\"EDIFICIO\",\"CLINICA\",\"LOTE MIXTO\",\"LOTE CON CONSTRUCCION\",\"LOTE CON CONSTRUCCION\",\"HOTEL\",\"BODEGA\",\"APARTAMENTO\",\"LOTE VIVIENDA\",\"FINCA\",\"EDIFICIO OFICINAS\",\"BODEGA\",\"FINCA\",\"APARTAMENTO\",\"BODEGA\",\"CASA\",\"CASA\",\"BODEGA\",\"CASA\",\"LOCAL\",\"CASA\",\"LOCAL\",\"LOTE CON CONSTRUCCION\",\"LOTE INDUSTRIAL\",\"LOTE CON CONSTRUCCION\",\"LOTE CON CONSTRUCCION\",\"LOTE CON CONSTRUCCION\",\"LOTE CON CONSTRUCCION\",\"LOTE\",\"CASA\",\"CASA\",\"CASA\",\"BODEGA\",\"OFICINA\",\"FINCA\",\"LOTE VIVIENDA\",\"LOCAL\",\"LOTE VIVIENDA\",\"CASA\",\"LOTE VIVIENDA\",\"CASA\",\"LOCAL\",\"FINCA\",\"FINCA\",\"LOTE CON CONSTRUCCION\",\"EDIFICIO\",\"OFICINA\",\"LOTE VIVIENDA\",\"OFICINA\",\"CASA\",\"APARTAMENTO\",\"FINCA\",\"LOTE VIVIENDA\",\"LOTE VIVIENDA\",\"OFICINA\",\"LOCAL\",\"LOTE CON CONSTRUCCION\",\"CASA\",\"LOTE MIXTO\",\"OFICINA\",\"OFICINA\",\"FINCA\",\"OFICINA\",\"OFICINA\",\"OFICINA\",\"OFICINA\",\"LOTE VIVIENDA\",\"CASA\",\"OFICINA\",\"OFICINA\",\"OFICINA\",\"OFICINA\",\"LOTE CON CONSTRUCCION\",\"LOTE VIVIENDA\",\"CASA\",\"LOTE\",\"LOCAL\",\"CASA\",\"LOTE VIVIENDA\",\"LOTE CON CONSTRUCCION\",\"OFICINA\",\"OFICINA\",\"FINCA\",\"LOTE VIVIENDA\",\"LOTE INDUSTRIAL\",\"LOTE VIVIENDA\",\"BODEGA\",\"LOTE VIVIENDA\",\"FINCA\",\"LOTE VIVIENDA\",\"LOTE VIVIENDA\",\"LOTE VIVIENDA\",\"CASA\",\"LOTE VIVIENDA\",\"APARTAMENTO\",\"LOTE VIVIENDA\",\"OFICINA\",\"LOTE VIVIENDA\",\"CASA\",\"LOTE VIVIENDA\",\"FINCA\",\"APARTAMENTO\",\"LOTE CON CONSTRUCCION\",\"APARTAMENTO\",\"APARTAMENTO\",\"LOTE VIVIENDA\",\"LOTE VIVIENDA\",\"BODEGA\",\"LOCAL\",\"LOCAL\",\"LOTE CON CONSTRUCCION\",\"LOCAL\",\"LOCAL\",\"LOTE VIVIENDA\",\"BODEGA\",\"LOCAL\",\"LOTE CON CONSTRUCCION\",\"LOCAL\",\"LOCAL\",\"LOCAL\",\"LOCAL\",\"LOCAL\",\"LOTE MIXTO\",\"GARAJE\",\"GARAJE\",\"LOCAL\",\"LOCAL\",\"LOTE VIVIENDA\",\"BODEGA\",\"BODEGA\",\"LOCAL\",\"LOTE VIVIENDA\",\"BODEGA\",\"LOCAL\",\"LOCAL\",\"LOCAL\",\"LOCAL\",\"LOCAL\",\"LOCAL\",\"LOCAL\",\"LOCAL\",\"LOCAL\",\"BODEGA\",\"LOCAL\",\"LOCAL\",\"LOCAL\",\"BODEGA\",\"LOCAL\",\"BODEGA\",\"BODEGA\",\"LOCAL\",\"LOCAL\",\"LOCAL\",\"LOCAL\",\"LOCAL\",\"LOCAL\",\"BODEGA\",\"LOCAL\",\"LOTE\",\"LOCAL\",\"CLINICA\",\"LOCAL\",\"LOCAL\",\"LOCAL\",\"LOCAL\",\"LOCAL\",\"LOTE VIVIENDA\",\"LOCAL\",\"BODEGA\",\"LOCAL\",\"LOCAL\",\"LOCAL\",\"LOCAL\",\"LOCAL\",\"LOCAL\",\"BODEGA\",\"LOCAL\",\"LOCAL\",\"LOCAL\",\"LOCAL\",\"LOCAL\",\"LOCAL\",\"LOCAL\",\"LOCAL\",\"LOCAL\",\"LOCAL\",\"LOCAL\",\"LOCAL\",\"LOCAL\",\"LOCAL\",\"LOCAL\",\"LOCAL\",\"LOCAL\",\"LOCAL\",\"LOCAL\",\"LOCAL\",\"LOCAL\",\"LOCAL\",\"LOCAL\",\"LOCAL\",\"LOCAL\",\"LOCAL\",\"LOCAL\",\"LOCAL\",\"LOCAL\",\"LOCAL\",\"LOCAL\",\"LOCAL\",\"LOCAL\",\"LOCAL\",\"LOCAL\",\"LOCAL\",\"EDIFICIO\",\"LOCAL\",\"LOCAL\",\"LOCAL\",\"LOCAL\",\"LOCAL\",\"LOCAL\",\"LOCAL\",\"LOCAL\",\"LOCAL\",\"LOCAL\",\"LOCAL\",\"LOCAL\",\"LOCAL\",\"LOCAL\",\"LOCAL\",\"LOCAL\",\"LOCAL\",\"LOCAL\",\"LOCAL\",\"LOCAL\",\"LOCAL\",\"LOTE CON CONSTRUCCION\",\"LOCAL\",\"LOCAL\",\"LOTE VIVIENDA\",\"LOCAL\",\"LOCAL\",\"LOCAL\",\"LOCAL\",\"LOCAL\",\"LOCAL\",\"LOCAL\",\"LOCAL\",\"LOCAL\",\"LOCAL\",\"LOCAL\",\"LOCAL\",\"LOCAL\",\"LOCAL\",\"LOCAL\",\"LOCAL\",\"LOCAL\",\"LOCAL\",\"LOCAL\",\"LOCAL\",\"LOCAL\",\"LOCAL\",\"LOCAL\",\"LOCAL\",\"LOCAL\",\"LOCAL\",\"LOCAL\",\"LOCAL\",\"LOCAL\",\"LOCAL\",\"LOCAL\",\"LOCAL\",\"LOCAL\",\"LOCAL\",\"LOCAL\",\"LOCAL\",\"LOCAL\",\"LOCAL\",\"LOCAL\",\"LOCAL\",\"LOCAL\",\"LOCAL\",\"LOCAL\",\"LOCAL\",\"LOCAL\",\"LOCAL\",\"LOCAL\",\"LOCAL\",\"LOCAL\",\"LOCAL\",\"LOCAL\",\"LOCAL\",\"LOCAL\",\"LOCAL\",\"LOCAL\",\"LOCAL\",\"LOCAL\",\"LOCAL\",\"LOCAL\",\"LOCAL\",\"LOCAL\",\"LOCAL\",\"LOCAL\",\"LOCAL\",\"LOCAL\",\"LOCAL\",\"LOCAL\",\"LOCAL\",\"LOCAL\",\"LOCAL\",\"LOCAL\",\"LOCAL\",\"LOCAL\",\"LOCAL\",\"LOCAL\",\"LOCAL\",\"LOCAL\",\"LOCAL\",\"LOCAL\",\"LOCAL\",\"LOCAL\",\"LOCAL\",\"LOCAL\",\"LOCAL\",\"LOCAL\",\"LOCAL\",\"LOCAL\",\"LOCAL\",\"LOCAL\",\"LOCAL\",\"LOCAL\",\"LOCAL\",\"LOCAL\",\"LOCAL\",\"LOCAL\",\"LOCAL\",\"LOCAL\",\"LOCAL\",\"LOCAL\",\"LOCAL\",\"LOCAL\",\"LOCAL\",\"LOCAL\",\"LOCAL\",\"LOCAL\",\"LOCAL\",\"LOCAL\",\"LOCAL\",\"LOCAL\",\"LOCAL\",\"LOCAL\",\"LOCAL\",\"LOCAL\",\"LOCAL\",\"LOCAL\",\"LOCAL\",\"LOTE VIVIENDA\",\"LOTE VIVIENDA\",\"LOTE VIVIENDA\",\"LOCAL\",\"LOCAL\",\"LOCAL\",\"LOCAL\",\"LOCAL\",\"LOCAL\",\"LOTE VIVIENDA\",\"LOTE VIVIENDA\",\"LOTE VIVIENDA\",\"LOTE VIVIENDA\",\"LOTE VIVIENDA\",\"LOTE VIVIENDA\",\"LOTE VIVIENDA\",\"BODEGA\",\"BODEGA\",\"LOCAL\",\"LOTE VIVIENDA\",\"LOTE VIVIENDA\",\"LOTE VIVIENDA\",\"LOTE VIVIENDA\",\"LOTE VIVIENDA\",\"LOTE VIVIENDA\",\"BODEGA\",\"LOCAL\",\"LOCAL\",\"BODEGA\",\"LOCAL\",\"LOCAL\",\"LOCAL\",\"LOCAL\",\"LOCAL\",\"LOCAL\",\"LOCAL\",\"LOCAL\",\"LOCAL\",\"LOCAL\",\"LOCAL\",\"LOCAL\",\"LOCAL\",\"LOCAL\",\"LOCAL\",\"LOCAL\",\"LOCAL\",\"LOCAL\",\"LOCAL\",\"LOCAL\",\"LOCAL\",\"LOCAL\",\"LOCAL\",\"LOCAL\",\"LOCAL\",\"LOCAL\",\"LOCAL\",\"LOCAL\",\"LOCAL\",\"LOCAL\",\"LOCAL\",\"LOCAL\",\"LOCAL\",\"LOCAL\",\"LOCAL\",\"LOCAL\",\"LOCAL\",\"LOCAL\",\"LOCAL\",\"LOCAL\",\"LOCAL\",\"LOCAL\",\"LOCAL\",\"LOCAL\",\"LOCAL\",\"LOCAL\",\"LOCAL\",\"LOCAL\",\"LOCAL\",\"LOCAL\",\"LOCAL\",\"LOCAL\",\"LOCAL\",\"LOCAL\",\"LOCAL\",\"LOCAL\",\"LOCAL\",\"LOCAL\",\"LOCAL\",\"LOCAL\",\"LOCAL\",\"LOCAL\",\"DEPOSITO\",\"BODEGA\",\"LOCAL\",\"LOCAL\",\"LOTE VIVIENDA\",\"LOTE VIVIENDA\",\"LOTE VIVIENDA\",\"LOTE VIVIENDA\",\"LOTE AGRICOLA\",\"LOTE VIVIENDA\",\"LOCAL\",\"LOCAL\",\"CASA\",\"LOCAL\",\"LOCAL\",\"LOCAL\"],\"x0\":\" \",\"xaxis\":\"x\",\"y\":[29580811900.0,16460591500.0,16460591500.0,13768280900.0,45233789820.0,4190155021.0,3109306614.0,10407336173.0,2100890600.0,2042687988.0,2041211340.0,1946238900.0,1935725000.0,1802514500.0,2558936000.0,1190905320.0,1169682630.0,1040013730.0,4747362800.0,25416536260.0,866644750.0,784336820.0,713410050.0,697548450.0,693405250.0,4527473614.0,616860411.0,610203893.0,591399414.0,589300353.0,552796000.0,550361250.0,535670500.0,514454000.0,513681000.0,503871960.0,19522132996.0,5171323500.0,466226810.0,454689116.4,453180000.0,447827419.0,1448241600.0,730379000.0,404780000.0,392665000.0,389433000.0,682988850.0,691426800.0,3027404897.0,268847500.0,268574800.0,428457000.0,264330000.0,2704524600.0,2700092084.0,253872000.0,837590790.0,230611914.0,228904300.0,2406650268.0,222132480.0,222132480.0,214110000.0,213205760.0,213205760.0,213205760.0,213205760.0,2237659000.0,187458000.0,186144000.0,186144000.0,186144000.0,186144000.0,185848000.0,182340000.0,178310000.0,178106700.0,168826320.0,167418000.0,1754039040.0,3535117700.0,159019520.0,159019520.0,145587375.0,144636000.0,1416213286.0,130099200.0,1101246490.0,552000000.0,100645710.0,100138200.0,99324000.0,1042886694.0,98360090.0,93776684.08,83179100.0,80844118.53,77202090.0,810975010.0,72976720.0,67320232.56,66820196.0,66744770.0,10683777981.0,131355000.0,125370000.0,53401590.0,50600000.0,3336090000.0,42570000.0,40468000.0,38149440.0,37509500.0,36039500.0,34015370.0,1764406000.0,31335500.0,31062880.0,30368800.0,29596000.0,29596000.0,29596000.0,29596000.0,29407403.52,29185200.0,28981920.0,28959000.0,84262517.5,28427892.82,1504512000.0,1452272000.0,27034500.0,26924299.0,1092904000.0,26130000.0,25896500.0,25406500.0,25093000.0,159924173.1,24012000.0,23920000.0,23920000.0,23920000.0,1262902000.0,23517000.0,23517000.0,23517000.0,1247230000.0,23250500.0,1223722000.0,1221390000.0,22295000.0,21708000.0,21708000.0,21708000.0,21316750.0,21168000.0,1115324000.0,20874000.0,20381660.0,20310500.0,3931747250.0,19918500.0,19832000.0,19596000.0,19067000.0,19067000.0,19062435.15,18446000.0,970358000.0,18252500.0,18228000.0,18203500.0,18007500.0,17566500.0,17566500.0,925954000.0,17419500.0,17419500.0,17223500.0,17199000.0,17199000.0,17199000.0,17199000.0,17199000.0,17150000.0,17120000.0,110257063.9,16997000.0,16997000.0,16537000.0,16491000.0,16415000.0,16169000.0,16169000.0,16169000.0,16169000.0,16169000.0,16169000.0,16169000.0,16169000.0,16169000.0,16169000.0,16169000.0,16169000.0,16169000.0,16169000.0,16169000.0,16169000.0,16169000.0,16169000.0,16169000.0,16169000.0,1589428800.0,15974000.0,15870000.0,15870000.0,15870000.0,15870000.0,15870000.0,15870000.0,15870000.0,15870000.0,15870000.0,15870000.0,15870000.0,15870000.0,15870000.0,15870000.0,15870000.0,15870000.0,15870000.0,15732000.0,15709000.0,15680000.0,15348020.0,15043000.0,14904000.0,14488072.83,14357000.0,14099000.0,13989500.0,13846000.0,13455000.0,13455000.0,13440000.0,13386000.0,13386000.0,13386000.0,13386000.0,13386000.0,13386000.0,13386000.0,13386000.0,13107500.0,13107500.0,13009500.0,13009500.0,12936000.0,12857000.0,12857000.0,12857000.0,12696000.0,12466000.0,12416000.0,12305000.0,12305000.0,12305000.0,12305000.0,12305000.0,12305000.0,12305000.0,12305000.0,12305000.0,12305000.0,12305000.0,12305000.0,12305000.0,12305000.0,12305000.0,12305000.0,12305000.0,12305000.0,12305000.0,12305000.0,12305000.0,12305000.0,12305000.0,12305000.0,12305000.0,12305000.0,12305000.0,12305000.0,12305000.0,12305000.0,12305000.0,12305000.0,12305000.0,12305000.0,12305000.0,12305000.0,12305000.0,12305000.0,12305000.0,12305000.0,12305000.0,12305000.0,12305000.0,12305000.0,12305000.0,12305000.0,12305000.0,12305000.0,12305000.0,12305000.0,12305000.0,12305000.0,12305000.0,12305000.0,12305000.0,12305000.0,12305000.0,12305000.0,12305000.0,12305000.0,12305000.0,12305000.0,12305000.0,12305000.0,12305000.0,12305000.0,12305000.0,12305000.0,12305000.0,12305000.0,12305000.0,12305000.0,12305000.0,12305000.0,12305000.0,12305000.0,12305000.0,12305000.0,12305000.0,12305000.0,12305000.0,12305000.0,12305000.0,12305000.0,12305000.0,12305000.0,12305000.0,12305000.0,12305000.0,12305000.0,12240000.0,12240000.0,12240000.0,12171250.0,11680000.0,11680000.0,11680000.0,11680000.0,11680000.0,11232000.0,11232000.0,11232000.0,11232000.0,11232000.0,11232000.0,11232000.0,569416000.0,564192000.0,10284500.0,10152000.0,10152000.0,10152000.0,10152000.0,10152000.0,10152000.0,536766000.0,9800000.0,9800000.0,518482000.0,8624000.0,8379000.0,552738798.5,7350000.0,7350000.0,7350000.0,7350000.0,7350000.0,7350000.0,7350000.0,7350000.0,7350000.0,7350000.0,7350000.0,7350000.0,7350000.0,7350000.0,7350000.0,7350000.0,7350000.0,7350000.0,7350000.0,7350000.0,7350000.0,7350000.0,7350000.0,7350000.0,7350000.0,7350000.0,7350000.0,7350000.0,7350000.0,7350000.0,7350000.0,7350000.0,7350000.0,7350000.0,7350000.0,7350000.0,7350000.0,7350000.0,7350000.0,7350000.0,7350000.0,7350000.0,7350000.0,7350000.0,7350000.0,7350000.0,7350000.0,7350000.0,7350000.0,7350000.0,7350000.0,7350000.0,7350000.0,7350000.0,7350000.0,7350000.0,7350000.0,7350000.0,7350000.0,7152000.0,377434000.0,6884500.0,6835500.0,6832720.0,1667784060.0,6333900.0,49168000.0,4650000.0,282520862.6,24000000.0,29605338.62,1448241600.0,20701337.03,20608003.68,20608003.68],\"y0\":\" \",\"yaxis\":\"y\",\"type\":\"box\"}],                        {\"template\":{\"data\":{\"histogram2dcontour\":[{\"type\":\"histogram2dcontour\",\"colorbar\":{\"outlinewidth\":0,\"ticks\":\"\"},\"colorscale\":[[0.0,\"#0d0887\"],[0.1111111111111111,\"#46039f\"],[0.2222222222222222,\"#7201a8\"],[0.3333333333333333,\"#9c179e\"],[0.4444444444444444,\"#bd3786\"],[0.5555555555555556,\"#d8576b\"],[0.6666666666666666,\"#ed7953\"],[0.7777777777777778,\"#fb9f3a\"],[0.8888888888888888,\"#fdca26\"],[1.0,\"#f0f921\"]]}],\"choropleth\":[{\"type\":\"choropleth\",\"colorbar\":{\"outlinewidth\":0,\"ticks\":\"\"}}],\"histogram2d\":[{\"type\":\"histogram2d\",\"colorbar\":{\"outlinewidth\":0,\"ticks\":\"\"},\"colorscale\":[[0.0,\"#0d0887\"],[0.1111111111111111,\"#46039f\"],[0.2222222222222222,\"#7201a8\"],[0.3333333333333333,\"#9c179e\"],[0.4444444444444444,\"#bd3786\"],[0.5555555555555556,\"#d8576b\"],[0.6666666666666666,\"#ed7953\"],[0.7777777777777778,\"#fb9f3a\"],[0.8888888888888888,\"#fdca26\"],[1.0,\"#f0f921\"]]}],\"heatmap\":[{\"type\":\"heatmap\",\"colorbar\":{\"outlinewidth\":0,\"ticks\":\"\"},\"colorscale\":[[0.0,\"#0d0887\"],[0.1111111111111111,\"#46039f\"],[0.2222222222222222,\"#7201a8\"],[0.3333333333333333,\"#9c179e\"],[0.4444444444444444,\"#bd3786\"],[0.5555555555555556,\"#d8576b\"],[0.6666666666666666,\"#ed7953\"],[0.7777777777777778,\"#fb9f3a\"],[0.8888888888888888,\"#fdca26\"],[1.0,\"#f0f921\"]]}],\"heatmapgl\":[{\"type\":\"heatmapgl\",\"colorbar\":{\"outlinewidth\":0,\"ticks\":\"\"},\"colorscale\":[[0.0,\"#0d0887\"],[0.1111111111111111,\"#46039f\"],[0.2222222222222222,\"#7201a8\"],[0.3333333333333333,\"#9c179e\"],[0.4444444444444444,\"#bd3786\"],[0.5555555555555556,\"#d8576b\"],[0.6666666666666666,\"#ed7953\"],[0.7777777777777778,\"#fb9f3a\"],[0.8888888888888888,\"#fdca26\"],[1.0,\"#f0f921\"]]}],\"contourcarpet\":[{\"type\":\"contourcarpet\",\"colorbar\":{\"outlinewidth\":0,\"ticks\":\"\"}}],\"contour\":[{\"type\":\"contour\",\"colorbar\":{\"outlinewidth\":0,\"ticks\":\"\"},\"colorscale\":[[0.0,\"#0d0887\"],[0.1111111111111111,\"#46039f\"],[0.2222222222222222,\"#7201a8\"],[0.3333333333333333,\"#9c179e\"],[0.4444444444444444,\"#bd3786\"],[0.5555555555555556,\"#d8576b\"],[0.6666666666666666,\"#ed7953\"],[0.7777777777777778,\"#fb9f3a\"],[0.8888888888888888,\"#fdca26\"],[1.0,\"#f0f921\"]]}],\"surface\":[{\"type\":\"surface\",\"colorbar\":{\"outlinewidth\":0,\"ticks\":\"\"},\"colorscale\":[[0.0,\"#0d0887\"],[0.1111111111111111,\"#46039f\"],[0.2222222222222222,\"#7201a8\"],[0.3333333333333333,\"#9c179e\"],[0.4444444444444444,\"#bd3786\"],[0.5555555555555556,\"#d8576b\"],[0.6666666666666666,\"#ed7953\"],[0.7777777777777778,\"#fb9f3a\"],[0.8888888888888888,\"#fdca26\"],[1.0,\"#f0f921\"]]}],\"mesh3d\":[{\"type\":\"mesh3d\",\"colorbar\":{\"outlinewidth\":0,\"ticks\":\"\"}}],\"scatter\":[{\"fillpattern\":{\"fillmode\":\"overlay\",\"size\":10,\"solidity\":0.2},\"type\":\"scatter\"}],\"parcoords\":[{\"type\":\"parcoords\",\"line\":{\"colorbar\":{\"outlinewidth\":0,\"ticks\":\"\"}}}],\"scatterpolargl\":[{\"type\":\"scatterpolargl\",\"marker\":{\"colorbar\":{\"outlinewidth\":0,\"ticks\":\"\"}}}],\"bar\":[{\"error_x\":{\"color\":\"#2a3f5f\"},\"error_y\":{\"color\":\"#2a3f5f\"},\"marker\":{\"line\":{\"color\":\"#E5ECF6\",\"width\":0.5},\"pattern\":{\"fillmode\":\"overlay\",\"size\":10,\"solidity\":0.2}},\"type\":\"bar\"}],\"scattergeo\":[{\"type\":\"scattergeo\",\"marker\":{\"colorbar\":{\"outlinewidth\":0,\"ticks\":\"\"}}}],\"scatterpolar\":[{\"type\":\"scatterpolar\",\"marker\":{\"colorbar\":{\"outlinewidth\":0,\"ticks\":\"\"}}}],\"histogram\":[{\"marker\":{\"pattern\":{\"fillmode\":\"overlay\",\"size\":10,\"solidity\":0.2}},\"type\":\"histogram\"}],\"scattergl\":[{\"type\":\"scattergl\",\"marker\":{\"colorbar\":{\"outlinewidth\":0,\"ticks\":\"\"}}}],\"scatter3d\":[{\"type\":\"scatter3d\",\"line\":{\"colorbar\":{\"outlinewidth\":0,\"ticks\":\"\"}},\"marker\":{\"colorbar\":{\"outlinewidth\":0,\"ticks\":\"\"}}}],\"scattermapbox\":[{\"type\":\"scattermapbox\",\"marker\":{\"colorbar\":{\"outlinewidth\":0,\"ticks\":\"\"}}}],\"scatterternary\":[{\"type\":\"scatterternary\",\"marker\":{\"colorbar\":{\"outlinewidth\":0,\"ticks\":\"\"}}}],\"scattercarpet\":[{\"type\":\"scattercarpet\",\"marker\":{\"colorbar\":{\"outlinewidth\":0,\"ticks\":\"\"}}}],\"carpet\":[{\"aaxis\":{\"endlinecolor\":\"#2a3f5f\",\"gridcolor\":\"white\",\"linecolor\":\"white\",\"minorgridcolor\":\"white\",\"startlinecolor\":\"#2a3f5f\"},\"baxis\":{\"endlinecolor\":\"#2a3f5f\",\"gridcolor\":\"white\",\"linecolor\":\"white\",\"minorgridcolor\":\"white\",\"startlinecolor\":\"#2a3f5f\"},\"type\":\"carpet\"}],\"table\":[{\"cells\":{\"fill\":{\"color\":\"#EBF0F8\"},\"line\":{\"color\":\"white\"}},\"header\":{\"fill\":{\"color\":\"#C8D4E3\"},\"line\":{\"color\":\"white\"}},\"type\":\"table\"}],\"barpolar\":[{\"marker\":{\"line\":{\"color\":\"#E5ECF6\",\"width\":0.5},\"pattern\":{\"fillmode\":\"overlay\",\"size\":10,\"solidity\":0.2}},\"type\":\"barpolar\"}],\"pie\":[{\"automargin\":true,\"type\":\"pie\"}]},\"layout\":{\"autotypenumbers\":\"strict\",\"colorway\":[\"#636efa\",\"#EF553B\",\"#00cc96\",\"#ab63fa\",\"#FFA15A\",\"#19d3f3\",\"#FF6692\",\"#B6E880\",\"#FF97FF\",\"#FECB52\"],\"font\":{\"color\":\"#2a3f5f\"},\"hovermode\":\"closest\",\"hoverlabel\":{\"align\":\"left\"},\"paper_bgcolor\":\"white\",\"plot_bgcolor\":\"#E5ECF6\",\"polar\":{\"bgcolor\":\"#E5ECF6\",\"angularaxis\":{\"gridcolor\":\"white\",\"linecolor\":\"white\",\"ticks\":\"\"},\"radialaxis\":{\"gridcolor\":\"white\",\"linecolor\":\"white\",\"ticks\":\"\"}},\"ternary\":{\"bgcolor\":\"#E5ECF6\",\"aaxis\":{\"gridcolor\":\"white\",\"linecolor\":\"white\",\"ticks\":\"\"},\"baxis\":{\"gridcolor\":\"white\",\"linecolor\":\"white\",\"ticks\":\"\"},\"caxis\":{\"gridcolor\":\"white\",\"linecolor\":\"white\",\"ticks\":\"\"}},\"coloraxis\":{\"colorbar\":{\"outlinewidth\":0,\"ticks\":\"\"}},\"colorscale\":{\"sequential\":[[0.0,\"#0d0887\"],[0.1111111111111111,\"#46039f\"],[0.2222222222222222,\"#7201a8\"],[0.3333333333333333,\"#9c179e\"],[0.4444444444444444,\"#bd3786\"],[0.5555555555555556,\"#d8576b\"],[0.6666666666666666,\"#ed7953\"],[0.7777777777777778,\"#fb9f3a\"],[0.8888888888888888,\"#fdca26\"],[1.0,\"#f0f921\"]],\"sequentialminus\":[[0.0,\"#0d0887\"],[0.1111111111111111,\"#46039f\"],[0.2222222222222222,\"#7201a8\"],[0.3333333333333333,\"#9c179e\"],[0.4444444444444444,\"#bd3786\"],[0.5555555555555556,\"#d8576b\"],[0.6666666666666666,\"#ed7953\"],[0.7777777777777778,\"#fb9f3a\"],[0.8888888888888888,\"#fdca26\"],[1.0,\"#f0f921\"]],\"diverging\":[[0,\"#8e0152\"],[0.1,\"#c51b7d\"],[0.2,\"#de77ae\"],[0.3,\"#f1b6da\"],[0.4,\"#fde0ef\"],[0.5,\"#f7f7f7\"],[0.6,\"#e6f5d0\"],[0.7,\"#b8e186\"],[0.8,\"#7fbc41\"],[0.9,\"#4d9221\"],[1,\"#276419\"]]},\"xaxis\":{\"gridcolor\":\"white\",\"linecolor\":\"white\",\"ticks\":\"\",\"title\":{\"standoff\":15},\"zerolinecolor\":\"white\",\"automargin\":true,\"zerolinewidth\":2},\"yaxis\":{\"gridcolor\":\"white\",\"linecolor\":\"white\",\"ticks\":\"\",\"title\":{\"standoff\":15},\"zerolinecolor\":\"white\",\"automargin\":true,\"zerolinewidth\":2},\"scene\":{\"xaxis\":{\"backgroundcolor\":\"#E5ECF6\",\"gridcolor\":\"white\",\"linecolor\":\"white\",\"showbackground\":true,\"ticks\":\"\",\"zerolinecolor\":\"white\",\"gridwidth\":2},\"yaxis\":{\"backgroundcolor\":\"#E5ECF6\",\"gridcolor\":\"white\",\"linecolor\":\"white\",\"showbackground\":true,\"ticks\":\"\",\"zerolinecolor\":\"white\",\"gridwidth\":2},\"zaxis\":{\"backgroundcolor\":\"#E5ECF6\",\"gridcolor\":\"white\",\"linecolor\":\"white\",\"showbackground\":true,\"ticks\":\"\",\"zerolinecolor\":\"white\",\"gridwidth\":2}},\"shapedefaults\":{\"line\":{\"color\":\"#2a3f5f\"}},\"annotationdefaults\":{\"arrowcolor\":\"#2a3f5f\",\"arrowhead\":0,\"arrowwidth\":1},\"geo\":{\"bgcolor\":\"white\",\"landcolor\":\"#E5ECF6\",\"subunitcolor\":\"white\",\"showland\":true,\"showlakes\":true,\"lakecolor\":\"white\"},\"title\":{\"x\":0.05},\"mapbox\":{\"style\":\"light\"}}},\"xaxis\":{\"anchor\":\"y\",\"domain\":[0.0,1.0],\"title\":{\"text\":\"Tipo de Inmueble\"}},\"yaxis\":{\"anchor\":\"x\",\"domain\":[0.0,1.0],\"title\":{\"text\":\"Precio\"}},\"legend\":{\"tracegroupgap\":0},\"title\":{\"text\":\"Distribuci\\u00f3n de Precios por Tipo de Inmueble\"},\"boxmode\":\"group\",\"height\":600},                        {\"responsive\": true}                    ).then(function(){\n",
              "                            \n",
              "var gd = document.getElementById('c32cb293-cf9d-4359-a5cb-c2804f77bdfe');\n",
              "var x = new MutationObserver(function (mutations, observer) {{\n",
              "        var display = window.getComputedStyle(gd).display;\n",
              "        if (!display || display === 'none') {{\n",
              "            console.log([gd, 'removed!']);\n",
              "            Plotly.purge(gd);\n",
              "            observer.disconnect();\n",
              "        }}\n",
              "}});\n",
              "\n",
              "// Listen for the removal of the full notebook cells\n",
              "var notebookContainer = gd.closest('#notebook-container');\n",
              "if (notebookContainer) {{\n",
              "    x.observe(notebookContainer, {childList: true});\n",
              "}}\n",
              "\n",
              "// Listen for the clearing of the current output cell\n",
              "var outputEl = gd.closest('.output');\n",
              "if (outputEl) {{\n",
              "    x.observe(outputEl, {childList: true});\n",
              "}}\n",
              "\n",
              "                        })                };                            </script>        </div>\n",
              "</body>\n",
              "</html>"
            ]
          },
          "metadata": {}
        },
        {
          "output_type": "display_data",
          "data": {
            "text/html": [
              "<html>\n",
              "<head><meta charset=\"utf-8\" /></head>\n",
              "<body>\n",
              "    <div>            <script src=\"https://cdnjs.cloudflare.com/ajax/libs/mathjax/2.7.5/MathJax.js?config=TeX-AMS-MML_SVG\"></script><script type=\"text/javascript\">if (window.MathJax && window.MathJax.Hub && window.MathJax.Hub.Config) {window.MathJax.Hub.Config({SVG: {font: \"STIX-Web\"}});}</script>                <script type=\"text/javascript\">window.PlotlyConfig = {MathJaxConfig: 'local'};</script>\n",
              "        <script charset=\"utf-8\" src=\"https://cdn.plot.ly/plotly-2.24.1.min.js\"></script>                <div id=\"95970cc8-8478-4153-824e-3df6b12f44da\" class=\"plotly-graph-div\" style=\"height:600px; width:100%;\"></div>            <script type=\"text/javascript\">                                    window.PLOTLYENV=window.PLOTLYENV || {};                                    if (document.getElementById(\"95970cc8-8478-4153-824e-3df6b12f44da\")) {                    Plotly.newPlot(                        \"95970cc8-8478-4153-824e-3df6b12f44da\",                        [{\"alignmentgroup\":\"True\",\"hovertemplate\":\"Estrato=%{x}\\u003cbr\\u003ePrecio=%{y}\\u003cextra\\u003e\\u003c\\u002fextra\\u003e\",\"legendgroup\":\"\",\"marker\":{\"color\":\"#636efa\"},\"name\":\"\",\"notched\":false,\"offsetgroup\":\"\",\"orientation\":\"v\",\"showlegend\":false,\"x\":[\"TRES\",\"COMERCIAL\",\"COMERCIAL\",\"CUATRO\",\"RURAL\",\"TRES\",\"RURAL\",\"COMERCIAL\",\"INDUSTRIAL\",\"SEIS\",\"RURAL\",\"CINCO\",\"CUATRO\",\"DOS\",\"TRES\",\"SEIS\",\"INDUSTRIAL\",\"CINCO\",\"CINCO\",\"INDUSTRIAL\",\"TRES\",\"COMERCIAL\",\"TRES\",\"COMERCIAL\",\"RURAL\",\"RURAL\",\"RURAL\",\"RURAL\",\"RURAL\",\"RURAL\",\"TRES\",\"DOS\",\"CINCO\",\"CUATRO\",\"TRES\",\"TRES\",\"COMERCIAL\",\"RURAL\",\"COMERCIAL\",\"CUATRO\",\"TRES\",\"TRES\",\"CUATRO\",\"DOS\",\"RURAL\",\"RURAL\",\"RURAL\",\"COMERCIAL\",\"COMERCIAL\",\"RURAL\",\"CINCO\",\"UNO\",\"SEIS\",\"RURAL\",\"RURAL\",\"RURAL\",\"CINCO\",\"COMERCIAL\",\"RURAL\",\"UNO\",\"RURAL\",\"SEIS\",\"SEIS\",\"RURAL\",\"SEIS\",\"SEIS\",\"SEIS\",\"SEIS\",\"RURAL\",\"DOS\",\"SEIS\",\"SEIS\",\"SEIS\",\"SEIS\",\"RURAL\",\"CUATRO\",\"TRES\",\"RURAL\",\"CUATRO\",\"DOS\",\"RURAL\",\"COMERCIAL\",\"SEIS\",\"SEIS\",\"RURAL\",\"UNO\",\"RURAL\",\"CUATRO\",\"RURAL\",\"RURAL\",\"RURAL\",\"DOS\",\"DOS\",\"RURAL\",\"UNO\",\"COMERCIAL\",\"DOS\",\"CUATRO\",\"COMERCIAL\",\"RURAL\",\"TRES\",\"COMERCIAL\",\"RURAL\",\"DOS\",\"RURAL\",\"TRES\",\"TRES\",\"DOS\",\"TRES\",\"TRES\",\"TRES\",\"COMERCIAL\",\"RURAL\",\"COMERCIAL\",\"COMERCIAL\",\"DOS\",\"INDUSTRIAL\",\"COMERCIAL\",\"RURAL\",\"TRES\",\"COMERCIAL\",\"COMERCIAL\",\"COMERCIAL\",\"COMERCIAL\",\"RURAL\",\"CINCO\",\"CINCO\",\"COMERCIAL\",\"COMERCIAL\",\"CUATRO\",\"INDUSTRIAL\",\"INDUSTRIAL\",\"COMERCIAL\",\"TRES\",\"DOS\",\"COMERCIAL\",\"COMERCIAL\",\"COMERCIAL\",\"COMERCIAL\",\"COMERCIAL\",\"COMERCIAL\",\"COMERCIAL\",\"COMERCIAL\",\"COMERCIAL\",\"INDUSTRIAL\",\"COMERCIAL\",\"COMERCIAL\",\"COMERCIAL\",\"INDUSTRIAL\",\"COMERCIAL\",\"INDUSTRIAL\",\"COMERCIAL\",\"COMERCIAL\",\"COMERCIAL\",\"COMERCIAL\",\"COMERCIAL\",\"COMERCIAL\",\"COMERCIAL\",\"INDUSTRIAL\",\"COMERCIAL\",\"RURAL\",\"COMERCIAL\",\"CINCO\",\"COMERCIAL\",\"COMERCIAL\",\"COMERCIAL\",\"COMERCIAL\",\"COMERCIAL\",\"CUATRO\",\"COMERCIAL\",\"INDUSTRIAL\",\"COMERCIAL\",\"COMERCIAL\",\"COMERCIAL\",\"COMERCIAL\",\"COMERCIAL\",\"COMERCIAL\",\"INDUSTRIAL\",\"COMERCIAL\",\"COMERCIAL\",\"COMERCIAL\",\"COMERCIAL\",\"COMERCIAL\",\"COMERCIAL\",\"COMERCIAL\",\"COMERCIAL\",\"COMERCIAL\",\"COMERCIAL\",\"COMERCIAL\",\"COMERCIAL\",\"COMERCIAL\",\"COMERCIAL\",\"COMERCIAL\",\"COMERCIAL\",\"COMERCIAL\",\"COMERCIAL\",\"COMERCIAL\",\"COMERCIAL\",\"COMERCIAL\",\"COMERCIAL\",\"COMERCIAL\",\"COMERCIAL\",\"COMERCIAL\",\"COMERCIAL\",\"COMERCIAL\",\"COMERCIAL\",\"COMERCIAL\",\"COMERCIAL\",\"COMERCIAL\",\"COMERCIAL\",\"COMERCIAL\",\"COMERCIAL\",\"COMERCIAL\",\"COMERCIAL\",\"COMERCIAL\",\"COMERCIAL\",\"COMERCIAL\",\"COMERCIAL\",\"COMERCIAL\",\"COMERCIAL\",\"COMERCIAL\",\"COMERCIAL\",\"COMERCIAL\",\"COMERCIAL\",\"COMERCIAL\",\"COMERCIAL\",\"COMERCIAL\",\"COMERCIAL\",\"COMERCIAL\",\"COMERCIAL\",\"COMERCIAL\",\"COMERCIAL\",\"COMERCIAL\",\"COMERCIAL\",\"COMERCIAL\",\"COMERCIAL\",\"UNO\",\"COMERCIAL\",\"COMERCIAL\",\"CUATRO\",\"COMERCIAL\",\"COMERCIAL\",\"COMERCIAL\",\"COMERCIAL\",\"COMERCIAL\",\"COMERCIAL\",\"COMERCIAL\",\"COMERCIAL\",\"COMERCIAL\",\"COMERCIAL\",\"COMERCIAL\",\"COMERCIAL\",\"COMERCIAL\",\"COMERCIAL\",\"COMERCIAL\",\"COMERCIAL\",\"COMERCIAL\",\"COMERCIAL\",\"COMERCIAL\",\"COMERCIAL\",\"COMERCIAL\",\"COMERCIAL\",\"COMERCIAL\",\"COMERCIAL\",\"COMERCIAL\",\"COMERCIAL\",\"COMERCIAL\",\"COMERCIAL\",\"COMERCIAL\",\"COMERCIAL\",\"COMERCIAL\",\"COMERCIAL\",\"COMERCIAL\",\"COMERCIAL\",\"COMERCIAL\",\"COMERCIAL\",\"COMERCIAL\",\"COMERCIAL\",\"COMERCIAL\",\"COMERCIAL\",\"COMERCIAL\",\"COMERCIAL\",\"COMERCIAL\",\"COMERCIAL\",\"COMERCIAL\",\"COMERCIAL\",\"COMERCIAL\",\"COMERCIAL\",\"COMERCIAL\",\"COMERCIAL\",\"COMERCIAL\",\"COMERCIAL\",\"COMERCIAL\",\"COMERCIAL\",\"COMERCIAL\",\"COMERCIAL\",\"COMERCIAL\",\"COMERCIAL\",\"COMERCIAL\",\"COMERCIAL\",\"COMERCIAL\",\"COMERCIAL\",\"COMERCIAL\",\"COMERCIAL\",\"COMERCIAL\",\"COMERCIAL\",\"COMERCIAL\",\"COMERCIAL\",\"COMERCIAL\",\"COMERCIAL\",\"COMERCIAL\",\"COMERCIAL\",\"COMERCIAL\",\"COMERCIAL\",\"COMERCIAL\",\"COMERCIAL\",\"COMERCIAL\",\"COMERCIAL\",\"COMERCIAL\",\"COMERCIAL\",\"COMERCIAL\",\"COMERCIAL\",\"COMERCIAL\",\"COMERCIAL\",\"COMERCIAL\",\"COMERCIAL\",\"COMERCIAL\",\"COMERCIAL\",\"COMERCIAL\",\"COMERCIAL\",\"COMERCIAL\",\"COMERCIAL\",\"COMERCIAL\",\"COMERCIAL\",\"COMERCIAL\",\"COMERCIAL\",\"COMERCIAL\",\"COMERCIAL\",\"COMERCIAL\",\"COMERCIAL\",\"COMERCIAL\",\"COMERCIAL\",\"COMERCIAL\",\"COMERCIAL\",\"COMERCIAL\",\"COMERCIAL\",\"COMERCIAL\",\"COMERCIAL\",\"COMERCIAL\",\"COMERCIAL\",\"COMERCIAL\",\"COMERCIAL\",\"COMERCIAL\",\"COMERCIAL\",\"COMERCIAL\",\"COMERCIAL\",\"UNO\",\"UNO\",\"UNO\",\"COMERCIAL\",\"COMERCIAL\",\"COMERCIAL\",\"COMERCIAL\",\"COMERCIAL\",\"COMERCIAL\",\"UNO\",\"UNO\",\"UNO\",\"UNO\",\"UNO\",\"UNO\",\"UNO\",\"INDUSTRIAL\",\"INDUSTRIAL\",\"COMERCIAL\",\"UNO\",\"UNO\",\"UNO\",\"UNO\",\"UNO\",\"UNO\",\"INDUSTRIAL\",\"COMERCIAL\",\"COMERCIAL\",\"INDUSTRIAL\",\"COMERCIAL\",\"COMERCIAL\",\"COMERCIAL\",\"COMERCIAL\",\"COMERCIAL\",\"COMERCIAL\",\"COMERCIAL\",\"COMERCIAL\",\"COMERCIAL\",\"COMERCIAL\",\"COMERCIAL\",\"COMERCIAL\",\"COMERCIAL\",\"COMERCIAL\",\"COMERCIAL\",\"COMERCIAL\",\"COMERCIAL\",\"COMERCIAL\",\"COMERCIAL\",\"COMERCIAL\",\"COMERCIAL\",\"COMERCIAL\",\"COMERCIAL\",\"COMERCIAL\",\"COMERCIAL\",\"COMERCIAL\",\"COMERCIAL\",\"COMERCIAL\",\"COMERCIAL\",\"COMERCIAL\",\"COMERCIAL\",\"CINCO\",\"COMERCIAL\",\"COMERCIAL\",\"COMERCIAL\",\"COMERCIAL\",\"COMERCIAL\",\"COMERCIAL\",\"COMERCIAL\",\"COMERCIAL\",\"COMERCIAL\",\"COMERCIAL\",\"COMERCIAL\",\"COMERCIAL\",\"COMERCIAL\",\"COMERCIAL\",\"COMERCIAL\",\"COMERCIAL\",\"COMERCIAL\",\"COMERCIAL\",\"COMERCIAL\",\"COMERCIAL\",\"COMERCIAL\",\"COMERCIAL\",\"COMERCIAL\",\"COMERCIAL\",\"COMERCIAL\",\"COMERCIAL\",\"COMERCIAL\",\"COMERCIAL\",\"COMERCIAL\",\"COMERCIAL\",\"CUATRO\",\"DOS\",\"COMERCIAL\",\"COMERCIAL\",\"DOS\",\"RURAL\",\"DOS\",\"RURAL\",\"RURAL\",\"CUATRO\",\"DOS\",\"CUATRO\",\"CUATRO\",\"CUATRO\",\"CUATRO\",\"CUATRO\"],\"x0\":\" \",\"xaxis\":\"x\",\"y\":[29580811900.0,16460591500.0,16460591500.0,13768280900.0,45233789820.0,4190155021.0,3109306614.0,10407336173.0,2100890600.0,2042687988.0,2041211340.0,1946238900.0,1935725000.0,1802514500.0,2558936000.0,1190905320.0,1169682630.0,1040013730.0,4747362800.0,25416536260.0,866644750.0,784336820.0,713410050.0,697548450.0,693405250.0,4527473614.0,616860411.0,610203893.0,591399414.0,589300353.0,552796000.0,550361250.0,535670500.0,514454000.0,513681000.0,503871960.0,19522132996.0,5171323500.0,466226810.0,454689116.4,453180000.0,447827419.0,1448241600.0,730379000.0,404780000.0,392665000.0,389433000.0,682988850.0,691426800.0,3027404897.0,268847500.0,268574800.0,428457000.0,264330000.0,2704524600.0,2700092084.0,253872000.0,837590790.0,230611914.0,228904300.0,2406650268.0,222132480.0,222132480.0,214110000.0,213205760.0,213205760.0,213205760.0,213205760.0,2237659000.0,187458000.0,186144000.0,186144000.0,186144000.0,186144000.0,185848000.0,182340000.0,178310000.0,178106700.0,168826320.0,167418000.0,1754039040.0,3535117700.0,159019520.0,159019520.0,145587375.0,144636000.0,1416213286.0,130099200.0,1101246490.0,552000000.0,100645710.0,100138200.0,99324000.0,1042886694.0,98360090.0,93776684.08,83179100.0,80844118.53,77202090.0,810975010.0,72976720.0,67320232.56,66820196.0,66744770.0,10683777981.0,131355000.0,125370000.0,53401590.0,50600000.0,3336090000.0,42570000.0,40468000.0,38149440.0,37509500.0,36039500.0,34015370.0,1764406000.0,31335500.0,31062880.0,30368800.0,29596000.0,29596000.0,29596000.0,29596000.0,29407403.52,29185200.0,28981920.0,28959000.0,84262517.5,28427892.82,1504512000.0,1452272000.0,27034500.0,26924299.0,1092904000.0,26130000.0,25896500.0,25406500.0,25093000.0,159924173.1,24012000.0,23920000.0,23920000.0,23920000.0,1262902000.0,23517000.0,23517000.0,23517000.0,1247230000.0,23250500.0,1223722000.0,1221390000.0,22295000.0,21708000.0,21708000.0,21708000.0,21316750.0,21168000.0,1115324000.0,20874000.0,20381660.0,20310500.0,3931747250.0,19918500.0,19832000.0,19596000.0,19067000.0,19067000.0,19062435.15,18446000.0,970358000.0,18252500.0,18228000.0,18203500.0,18007500.0,17566500.0,17566500.0,925954000.0,17419500.0,17419500.0,17223500.0,17199000.0,17199000.0,17199000.0,17199000.0,17199000.0,17150000.0,17120000.0,110257063.9,16997000.0,16997000.0,16537000.0,16491000.0,16415000.0,16169000.0,16169000.0,16169000.0,16169000.0,16169000.0,16169000.0,16169000.0,16169000.0,16169000.0,16169000.0,16169000.0,16169000.0,16169000.0,16169000.0,16169000.0,16169000.0,16169000.0,16169000.0,16169000.0,16169000.0,1589428800.0,15974000.0,15870000.0,15870000.0,15870000.0,15870000.0,15870000.0,15870000.0,15870000.0,15870000.0,15870000.0,15870000.0,15870000.0,15870000.0,15870000.0,15870000.0,15870000.0,15870000.0,15870000.0,15732000.0,15709000.0,15680000.0,15348020.0,15043000.0,14904000.0,14488072.83,14357000.0,14099000.0,13989500.0,13846000.0,13455000.0,13455000.0,13440000.0,13386000.0,13386000.0,13386000.0,13386000.0,13386000.0,13386000.0,13386000.0,13386000.0,13107500.0,13107500.0,13009500.0,13009500.0,12936000.0,12857000.0,12857000.0,12857000.0,12696000.0,12466000.0,12416000.0,12305000.0,12305000.0,12305000.0,12305000.0,12305000.0,12305000.0,12305000.0,12305000.0,12305000.0,12305000.0,12305000.0,12305000.0,12305000.0,12305000.0,12305000.0,12305000.0,12305000.0,12305000.0,12305000.0,12305000.0,12305000.0,12305000.0,12305000.0,12305000.0,12305000.0,12305000.0,12305000.0,12305000.0,12305000.0,12305000.0,12305000.0,12305000.0,12305000.0,12305000.0,12305000.0,12305000.0,12305000.0,12305000.0,12305000.0,12305000.0,12305000.0,12305000.0,12305000.0,12305000.0,12305000.0,12305000.0,12305000.0,12305000.0,12305000.0,12305000.0,12305000.0,12305000.0,12305000.0,12305000.0,12305000.0,12305000.0,12305000.0,12305000.0,12305000.0,12305000.0,12305000.0,12305000.0,12305000.0,12305000.0,12305000.0,12305000.0,12305000.0,12305000.0,12305000.0,12305000.0,12305000.0,12305000.0,12305000.0,12305000.0,12305000.0,12305000.0,12305000.0,12305000.0,12305000.0,12305000.0,12305000.0,12305000.0,12305000.0,12305000.0,12305000.0,12305000.0,12305000.0,12305000.0,12305000.0,12305000.0,12240000.0,12240000.0,12240000.0,12171250.0,11680000.0,11680000.0,11680000.0,11680000.0,11680000.0,11232000.0,11232000.0,11232000.0,11232000.0,11232000.0,11232000.0,11232000.0,569416000.0,564192000.0,10284500.0,10152000.0,10152000.0,10152000.0,10152000.0,10152000.0,10152000.0,536766000.0,9800000.0,9800000.0,518482000.0,8624000.0,8379000.0,552738798.5,7350000.0,7350000.0,7350000.0,7350000.0,7350000.0,7350000.0,7350000.0,7350000.0,7350000.0,7350000.0,7350000.0,7350000.0,7350000.0,7350000.0,7350000.0,7350000.0,7350000.0,7350000.0,7350000.0,7350000.0,7350000.0,7350000.0,7350000.0,7350000.0,7350000.0,7350000.0,7350000.0,7350000.0,7350000.0,7350000.0,7350000.0,7350000.0,7350000.0,7350000.0,7350000.0,7350000.0,7350000.0,7350000.0,7350000.0,7350000.0,7350000.0,7350000.0,7350000.0,7350000.0,7350000.0,7350000.0,7350000.0,7350000.0,7350000.0,7350000.0,7350000.0,7350000.0,7350000.0,7350000.0,7350000.0,7350000.0,7350000.0,7350000.0,7350000.0,7152000.0,377434000.0,6884500.0,6835500.0,6832720.0,1667784060.0,6333900.0,49168000.0,4650000.0,282520862.6,24000000.0,29605338.62,1448241600.0,20701337.03,20608003.68,20608003.68],\"y0\":\" \",\"yaxis\":\"y\",\"type\":\"box\"}],                        {\"template\":{\"data\":{\"histogram2dcontour\":[{\"type\":\"histogram2dcontour\",\"colorbar\":{\"outlinewidth\":0,\"ticks\":\"\"},\"colorscale\":[[0.0,\"#0d0887\"],[0.1111111111111111,\"#46039f\"],[0.2222222222222222,\"#7201a8\"],[0.3333333333333333,\"#9c179e\"],[0.4444444444444444,\"#bd3786\"],[0.5555555555555556,\"#d8576b\"],[0.6666666666666666,\"#ed7953\"],[0.7777777777777778,\"#fb9f3a\"],[0.8888888888888888,\"#fdca26\"],[1.0,\"#f0f921\"]]}],\"choropleth\":[{\"type\":\"choropleth\",\"colorbar\":{\"outlinewidth\":0,\"ticks\":\"\"}}],\"histogram2d\":[{\"type\":\"histogram2d\",\"colorbar\":{\"outlinewidth\":0,\"ticks\":\"\"},\"colorscale\":[[0.0,\"#0d0887\"],[0.1111111111111111,\"#46039f\"],[0.2222222222222222,\"#7201a8\"],[0.3333333333333333,\"#9c179e\"],[0.4444444444444444,\"#bd3786\"],[0.5555555555555556,\"#d8576b\"],[0.6666666666666666,\"#ed7953\"],[0.7777777777777778,\"#fb9f3a\"],[0.8888888888888888,\"#fdca26\"],[1.0,\"#f0f921\"]]}],\"heatmap\":[{\"type\":\"heatmap\",\"colorbar\":{\"outlinewidth\":0,\"ticks\":\"\"},\"colorscale\":[[0.0,\"#0d0887\"],[0.1111111111111111,\"#46039f\"],[0.2222222222222222,\"#7201a8\"],[0.3333333333333333,\"#9c179e\"],[0.4444444444444444,\"#bd3786\"],[0.5555555555555556,\"#d8576b\"],[0.6666666666666666,\"#ed7953\"],[0.7777777777777778,\"#fb9f3a\"],[0.8888888888888888,\"#fdca26\"],[1.0,\"#f0f921\"]]}],\"heatmapgl\":[{\"type\":\"heatmapgl\",\"colorbar\":{\"outlinewidth\":0,\"ticks\":\"\"},\"colorscale\":[[0.0,\"#0d0887\"],[0.1111111111111111,\"#46039f\"],[0.2222222222222222,\"#7201a8\"],[0.3333333333333333,\"#9c179e\"],[0.4444444444444444,\"#bd3786\"],[0.5555555555555556,\"#d8576b\"],[0.6666666666666666,\"#ed7953\"],[0.7777777777777778,\"#fb9f3a\"],[0.8888888888888888,\"#fdca26\"],[1.0,\"#f0f921\"]]}],\"contourcarpet\":[{\"type\":\"contourcarpet\",\"colorbar\":{\"outlinewidth\":0,\"ticks\":\"\"}}],\"contour\":[{\"type\":\"contour\",\"colorbar\":{\"outlinewidth\":0,\"ticks\":\"\"},\"colorscale\":[[0.0,\"#0d0887\"],[0.1111111111111111,\"#46039f\"],[0.2222222222222222,\"#7201a8\"],[0.3333333333333333,\"#9c179e\"],[0.4444444444444444,\"#bd3786\"],[0.5555555555555556,\"#d8576b\"],[0.6666666666666666,\"#ed7953\"],[0.7777777777777778,\"#fb9f3a\"],[0.8888888888888888,\"#fdca26\"],[1.0,\"#f0f921\"]]}],\"surface\":[{\"type\":\"surface\",\"colorbar\":{\"outlinewidth\":0,\"ticks\":\"\"},\"colorscale\":[[0.0,\"#0d0887\"],[0.1111111111111111,\"#46039f\"],[0.2222222222222222,\"#7201a8\"],[0.3333333333333333,\"#9c179e\"],[0.4444444444444444,\"#bd3786\"],[0.5555555555555556,\"#d8576b\"],[0.6666666666666666,\"#ed7953\"],[0.7777777777777778,\"#fb9f3a\"],[0.8888888888888888,\"#fdca26\"],[1.0,\"#f0f921\"]]}],\"mesh3d\":[{\"type\":\"mesh3d\",\"colorbar\":{\"outlinewidth\":0,\"ticks\":\"\"}}],\"scatter\":[{\"fillpattern\":{\"fillmode\":\"overlay\",\"size\":10,\"solidity\":0.2},\"type\":\"scatter\"}],\"parcoords\":[{\"type\":\"parcoords\",\"line\":{\"colorbar\":{\"outlinewidth\":0,\"ticks\":\"\"}}}],\"scatterpolargl\":[{\"type\":\"scatterpolargl\",\"marker\":{\"colorbar\":{\"outlinewidth\":0,\"ticks\":\"\"}}}],\"bar\":[{\"error_x\":{\"color\":\"#2a3f5f\"},\"error_y\":{\"color\":\"#2a3f5f\"},\"marker\":{\"line\":{\"color\":\"#E5ECF6\",\"width\":0.5},\"pattern\":{\"fillmode\":\"overlay\",\"size\":10,\"solidity\":0.2}},\"type\":\"bar\"}],\"scattergeo\":[{\"type\":\"scattergeo\",\"marker\":{\"colorbar\":{\"outlinewidth\":0,\"ticks\":\"\"}}}],\"scatterpolar\":[{\"type\":\"scatterpolar\",\"marker\":{\"colorbar\":{\"outlinewidth\":0,\"ticks\":\"\"}}}],\"histogram\":[{\"marker\":{\"pattern\":{\"fillmode\":\"overlay\",\"size\":10,\"solidity\":0.2}},\"type\":\"histogram\"}],\"scattergl\":[{\"type\":\"scattergl\",\"marker\":{\"colorbar\":{\"outlinewidth\":0,\"ticks\":\"\"}}}],\"scatter3d\":[{\"type\":\"scatter3d\",\"line\":{\"colorbar\":{\"outlinewidth\":0,\"ticks\":\"\"}},\"marker\":{\"colorbar\":{\"outlinewidth\":0,\"ticks\":\"\"}}}],\"scattermapbox\":[{\"type\":\"scattermapbox\",\"marker\":{\"colorbar\":{\"outlinewidth\":0,\"ticks\":\"\"}}}],\"scatterternary\":[{\"type\":\"scatterternary\",\"marker\":{\"colorbar\":{\"outlinewidth\":0,\"ticks\":\"\"}}}],\"scattercarpet\":[{\"type\":\"scattercarpet\",\"marker\":{\"colorbar\":{\"outlinewidth\":0,\"ticks\":\"\"}}}],\"carpet\":[{\"aaxis\":{\"endlinecolor\":\"#2a3f5f\",\"gridcolor\":\"white\",\"linecolor\":\"white\",\"minorgridcolor\":\"white\",\"startlinecolor\":\"#2a3f5f\"},\"baxis\":{\"endlinecolor\":\"#2a3f5f\",\"gridcolor\":\"white\",\"linecolor\":\"white\",\"minorgridcolor\":\"white\",\"startlinecolor\":\"#2a3f5f\"},\"type\":\"carpet\"}],\"table\":[{\"cells\":{\"fill\":{\"color\":\"#EBF0F8\"},\"line\":{\"color\":\"white\"}},\"header\":{\"fill\":{\"color\":\"#C8D4E3\"},\"line\":{\"color\":\"white\"}},\"type\":\"table\"}],\"barpolar\":[{\"marker\":{\"line\":{\"color\":\"#E5ECF6\",\"width\":0.5},\"pattern\":{\"fillmode\":\"overlay\",\"size\":10,\"solidity\":0.2}},\"type\":\"barpolar\"}],\"pie\":[{\"automargin\":true,\"type\":\"pie\"}]},\"layout\":{\"autotypenumbers\":\"strict\",\"colorway\":[\"#636efa\",\"#EF553B\",\"#00cc96\",\"#ab63fa\",\"#FFA15A\",\"#19d3f3\",\"#FF6692\",\"#B6E880\",\"#FF97FF\",\"#FECB52\"],\"font\":{\"color\":\"#2a3f5f\"},\"hovermode\":\"closest\",\"hoverlabel\":{\"align\":\"left\"},\"paper_bgcolor\":\"white\",\"plot_bgcolor\":\"#E5ECF6\",\"polar\":{\"bgcolor\":\"#E5ECF6\",\"angularaxis\":{\"gridcolor\":\"white\",\"linecolor\":\"white\",\"ticks\":\"\"},\"radialaxis\":{\"gridcolor\":\"white\",\"linecolor\":\"white\",\"ticks\":\"\"}},\"ternary\":{\"bgcolor\":\"#E5ECF6\",\"aaxis\":{\"gridcolor\":\"white\",\"linecolor\":\"white\",\"ticks\":\"\"},\"baxis\":{\"gridcolor\":\"white\",\"linecolor\":\"white\",\"ticks\":\"\"},\"caxis\":{\"gridcolor\":\"white\",\"linecolor\":\"white\",\"ticks\":\"\"}},\"coloraxis\":{\"colorbar\":{\"outlinewidth\":0,\"ticks\":\"\"}},\"colorscale\":{\"sequential\":[[0.0,\"#0d0887\"],[0.1111111111111111,\"#46039f\"],[0.2222222222222222,\"#7201a8\"],[0.3333333333333333,\"#9c179e\"],[0.4444444444444444,\"#bd3786\"],[0.5555555555555556,\"#d8576b\"],[0.6666666666666666,\"#ed7953\"],[0.7777777777777778,\"#fb9f3a\"],[0.8888888888888888,\"#fdca26\"],[1.0,\"#f0f921\"]],\"sequentialminus\":[[0.0,\"#0d0887\"],[0.1111111111111111,\"#46039f\"],[0.2222222222222222,\"#7201a8\"],[0.3333333333333333,\"#9c179e\"],[0.4444444444444444,\"#bd3786\"],[0.5555555555555556,\"#d8576b\"],[0.6666666666666666,\"#ed7953\"],[0.7777777777777778,\"#fb9f3a\"],[0.8888888888888888,\"#fdca26\"],[1.0,\"#f0f921\"]],\"diverging\":[[0,\"#8e0152\"],[0.1,\"#c51b7d\"],[0.2,\"#de77ae\"],[0.3,\"#f1b6da\"],[0.4,\"#fde0ef\"],[0.5,\"#f7f7f7\"],[0.6,\"#e6f5d0\"],[0.7,\"#b8e186\"],[0.8,\"#7fbc41\"],[0.9,\"#4d9221\"],[1,\"#276419\"]]},\"xaxis\":{\"gridcolor\":\"white\",\"linecolor\":\"white\",\"ticks\":\"\",\"title\":{\"standoff\":15},\"zerolinecolor\":\"white\",\"automargin\":true,\"zerolinewidth\":2},\"yaxis\":{\"gridcolor\":\"white\",\"linecolor\":\"white\",\"ticks\":\"\",\"title\":{\"standoff\":15},\"zerolinecolor\":\"white\",\"automargin\":true,\"zerolinewidth\":2},\"scene\":{\"xaxis\":{\"backgroundcolor\":\"#E5ECF6\",\"gridcolor\":\"white\",\"linecolor\":\"white\",\"showbackground\":true,\"ticks\":\"\",\"zerolinecolor\":\"white\",\"gridwidth\":2},\"yaxis\":{\"backgroundcolor\":\"#E5ECF6\",\"gridcolor\":\"white\",\"linecolor\":\"white\",\"showbackground\":true,\"ticks\":\"\",\"zerolinecolor\":\"white\",\"gridwidth\":2},\"zaxis\":{\"backgroundcolor\":\"#E5ECF6\",\"gridcolor\":\"white\",\"linecolor\":\"white\",\"showbackground\":true,\"ticks\":\"\",\"zerolinecolor\":\"white\",\"gridwidth\":2}},\"shapedefaults\":{\"line\":{\"color\":\"#2a3f5f\"}},\"annotationdefaults\":{\"arrowcolor\":\"#2a3f5f\",\"arrowhead\":0,\"arrowwidth\":1},\"geo\":{\"bgcolor\":\"white\",\"landcolor\":\"#E5ECF6\",\"subunitcolor\":\"white\",\"showland\":true,\"showlakes\":true,\"lakecolor\":\"white\"},\"title\":{\"x\":0.05},\"mapbox\":{\"style\":\"light\"}}},\"xaxis\":{\"anchor\":\"y\",\"domain\":[0.0,1.0],\"title\":{\"text\":\"Estrato\"}},\"yaxis\":{\"anchor\":\"x\",\"domain\":[0.0,1.0],\"title\":{\"text\":\"Precio\"}},\"legend\":{\"tracegroupgap\":0},\"title\":{\"text\":\"Distribuci\\u00f3n de Precios por Estrato\"},\"boxmode\":\"group\",\"height\":600},                        {\"responsive\": true}                    ).then(function(){\n",
              "                            \n",
              "var gd = document.getElementById('95970cc8-8478-4153-824e-3df6b12f44da');\n",
              "var x = new MutationObserver(function (mutations, observer) {{\n",
              "        var display = window.getComputedStyle(gd).display;\n",
              "        if (!display || display === 'none') {{\n",
              "            console.log([gd, 'removed!']);\n",
              "            Plotly.purge(gd);\n",
              "            observer.disconnect();\n",
              "        }}\n",
              "}});\n",
              "\n",
              "// Listen for the removal of the full notebook cells\n",
              "var notebookContainer = gd.closest('#notebook-container');\n",
              "if (notebookContainer) {{\n",
              "    x.observe(notebookContainer, {childList: true});\n",
              "}}\n",
              "\n",
              "// Listen for the clearing of the current output cell\n",
              "var outputEl = gd.closest('.output');\n",
              "if (outputEl) {{\n",
              "    x.observe(outputEl, {childList: true});\n",
              "}}\n",
              "\n",
              "                        })                };                            </script>        </div>\n",
              "</body>\n",
              "</html>"
            ]
          },
          "metadata": {}
        }
      ]
    },
    {
      "cell_type": "code",
      "source": [
        "# Visualización de Número de Inmuebles por Ciudad, Número de Inmuebles por Tipo de Inmueble\n",
        "# Contar el número de inmuebles por ciudad\n",
        "inmuebles_por_ciudad = df['Ciudad'].value_counts().reset_index()\n",
        "inmuebles_por_ciudad.columns = ['Ciudad', 'Número de Inmuebles']\n",
        "\n",
        "# Contar el número de inmuebles por tipo de inmueble\n",
        "inmuebles_por_tipo = df['Tipo de Inmueble'].value_counts().reset_index()\n",
        "inmuebles_por_tipo.columns = ['Tipo de Inmueble', 'Número de Inmuebles']\n",
        "\n",
        "# Crear subplots\n",
        "fig = sp.make_subplots(rows=1, cols=2, subplot_titles=('Número de Inmuebles por Ciudad', 'Número de Inmuebles por Tipo'))\n",
        "\n",
        "# Gráfico de barras para el número de inmuebles por ciudad\n",
        "fig.add_trace(\n",
        "    go.Bar(x=inmuebles_por_ciudad['Ciudad'], y=inmuebles_por_ciudad['Número de Inmuebles'], name='Inmuebles por Ciudad'),\n",
        "    row=1, col=1\n",
        ")\n",
        "\n",
        "# Gráfico de barras para el número de inmuebles por tipo de inmueble\n",
        "fig.add_trace(\n",
        "    go.Bar(x=inmuebles_por_tipo['Tipo de Inmueble'], y=inmuebles_por_tipo['Número de Inmuebles'], name='Inmuebles por Tipo de Inmueble'),\n",
        "    row=1, col=2\n",
        ")\n",
        "\n",
        "# Actualizar diseño\n",
        "fig.update_layout(\n",
        "    title_text='Distribución de Inmuebles por Ciudad y por Tipo',\n",
        "    height=600,\n",
        "    width=1200,\n",
        "    xaxis_title='Ciudad',\n",
        "    yaxis_title='Número de Inmuebles',\n",
        "    xaxis2_title='Tipo de Inmueble',\n",
        "    yaxis2_title='Número de Inmuebles',\n",
        "    showlegend=False,\n",
        "    xaxis=dict(tickangle=-45),  # Rotar etiquetas del eje x para mejor visualización\n",
        "    xaxis2=dict(tickangle=-45)  # Rotar etiquetas del eje x para mejor visualización\n",
        ")\n",
        "\n",
        "# Mostrar los gráficoS\n",
        "fig.show()"
      ],
      "metadata": {
        "colab": {
          "base_uri": "https://localhost:8080/",
          "height": 637
        },
        "id": "dugJfSDG9BsR",
        "outputId": "fab978d8-a01b-453b-8f43-6474d6686737"
      },
      "execution_count": 12,
      "outputs": [
        {
          "output_type": "display_data",
          "data": {
            "text/html": [
              "<html>\n",
              "<head><meta charset=\"utf-8\" /></head>\n",
              "<body>\n",
              "    <div>            <script src=\"https://cdnjs.cloudflare.com/ajax/libs/mathjax/2.7.5/MathJax.js?config=TeX-AMS-MML_SVG\"></script><script type=\"text/javascript\">if (window.MathJax && window.MathJax.Hub && window.MathJax.Hub.Config) {window.MathJax.Hub.Config({SVG: {font: \"STIX-Web\"}});}</script>                <script type=\"text/javascript\">window.PlotlyConfig = {MathJaxConfig: 'local'};</script>\n",
              "        <script charset=\"utf-8\" src=\"https://cdn.plot.ly/plotly-2.24.1.min.js\"></script>                <div id=\"b142e54b-8072-412f-963b-1a858af825f4\" class=\"plotly-graph-div\" style=\"height:600px; width:1200px;\"></div>            <script type=\"text/javascript\">                                    window.PLOTLYENV=window.PLOTLYENV || {};                                    if (document.getElementById(\"b142e54b-8072-412f-963b-1a858af825f4\")) {                    Plotly.newPlot(                        \"b142e54b-8072-412f-963b-1a858af825f4\",                        [{\"name\":\"Inmuebles por Ciudad\",\"x\":[\"VILLAVICENCIO\",\"BOGOTA\",\"CARTAGENA\",\"BARRANQUILLA\",\"PACORA\",\"PEREIRA\",\"CALI\",\"CALIMA EL DARIEN\",\"TARAZA\",\"MEDELLIN\",\"MONTERIA\",\"PUERTO BOYACA\",\"VALENCIA\",\"MANIZALES\",\"GIRARDOT\",\"ACANDI\",\"SANTANDER DE QUILICHAO\",\"BUCARAMANGA\",\"SONSON\",\"SAN MARTIN\",\"EL ROSAL\",\"BUENAVENTURA\",\"SANMIGUEL\",\"TIERRALTA\",\"LA CALERA\",\"TULUA\",\"BUGA\",\"PIEDECUESTA\",\"ENVIGADO\",\"NORCASIA\",\"SOATA\",\"BUENAVISTA\",\"PUERTO LOPEZ\",\"EL PLAYON\",\"SOGAMOSO\",\"LA DORADA\",\"TURBO\",\"CAUCASIA\",\"LA CEJA\",\"RICAURTE\",\"CHIA\",\"FUNZA\",\"MARSELLA\"],\"y\":[290,23,18,17,16,14,10,10,10,6,5,4,3,3,2,2,2,2,2,1,1,1,1,1,1,1,1,1,1,1,1,1,1,1,1,1,1,1,1,1,1,1,1],\"type\":\"bar\",\"xaxis\":\"x\",\"yaxis\":\"y\"},{\"name\":\"Inmuebles por Tipo de Inmueble\",\"x\":[\"LOCAL\",\"LOTE VIVIENDA\",\"BODEGA\",\"OFICINA\",\"CASA\",\"LOTE CON CONSTRUCCION\",\"FINCA\",\"APARTAMENTO\",\"EDIFICIO\",\"LOTE MIXTO\",\"LOTE\",\"CLINICA\",\"GARAJE\",\"LOTE INDUSTRIAL\",\"DEPOSITO\",\"LOTE COMERCIAL\",\"EDIFICIO OFICINAS\",\"HOTEL\",\"LOTE AGRICOLA\"],\"y\":[305,48,23,17,17,15,10,7,4,3,3,2,2,2,1,1,1,1,1],\"type\":\"bar\",\"xaxis\":\"x2\",\"yaxis\":\"y2\"}],                        {\"template\":{\"data\":{\"histogram2dcontour\":[{\"type\":\"histogram2dcontour\",\"colorbar\":{\"outlinewidth\":0,\"ticks\":\"\"},\"colorscale\":[[0.0,\"#0d0887\"],[0.1111111111111111,\"#46039f\"],[0.2222222222222222,\"#7201a8\"],[0.3333333333333333,\"#9c179e\"],[0.4444444444444444,\"#bd3786\"],[0.5555555555555556,\"#d8576b\"],[0.6666666666666666,\"#ed7953\"],[0.7777777777777778,\"#fb9f3a\"],[0.8888888888888888,\"#fdca26\"],[1.0,\"#f0f921\"]]}],\"choropleth\":[{\"type\":\"choropleth\",\"colorbar\":{\"outlinewidth\":0,\"ticks\":\"\"}}],\"histogram2d\":[{\"type\":\"histogram2d\",\"colorbar\":{\"outlinewidth\":0,\"ticks\":\"\"},\"colorscale\":[[0.0,\"#0d0887\"],[0.1111111111111111,\"#46039f\"],[0.2222222222222222,\"#7201a8\"],[0.3333333333333333,\"#9c179e\"],[0.4444444444444444,\"#bd3786\"],[0.5555555555555556,\"#d8576b\"],[0.6666666666666666,\"#ed7953\"],[0.7777777777777778,\"#fb9f3a\"],[0.8888888888888888,\"#fdca26\"],[1.0,\"#f0f921\"]]}],\"heatmap\":[{\"type\":\"heatmap\",\"colorbar\":{\"outlinewidth\":0,\"ticks\":\"\"},\"colorscale\":[[0.0,\"#0d0887\"],[0.1111111111111111,\"#46039f\"],[0.2222222222222222,\"#7201a8\"],[0.3333333333333333,\"#9c179e\"],[0.4444444444444444,\"#bd3786\"],[0.5555555555555556,\"#d8576b\"],[0.6666666666666666,\"#ed7953\"],[0.7777777777777778,\"#fb9f3a\"],[0.8888888888888888,\"#fdca26\"],[1.0,\"#f0f921\"]]}],\"heatmapgl\":[{\"type\":\"heatmapgl\",\"colorbar\":{\"outlinewidth\":0,\"ticks\":\"\"},\"colorscale\":[[0.0,\"#0d0887\"],[0.1111111111111111,\"#46039f\"],[0.2222222222222222,\"#7201a8\"],[0.3333333333333333,\"#9c179e\"],[0.4444444444444444,\"#bd3786\"],[0.5555555555555556,\"#d8576b\"],[0.6666666666666666,\"#ed7953\"],[0.7777777777777778,\"#fb9f3a\"],[0.8888888888888888,\"#fdca26\"],[1.0,\"#f0f921\"]]}],\"contourcarpet\":[{\"type\":\"contourcarpet\",\"colorbar\":{\"outlinewidth\":0,\"ticks\":\"\"}}],\"contour\":[{\"type\":\"contour\",\"colorbar\":{\"outlinewidth\":0,\"ticks\":\"\"},\"colorscale\":[[0.0,\"#0d0887\"],[0.1111111111111111,\"#46039f\"],[0.2222222222222222,\"#7201a8\"],[0.3333333333333333,\"#9c179e\"],[0.4444444444444444,\"#bd3786\"],[0.5555555555555556,\"#d8576b\"],[0.6666666666666666,\"#ed7953\"],[0.7777777777777778,\"#fb9f3a\"],[0.8888888888888888,\"#fdca26\"],[1.0,\"#f0f921\"]]}],\"surface\":[{\"type\":\"surface\",\"colorbar\":{\"outlinewidth\":0,\"ticks\":\"\"},\"colorscale\":[[0.0,\"#0d0887\"],[0.1111111111111111,\"#46039f\"],[0.2222222222222222,\"#7201a8\"],[0.3333333333333333,\"#9c179e\"],[0.4444444444444444,\"#bd3786\"],[0.5555555555555556,\"#d8576b\"],[0.6666666666666666,\"#ed7953\"],[0.7777777777777778,\"#fb9f3a\"],[0.8888888888888888,\"#fdca26\"],[1.0,\"#f0f921\"]]}],\"mesh3d\":[{\"type\":\"mesh3d\",\"colorbar\":{\"outlinewidth\":0,\"ticks\":\"\"}}],\"scatter\":[{\"fillpattern\":{\"fillmode\":\"overlay\",\"size\":10,\"solidity\":0.2},\"type\":\"scatter\"}],\"parcoords\":[{\"type\":\"parcoords\",\"line\":{\"colorbar\":{\"outlinewidth\":0,\"ticks\":\"\"}}}],\"scatterpolargl\":[{\"type\":\"scatterpolargl\",\"marker\":{\"colorbar\":{\"outlinewidth\":0,\"ticks\":\"\"}}}],\"bar\":[{\"error_x\":{\"color\":\"#2a3f5f\"},\"error_y\":{\"color\":\"#2a3f5f\"},\"marker\":{\"line\":{\"color\":\"#E5ECF6\",\"width\":0.5},\"pattern\":{\"fillmode\":\"overlay\",\"size\":10,\"solidity\":0.2}},\"type\":\"bar\"}],\"scattergeo\":[{\"type\":\"scattergeo\",\"marker\":{\"colorbar\":{\"outlinewidth\":0,\"ticks\":\"\"}}}],\"scatterpolar\":[{\"type\":\"scatterpolar\",\"marker\":{\"colorbar\":{\"outlinewidth\":0,\"ticks\":\"\"}}}],\"histogram\":[{\"marker\":{\"pattern\":{\"fillmode\":\"overlay\",\"size\":10,\"solidity\":0.2}},\"type\":\"histogram\"}],\"scattergl\":[{\"type\":\"scattergl\",\"marker\":{\"colorbar\":{\"outlinewidth\":0,\"ticks\":\"\"}}}],\"scatter3d\":[{\"type\":\"scatter3d\",\"line\":{\"colorbar\":{\"outlinewidth\":0,\"ticks\":\"\"}},\"marker\":{\"colorbar\":{\"outlinewidth\":0,\"ticks\":\"\"}}}],\"scattermapbox\":[{\"type\":\"scattermapbox\",\"marker\":{\"colorbar\":{\"outlinewidth\":0,\"ticks\":\"\"}}}],\"scatterternary\":[{\"type\":\"scatterternary\",\"marker\":{\"colorbar\":{\"outlinewidth\":0,\"ticks\":\"\"}}}],\"scattercarpet\":[{\"type\":\"scattercarpet\",\"marker\":{\"colorbar\":{\"outlinewidth\":0,\"ticks\":\"\"}}}],\"carpet\":[{\"aaxis\":{\"endlinecolor\":\"#2a3f5f\",\"gridcolor\":\"white\",\"linecolor\":\"white\",\"minorgridcolor\":\"white\",\"startlinecolor\":\"#2a3f5f\"},\"baxis\":{\"endlinecolor\":\"#2a3f5f\",\"gridcolor\":\"white\",\"linecolor\":\"white\",\"minorgridcolor\":\"white\",\"startlinecolor\":\"#2a3f5f\"},\"type\":\"carpet\"}],\"table\":[{\"cells\":{\"fill\":{\"color\":\"#EBF0F8\"},\"line\":{\"color\":\"white\"}},\"header\":{\"fill\":{\"color\":\"#C8D4E3\"},\"line\":{\"color\":\"white\"}},\"type\":\"table\"}],\"barpolar\":[{\"marker\":{\"line\":{\"color\":\"#E5ECF6\",\"width\":0.5},\"pattern\":{\"fillmode\":\"overlay\",\"size\":10,\"solidity\":0.2}},\"type\":\"barpolar\"}],\"pie\":[{\"automargin\":true,\"type\":\"pie\"}]},\"layout\":{\"autotypenumbers\":\"strict\",\"colorway\":[\"#636efa\",\"#EF553B\",\"#00cc96\",\"#ab63fa\",\"#FFA15A\",\"#19d3f3\",\"#FF6692\",\"#B6E880\",\"#FF97FF\",\"#FECB52\"],\"font\":{\"color\":\"#2a3f5f\"},\"hovermode\":\"closest\",\"hoverlabel\":{\"align\":\"left\"},\"paper_bgcolor\":\"white\",\"plot_bgcolor\":\"#E5ECF6\",\"polar\":{\"bgcolor\":\"#E5ECF6\",\"angularaxis\":{\"gridcolor\":\"white\",\"linecolor\":\"white\",\"ticks\":\"\"},\"radialaxis\":{\"gridcolor\":\"white\",\"linecolor\":\"white\",\"ticks\":\"\"}},\"ternary\":{\"bgcolor\":\"#E5ECF6\",\"aaxis\":{\"gridcolor\":\"white\",\"linecolor\":\"white\",\"ticks\":\"\"},\"baxis\":{\"gridcolor\":\"white\",\"linecolor\":\"white\",\"ticks\":\"\"},\"caxis\":{\"gridcolor\":\"white\",\"linecolor\":\"white\",\"ticks\":\"\"}},\"coloraxis\":{\"colorbar\":{\"outlinewidth\":0,\"ticks\":\"\"}},\"colorscale\":{\"sequential\":[[0.0,\"#0d0887\"],[0.1111111111111111,\"#46039f\"],[0.2222222222222222,\"#7201a8\"],[0.3333333333333333,\"#9c179e\"],[0.4444444444444444,\"#bd3786\"],[0.5555555555555556,\"#d8576b\"],[0.6666666666666666,\"#ed7953\"],[0.7777777777777778,\"#fb9f3a\"],[0.8888888888888888,\"#fdca26\"],[1.0,\"#f0f921\"]],\"sequentialminus\":[[0.0,\"#0d0887\"],[0.1111111111111111,\"#46039f\"],[0.2222222222222222,\"#7201a8\"],[0.3333333333333333,\"#9c179e\"],[0.4444444444444444,\"#bd3786\"],[0.5555555555555556,\"#d8576b\"],[0.6666666666666666,\"#ed7953\"],[0.7777777777777778,\"#fb9f3a\"],[0.8888888888888888,\"#fdca26\"],[1.0,\"#f0f921\"]],\"diverging\":[[0,\"#8e0152\"],[0.1,\"#c51b7d\"],[0.2,\"#de77ae\"],[0.3,\"#f1b6da\"],[0.4,\"#fde0ef\"],[0.5,\"#f7f7f7\"],[0.6,\"#e6f5d0\"],[0.7,\"#b8e186\"],[0.8,\"#7fbc41\"],[0.9,\"#4d9221\"],[1,\"#276419\"]]},\"xaxis\":{\"gridcolor\":\"white\",\"linecolor\":\"white\",\"ticks\":\"\",\"title\":{\"standoff\":15},\"zerolinecolor\":\"white\",\"automargin\":true,\"zerolinewidth\":2},\"yaxis\":{\"gridcolor\":\"white\",\"linecolor\":\"white\",\"ticks\":\"\",\"title\":{\"standoff\":15},\"zerolinecolor\":\"white\",\"automargin\":true,\"zerolinewidth\":2},\"scene\":{\"xaxis\":{\"backgroundcolor\":\"#E5ECF6\",\"gridcolor\":\"white\",\"linecolor\":\"white\",\"showbackground\":true,\"ticks\":\"\",\"zerolinecolor\":\"white\",\"gridwidth\":2},\"yaxis\":{\"backgroundcolor\":\"#E5ECF6\",\"gridcolor\":\"white\",\"linecolor\":\"white\",\"showbackground\":true,\"ticks\":\"\",\"zerolinecolor\":\"white\",\"gridwidth\":2},\"zaxis\":{\"backgroundcolor\":\"#E5ECF6\",\"gridcolor\":\"white\",\"linecolor\":\"white\",\"showbackground\":true,\"ticks\":\"\",\"zerolinecolor\":\"white\",\"gridwidth\":2}},\"shapedefaults\":{\"line\":{\"color\":\"#2a3f5f\"}},\"annotationdefaults\":{\"arrowcolor\":\"#2a3f5f\",\"arrowhead\":0,\"arrowwidth\":1},\"geo\":{\"bgcolor\":\"white\",\"landcolor\":\"#E5ECF6\",\"subunitcolor\":\"white\",\"showland\":true,\"showlakes\":true,\"lakecolor\":\"white\"},\"title\":{\"x\":0.05},\"mapbox\":{\"style\":\"light\"}}},\"xaxis\":{\"anchor\":\"y\",\"domain\":[0.0,0.45],\"title\":{\"text\":\"Ciudad\"},\"tickangle\":-45},\"yaxis\":{\"anchor\":\"x\",\"domain\":[0.0,1.0],\"title\":{\"text\":\"N\\u00famero de Inmuebles\"}},\"xaxis2\":{\"anchor\":\"y2\",\"domain\":[0.55,1.0],\"title\":{\"text\":\"Tipo de Inmueble\"},\"tickangle\":-45},\"yaxis2\":{\"anchor\":\"x2\",\"domain\":[0.0,1.0],\"title\":{\"text\":\"N\\u00famero de Inmuebles\"}},\"annotations\":[{\"font\":{\"size\":16},\"showarrow\":false,\"text\":\"N\\u00famero de Inmuebles por Ciudad\",\"x\":0.225,\"xanchor\":\"center\",\"xref\":\"paper\",\"y\":1.0,\"yanchor\":\"bottom\",\"yref\":\"paper\"},{\"font\":{\"size\":16},\"showarrow\":false,\"text\":\"N\\u00famero de Inmuebles por Tipo\",\"x\":0.775,\"xanchor\":\"center\",\"xref\":\"paper\",\"y\":1.0,\"yanchor\":\"bottom\",\"yref\":\"paper\"}],\"title\":{\"text\":\"Distribuci\\u00f3n de Inmuebles por Ciudad y por Tipo\"},\"height\":600,\"width\":1200,\"showlegend\":false},                        {\"responsive\": true}                    ).then(function(){\n",
              "                            \n",
              "var gd = document.getElementById('b142e54b-8072-412f-963b-1a858af825f4');\n",
              "var x = new MutationObserver(function (mutations, observer) {{\n",
              "        var display = window.getComputedStyle(gd).display;\n",
              "        if (!display || display === 'none') {{\n",
              "            console.log([gd, 'removed!']);\n",
              "            Plotly.purge(gd);\n",
              "            observer.disconnect();\n",
              "        }}\n",
              "}});\n",
              "\n",
              "// Listen for the removal of the full notebook cells\n",
              "var notebookContainer = gd.closest('#notebook-container');\n",
              "if (notebookContainer) {{\n",
              "    x.observe(notebookContainer, {childList: true});\n",
              "}}\n",
              "\n",
              "// Listen for the clearing of the current output cell\n",
              "var outputEl = gd.closest('.output');\n",
              "if (outputEl) {{\n",
              "    x.observe(outputEl, {childList: true});\n",
              "}}\n",
              "\n",
              "                        })                };                            </script>        </div>\n",
              "</body>\n",
              "</html>"
            ]
          },
          "metadata": {}
        }
      ]
    },
    {
      "cell_type": "code",
      "source": [
        "# Histograma para el número de inmuebles por ciudad\n",
        "ciudad_counts = df['Ciudad'].value_counts()\n",
        "\n",
        "# Creación del histograma con colores más vivos\n",
        "fig_ciudad = go.Figure(data=[go.Histogram(x=df['Ciudad'], histfunc='count', name='Número de Inmuebles')])\n",
        "fig_ciudad.update_traces(marker=dict(color='rgb(0, 204, 150)', line=dict(width=1, color='rgb(0, 0, 0)')))\n",
        "\n",
        "# Actualización del diseño del histograma\n",
        "fig_ciudad.update_layout(\n",
        "    title='Número de Inmuebles por Ciudad',\n",
        "    xaxis_title='Ciudad',\n",
        "    yaxis_title='Número de Inmuebles',\n",
        "    height=400,\n",
        "    xaxis=dict(\n",
        "        title='Ciudad',\n",
        "        tickangle=-45  # Rotar etiquetas del eje x para mejor visualización\n",
        "    ),\n",
        "    yaxis=dict(\n",
        "        title='Número de Inmuebles'\n",
        "    )\n",
        ")\n",
        "\n",
        "# Mostrar el gráfico\n",
        "fig_ciudad.show()\n",
        "\n",
        "# Histograma para el número de inmuebles por tipo de inmueble\n",
        "tipo_counts = df['Tipo de Inmueble'].value_counts()\n",
        "\n",
        "# Creación del histograma con colores más vivos\n",
        "fig_tipo = go.Figure(data=[go.Histogram(x=df['Tipo de Inmueble'], histfunc='count', name='Número de Inmuebles')])\n",
        "fig_tipo.update_traces(marker=dict(color='rgb(255, 100, 100)', line=dict(width=1, color='rgb(0, 0, 0)')))\n",
        "\n",
        "# Actualización del diseño del histograma\n",
        "fig_tipo.update_layout(\n",
        "    title='Número de Inmuebles por Tipo de Inmueble',\n",
        "    xaxis_title='Tipo de Inmueble',\n",
        "    yaxis_title='Número de Inmuebles',\n",
        "    height=400,\n",
        "    xaxis=dict(\n",
        "        title='Tipo de Inmueble',\n",
        "        tickangle=-45  # Rotar etiquetas del eje x para mejor visualización\n",
        "    ),\n",
        "    yaxis=dict(\n",
        "        title='Número de Inmuebles'\n",
        "    )\n",
        ")\n",
        "\n",
        "# Mostrar el gráfico\n",
        "fig_tipo.show()\n"
      ],
      "metadata": {
        "colab": {
          "base_uri": "https://localhost:8080/",
          "height": 817
        },
        "id": "_kszbRYw9BvK",
        "outputId": "e57c2967-825a-427a-cadd-6d2562eea0cd"
      },
      "execution_count": 25,
      "outputs": [
        {
          "output_type": "display_data",
          "data": {
            "text/html": [
              "<html>\n",
              "<head><meta charset=\"utf-8\" /></head>\n",
              "<body>\n",
              "    <div>            <script src=\"https://cdnjs.cloudflare.com/ajax/libs/mathjax/2.7.5/MathJax.js?config=TeX-AMS-MML_SVG\"></script><script type=\"text/javascript\">if (window.MathJax && window.MathJax.Hub && window.MathJax.Hub.Config) {window.MathJax.Hub.Config({SVG: {font: \"STIX-Web\"}});}</script>                <script type=\"text/javascript\">window.PlotlyConfig = {MathJaxConfig: 'local'};</script>\n",
              "        <script charset=\"utf-8\" src=\"https://cdn.plot.ly/plotly-2.24.1.min.js\"></script>                <div id=\"f9316f71-6e34-43a1-951c-b922ef6bc55d\" class=\"plotly-graph-div\" style=\"height:400px; width:100%;\"></div>            <script type=\"text/javascript\">                                    window.PLOTLYENV=window.PLOTLYENV || {};                                    if (document.getElementById(\"f9316f71-6e34-43a1-951c-b922ef6bc55d\")) {                    Plotly.newPlot(                        \"f9316f71-6e34-43a1-951c-b922ef6bc55d\",                        [{\"histfunc\":\"count\",\"name\":\"N\\u00famero de Inmuebles\",\"x\":[\"BOGOTA\",\"BOGOTA\",\"BOGOTA\",\"SOGAMOSO\",\"BUGA\",\"PUERTO LOPEZ\",\"TARAZA\",\"RICAURTE\",\"FUNZA\",\"BOGOTA\",\"ENVIGADO\",\"PEREIRA\",\"BUCARAMANGA\",\"CALI\",\"CHIA\",\"MEDELLIN\",\"BOGOTA\",\"VILLAVICENCIO\",\"BOGOTA\",\"BOGOTA\",\"BOGOTA\",\"BOGOTA\",\"BOGOTA\",\"BOGOTA\",\"LA CEJA\",\"CARTAGENA\",\"TARAZA\",\"TARAZA\",\"TARAZA\",\"TARAZA\",\"CAUCASIA\",\"PUERTO BOYACA\",\"MONTERIA\",\"MONTERIA\",\"TURBO\",\"BOGOTA\",\"LA DORADA\",\"CALIMA EL DARIEN\",\"BOGOTA\",\"PEREIRA\",\"PUERTO BOYACA\",\"EL PLAYON\",\"BOGOTA\",\"BARRANQUILLA\",\"BUENAVISTA\",\"MONTERIA\",\"SONSON\",\"SOATA\",\"MEDELLIN\",\"CALIMA EL DARIEN\",\"MEDELLIN\",\"PUERTO BOYACA\",\"BOGOTA\",\"MONTERIA\",\"CALIMA EL DARIEN\",\"CALIMA EL DARIEN\",\"MEDELLIN\",\"MANIZALES\",\"TARAZA\",\"SONSON\",\"CALIMA EL DARIEN\",\"BARRANQUILLA\",\"BARRANQUILLA\",\"NORCASIA\",\"BARRANQUILLA\",\"BARRANQUILLA\",\"BARRANQUILLA\",\"BARRANQUILLA\",\"CALIMA EL DARIEN\",\"PUERTO BOYACA\",\"BARRANQUILLA\",\"BARRANQUILLA\",\"BARRANQUILLA\",\"BARRANQUILLA\",\"SANMIGUEL\",\"MANIZALES\",\"PIEDECUESTA\",\"TARAZA\",\"MANIZALES\",\"BOGOTA\",\"CALIMA EL DARIEN\",\"BARRANQUILLA\",\"BARRANQUILLA\",\"BARRANQUILLA\",\"VALENCIA\",\"BARRANQUILLA\",\"SANTANDER DE QUILICHAO\",\"TULUA\",\"PEREIRA\",\"LA CALERA\",\"VALENCIA\",\"PEREIRA\",\"BARRANQUILLA\",\"CALIMA EL DARIEN\",\"TIERRALTA\",\"ACANDI\",\"TARAZA\",\"PEREIRA\",\"BOGOTA\",\"CALIMA EL DARIEN\",\"VILLAVICENCIO\",\"ACANDI\",\"MONTERIA\",\"TARAZA\",\"EL ROSAL\",\"CARTAGENA\",\"CARTAGENA\",\"PEREIRA\",\"SAN MARTIN\",\"BOGOTA\",\"BOGOTA\",\"VILLAVICENCIO\",\"CALI\",\"VILLAVICENCIO\",\"VILLAVICENCIO\",\"PEREIRA\",\"CARTAGENA\",\"VILLAVICENCIO\",\"CALI\",\"BOGOTA\",\"VILLAVICENCIO\",\"VILLAVICENCIO\",\"VILLAVICENCIO\",\"VILLAVICENCIO\",\"CALI\",\"BOGOTA\",\"BOGOTA\",\"VILLAVICENCIO\",\"GIRARDOT\",\"PEREIRA\",\"CARTAGENA\",\"CARTAGENA\",\"VILLAVICENCIO\",\"BUENAVENTURA\",\"BUCARAMANGA\",\"VILLAVICENCIO\",\"VILLAVICENCIO\",\"VILLAVICENCIO\",\"VILLAVICENCIO\",\"MEDELLIN\",\"VILLAVICENCIO\",\"VILLAVICENCIO\",\"VILLAVICENCIO\",\"VILLAVICENCIO\",\"CARTAGENA\",\"VILLAVICENCIO\",\"VILLAVICENCIO\",\"VILLAVICENCIO\",\"CARTAGENA\",\"VILLAVICENCIO\",\"CARTAGENA\",\"CARTAGENA\",\"VILLAVICENCIO\",\"VILLAVICENCIO\",\"VILLAVICENCIO\",\"VILLAVICENCIO\",\"VILLAVICENCIO\",\"VILLAVICENCIO\",\"CARTAGENA\",\"VILLAVICENCIO\",\"TARAZA\",\"VILLAVICENCIO\",\"PEREIRA\",\"VILLAVICENCIO\",\"VILLAVICENCIO\",\"VILLAVICENCIO\",\"VILLAVICENCIO\",\"VILLAVICENCIO\",\"PEREIRA\",\"VILLAVICENCIO\",\"CARTAGENA\",\"VILLAVICENCIO\",\"VILLAVICENCIO\",\"VILLAVICENCIO\",\"VILLAVICENCIO\",\"VILLAVICENCIO\",\"VILLAVICENCIO\",\"CARTAGENA\",\"VILLAVICENCIO\",\"VILLAVICENCIO\",\"VILLAVICENCIO\",\"VILLAVICENCIO\",\"VILLAVICENCIO\",\"VILLAVICENCIO\",\"VILLAVICENCIO\",\"VILLAVICENCIO\",\"VILLAVICENCIO\",\"VILLAVICENCIO\",\"MEDELLIN\",\"VILLAVICENCIO\",\"VILLAVICENCIO\",\"VILLAVICENCIO\",\"VILLAVICENCIO\",\"VILLAVICENCIO\",\"VILLAVICENCIO\",\"VILLAVICENCIO\",\"VILLAVICENCIO\",\"VILLAVICENCIO\",\"VILLAVICENCIO\",\"VILLAVICENCIO\",\"VILLAVICENCIO\",\"VILLAVICENCIO\",\"VILLAVICENCIO\",\"VILLAVICENCIO\",\"VILLAVICENCIO\",\"VILLAVICENCIO\",\"VILLAVICENCIO\",\"VILLAVICENCIO\",\"VILLAVICENCIO\",\"VILLAVICENCIO\",\"VILLAVICENCIO\",\"VILLAVICENCIO\",\"VILLAVICENCIO\",\"VILLAVICENCIO\",\"BARRANQUILLA\",\"VILLAVICENCIO\",\"VILLAVICENCIO\",\"VILLAVICENCIO\",\"VILLAVICENCIO\",\"VILLAVICENCIO\",\"VILLAVICENCIO\",\"VILLAVICENCIO\",\"VILLAVICENCIO\",\"VILLAVICENCIO\",\"VILLAVICENCIO\",\"VILLAVICENCIO\",\"VILLAVICENCIO\",\"VILLAVICENCIO\",\"VILLAVICENCIO\",\"VILLAVICENCIO\",\"VILLAVICENCIO\",\"VILLAVICENCIO\",\"VILLAVICENCIO\",\"VILLAVICENCIO\",\"VILLAVICENCIO\",\"VILLAVICENCIO\",\"SANTANDER DE QUILICHAO\",\"VILLAVICENCIO\",\"VILLAVICENCIO\",\"PEREIRA\",\"VILLAVICENCIO\",\"VILLAVICENCIO\",\"VILLAVICENCIO\",\"VILLAVICENCIO\",\"VILLAVICENCIO\",\"VILLAVICENCIO\",\"VILLAVICENCIO\",\"VILLAVICENCIO\",\"VILLAVICENCIO\",\"VILLAVICENCIO\",\"VILLAVICENCIO\",\"VILLAVICENCIO\",\"VILLAVICENCIO\",\"VILLAVICENCIO\",\"VILLAVICENCIO\",\"VILLAVICENCIO\",\"VILLAVICENCIO\",\"VILLAVICENCIO\",\"VILLAVICENCIO\",\"VILLAVICENCIO\",\"VILLAVICENCIO\",\"VILLAVICENCIO\",\"VILLAVICENCIO\",\"VILLAVICENCIO\",\"VILLAVICENCIO\",\"VILLAVICENCIO\",\"VILLAVICENCIO\",\"VILLAVICENCIO\",\"VILLAVICENCIO\",\"VILLAVICENCIO\",\"VILLAVICENCIO\",\"VILLAVICENCIO\",\"VILLAVICENCIO\",\"VILLAVICENCIO\",\"VILLAVICENCIO\",\"VILLAVICENCIO\",\"VILLAVICENCIO\",\"VILLAVICENCIO\",\"VILLAVICENCIO\",\"VILLAVICENCIO\",\"VILLAVICENCIO\",\"VILLAVICENCIO\",\"VILLAVICENCIO\",\"VILLAVICENCIO\",\"VILLAVICENCIO\",\"VILLAVICENCIO\",\"VILLAVICENCIO\",\"VILLAVICENCIO\",\"VILLAVICENCIO\",\"VILLAVICENCIO\",\"VILLAVICENCIO\",\"VILLAVICENCIO\",\"VILLAVICENCIO\",\"VILLAVICENCIO\",\"VILLAVICENCIO\",\"VILLAVICENCIO\",\"VILLAVICENCIO\",\"VILLAVICENCIO\",\"VILLAVICENCIO\",\"VILLAVICENCIO\",\"VILLAVICENCIO\",\"VILLAVICENCIO\",\"VILLAVICENCIO\",\"VILLAVICENCIO\",\"VILLAVICENCIO\",\"VILLAVICENCIO\",\"VILLAVICENCIO\",\"VILLAVICENCIO\",\"VILLAVICENCIO\",\"VILLAVICENCIO\",\"VILLAVICENCIO\",\"VILLAVICENCIO\",\"VILLAVICENCIO\",\"VILLAVICENCIO\",\"VILLAVICENCIO\",\"VILLAVICENCIO\",\"VILLAVICENCIO\",\"VILLAVICENCIO\",\"VILLAVICENCIO\",\"VILLAVICENCIO\",\"VILLAVICENCIO\",\"VILLAVICENCIO\",\"VILLAVICENCIO\",\"VILLAVICENCIO\",\"VILLAVICENCIO\",\"VILLAVICENCIO\",\"VILLAVICENCIO\",\"VILLAVICENCIO\",\"VILLAVICENCIO\",\"VILLAVICENCIO\",\"VILLAVICENCIO\",\"VILLAVICENCIO\",\"VILLAVICENCIO\",\"VILLAVICENCIO\",\"VILLAVICENCIO\",\"VILLAVICENCIO\",\"VILLAVICENCIO\",\"VILLAVICENCIO\",\"VILLAVICENCIO\",\"VILLAVICENCIO\",\"VILLAVICENCIO\",\"VILLAVICENCIO\",\"VILLAVICENCIO\",\"VILLAVICENCIO\",\"VILLAVICENCIO\",\"VILLAVICENCIO\",\"VILLAVICENCIO\",\"VILLAVICENCIO\",\"VILLAVICENCIO\",\"VILLAVICENCIO\",\"VILLAVICENCIO\",\"VILLAVICENCIO\",\"VILLAVICENCIO\",\"VILLAVICENCIO\",\"VILLAVICENCIO\",\"VILLAVICENCIO\",\"PACORA\",\"PACORA\",\"PACORA\",\"VILLAVICENCIO\",\"VILLAVICENCIO\",\"VILLAVICENCIO\",\"VILLAVICENCIO\",\"VILLAVICENCIO\",\"VILLAVICENCIO\",\"PACORA\",\"PACORA\",\"PACORA\",\"PACORA\",\"PACORA\",\"PACORA\",\"PACORA\",\"CARTAGENA\",\"CARTAGENA\",\"VILLAVICENCIO\",\"PACORA\",\"PACORA\",\"PACORA\",\"PACORA\",\"PACORA\",\"PACORA\",\"CARTAGENA\",\"VILLAVICENCIO\",\"VILLAVICENCIO\",\"CARTAGENA\",\"VILLAVICENCIO\",\"VILLAVICENCIO\",\"GIRARDOT\",\"VILLAVICENCIO\",\"VILLAVICENCIO\",\"VILLAVICENCIO\",\"VILLAVICENCIO\",\"VILLAVICENCIO\",\"VILLAVICENCIO\",\"VILLAVICENCIO\",\"VILLAVICENCIO\",\"VILLAVICENCIO\",\"VILLAVICENCIO\",\"VILLAVICENCIO\",\"VILLAVICENCIO\",\"VILLAVICENCIO\",\"VILLAVICENCIO\",\"VILLAVICENCIO\",\"VILLAVICENCIO\",\"VILLAVICENCIO\",\"VILLAVICENCIO\",\"VILLAVICENCIO\",\"VILLAVICENCIO\",\"VILLAVICENCIO\",\"VILLAVICENCIO\",\"VILLAVICENCIO\",\"VILLAVICENCIO\",\"VILLAVICENCIO\",\"VILLAVICENCIO\",\"VILLAVICENCIO\",\"VILLAVICENCIO\",\"VILLAVICENCIO\",\"VILLAVICENCIO\",\"VILLAVICENCIO\",\"VILLAVICENCIO\",\"VILLAVICENCIO\",\"VILLAVICENCIO\",\"VILLAVICENCIO\",\"VILLAVICENCIO\",\"VILLAVICENCIO\",\"VILLAVICENCIO\",\"VILLAVICENCIO\",\"VILLAVICENCIO\",\"VILLAVICENCIO\",\"VILLAVICENCIO\",\"VILLAVICENCIO\",\"VILLAVICENCIO\",\"VILLAVICENCIO\",\"VILLAVICENCIO\",\"VILLAVICENCIO\",\"VILLAVICENCIO\",\"VILLAVICENCIO\",\"VILLAVICENCIO\",\"VILLAVICENCIO\",\"VILLAVICENCIO\",\"VILLAVICENCIO\",\"VILLAVICENCIO\",\"VILLAVICENCIO\",\"VILLAVICENCIO\",\"VILLAVICENCIO\",\"VILLAVICENCIO\",\"VILLAVICENCIO\",\"CALI\",\"CARTAGENA\",\"VILLAVICENCIO\",\"VILLAVICENCIO\",\"PEREIRA\",\"CALI\",\"PEREIRA\",\"CALIMA EL DARIEN\",\"VALENCIA\",\"PEREIRA\",\"MARSELLA\",\"CALI\",\"BOGOTA\",\"CALI\",\"CALI\",\"CALI\"],\"type\":\"histogram\",\"marker\":{\"line\":{\"color\":\"rgb(0, 0, 0)\",\"width\":1},\"color\":\"rgb(0, 204, 150)\"}}],                        {\"template\":{\"data\":{\"histogram2dcontour\":[{\"type\":\"histogram2dcontour\",\"colorbar\":{\"outlinewidth\":0,\"ticks\":\"\"},\"colorscale\":[[0.0,\"#0d0887\"],[0.1111111111111111,\"#46039f\"],[0.2222222222222222,\"#7201a8\"],[0.3333333333333333,\"#9c179e\"],[0.4444444444444444,\"#bd3786\"],[0.5555555555555556,\"#d8576b\"],[0.6666666666666666,\"#ed7953\"],[0.7777777777777778,\"#fb9f3a\"],[0.8888888888888888,\"#fdca26\"],[1.0,\"#f0f921\"]]}],\"choropleth\":[{\"type\":\"choropleth\",\"colorbar\":{\"outlinewidth\":0,\"ticks\":\"\"}}],\"histogram2d\":[{\"type\":\"histogram2d\",\"colorbar\":{\"outlinewidth\":0,\"ticks\":\"\"},\"colorscale\":[[0.0,\"#0d0887\"],[0.1111111111111111,\"#46039f\"],[0.2222222222222222,\"#7201a8\"],[0.3333333333333333,\"#9c179e\"],[0.4444444444444444,\"#bd3786\"],[0.5555555555555556,\"#d8576b\"],[0.6666666666666666,\"#ed7953\"],[0.7777777777777778,\"#fb9f3a\"],[0.8888888888888888,\"#fdca26\"],[1.0,\"#f0f921\"]]}],\"heatmap\":[{\"type\":\"heatmap\",\"colorbar\":{\"outlinewidth\":0,\"ticks\":\"\"},\"colorscale\":[[0.0,\"#0d0887\"],[0.1111111111111111,\"#46039f\"],[0.2222222222222222,\"#7201a8\"],[0.3333333333333333,\"#9c179e\"],[0.4444444444444444,\"#bd3786\"],[0.5555555555555556,\"#d8576b\"],[0.6666666666666666,\"#ed7953\"],[0.7777777777777778,\"#fb9f3a\"],[0.8888888888888888,\"#fdca26\"],[1.0,\"#f0f921\"]]}],\"heatmapgl\":[{\"type\":\"heatmapgl\",\"colorbar\":{\"outlinewidth\":0,\"ticks\":\"\"},\"colorscale\":[[0.0,\"#0d0887\"],[0.1111111111111111,\"#46039f\"],[0.2222222222222222,\"#7201a8\"],[0.3333333333333333,\"#9c179e\"],[0.4444444444444444,\"#bd3786\"],[0.5555555555555556,\"#d8576b\"],[0.6666666666666666,\"#ed7953\"],[0.7777777777777778,\"#fb9f3a\"],[0.8888888888888888,\"#fdca26\"],[1.0,\"#f0f921\"]]}],\"contourcarpet\":[{\"type\":\"contourcarpet\",\"colorbar\":{\"outlinewidth\":0,\"ticks\":\"\"}}],\"contour\":[{\"type\":\"contour\",\"colorbar\":{\"outlinewidth\":0,\"ticks\":\"\"},\"colorscale\":[[0.0,\"#0d0887\"],[0.1111111111111111,\"#46039f\"],[0.2222222222222222,\"#7201a8\"],[0.3333333333333333,\"#9c179e\"],[0.4444444444444444,\"#bd3786\"],[0.5555555555555556,\"#d8576b\"],[0.6666666666666666,\"#ed7953\"],[0.7777777777777778,\"#fb9f3a\"],[0.8888888888888888,\"#fdca26\"],[1.0,\"#f0f921\"]]}],\"surface\":[{\"type\":\"surface\",\"colorbar\":{\"outlinewidth\":0,\"ticks\":\"\"},\"colorscale\":[[0.0,\"#0d0887\"],[0.1111111111111111,\"#46039f\"],[0.2222222222222222,\"#7201a8\"],[0.3333333333333333,\"#9c179e\"],[0.4444444444444444,\"#bd3786\"],[0.5555555555555556,\"#d8576b\"],[0.6666666666666666,\"#ed7953\"],[0.7777777777777778,\"#fb9f3a\"],[0.8888888888888888,\"#fdca26\"],[1.0,\"#f0f921\"]]}],\"mesh3d\":[{\"type\":\"mesh3d\",\"colorbar\":{\"outlinewidth\":0,\"ticks\":\"\"}}],\"scatter\":[{\"fillpattern\":{\"fillmode\":\"overlay\",\"size\":10,\"solidity\":0.2},\"type\":\"scatter\"}],\"parcoords\":[{\"type\":\"parcoords\",\"line\":{\"colorbar\":{\"outlinewidth\":0,\"ticks\":\"\"}}}],\"scatterpolargl\":[{\"type\":\"scatterpolargl\",\"marker\":{\"colorbar\":{\"outlinewidth\":0,\"ticks\":\"\"}}}],\"bar\":[{\"error_x\":{\"color\":\"#2a3f5f\"},\"error_y\":{\"color\":\"#2a3f5f\"},\"marker\":{\"line\":{\"color\":\"#E5ECF6\",\"width\":0.5},\"pattern\":{\"fillmode\":\"overlay\",\"size\":10,\"solidity\":0.2}},\"type\":\"bar\"}],\"scattergeo\":[{\"type\":\"scattergeo\",\"marker\":{\"colorbar\":{\"outlinewidth\":0,\"ticks\":\"\"}}}],\"scatterpolar\":[{\"type\":\"scatterpolar\",\"marker\":{\"colorbar\":{\"outlinewidth\":0,\"ticks\":\"\"}}}],\"histogram\":[{\"marker\":{\"pattern\":{\"fillmode\":\"overlay\",\"size\":10,\"solidity\":0.2}},\"type\":\"histogram\"}],\"scattergl\":[{\"type\":\"scattergl\",\"marker\":{\"colorbar\":{\"outlinewidth\":0,\"ticks\":\"\"}}}],\"scatter3d\":[{\"type\":\"scatter3d\",\"line\":{\"colorbar\":{\"outlinewidth\":0,\"ticks\":\"\"}},\"marker\":{\"colorbar\":{\"outlinewidth\":0,\"ticks\":\"\"}}}],\"scattermapbox\":[{\"type\":\"scattermapbox\",\"marker\":{\"colorbar\":{\"outlinewidth\":0,\"ticks\":\"\"}}}],\"scatterternary\":[{\"type\":\"scatterternary\",\"marker\":{\"colorbar\":{\"outlinewidth\":0,\"ticks\":\"\"}}}],\"scattercarpet\":[{\"type\":\"scattercarpet\",\"marker\":{\"colorbar\":{\"outlinewidth\":0,\"ticks\":\"\"}}}],\"carpet\":[{\"aaxis\":{\"endlinecolor\":\"#2a3f5f\",\"gridcolor\":\"white\",\"linecolor\":\"white\",\"minorgridcolor\":\"white\",\"startlinecolor\":\"#2a3f5f\"},\"baxis\":{\"endlinecolor\":\"#2a3f5f\",\"gridcolor\":\"white\",\"linecolor\":\"white\",\"minorgridcolor\":\"white\",\"startlinecolor\":\"#2a3f5f\"},\"type\":\"carpet\"}],\"table\":[{\"cells\":{\"fill\":{\"color\":\"#EBF0F8\"},\"line\":{\"color\":\"white\"}},\"header\":{\"fill\":{\"color\":\"#C8D4E3\"},\"line\":{\"color\":\"white\"}},\"type\":\"table\"}],\"barpolar\":[{\"marker\":{\"line\":{\"color\":\"#E5ECF6\",\"width\":0.5},\"pattern\":{\"fillmode\":\"overlay\",\"size\":10,\"solidity\":0.2}},\"type\":\"barpolar\"}],\"pie\":[{\"automargin\":true,\"type\":\"pie\"}]},\"layout\":{\"autotypenumbers\":\"strict\",\"colorway\":[\"#636efa\",\"#EF553B\",\"#00cc96\",\"#ab63fa\",\"#FFA15A\",\"#19d3f3\",\"#FF6692\",\"#B6E880\",\"#FF97FF\",\"#FECB52\"],\"font\":{\"color\":\"#2a3f5f\"},\"hovermode\":\"closest\",\"hoverlabel\":{\"align\":\"left\"},\"paper_bgcolor\":\"white\",\"plot_bgcolor\":\"#E5ECF6\",\"polar\":{\"bgcolor\":\"#E5ECF6\",\"angularaxis\":{\"gridcolor\":\"white\",\"linecolor\":\"white\",\"ticks\":\"\"},\"radialaxis\":{\"gridcolor\":\"white\",\"linecolor\":\"white\",\"ticks\":\"\"}},\"ternary\":{\"bgcolor\":\"#E5ECF6\",\"aaxis\":{\"gridcolor\":\"white\",\"linecolor\":\"white\",\"ticks\":\"\"},\"baxis\":{\"gridcolor\":\"white\",\"linecolor\":\"white\",\"ticks\":\"\"},\"caxis\":{\"gridcolor\":\"white\",\"linecolor\":\"white\",\"ticks\":\"\"}},\"coloraxis\":{\"colorbar\":{\"outlinewidth\":0,\"ticks\":\"\"}},\"colorscale\":{\"sequential\":[[0.0,\"#0d0887\"],[0.1111111111111111,\"#46039f\"],[0.2222222222222222,\"#7201a8\"],[0.3333333333333333,\"#9c179e\"],[0.4444444444444444,\"#bd3786\"],[0.5555555555555556,\"#d8576b\"],[0.6666666666666666,\"#ed7953\"],[0.7777777777777778,\"#fb9f3a\"],[0.8888888888888888,\"#fdca26\"],[1.0,\"#f0f921\"]],\"sequentialminus\":[[0.0,\"#0d0887\"],[0.1111111111111111,\"#46039f\"],[0.2222222222222222,\"#7201a8\"],[0.3333333333333333,\"#9c179e\"],[0.4444444444444444,\"#bd3786\"],[0.5555555555555556,\"#d8576b\"],[0.6666666666666666,\"#ed7953\"],[0.7777777777777778,\"#fb9f3a\"],[0.8888888888888888,\"#fdca26\"],[1.0,\"#f0f921\"]],\"diverging\":[[0,\"#8e0152\"],[0.1,\"#c51b7d\"],[0.2,\"#de77ae\"],[0.3,\"#f1b6da\"],[0.4,\"#fde0ef\"],[0.5,\"#f7f7f7\"],[0.6,\"#e6f5d0\"],[0.7,\"#b8e186\"],[0.8,\"#7fbc41\"],[0.9,\"#4d9221\"],[1,\"#276419\"]]},\"xaxis\":{\"gridcolor\":\"white\",\"linecolor\":\"white\",\"ticks\":\"\",\"title\":{\"standoff\":15},\"zerolinecolor\":\"white\",\"automargin\":true,\"zerolinewidth\":2},\"yaxis\":{\"gridcolor\":\"white\",\"linecolor\":\"white\",\"ticks\":\"\",\"title\":{\"standoff\":15},\"zerolinecolor\":\"white\",\"automargin\":true,\"zerolinewidth\":2},\"scene\":{\"xaxis\":{\"backgroundcolor\":\"#E5ECF6\",\"gridcolor\":\"white\",\"linecolor\":\"white\",\"showbackground\":true,\"ticks\":\"\",\"zerolinecolor\":\"white\",\"gridwidth\":2},\"yaxis\":{\"backgroundcolor\":\"#E5ECF6\",\"gridcolor\":\"white\",\"linecolor\":\"white\",\"showbackground\":true,\"ticks\":\"\",\"zerolinecolor\":\"white\",\"gridwidth\":2},\"zaxis\":{\"backgroundcolor\":\"#E5ECF6\",\"gridcolor\":\"white\",\"linecolor\":\"white\",\"showbackground\":true,\"ticks\":\"\",\"zerolinecolor\":\"white\",\"gridwidth\":2}},\"shapedefaults\":{\"line\":{\"color\":\"#2a3f5f\"}},\"annotationdefaults\":{\"arrowcolor\":\"#2a3f5f\",\"arrowhead\":0,\"arrowwidth\":1},\"geo\":{\"bgcolor\":\"white\",\"landcolor\":\"#E5ECF6\",\"subunitcolor\":\"white\",\"showland\":true,\"showlakes\":true,\"lakecolor\":\"white\"},\"title\":{\"x\":0.05},\"mapbox\":{\"style\":\"light\"}}},\"xaxis\":{\"title\":{\"text\":\"Ciudad\"},\"tickangle\":-45},\"title\":{\"text\":\"N\\u00famero de Inmuebles por Ciudad\"},\"yaxis\":{\"title\":{\"text\":\"N\\u00famero de Inmuebles\"}},\"height\":400},                        {\"responsive\": true}                    ).then(function(){\n",
              "                            \n",
              "var gd = document.getElementById('f9316f71-6e34-43a1-951c-b922ef6bc55d');\n",
              "var x = new MutationObserver(function (mutations, observer) {{\n",
              "        var display = window.getComputedStyle(gd).display;\n",
              "        if (!display || display === 'none') {{\n",
              "            console.log([gd, 'removed!']);\n",
              "            Plotly.purge(gd);\n",
              "            observer.disconnect();\n",
              "        }}\n",
              "}});\n",
              "\n",
              "// Listen for the removal of the full notebook cells\n",
              "var notebookContainer = gd.closest('#notebook-container');\n",
              "if (notebookContainer) {{\n",
              "    x.observe(notebookContainer, {childList: true});\n",
              "}}\n",
              "\n",
              "// Listen for the clearing of the current output cell\n",
              "var outputEl = gd.closest('.output');\n",
              "if (outputEl) {{\n",
              "    x.observe(outputEl, {childList: true});\n",
              "}}\n",
              "\n",
              "                        })                };                            </script>        </div>\n",
              "</body>\n",
              "</html>"
            ]
          },
          "metadata": {}
        },
        {
          "output_type": "display_data",
          "data": {
            "text/html": [
              "<html>\n",
              "<head><meta charset=\"utf-8\" /></head>\n",
              "<body>\n",
              "    <div>            <script src=\"https://cdnjs.cloudflare.com/ajax/libs/mathjax/2.7.5/MathJax.js?config=TeX-AMS-MML_SVG\"></script><script type=\"text/javascript\">if (window.MathJax && window.MathJax.Hub && window.MathJax.Hub.Config) {window.MathJax.Hub.Config({SVG: {font: \"STIX-Web\"}});}</script>                <script type=\"text/javascript\">window.PlotlyConfig = {MathJaxConfig: 'local'};</script>\n",
              "        <script charset=\"utf-8\" src=\"https://cdn.plot.ly/plotly-2.24.1.min.js\"></script>                <div id=\"b9928248-0cee-4b63-9ea3-8f100eaddc6e\" class=\"plotly-graph-div\" style=\"height:400px; width:100%;\"></div>            <script type=\"text/javascript\">                                    window.PLOTLYENV=window.PLOTLYENV || {};                                    if (document.getElementById(\"b9928248-0cee-4b63-9ea3-8f100eaddc6e\")) {                    Plotly.newPlot(                        \"b9928248-0cee-4b63-9ea3-8f100eaddc6e\",                        [{\"histfunc\":\"count\",\"name\":\"N\\u00famero de Inmuebles\",\"x\":[\"LOTE COMERCIAL\",\"EDIFICIO\",\"EDIFICIO\",\"CLINICA\",\"LOTE MIXTO\",\"LOTE CON CONSTRUCCION\",\"LOTE CON CONSTRUCCION\",\"HOTEL\",\"BODEGA\",\"APARTAMENTO\",\"LOTE VIVIENDA\",\"FINCA\",\"EDIFICIO OFICINAS\",\"BODEGA\",\"FINCA\",\"APARTAMENTO\",\"BODEGA\",\"CASA\",\"CASA\",\"BODEGA\",\"CASA\",\"LOCAL\",\"CASA\",\"LOCAL\",\"LOTE CON CONSTRUCCION\",\"LOTE INDUSTRIAL\",\"LOTE CON CONSTRUCCION\",\"LOTE CON CONSTRUCCION\",\"LOTE CON CONSTRUCCION\",\"LOTE CON CONSTRUCCION\",\"LOTE\",\"CASA\",\"CASA\",\"CASA\",\"BODEGA\",\"OFICINA\",\"FINCA\",\"LOTE VIVIENDA\",\"LOCAL\",\"LOTE VIVIENDA\",\"CASA\",\"LOTE VIVIENDA\",\"CASA\",\"LOCAL\",\"FINCA\",\"FINCA\",\"LOTE CON CONSTRUCCION\",\"EDIFICIO\",\"OFICINA\",\"LOTE VIVIENDA\",\"OFICINA\",\"CASA\",\"APARTAMENTO\",\"FINCA\",\"LOTE VIVIENDA\",\"LOTE VIVIENDA\",\"OFICINA\",\"LOCAL\",\"LOTE CON CONSTRUCCION\",\"CASA\",\"LOTE MIXTO\",\"OFICINA\",\"OFICINA\",\"FINCA\",\"OFICINA\",\"OFICINA\",\"OFICINA\",\"OFICINA\",\"LOTE VIVIENDA\",\"CASA\",\"OFICINA\",\"OFICINA\",\"OFICINA\",\"OFICINA\",\"LOTE CON CONSTRUCCION\",\"LOTE VIVIENDA\",\"CASA\",\"LOTE\",\"LOCAL\",\"CASA\",\"LOTE VIVIENDA\",\"LOTE CON CONSTRUCCION\",\"OFICINA\",\"OFICINA\",\"FINCA\",\"LOTE VIVIENDA\",\"LOTE INDUSTRIAL\",\"LOTE VIVIENDA\",\"BODEGA\",\"LOTE VIVIENDA\",\"FINCA\",\"LOTE VIVIENDA\",\"LOTE VIVIENDA\",\"LOTE VIVIENDA\",\"CASA\",\"LOTE VIVIENDA\",\"APARTAMENTO\",\"LOTE VIVIENDA\",\"OFICINA\",\"LOTE VIVIENDA\",\"CASA\",\"LOTE VIVIENDA\",\"FINCA\",\"APARTAMENTO\",\"LOTE CON CONSTRUCCION\",\"APARTAMENTO\",\"APARTAMENTO\",\"LOTE VIVIENDA\",\"LOTE VIVIENDA\",\"BODEGA\",\"LOCAL\",\"LOCAL\",\"LOTE CON CONSTRUCCION\",\"LOCAL\",\"LOCAL\",\"LOTE VIVIENDA\",\"BODEGA\",\"LOCAL\",\"LOTE CON CONSTRUCCION\",\"LOCAL\",\"LOCAL\",\"LOCAL\",\"LOCAL\",\"LOCAL\",\"LOTE MIXTO\",\"GARAJE\",\"GARAJE\",\"LOCAL\",\"LOCAL\",\"LOTE VIVIENDA\",\"BODEGA\",\"BODEGA\",\"LOCAL\",\"LOTE VIVIENDA\",\"BODEGA\",\"LOCAL\",\"LOCAL\",\"LOCAL\",\"LOCAL\",\"LOCAL\",\"LOCAL\",\"LOCAL\",\"LOCAL\",\"LOCAL\",\"BODEGA\",\"LOCAL\",\"LOCAL\",\"LOCAL\",\"BODEGA\",\"LOCAL\",\"BODEGA\",\"BODEGA\",\"LOCAL\",\"LOCAL\",\"LOCAL\",\"LOCAL\",\"LOCAL\",\"LOCAL\",\"BODEGA\",\"LOCAL\",\"LOTE\",\"LOCAL\",\"CLINICA\",\"LOCAL\",\"LOCAL\",\"LOCAL\",\"LOCAL\",\"LOCAL\",\"LOTE VIVIENDA\",\"LOCAL\",\"BODEGA\",\"LOCAL\",\"LOCAL\",\"LOCAL\",\"LOCAL\",\"LOCAL\",\"LOCAL\",\"BODEGA\",\"LOCAL\",\"LOCAL\",\"LOCAL\",\"LOCAL\",\"LOCAL\",\"LOCAL\",\"LOCAL\",\"LOCAL\",\"LOCAL\",\"LOCAL\",\"LOCAL\",\"LOCAL\",\"LOCAL\",\"LOCAL\",\"LOCAL\",\"LOCAL\",\"LOCAL\",\"LOCAL\",\"LOCAL\",\"LOCAL\",\"LOCAL\",\"LOCAL\",\"LOCAL\",\"LOCAL\",\"LOCAL\",\"LOCAL\",\"LOCAL\",\"LOCAL\",\"LOCAL\",\"LOCAL\",\"LOCAL\",\"LOCAL\",\"LOCAL\",\"LOCAL\",\"LOCAL\",\"LOCAL\",\"EDIFICIO\",\"LOCAL\",\"LOCAL\",\"LOCAL\",\"LOCAL\",\"LOCAL\",\"LOCAL\",\"LOCAL\",\"LOCAL\",\"LOCAL\",\"LOCAL\",\"LOCAL\",\"LOCAL\",\"LOCAL\",\"LOCAL\",\"LOCAL\",\"LOCAL\",\"LOCAL\",\"LOCAL\",\"LOCAL\",\"LOCAL\",\"LOCAL\",\"LOTE CON CONSTRUCCION\",\"LOCAL\",\"LOCAL\",\"LOTE VIVIENDA\",\"LOCAL\",\"LOCAL\",\"LOCAL\",\"LOCAL\",\"LOCAL\",\"LOCAL\",\"LOCAL\",\"LOCAL\",\"LOCAL\",\"LOCAL\",\"LOCAL\",\"LOCAL\",\"LOCAL\",\"LOCAL\",\"LOCAL\",\"LOCAL\",\"LOCAL\",\"LOCAL\",\"LOCAL\",\"LOCAL\",\"LOCAL\",\"LOCAL\",\"LOCAL\",\"LOCAL\",\"LOCAL\",\"LOCAL\",\"LOCAL\",\"LOCAL\",\"LOCAL\",\"LOCAL\",\"LOCAL\",\"LOCAL\",\"LOCAL\",\"LOCAL\",\"LOCAL\",\"LOCAL\",\"LOCAL\",\"LOCAL\",\"LOCAL\",\"LOCAL\",\"LOCAL\",\"LOCAL\",\"LOCAL\",\"LOCAL\",\"LOCAL\",\"LOCAL\",\"LOCAL\",\"LOCAL\",\"LOCAL\",\"LOCAL\",\"LOCAL\",\"LOCAL\",\"LOCAL\",\"LOCAL\",\"LOCAL\",\"LOCAL\",\"LOCAL\",\"LOCAL\",\"LOCAL\",\"LOCAL\",\"LOCAL\",\"LOCAL\",\"LOCAL\",\"LOCAL\",\"LOCAL\",\"LOCAL\",\"LOCAL\",\"LOCAL\",\"LOCAL\",\"LOCAL\",\"LOCAL\",\"LOCAL\",\"LOCAL\",\"LOCAL\",\"LOCAL\",\"LOCAL\",\"LOCAL\",\"LOCAL\",\"LOCAL\",\"LOCAL\",\"LOCAL\",\"LOCAL\",\"LOCAL\",\"LOCAL\",\"LOCAL\",\"LOCAL\",\"LOCAL\",\"LOCAL\",\"LOCAL\",\"LOCAL\",\"LOCAL\",\"LOCAL\",\"LOCAL\",\"LOCAL\",\"LOCAL\",\"LOCAL\",\"LOCAL\",\"LOCAL\",\"LOCAL\",\"LOCAL\",\"LOCAL\",\"LOCAL\",\"LOCAL\",\"LOCAL\",\"LOCAL\",\"LOCAL\",\"LOCAL\",\"LOCAL\",\"LOCAL\",\"LOCAL\",\"LOCAL\",\"LOCAL\",\"LOCAL\",\"LOCAL\",\"LOCAL\",\"LOCAL\",\"LOTE VIVIENDA\",\"LOTE VIVIENDA\",\"LOTE VIVIENDA\",\"LOCAL\",\"LOCAL\",\"LOCAL\",\"LOCAL\",\"LOCAL\",\"LOCAL\",\"LOTE VIVIENDA\",\"LOTE VIVIENDA\",\"LOTE VIVIENDA\",\"LOTE VIVIENDA\",\"LOTE VIVIENDA\",\"LOTE VIVIENDA\",\"LOTE VIVIENDA\",\"BODEGA\",\"BODEGA\",\"LOCAL\",\"LOTE VIVIENDA\",\"LOTE VIVIENDA\",\"LOTE VIVIENDA\",\"LOTE VIVIENDA\",\"LOTE VIVIENDA\",\"LOTE VIVIENDA\",\"BODEGA\",\"LOCAL\",\"LOCAL\",\"BODEGA\",\"LOCAL\",\"LOCAL\",\"LOCAL\",\"LOCAL\",\"LOCAL\",\"LOCAL\",\"LOCAL\",\"LOCAL\",\"LOCAL\",\"LOCAL\",\"LOCAL\",\"LOCAL\",\"LOCAL\",\"LOCAL\",\"LOCAL\",\"LOCAL\",\"LOCAL\",\"LOCAL\",\"LOCAL\",\"LOCAL\",\"LOCAL\",\"LOCAL\",\"LOCAL\",\"LOCAL\",\"LOCAL\",\"LOCAL\",\"LOCAL\",\"LOCAL\",\"LOCAL\",\"LOCAL\",\"LOCAL\",\"LOCAL\",\"LOCAL\",\"LOCAL\",\"LOCAL\",\"LOCAL\",\"LOCAL\",\"LOCAL\",\"LOCAL\",\"LOCAL\",\"LOCAL\",\"LOCAL\",\"LOCAL\",\"LOCAL\",\"LOCAL\",\"LOCAL\",\"LOCAL\",\"LOCAL\",\"LOCAL\",\"LOCAL\",\"LOCAL\",\"LOCAL\",\"LOCAL\",\"LOCAL\",\"LOCAL\",\"LOCAL\",\"LOCAL\",\"LOCAL\",\"LOCAL\",\"LOCAL\",\"LOCAL\",\"LOCAL\",\"DEPOSITO\",\"BODEGA\",\"LOCAL\",\"LOCAL\",\"LOTE VIVIENDA\",\"LOTE VIVIENDA\",\"LOTE VIVIENDA\",\"LOTE VIVIENDA\",\"LOTE AGRICOLA\",\"LOTE VIVIENDA\",\"LOCAL\",\"LOCAL\",\"CASA\",\"LOCAL\",\"LOCAL\",\"LOCAL\"],\"type\":\"histogram\",\"marker\":{\"line\":{\"color\":\"rgb(0, 0, 0)\",\"width\":1},\"color\":\"rgb(255, 100, 100)\"}}],                        {\"template\":{\"data\":{\"histogram2dcontour\":[{\"type\":\"histogram2dcontour\",\"colorbar\":{\"outlinewidth\":0,\"ticks\":\"\"},\"colorscale\":[[0.0,\"#0d0887\"],[0.1111111111111111,\"#46039f\"],[0.2222222222222222,\"#7201a8\"],[0.3333333333333333,\"#9c179e\"],[0.4444444444444444,\"#bd3786\"],[0.5555555555555556,\"#d8576b\"],[0.6666666666666666,\"#ed7953\"],[0.7777777777777778,\"#fb9f3a\"],[0.8888888888888888,\"#fdca26\"],[1.0,\"#f0f921\"]]}],\"choropleth\":[{\"type\":\"choropleth\",\"colorbar\":{\"outlinewidth\":0,\"ticks\":\"\"}}],\"histogram2d\":[{\"type\":\"histogram2d\",\"colorbar\":{\"outlinewidth\":0,\"ticks\":\"\"},\"colorscale\":[[0.0,\"#0d0887\"],[0.1111111111111111,\"#46039f\"],[0.2222222222222222,\"#7201a8\"],[0.3333333333333333,\"#9c179e\"],[0.4444444444444444,\"#bd3786\"],[0.5555555555555556,\"#d8576b\"],[0.6666666666666666,\"#ed7953\"],[0.7777777777777778,\"#fb9f3a\"],[0.8888888888888888,\"#fdca26\"],[1.0,\"#f0f921\"]]}],\"heatmap\":[{\"type\":\"heatmap\",\"colorbar\":{\"outlinewidth\":0,\"ticks\":\"\"},\"colorscale\":[[0.0,\"#0d0887\"],[0.1111111111111111,\"#46039f\"],[0.2222222222222222,\"#7201a8\"],[0.3333333333333333,\"#9c179e\"],[0.4444444444444444,\"#bd3786\"],[0.5555555555555556,\"#d8576b\"],[0.6666666666666666,\"#ed7953\"],[0.7777777777777778,\"#fb9f3a\"],[0.8888888888888888,\"#fdca26\"],[1.0,\"#f0f921\"]]}],\"heatmapgl\":[{\"type\":\"heatmapgl\",\"colorbar\":{\"outlinewidth\":0,\"ticks\":\"\"},\"colorscale\":[[0.0,\"#0d0887\"],[0.1111111111111111,\"#46039f\"],[0.2222222222222222,\"#7201a8\"],[0.3333333333333333,\"#9c179e\"],[0.4444444444444444,\"#bd3786\"],[0.5555555555555556,\"#d8576b\"],[0.6666666666666666,\"#ed7953\"],[0.7777777777777778,\"#fb9f3a\"],[0.8888888888888888,\"#fdca26\"],[1.0,\"#f0f921\"]]}],\"contourcarpet\":[{\"type\":\"contourcarpet\",\"colorbar\":{\"outlinewidth\":0,\"ticks\":\"\"}}],\"contour\":[{\"type\":\"contour\",\"colorbar\":{\"outlinewidth\":0,\"ticks\":\"\"},\"colorscale\":[[0.0,\"#0d0887\"],[0.1111111111111111,\"#46039f\"],[0.2222222222222222,\"#7201a8\"],[0.3333333333333333,\"#9c179e\"],[0.4444444444444444,\"#bd3786\"],[0.5555555555555556,\"#d8576b\"],[0.6666666666666666,\"#ed7953\"],[0.7777777777777778,\"#fb9f3a\"],[0.8888888888888888,\"#fdca26\"],[1.0,\"#f0f921\"]]}],\"surface\":[{\"type\":\"surface\",\"colorbar\":{\"outlinewidth\":0,\"ticks\":\"\"},\"colorscale\":[[0.0,\"#0d0887\"],[0.1111111111111111,\"#46039f\"],[0.2222222222222222,\"#7201a8\"],[0.3333333333333333,\"#9c179e\"],[0.4444444444444444,\"#bd3786\"],[0.5555555555555556,\"#d8576b\"],[0.6666666666666666,\"#ed7953\"],[0.7777777777777778,\"#fb9f3a\"],[0.8888888888888888,\"#fdca26\"],[1.0,\"#f0f921\"]]}],\"mesh3d\":[{\"type\":\"mesh3d\",\"colorbar\":{\"outlinewidth\":0,\"ticks\":\"\"}}],\"scatter\":[{\"fillpattern\":{\"fillmode\":\"overlay\",\"size\":10,\"solidity\":0.2},\"type\":\"scatter\"}],\"parcoords\":[{\"type\":\"parcoords\",\"line\":{\"colorbar\":{\"outlinewidth\":0,\"ticks\":\"\"}}}],\"scatterpolargl\":[{\"type\":\"scatterpolargl\",\"marker\":{\"colorbar\":{\"outlinewidth\":0,\"ticks\":\"\"}}}],\"bar\":[{\"error_x\":{\"color\":\"#2a3f5f\"},\"error_y\":{\"color\":\"#2a3f5f\"},\"marker\":{\"line\":{\"color\":\"#E5ECF6\",\"width\":0.5},\"pattern\":{\"fillmode\":\"overlay\",\"size\":10,\"solidity\":0.2}},\"type\":\"bar\"}],\"scattergeo\":[{\"type\":\"scattergeo\",\"marker\":{\"colorbar\":{\"outlinewidth\":0,\"ticks\":\"\"}}}],\"scatterpolar\":[{\"type\":\"scatterpolar\",\"marker\":{\"colorbar\":{\"outlinewidth\":0,\"ticks\":\"\"}}}],\"histogram\":[{\"marker\":{\"pattern\":{\"fillmode\":\"overlay\",\"size\":10,\"solidity\":0.2}},\"type\":\"histogram\"}],\"scattergl\":[{\"type\":\"scattergl\",\"marker\":{\"colorbar\":{\"outlinewidth\":0,\"ticks\":\"\"}}}],\"scatter3d\":[{\"type\":\"scatter3d\",\"line\":{\"colorbar\":{\"outlinewidth\":0,\"ticks\":\"\"}},\"marker\":{\"colorbar\":{\"outlinewidth\":0,\"ticks\":\"\"}}}],\"scattermapbox\":[{\"type\":\"scattermapbox\",\"marker\":{\"colorbar\":{\"outlinewidth\":0,\"ticks\":\"\"}}}],\"scatterternary\":[{\"type\":\"scatterternary\",\"marker\":{\"colorbar\":{\"outlinewidth\":0,\"ticks\":\"\"}}}],\"scattercarpet\":[{\"type\":\"scattercarpet\",\"marker\":{\"colorbar\":{\"outlinewidth\":0,\"ticks\":\"\"}}}],\"carpet\":[{\"aaxis\":{\"endlinecolor\":\"#2a3f5f\",\"gridcolor\":\"white\",\"linecolor\":\"white\",\"minorgridcolor\":\"white\",\"startlinecolor\":\"#2a3f5f\"},\"baxis\":{\"endlinecolor\":\"#2a3f5f\",\"gridcolor\":\"white\",\"linecolor\":\"white\",\"minorgridcolor\":\"white\",\"startlinecolor\":\"#2a3f5f\"},\"type\":\"carpet\"}],\"table\":[{\"cells\":{\"fill\":{\"color\":\"#EBF0F8\"},\"line\":{\"color\":\"white\"}},\"header\":{\"fill\":{\"color\":\"#C8D4E3\"},\"line\":{\"color\":\"white\"}},\"type\":\"table\"}],\"barpolar\":[{\"marker\":{\"line\":{\"color\":\"#E5ECF6\",\"width\":0.5},\"pattern\":{\"fillmode\":\"overlay\",\"size\":10,\"solidity\":0.2}},\"type\":\"barpolar\"}],\"pie\":[{\"automargin\":true,\"type\":\"pie\"}]},\"layout\":{\"autotypenumbers\":\"strict\",\"colorway\":[\"#636efa\",\"#EF553B\",\"#00cc96\",\"#ab63fa\",\"#FFA15A\",\"#19d3f3\",\"#FF6692\",\"#B6E880\",\"#FF97FF\",\"#FECB52\"],\"font\":{\"color\":\"#2a3f5f\"},\"hovermode\":\"closest\",\"hoverlabel\":{\"align\":\"left\"},\"paper_bgcolor\":\"white\",\"plot_bgcolor\":\"#E5ECF6\",\"polar\":{\"bgcolor\":\"#E5ECF6\",\"angularaxis\":{\"gridcolor\":\"white\",\"linecolor\":\"white\",\"ticks\":\"\"},\"radialaxis\":{\"gridcolor\":\"white\",\"linecolor\":\"white\",\"ticks\":\"\"}},\"ternary\":{\"bgcolor\":\"#E5ECF6\",\"aaxis\":{\"gridcolor\":\"white\",\"linecolor\":\"white\",\"ticks\":\"\"},\"baxis\":{\"gridcolor\":\"white\",\"linecolor\":\"white\",\"ticks\":\"\"},\"caxis\":{\"gridcolor\":\"white\",\"linecolor\":\"white\",\"ticks\":\"\"}},\"coloraxis\":{\"colorbar\":{\"outlinewidth\":0,\"ticks\":\"\"}},\"colorscale\":{\"sequential\":[[0.0,\"#0d0887\"],[0.1111111111111111,\"#46039f\"],[0.2222222222222222,\"#7201a8\"],[0.3333333333333333,\"#9c179e\"],[0.4444444444444444,\"#bd3786\"],[0.5555555555555556,\"#d8576b\"],[0.6666666666666666,\"#ed7953\"],[0.7777777777777778,\"#fb9f3a\"],[0.8888888888888888,\"#fdca26\"],[1.0,\"#f0f921\"]],\"sequentialminus\":[[0.0,\"#0d0887\"],[0.1111111111111111,\"#46039f\"],[0.2222222222222222,\"#7201a8\"],[0.3333333333333333,\"#9c179e\"],[0.4444444444444444,\"#bd3786\"],[0.5555555555555556,\"#d8576b\"],[0.6666666666666666,\"#ed7953\"],[0.7777777777777778,\"#fb9f3a\"],[0.8888888888888888,\"#fdca26\"],[1.0,\"#f0f921\"]],\"diverging\":[[0,\"#8e0152\"],[0.1,\"#c51b7d\"],[0.2,\"#de77ae\"],[0.3,\"#f1b6da\"],[0.4,\"#fde0ef\"],[0.5,\"#f7f7f7\"],[0.6,\"#e6f5d0\"],[0.7,\"#b8e186\"],[0.8,\"#7fbc41\"],[0.9,\"#4d9221\"],[1,\"#276419\"]]},\"xaxis\":{\"gridcolor\":\"white\",\"linecolor\":\"white\",\"ticks\":\"\",\"title\":{\"standoff\":15},\"zerolinecolor\":\"white\",\"automargin\":true,\"zerolinewidth\":2},\"yaxis\":{\"gridcolor\":\"white\",\"linecolor\":\"white\",\"ticks\":\"\",\"title\":{\"standoff\":15},\"zerolinecolor\":\"white\",\"automargin\":true,\"zerolinewidth\":2},\"scene\":{\"xaxis\":{\"backgroundcolor\":\"#E5ECF6\",\"gridcolor\":\"white\",\"linecolor\":\"white\",\"showbackground\":true,\"ticks\":\"\",\"zerolinecolor\":\"white\",\"gridwidth\":2},\"yaxis\":{\"backgroundcolor\":\"#E5ECF6\",\"gridcolor\":\"white\",\"linecolor\":\"white\",\"showbackground\":true,\"ticks\":\"\",\"zerolinecolor\":\"white\",\"gridwidth\":2},\"zaxis\":{\"backgroundcolor\":\"#E5ECF6\",\"gridcolor\":\"white\",\"linecolor\":\"white\",\"showbackground\":true,\"ticks\":\"\",\"zerolinecolor\":\"white\",\"gridwidth\":2}},\"shapedefaults\":{\"line\":{\"color\":\"#2a3f5f\"}},\"annotationdefaults\":{\"arrowcolor\":\"#2a3f5f\",\"arrowhead\":0,\"arrowwidth\":1},\"geo\":{\"bgcolor\":\"white\",\"landcolor\":\"#E5ECF6\",\"subunitcolor\":\"white\",\"showland\":true,\"showlakes\":true,\"lakecolor\":\"white\"},\"title\":{\"x\":0.05},\"mapbox\":{\"style\":\"light\"}}},\"xaxis\":{\"title\":{\"text\":\"Tipo de Inmueble\"},\"tickangle\":-45},\"title\":{\"text\":\"N\\u00famero de Inmuebles por Tipo de Inmueble\"},\"yaxis\":{\"title\":{\"text\":\"N\\u00famero de Inmuebles\"}},\"height\":400},                        {\"responsive\": true}                    ).then(function(){\n",
              "                            \n",
              "var gd = document.getElementById('b9928248-0cee-4b63-9ea3-8f100eaddc6e');\n",
              "var x = new MutationObserver(function (mutations, observer) {{\n",
              "        var display = window.getComputedStyle(gd).display;\n",
              "        if (!display || display === 'none') {{\n",
              "            console.log([gd, 'removed!']);\n",
              "            Plotly.purge(gd);\n",
              "            observer.disconnect();\n",
              "        }}\n",
              "}});\n",
              "\n",
              "// Listen for the removal of the full notebook cells\n",
              "var notebookContainer = gd.closest('#notebook-container');\n",
              "if (notebookContainer) {{\n",
              "    x.observe(notebookContainer, {childList: true});\n",
              "}}\n",
              "\n",
              "// Listen for the clearing of the current output cell\n",
              "var outputEl = gd.closest('.output');\n",
              "if (outputEl) {{\n",
              "    x.observe(outputEl, {childList: true});\n",
              "}}\n",
              "\n",
              "                        })                };                            </script>        </div>\n",
              "</body>\n",
              "</html>"
            ]
          },
          "metadata": {}
        }
      ]
    },
    {
      "cell_type": "code",
      "source": [
        "# Grafico de barras interactivo.\n",
        "# Agrupamiento de los datos\n",
        "conteo_inmuebles = df.groupby([\"Ciudad\", \"Tipo de Inmueble\"]).size().reset_index(name='Cantidad')\n",
        "\n",
        "# Crear el gráfico interactivo\n",
        "fig = px.bar(conteo_inmuebles,\n",
        "             x='Ciudad',\n",
        "             y='Cantidad',\n",
        "             color='Tipo de Inmueble',\n",
        "             title='Cantidad de Inmuebles por Ciudad y Tipo de Inmueble',\n",
        "             labels={'Cantidad': 'Número de Inmuebles'},\n",
        "             height=600)\n",
        "\n",
        "# Ajuste del diseño para una mejor visualización\n",
        "fig.update_layout(\n",
        "    xaxis_title='Ciudad',\n",
        "    yaxis_title='Número de Inmuebles',\n",
        "    coloraxis_colorbar_title='Tipo de Inmueble'\n",
        ")\n",
        "\n",
        "# Mostrar el gráfico\n",
        "fig.show()"
      ],
      "metadata": {
        "colab": {
          "base_uri": "https://localhost:8080/",
          "height": 617
        },
        "id": "KnSR3CTq9B0F",
        "outputId": "1616411f-d646-47d6-980c-8d1ca1c24d9a"
      },
      "execution_count": 14,
      "outputs": [
        {
          "output_type": "display_data",
          "data": {
            "text/html": [
              "<html>\n",
              "<head><meta charset=\"utf-8\" /></head>\n",
              "<body>\n",
              "    <div>            <script src=\"https://cdnjs.cloudflare.com/ajax/libs/mathjax/2.7.5/MathJax.js?config=TeX-AMS-MML_SVG\"></script><script type=\"text/javascript\">if (window.MathJax && window.MathJax.Hub && window.MathJax.Hub.Config) {window.MathJax.Hub.Config({SVG: {font: \"STIX-Web\"}});}</script>                <script type=\"text/javascript\">window.PlotlyConfig = {MathJaxConfig: 'local'};</script>\n",
              "        <script charset=\"utf-8\" src=\"https://cdn.plot.ly/plotly-2.24.1.min.js\"></script>                <div id=\"40cdd64a-1177-4da1-8541-a50b05800da4\" class=\"plotly-graph-div\" style=\"height:600px; width:100%;\"></div>            <script type=\"text/javascript\">                                    window.PLOTLYENV=window.PLOTLYENV || {};                                    if (document.getElementById(\"40cdd64a-1177-4da1-8541-a50b05800da4\")) {                    Plotly.newPlot(                        \"40cdd64a-1177-4da1-8541-a50b05800da4\",                        [{\"alignmentgroup\":\"True\",\"hovertemplate\":\"Tipo de Inmueble=LOTE VIVIENDA\\u003cbr\\u003eCiudad=%{x}\\u003cbr\\u003eN\\u00famero de Inmuebles=%{y}\\u003cextra\\u003e\\u003c\\u002fextra\\u003e\",\"legendgroup\":\"LOTE VIVIENDA\",\"marker\":{\"color\":\"#636efa\",\"pattern\":{\"shape\":\"\"}},\"name\":\"LOTE VIVIENDA\",\"offsetgroup\":\"LOTE VIVIENDA\",\"orientation\":\"v\",\"showlegend\":true,\"textposition\":\"auto\",\"x\":[\"ACANDI\",\"BARRANQUILLA\",\"BUENAVENTURA\",\"CALI\",\"CALIMA EL DARIEN\",\"EL PLAYON\",\"ENVIGADO\",\"LA CALERA\",\"MANIZALES\",\"PACORA\",\"PEREIRA\",\"SAN MARTIN\",\"TULUA\"],\"xaxis\":\"x\",\"y\":[2,2,1,1,9,1,1,1,1,16,11,1,1],\"yaxis\":\"y\",\"type\":\"bar\"},{\"alignmentgroup\":\"True\",\"hovertemplate\":\"Tipo de Inmueble=EDIFICIO\\u003cbr\\u003eCiudad=%{x}\\u003cbr\\u003eN\\u00famero de Inmuebles=%{y}\\u003cextra\\u003e\\u003c\\u002fextra\\u003e\",\"legendgroup\":\"EDIFICIO\",\"marker\":{\"color\":\"#EF553B\",\"pattern\":{\"shape\":\"\"}},\"name\":\"EDIFICIO\",\"offsetgroup\":\"EDIFICIO\",\"orientation\":\"v\",\"showlegend\":true,\"textposition\":\"auto\",\"x\":[\"BARRANQUILLA\",\"BOGOTA\",\"SOATA\"],\"xaxis\":\"x\",\"y\":[1,2,1],\"yaxis\":\"y\",\"type\":\"bar\"},{\"alignmentgroup\":\"True\",\"hovertemplate\":\"Tipo de Inmueble=LOCAL\\u003cbr\\u003eCiudad=%{x}\\u003cbr\\u003eN\\u00famero de Inmuebles=%{y}\\u003cextra\\u003e\\u003c\\u002fextra\\u003e\",\"legendgroup\":\"LOCAL\",\"marker\":{\"color\":\"#00cc96\",\"pattern\":{\"shape\":\"\"}},\"name\":\"LOCAL\",\"offsetgroup\":\"LOCAL\",\"orientation\":\"v\",\"showlegend\":true,\"textposition\":\"auto\",\"x\":[\"BARRANQUILLA\",\"BOGOTA\",\"CALI\",\"GIRARDOT\",\"MANIZALES\",\"MARSELLA\",\"MEDELLIN\",\"VILLAVICENCIO\"],\"xaxis\":\"x\",\"y\":[1,5,4,2,2,1,2,288],\"yaxis\":\"y\",\"type\":\"bar\"},{\"alignmentgroup\":\"True\",\"hovertemplate\":\"Tipo de Inmueble=LOTE CON CONSTRUCCION\\u003cbr\\u003eCiudad=%{x}\\u003cbr\\u003eN\\u00famero de Inmuebles=%{y}\\u003cextra\\u003e\\u003c\\u002fextra\\u003e\",\"legendgroup\":\"LOTE CON CONSTRUCCION\",\"marker\":{\"color\":\"#ab63fa\",\"pattern\":{\"shape\":\"\"}},\"name\":\"LOTE CON CONSTRUCCION\",\"offsetgroup\":\"LOTE CON CONSTRUCCION\",\"orientation\":\"v\",\"showlegend\":true,\"textposition\":\"auto\",\"x\":[\"BARRANQUILLA\",\"CALI\",\"EL ROSAL\",\"LA CEJA\",\"PUERTO LOPEZ\",\"SANMIGUEL\",\"SANTANDER DE QUILICHAO\",\"SONSON\",\"TARAZA\"],\"xaxis\":\"x\",\"y\":[1,2,1,1,1,1,1,1,6],\"yaxis\":\"y\",\"type\":\"bar\"},{\"alignmentgroup\":\"True\",\"hovertemplate\":\"Tipo de Inmueble=OFICINA\\u003cbr\\u003eCiudad=%{x}\\u003cbr\\u003eN\\u00famero de Inmuebles=%{y}\\u003cextra\\u003e\\u003c\\u002fextra\\u003e\",\"legendgroup\":\"OFICINA\",\"marker\":{\"color\":\"#FFA15A\",\"pattern\":{\"shape\":\"\"}},\"name\":\"OFICINA\",\"offsetgroup\":\"OFICINA\",\"orientation\":\"v\",\"showlegend\":true,\"textposition\":\"auto\",\"x\":[\"BARRANQUILLA\",\"BOGOTA\",\"MEDELLIN\"],\"xaxis\":\"x\",\"y\":[12,2,3],\"yaxis\":\"y\",\"type\":\"bar\"},{\"alignmentgroup\":\"True\",\"hovertemplate\":\"Tipo de Inmueble=APARTAMENTO\\u003cbr\\u003eCiudad=%{x}\\u003cbr\\u003eN\\u00famero de Inmuebles=%{y}\\u003cextra\\u003e\\u003c\\u002fextra\\u003e\",\"legendgroup\":\"APARTAMENTO\",\"marker\":{\"color\":\"#19d3f3\",\"pattern\":{\"shape\":\"\"}},\"name\":\"APARTAMENTO\",\"offsetgroup\":\"APARTAMENTO\",\"orientation\":\"v\",\"showlegend\":true,\"textposition\":\"auto\",\"x\":[\"BOGOTA\",\"CARTAGENA\",\"MEDELLIN\",\"TARAZA\"],\"xaxis\":\"x\",\"y\":[2,2,1,2],\"yaxis\":\"y\",\"type\":\"bar\"},{\"alignmentgroup\":\"True\",\"hovertemplate\":\"Tipo de Inmueble=BODEGA\\u003cbr\\u003eCiudad=%{x}\\u003cbr\\u003eN\\u00famero de Inmuebles=%{y}\\u003cextra\\u003e\\u003c\\u002fextra\\u003e\",\"legendgroup\":\"BODEGA\",\"marker\":{\"color\":\"#FF6692\",\"pattern\":{\"shape\":\"\"}},\"name\":\"BODEGA\",\"offsetgroup\":\"BODEGA\",\"orientation\":\"v\",\"showlegend\":true,\"textposition\":\"auto\",\"x\":[\"BOGOTA\",\"BUCARAMANGA\",\"CALI\",\"CARTAGENA\",\"FUNZA\",\"PEREIRA\",\"TURBO\"],\"xaxis\":\"x\",\"y\":[3,1,1,15,1,1,1],\"yaxis\":\"y\",\"type\":\"bar\"},{\"alignmentgroup\":\"True\",\"hovertemplate\":\"Tipo de Inmueble=CASA\\u003cbr\\u003eCiudad=%{x}\\u003cbr\\u003eN\\u00famero de Inmuebles=%{y}\\u003cextra\\u003e\\u003c\\u002fextra\\u003e\",\"legendgroup\":\"CASA\",\"marker\":{\"color\":\"#B6E880\",\"pattern\":{\"shape\":\"\"}},\"name\":\"CASA\",\"offsetgroup\":\"CASA\",\"orientation\":\"v\",\"showlegend\":true,\"textposition\":\"auto\",\"x\":[\"BOGOTA\",\"MONTERIA\",\"PIEDECUESTA\",\"PUERTO BOYACA\",\"SONSON\",\"TIERRALTA\",\"VILLAVICENCIO\"],\"xaxis\":\"x\",\"y\":[6,2,1,4,1,1,2],\"yaxis\":\"y\",\"type\":\"bar\"},{\"alignmentgroup\":\"True\",\"hovertemplate\":\"Tipo de Inmueble=GARAJE\\u003cbr\\u003eCiudad=%{x}\\u003cbr\\u003eN\\u00famero de Inmuebles=%{y}\\u003cextra\\u003e\\u003c\\u002fextra\\u003e\",\"legendgroup\":\"GARAJE\",\"marker\":{\"color\":\"#FF97FF\",\"pattern\":{\"shape\":\"\"}},\"name\":\"GARAJE\",\"offsetgroup\":\"GARAJE\",\"orientation\":\"v\",\"showlegend\":true,\"textposition\":\"auto\",\"x\":[\"BOGOTA\"],\"xaxis\":\"x\",\"y\":[2],\"yaxis\":\"y\",\"type\":\"bar\"},{\"alignmentgroup\":\"True\",\"hovertemplate\":\"Tipo de Inmueble=LOTE COMERCIAL\\u003cbr\\u003eCiudad=%{x}\\u003cbr\\u003eN\\u00famero de Inmuebles=%{y}\\u003cextra\\u003e\\u003c\\u002fextra\\u003e\",\"legendgroup\":\"LOTE COMERCIAL\",\"marker\":{\"color\":\"#FECB52\",\"pattern\":{\"shape\":\"\"}},\"name\":\"LOTE COMERCIAL\",\"offsetgroup\":\"LOTE COMERCIAL\",\"orientation\":\"v\",\"showlegend\":true,\"textposition\":\"auto\",\"x\":[\"BOGOTA\"],\"xaxis\":\"x\",\"y\":[1],\"yaxis\":\"y\",\"type\":\"bar\"},{\"alignmentgroup\":\"True\",\"hovertemplate\":\"Tipo de Inmueble=EDIFICIO OFICINAS\\u003cbr\\u003eCiudad=%{x}\\u003cbr\\u003eN\\u00famero de Inmuebles=%{y}\\u003cextra\\u003e\\u003c\\u002fextra\\u003e\",\"legendgroup\":\"EDIFICIO OFICINAS\",\"marker\":{\"color\":\"#636efa\",\"pattern\":{\"shape\":\"\"}},\"name\":\"EDIFICIO OFICINAS\",\"offsetgroup\":\"EDIFICIO OFICINAS\",\"orientation\":\"v\",\"showlegend\":true,\"textposition\":\"auto\",\"x\":[\"BUCARAMANGA\"],\"xaxis\":\"x\",\"y\":[1],\"yaxis\":\"y\",\"type\":\"bar\"},{\"alignmentgroup\":\"True\",\"hovertemplate\":\"Tipo de Inmueble=FINCA\\u003cbr\\u003eCiudad=%{x}\\u003cbr\\u003eN\\u00famero de Inmuebles=%{y}\\u003cextra\\u003e\\u003c\\u002fextra\\u003e\",\"legendgroup\":\"FINCA\",\"marker\":{\"color\":\"#EF553B\",\"pattern\":{\"shape\":\"\"}},\"name\":\"FINCA\",\"offsetgroup\":\"FINCA\",\"orientation\":\"v\",\"showlegend\":true,\"textposition\":\"auto\",\"x\":[\"BUENAVISTA\",\"CHIA\",\"LA DORADA\",\"MONTERIA\",\"NORCASIA\",\"PEREIRA\",\"VALENCIA\"],\"xaxis\":\"x\",\"y\":[1,1,1,3,1,1,2],\"yaxis\":\"y\",\"type\":\"bar\"},{\"alignmentgroup\":\"True\",\"hovertemplate\":\"Tipo de Inmueble=LOTE MIXTO\\u003cbr\\u003eCiudad=%{x}\\u003cbr\\u003eN\\u00famero de Inmuebles=%{y}\\u003cextra\\u003e\\u003c\\u002fextra\\u003e\",\"legendgroup\":\"LOTE MIXTO\",\"marker\":{\"color\":\"#00cc96\",\"pattern\":{\"shape\":\"\"}},\"name\":\"LOTE MIXTO\",\"offsetgroup\":\"LOTE MIXTO\",\"orientation\":\"v\",\"showlegend\":true,\"textposition\":\"auto\",\"x\":[\"BUGA\",\"CALI\",\"CALIMA EL DARIEN\"],\"xaxis\":\"x\",\"y\":[1,1,1],\"yaxis\":\"y\",\"type\":\"bar\"},{\"alignmentgroup\":\"True\",\"hovertemplate\":\"Tipo de Inmueble=DEPOSITO\\u003cbr\\u003eCiudad=%{x}\\u003cbr\\u003eN\\u00famero de Inmuebles=%{y}\\u003cextra\\u003e\\u003c\\u002fextra\\u003e\",\"legendgroup\":\"DEPOSITO\",\"marker\":{\"color\":\"#ab63fa\",\"pattern\":{\"shape\":\"\"}},\"name\":\"DEPOSITO\",\"offsetgroup\":\"DEPOSITO\",\"orientation\":\"v\",\"showlegend\":true,\"textposition\":\"auto\",\"x\":[\"CALI\"],\"xaxis\":\"x\",\"y\":[1],\"yaxis\":\"y\",\"type\":\"bar\"},{\"alignmentgroup\":\"True\",\"hovertemplate\":\"Tipo de Inmueble=LOTE INDUSTRIAL\\u003cbr\\u003eCiudad=%{x}\\u003cbr\\u003eN\\u00famero de Inmuebles=%{y}\\u003cextra\\u003e\\u003c\\u002fextra\\u003e\",\"legendgroup\":\"LOTE INDUSTRIAL\",\"marker\":{\"color\":\"#FFA15A\",\"pattern\":{\"shape\":\"\"}},\"name\":\"LOTE INDUSTRIAL\",\"offsetgroup\":\"LOTE INDUSTRIAL\",\"orientation\":\"v\",\"showlegend\":true,\"textposition\":\"auto\",\"x\":[\"CARTAGENA\",\"SANTANDER DE QUILICHAO\"],\"xaxis\":\"x\",\"y\":[1,1],\"yaxis\":\"y\",\"type\":\"bar\"},{\"alignmentgroup\":\"True\",\"hovertemplate\":\"Tipo de Inmueble=LOTE\\u003cbr\\u003eCiudad=%{x}\\u003cbr\\u003eN\\u00famero de Inmuebles=%{y}\\u003cextra\\u003e\\u003c\\u002fextra\\u003e\",\"legendgroup\":\"LOTE\",\"marker\":{\"color\":\"#19d3f3\",\"pattern\":{\"shape\":\"\"}},\"name\":\"LOTE\",\"offsetgroup\":\"LOTE\",\"orientation\":\"v\",\"showlegend\":true,\"textposition\":\"auto\",\"x\":[\"CAUCASIA\",\"TARAZA\"],\"xaxis\":\"x\",\"y\":[1,2],\"yaxis\":\"y\",\"type\":\"bar\"},{\"alignmentgroup\":\"True\",\"hovertemplate\":\"Tipo de Inmueble=CLINICA\\u003cbr\\u003eCiudad=%{x}\\u003cbr\\u003eN\\u00famero de Inmuebles=%{y}\\u003cextra\\u003e\\u003c\\u002fextra\\u003e\",\"legendgroup\":\"CLINICA\",\"marker\":{\"color\":\"#FF6692\",\"pattern\":{\"shape\":\"\"}},\"name\":\"CLINICA\",\"offsetgroup\":\"CLINICA\",\"orientation\":\"v\",\"showlegend\":true,\"textposition\":\"auto\",\"x\":[\"PEREIRA\",\"SOGAMOSO\"],\"xaxis\":\"x\",\"y\":[1,1],\"yaxis\":\"y\",\"type\":\"bar\"},{\"alignmentgroup\":\"True\",\"hovertemplate\":\"Tipo de Inmueble=HOTEL\\u003cbr\\u003eCiudad=%{x}\\u003cbr\\u003eN\\u00famero de Inmuebles=%{y}\\u003cextra\\u003e\\u003c\\u002fextra\\u003e\",\"legendgroup\":\"HOTEL\",\"marker\":{\"color\":\"#B6E880\",\"pattern\":{\"shape\":\"\"}},\"name\":\"HOTEL\",\"offsetgroup\":\"HOTEL\",\"orientation\":\"v\",\"showlegend\":true,\"textposition\":\"auto\",\"x\":[\"RICAURTE\"],\"xaxis\":\"x\",\"y\":[1],\"yaxis\":\"y\",\"type\":\"bar\"},{\"alignmentgroup\":\"True\",\"hovertemplate\":\"Tipo de Inmueble=LOTE AGRICOLA\\u003cbr\\u003eCiudad=%{x}\\u003cbr\\u003eN\\u00famero de Inmuebles=%{y}\\u003cextra\\u003e\\u003c\\u002fextra\\u003e\",\"legendgroup\":\"LOTE AGRICOLA\",\"marker\":{\"color\":\"#FF97FF\",\"pattern\":{\"shape\":\"\"}},\"name\":\"LOTE AGRICOLA\",\"offsetgroup\":\"LOTE AGRICOLA\",\"orientation\":\"v\",\"showlegend\":true,\"textposition\":\"auto\",\"x\":[\"VALENCIA\"],\"xaxis\":\"x\",\"y\":[1],\"yaxis\":\"y\",\"type\":\"bar\"}],                        {\"template\":{\"data\":{\"histogram2dcontour\":[{\"type\":\"histogram2dcontour\",\"colorbar\":{\"outlinewidth\":0,\"ticks\":\"\"},\"colorscale\":[[0.0,\"#0d0887\"],[0.1111111111111111,\"#46039f\"],[0.2222222222222222,\"#7201a8\"],[0.3333333333333333,\"#9c179e\"],[0.4444444444444444,\"#bd3786\"],[0.5555555555555556,\"#d8576b\"],[0.6666666666666666,\"#ed7953\"],[0.7777777777777778,\"#fb9f3a\"],[0.8888888888888888,\"#fdca26\"],[1.0,\"#f0f921\"]]}],\"choropleth\":[{\"type\":\"choropleth\",\"colorbar\":{\"outlinewidth\":0,\"ticks\":\"\"}}],\"histogram2d\":[{\"type\":\"histogram2d\",\"colorbar\":{\"outlinewidth\":0,\"ticks\":\"\"},\"colorscale\":[[0.0,\"#0d0887\"],[0.1111111111111111,\"#46039f\"],[0.2222222222222222,\"#7201a8\"],[0.3333333333333333,\"#9c179e\"],[0.4444444444444444,\"#bd3786\"],[0.5555555555555556,\"#d8576b\"],[0.6666666666666666,\"#ed7953\"],[0.7777777777777778,\"#fb9f3a\"],[0.8888888888888888,\"#fdca26\"],[1.0,\"#f0f921\"]]}],\"heatmap\":[{\"type\":\"heatmap\",\"colorbar\":{\"outlinewidth\":0,\"ticks\":\"\"},\"colorscale\":[[0.0,\"#0d0887\"],[0.1111111111111111,\"#46039f\"],[0.2222222222222222,\"#7201a8\"],[0.3333333333333333,\"#9c179e\"],[0.4444444444444444,\"#bd3786\"],[0.5555555555555556,\"#d8576b\"],[0.6666666666666666,\"#ed7953\"],[0.7777777777777778,\"#fb9f3a\"],[0.8888888888888888,\"#fdca26\"],[1.0,\"#f0f921\"]]}],\"heatmapgl\":[{\"type\":\"heatmapgl\",\"colorbar\":{\"outlinewidth\":0,\"ticks\":\"\"},\"colorscale\":[[0.0,\"#0d0887\"],[0.1111111111111111,\"#46039f\"],[0.2222222222222222,\"#7201a8\"],[0.3333333333333333,\"#9c179e\"],[0.4444444444444444,\"#bd3786\"],[0.5555555555555556,\"#d8576b\"],[0.6666666666666666,\"#ed7953\"],[0.7777777777777778,\"#fb9f3a\"],[0.8888888888888888,\"#fdca26\"],[1.0,\"#f0f921\"]]}],\"contourcarpet\":[{\"type\":\"contourcarpet\",\"colorbar\":{\"outlinewidth\":0,\"ticks\":\"\"}}],\"contour\":[{\"type\":\"contour\",\"colorbar\":{\"outlinewidth\":0,\"ticks\":\"\"},\"colorscale\":[[0.0,\"#0d0887\"],[0.1111111111111111,\"#46039f\"],[0.2222222222222222,\"#7201a8\"],[0.3333333333333333,\"#9c179e\"],[0.4444444444444444,\"#bd3786\"],[0.5555555555555556,\"#d8576b\"],[0.6666666666666666,\"#ed7953\"],[0.7777777777777778,\"#fb9f3a\"],[0.8888888888888888,\"#fdca26\"],[1.0,\"#f0f921\"]]}],\"surface\":[{\"type\":\"surface\",\"colorbar\":{\"outlinewidth\":0,\"ticks\":\"\"},\"colorscale\":[[0.0,\"#0d0887\"],[0.1111111111111111,\"#46039f\"],[0.2222222222222222,\"#7201a8\"],[0.3333333333333333,\"#9c179e\"],[0.4444444444444444,\"#bd3786\"],[0.5555555555555556,\"#d8576b\"],[0.6666666666666666,\"#ed7953\"],[0.7777777777777778,\"#fb9f3a\"],[0.8888888888888888,\"#fdca26\"],[1.0,\"#f0f921\"]]}],\"mesh3d\":[{\"type\":\"mesh3d\",\"colorbar\":{\"outlinewidth\":0,\"ticks\":\"\"}}],\"scatter\":[{\"fillpattern\":{\"fillmode\":\"overlay\",\"size\":10,\"solidity\":0.2},\"type\":\"scatter\"}],\"parcoords\":[{\"type\":\"parcoords\",\"line\":{\"colorbar\":{\"outlinewidth\":0,\"ticks\":\"\"}}}],\"scatterpolargl\":[{\"type\":\"scatterpolargl\",\"marker\":{\"colorbar\":{\"outlinewidth\":0,\"ticks\":\"\"}}}],\"bar\":[{\"error_x\":{\"color\":\"#2a3f5f\"},\"error_y\":{\"color\":\"#2a3f5f\"},\"marker\":{\"line\":{\"color\":\"#E5ECF6\",\"width\":0.5},\"pattern\":{\"fillmode\":\"overlay\",\"size\":10,\"solidity\":0.2}},\"type\":\"bar\"}],\"scattergeo\":[{\"type\":\"scattergeo\",\"marker\":{\"colorbar\":{\"outlinewidth\":0,\"ticks\":\"\"}}}],\"scatterpolar\":[{\"type\":\"scatterpolar\",\"marker\":{\"colorbar\":{\"outlinewidth\":0,\"ticks\":\"\"}}}],\"histogram\":[{\"marker\":{\"pattern\":{\"fillmode\":\"overlay\",\"size\":10,\"solidity\":0.2}},\"type\":\"histogram\"}],\"scattergl\":[{\"type\":\"scattergl\",\"marker\":{\"colorbar\":{\"outlinewidth\":0,\"ticks\":\"\"}}}],\"scatter3d\":[{\"type\":\"scatter3d\",\"line\":{\"colorbar\":{\"outlinewidth\":0,\"ticks\":\"\"}},\"marker\":{\"colorbar\":{\"outlinewidth\":0,\"ticks\":\"\"}}}],\"scattermapbox\":[{\"type\":\"scattermapbox\",\"marker\":{\"colorbar\":{\"outlinewidth\":0,\"ticks\":\"\"}}}],\"scatterternary\":[{\"type\":\"scatterternary\",\"marker\":{\"colorbar\":{\"outlinewidth\":0,\"ticks\":\"\"}}}],\"scattercarpet\":[{\"type\":\"scattercarpet\",\"marker\":{\"colorbar\":{\"outlinewidth\":0,\"ticks\":\"\"}}}],\"carpet\":[{\"aaxis\":{\"endlinecolor\":\"#2a3f5f\",\"gridcolor\":\"white\",\"linecolor\":\"white\",\"minorgridcolor\":\"white\",\"startlinecolor\":\"#2a3f5f\"},\"baxis\":{\"endlinecolor\":\"#2a3f5f\",\"gridcolor\":\"white\",\"linecolor\":\"white\",\"minorgridcolor\":\"white\",\"startlinecolor\":\"#2a3f5f\"},\"type\":\"carpet\"}],\"table\":[{\"cells\":{\"fill\":{\"color\":\"#EBF0F8\"},\"line\":{\"color\":\"white\"}},\"header\":{\"fill\":{\"color\":\"#C8D4E3\"},\"line\":{\"color\":\"white\"}},\"type\":\"table\"}],\"barpolar\":[{\"marker\":{\"line\":{\"color\":\"#E5ECF6\",\"width\":0.5},\"pattern\":{\"fillmode\":\"overlay\",\"size\":10,\"solidity\":0.2}},\"type\":\"barpolar\"}],\"pie\":[{\"automargin\":true,\"type\":\"pie\"}]},\"layout\":{\"autotypenumbers\":\"strict\",\"colorway\":[\"#636efa\",\"#EF553B\",\"#00cc96\",\"#ab63fa\",\"#FFA15A\",\"#19d3f3\",\"#FF6692\",\"#B6E880\",\"#FF97FF\",\"#FECB52\"],\"font\":{\"color\":\"#2a3f5f\"},\"hovermode\":\"closest\",\"hoverlabel\":{\"align\":\"left\"},\"paper_bgcolor\":\"white\",\"plot_bgcolor\":\"#E5ECF6\",\"polar\":{\"bgcolor\":\"#E5ECF6\",\"angularaxis\":{\"gridcolor\":\"white\",\"linecolor\":\"white\",\"ticks\":\"\"},\"radialaxis\":{\"gridcolor\":\"white\",\"linecolor\":\"white\",\"ticks\":\"\"}},\"ternary\":{\"bgcolor\":\"#E5ECF6\",\"aaxis\":{\"gridcolor\":\"white\",\"linecolor\":\"white\",\"ticks\":\"\"},\"baxis\":{\"gridcolor\":\"white\",\"linecolor\":\"white\",\"ticks\":\"\"},\"caxis\":{\"gridcolor\":\"white\",\"linecolor\":\"white\",\"ticks\":\"\"}},\"coloraxis\":{\"colorbar\":{\"outlinewidth\":0,\"ticks\":\"\"}},\"colorscale\":{\"sequential\":[[0.0,\"#0d0887\"],[0.1111111111111111,\"#46039f\"],[0.2222222222222222,\"#7201a8\"],[0.3333333333333333,\"#9c179e\"],[0.4444444444444444,\"#bd3786\"],[0.5555555555555556,\"#d8576b\"],[0.6666666666666666,\"#ed7953\"],[0.7777777777777778,\"#fb9f3a\"],[0.8888888888888888,\"#fdca26\"],[1.0,\"#f0f921\"]],\"sequentialminus\":[[0.0,\"#0d0887\"],[0.1111111111111111,\"#46039f\"],[0.2222222222222222,\"#7201a8\"],[0.3333333333333333,\"#9c179e\"],[0.4444444444444444,\"#bd3786\"],[0.5555555555555556,\"#d8576b\"],[0.6666666666666666,\"#ed7953\"],[0.7777777777777778,\"#fb9f3a\"],[0.8888888888888888,\"#fdca26\"],[1.0,\"#f0f921\"]],\"diverging\":[[0,\"#8e0152\"],[0.1,\"#c51b7d\"],[0.2,\"#de77ae\"],[0.3,\"#f1b6da\"],[0.4,\"#fde0ef\"],[0.5,\"#f7f7f7\"],[0.6,\"#e6f5d0\"],[0.7,\"#b8e186\"],[0.8,\"#7fbc41\"],[0.9,\"#4d9221\"],[1,\"#276419\"]]},\"xaxis\":{\"gridcolor\":\"white\",\"linecolor\":\"white\",\"ticks\":\"\",\"title\":{\"standoff\":15},\"zerolinecolor\":\"white\",\"automargin\":true,\"zerolinewidth\":2},\"yaxis\":{\"gridcolor\":\"white\",\"linecolor\":\"white\",\"ticks\":\"\",\"title\":{\"standoff\":15},\"zerolinecolor\":\"white\",\"automargin\":true,\"zerolinewidth\":2},\"scene\":{\"xaxis\":{\"backgroundcolor\":\"#E5ECF6\",\"gridcolor\":\"white\",\"linecolor\":\"white\",\"showbackground\":true,\"ticks\":\"\",\"zerolinecolor\":\"white\",\"gridwidth\":2},\"yaxis\":{\"backgroundcolor\":\"#E5ECF6\",\"gridcolor\":\"white\",\"linecolor\":\"white\",\"showbackground\":true,\"ticks\":\"\",\"zerolinecolor\":\"white\",\"gridwidth\":2},\"zaxis\":{\"backgroundcolor\":\"#E5ECF6\",\"gridcolor\":\"white\",\"linecolor\":\"white\",\"showbackground\":true,\"ticks\":\"\",\"zerolinecolor\":\"white\",\"gridwidth\":2}},\"shapedefaults\":{\"line\":{\"color\":\"#2a3f5f\"}},\"annotationdefaults\":{\"arrowcolor\":\"#2a3f5f\",\"arrowhead\":0,\"arrowwidth\":1},\"geo\":{\"bgcolor\":\"white\",\"landcolor\":\"#E5ECF6\",\"subunitcolor\":\"white\",\"showland\":true,\"showlakes\":true,\"lakecolor\":\"white\"},\"title\":{\"x\":0.05},\"mapbox\":{\"style\":\"light\"}}},\"xaxis\":{\"anchor\":\"y\",\"domain\":[0.0,1.0],\"title\":{\"text\":\"Ciudad\"}},\"yaxis\":{\"anchor\":\"x\",\"domain\":[0.0,1.0],\"title\":{\"text\":\"N\\u00famero de Inmuebles\"}},\"legend\":{\"title\":{\"text\":\"Tipo de Inmueble\"},\"tracegroupgap\":0},\"title\":{\"text\":\"Cantidad de Inmuebles por Ciudad y Tipo de Inmueble\"},\"barmode\":\"relative\",\"height\":600,\"coloraxis\":{\"colorbar\":{\"title\":{\"text\":\"Tipo de Inmueble\"}}}},                        {\"responsive\": true}                    ).then(function(){\n",
              "                            \n",
              "var gd = document.getElementById('40cdd64a-1177-4da1-8541-a50b05800da4');\n",
              "var x = new MutationObserver(function (mutations, observer) {{\n",
              "        var display = window.getComputedStyle(gd).display;\n",
              "        if (!display || display === 'none') {{\n",
              "            console.log([gd, 'removed!']);\n",
              "            Plotly.purge(gd);\n",
              "            observer.disconnect();\n",
              "        }}\n",
              "}});\n",
              "\n",
              "// Listen for the removal of the full notebook cells\n",
              "var notebookContainer = gd.closest('#notebook-container');\n",
              "if (notebookContainer) {{\n",
              "    x.observe(notebookContainer, {childList: true});\n",
              "}}\n",
              "\n",
              "// Listen for the clearing of the current output cell\n",
              "var outputEl = gd.closest('.output');\n",
              "if (outputEl) {{\n",
              "    x.observe(outputEl, {childList: true});\n",
              "}}\n",
              "\n",
              "                        })                };                            </script>        </div>\n",
              "</body>\n",
              "</html>"
            ]
          },
          "metadata": {}
        }
      ]
    },
    {
      "cell_type": "code",
      "source": [
        "# Gráfico de dispersion\n",
        "df['Area Construida'] = pd.to_numeric(df['Area Construida'], errors='coerce')\n",
        "df['Precio'] = pd.to_numeric(df['Precio'], errors='coerce')\n",
        "\n",
        "# Agrupamiento por ciudad y tipo de inmueble y contar el número de inmuebles\n",
        "df_grouped = df.groupby(['Ciudad', 'Tipo de Inmueble']).size().reset_index(name='Número de Inmuebles')\n",
        "\n",
        "# Gráfico de dispersión interactivo\n",
        "fig = px.scatter(df_grouped,\n",
        "                 x='Ciudad',\n",
        "                 y='Tipo de Inmueble',\n",
        "                 size='Número de Inmuebles',  # Tamaño de los puntos basado en la cantidad de inmuebles\n",
        "                 color='Tipo de Inmueble',    # Diferenciar los tipos de inmueble por color\n",
        "                 title='Número de Inmuebles por Ciudad y Tipo de Inmueble',\n",
        "                 labels={'Ciudad': 'Ciudad', 'Tipo de Inmueble': 'Tipo de Inmueble', 'Número de Inmuebles': 'Número de Inmuebles'},\n",
        "                 height=600,\n",
        "                 size_max=30)  # Ajustar tamaño máximo para mejor visualización\n",
        "\n",
        "# Mostrar el gráfico\n",
        "fig.show()"
      ],
      "metadata": {
        "colab": {
          "base_uri": "https://localhost:8080/",
          "height": 617
        },
        "id": "ls9F29fD9KF3",
        "outputId": "0d08a748-db99-4547-be11-d8c3633ccfd4"
      },
      "execution_count": 15,
      "outputs": [
        {
          "output_type": "display_data",
          "data": {
            "text/html": [
              "<html>\n",
              "<head><meta charset=\"utf-8\" /></head>\n",
              "<body>\n",
              "    <div>            <script src=\"https://cdnjs.cloudflare.com/ajax/libs/mathjax/2.7.5/MathJax.js?config=TeX-AMS-MML_SVG\"></script><script type=\"text/javascript\">if (window.MathJax && window.MathJax.Hub && window.MathJax.Hub.Config) {window.MathJax.Hub.Config({SVG: {font: \"STIX-Web\"}});}</script>                <script type=\"text/javascript\">window.PlotlyConfig = {MathJaxConfig: 'local'};</script>\n",
              "        <script charset=\"utf-8\" src=\"https://cdn.plot.ly/plotly-2.24.1.min.js\"></script>                <div id=\"3fbb0082-c15d-4b4e-8fd2-dafd32f26738\" class=\"plotly-graph-div\" style=\"height:600px; width:100%;\"></div>            <script type=\"text/javascript\">                                    window.PLOTLYENV=window.PLOTLYENV || {};                                    if (document.getElementById(\"3fbb0082-c15d-4b4e-8fd2-dafd32f26738\")) {                    Plotly.newPlot(                        \"3fbb0082-c15d-4b4e-8fd2-dafd32f26738\",                        [{\"hovertemplate\":\"Tipo de Inmueble=%{y}\\u003cbr\\u003eCiudad=%{x}\\u003cbr\\u003eN\\u00famero de Inmuebles=%{marker.size}\\u003cextra\\u003e\\u003c\\u002fextra\\u003e\",\"legendgroup\":\"LOTE VIVIENDA\",\"marker\":{\"color\":\"#636efa\",\"size\":[2,2,1,1,9,1,1,1,1,16,11,1,1],\"sizemode\":\"area\",\"sizeref\":0.32,\"symbol\":\"circle\"},\"mode\":\"markers\",\"name\":\"LOTE VIVIENDA\",\"orientation\":\"v\",\"showlegend\":true,\"x\":[\"ACANDI\",\"BARRANQUILLA\",\"BUENAVENTURA\",\"CALI\",\"CALIMA EL DARIEN\",\"EL PLAYON\",\"ENVIGADO\",\"LA CALERA\",\"MANIZALES\",\"PACORA\",\"PEREIRA\",\"SAN MARTIN\",\"TULUA\"],\"xaxis\":\"x\",\"y\":[\"LOTE VIVIENDA\",\"LOTE VIVIENDA\",\"LOTE VIVIENDA\",\"LOTE VIVIENDA\",\"LOTE VIVIENDA\",\"LOTE VIVIENDA\",\"LOTE VIVIENDA\",\"LOTE VIVIENDA\",\"LOTE VIVIENDA\",\"LOTE VIVIENDA\",\"LOTE VIVIENDA\",\"LOTE VIVIENDA\",\"LOTE VIVIENDA\"],\"yaxis\":\"y\",\"type\":\"scatter\"},{\"hovertemplate\":\"Tipo de Inmueble=%{y}\\u003cbr\\u003eCiudad=%{x}\\u003cbr\\u003eN\\u00famero de Inmuebles=%{marker.size}\\u003cextra\\u003e\\u003c\\u002fextra\\u003e\",\"legendgroup\":\"EDIFICIO\",\"marker\":{\"color\":\"#EF553B\",\"size\":[1,2,1],\"sizemode\":\"area\",\"sizeref\":0.32,\"symbol\":\"circle\"},\"mode\":\"markers\",\"name\":\"EDIFICIO\",\"orientation\":\"v\",\"showlegend\":true,\"x\":[\"BARRANQUILLA\",\"BOGOTA\",\"SOATA\"],\"xaxis\":\"x\",\"y\":[\"EDIFICIO\",\"EDIFICIO\",\"EDIFICIO\"],\"yaxis\":\"y\",\"type\":\"scatter\"},{\"hovertemplate\":\"Tipo de Inmueble=%{y}\\u003cbr\\u003eCiudad=%{x}\\u003cbr\\u003eN\\u00famero de Inmuebles=%{marker.size}\\u003cextra\\u003e\\u003c\\u002fextra\\u003e\",\"legendgroup\":\"LOCAL\",\"marker\":{\"color\":\"#00cc96\",\"size\":[1,5,4,2,2,1,2,288],\"sizemode\":\"area\",\"sizeref\":0.32,\"symbol\":\"circle\"},\"mode\":\"markers\",\"name\":\"LOCAL\",\"orientation\":\"v\",\"showlegend\":true,\"x\":[\"BARRANQUILLA\",\"BOGOTA\",\"CALI\",\"GIRARDOT\",\"MANIZALES\",\"MARSELLA\",\"MEDELLIN\",\"VILLAVICENCIO\"],\"xaxis\":\"x\",\"y\":[\"LOCAL\",\"LOCAL\",\"LOCAL\",\"LOCAL\",\"LOCAL\",\"LOCAL\",\"LOCAL\",\"LOCAL\"],\"yaxis\":\"y\",\"type\":\"scatter\"},{\"hovertemplate\":\"Tipo de Inmueble=%{y}\\u003cbr\\u003eCiudad=%{x}\\u003cbr\\u003eN\\u00famero de Inmuebles=%{marker.size}\\u003cextra\\u003e\\u003c\\u002fextra\\u003e\",\"legendgroup\":\"LOTE CON CONSTRUCCION\",\"marker\":{\"color\":\"#ab63fa\",\"size\":[1,2,1,1,1,1,1,1,6],\"sizemode\":\"area\",\"sizeref\":0.32,\"symbol\":\"circle\"},\"mode\":\"markers\",\"name\":\"LOTE CON CONSTRUCCION\",\"orientation\":\"v\",\"showlegend\":true,\"x\":[\"BARRANQUILLA\",\"CALI\",\"EL ROSAL\",\"LA CEJA\",\"PUERTO LOPEZ\",\"SANMIGUEL\",\"SANTANDER DE QUILICHAO\",\"SONSON\",\"TARAZA\"],\"xaxis\":\"x\",\"y\":[\"LOTE CON CONSTRUCCION\",\"LOTE CON CONSTRUCCION\",\"LOTE CON CONSTRUCCION\",\"LOTE CON CONSTRUCCION\",\"LOTE CON CONSTRUCCION\",\"LOTE CON CONSTRUCCION\",\"LOTE CON CONSTRUCCION\",\"LOTE CON CONSTRUCCION\",\"LOTE CON CONSTRUCCION\"],\"yaxis\":\"y\",\"type\":\"scatter\"},{\"hovertemplate\":\"Tipo de Inmueble=%{y}\\u003cbr\\u003eCiudad=%{x}\\u003cbr\\u003eN\\u00famero de Inmuebles=%{marker.size}\\u003cextra\\u003e\\u003c\\u002fextra\\u003e\",\"legendgroup\":\"OFICINA\",\"marker\":{\"color\":\"#FFA15A\",\"size\":[12,2,3],\"sizemode\":\"area\",\"sizeref\":0.32,\"symbol\":\"circle\"},\"mode\":\"markers\",\"name\":\"OFICINA\",\"orientation\":\"v\",\"showlegend\":true,\"x\":[\"BARRANQUILLA\",\"BOGOTA\",\"MEDELLIN\"],\"xaxis\":\"x\",\"y\":[\"OFICINA\",\"OFICINA\",\"OFICINA\"],\"yaxis\":\"y\",\"type\":\"scatter\"},{\"hovertemplate\":\"Tipo de Inmueble=%{y}\\u003cbr\\u003eCiudad=%{x}\\u003cbr\\u003eN\\u00famero de Inmuebles=%{marker.size}\\u003cextra\\u003e\\u003c\\u002fextra\\u003e\",\"legendgroup\":\"APARTAMENTO\",\"marker\":{\"color\":\"#19d3f3\",\"size\":[2,2,1,2],\"sizemode\":\"area\",\"sizeref\":0.32,\"symbol\":\"circle\"},\"mode\":\"markers\",\"name\":\"APARTAMENTO\",\"orientation\":\"v\",\"showlegend\":true,\"x\":[\"BOGOTA\",\"CARTAGENA\",\"MEDELLIN\",\"TARAZA\"],\"xaxis\":\"x\",\"y\":[\"APARTAMENTO\",\"APARTAMENTO\",\"APARTAMENTO\",\"APARTAMENTO\"],\"yaxis\":\"y\",\"type\":\"scatter\"},{\"hovertemplate\":\"Tipo de Inmueble=%{y}\\u003cbr\\u003eCiudad=%{x}\\u003cbr\\u003eN\\u00famero de Inmuebles=%{marker.size}\\u003cextra\\u003e\\u003c\\u002fextra\\u003e\",\"legendgroup\":\"BODEGA\",\"marker\":{\"color\":\"#FF6692\",\"size\":[3,1,1,15,1,1,1],\"sizemode\":\"area\",\"sizeref\":0.32,\"symbol\":\"circle\"},\"mode\":\"markers\",\"name\":\"BODEGA\",\"orientation\":\"v\",\"showlegend\":true,\"x\":[\"BOGOTA\",\"BUCARAMANGA\",\"CALI\",\"CARTAGENA\",\"FUNZA\",\"PEREIRA\",\"TURBO\"],\"xaxis\":\"x\",\"y\":[\"BODEGA\",\"BODEGA\",\"BODEGA\",\"BODEGA\",\"BODEGA\",\"BODEGA\",\"BODEGA\"],\"yaxis\":\"y\",\"type\":\"scatter\"},{\"hovertemplate\":\"Tipo de Inmueble=%{y}\\u003cbr\\u003eCiudad=%{x}\\u003cbr\\u003eN\\u00famero de Inmuebles=%{marker.size}\\u003cextra\\u003e\\u003c\\u002fextra\\u003e\",\"legendgroup\":\"CASA\",\"marker\":{\"color\":\"#B6E880\",\"size\":[6,2,1,4,1,1,2],\"sizemode\":\"area\",\"sizeref\":0.32,\"symbol\":\"circle\"},\"mode\":\"markers\",\"name\":\"CASA\",\"orientation\":\"v\",\"showlegend\":true,\"x\":[\"BOGOTA\",\"MONTERIA\",\"PIEDECUESTA\",\"PUERTO BOYACA\",\"SONSON\",\"TIERRALTA\",\"VILLAVICENCIO\"],\"xaxis\":\"x\",\"y\":[\"CASA\",\"CASA\",\"CASA\",\"CASA\",\"CASA\",\"CASA\",\"CASA\"],\"yaxis\":\"y\",\"type\":\"scatter\"},{\"hovertemplate\":\"Tipo de Inmueble=%{y}\\u003cbr\\u003eCiudad=%{x}\\u003cbr\\u003eN\\u00famero de Inmuebles=%{marker.size}\\u003cextra\\u003e\\u003c\\u002fextra\\u003e\",\"legendgroup\":\"GARAJE\",\"marker\":{\"color\":\"#FF97FF\",\"size\":[2],\"sizemode\":\"area\",\"sizeref\":0.32,\"symbol\":\"circle\"},\"mode\":\"markers\",\"name\":\"GARAJE\",\"orientation\":\"v\",\"showlegend\":true,\"x\":[\"BOGOTA\"],\"xaxis\":\"x\",\"y\":[\"GARAJE\"],\"yaxis\":\"y\",\"type\":\"scatter\"},{\"hovertemplate\":\"Tipo de Inmueble=%{y}\\u003cbr\\u003eCiudad=%{x}\\u003cbr\\u003eN\\u00famero de Inmuebles=%{marker.size}\\u003cextra\\u003e\\u003c\\u002fextra\\u003e\",\"legendgroup\":\"LOTE COMERCIAL\",\"marker\":{\"color\":\"#FECB52\",\"size\":[1],\"sizemode\":\"area\",\"sizeref\":0.32,\"symbol\":\"circle\"},\"mode\":\"markers\",\"name\":\"LOTE COMERCIAL\",\"orientation\":\"v\",\"showlegend\":true,\"x\":[\"BOGOTA\"],\"xaxis\":\"x\",\"y\":[\"LOTE COMERCIAL\"],\"yaxis\":\"y\",\"type\":\"scatter\"},{\"hovertemplate\":\"Tipo de Inmueble=%{y}\\u003cbr\\u003eCiudad=%{x}\\u003cbr\\u003eN\\u00famero de Inmuebles=%{marker.size}\\u003cextra\\u003e\\u003c\\u002fextra\\u003e\",\"legendgroup\":\"EDIFICIO OFICINAS\",\"marker\":{\"color\":\"#636efa\",\"size\":[1],\"sizemode\":\"area\",\"sizeref\":0.32,\"symbol\":\"circle\"},\"mode\":\"markers\",\"name\":\"EDIFICIO OFICINAS\",\"orientation\":\"v\",\"showlegend\":true,\"x\":[\"BUCARAMANGA\"],\"xaxis\":\"x\",\"y\":[\"EDIFICIO OFICINAS\"],\"yaxis\":\"y\",\"type\":\"scatter\"},{\"hovertemplate\":\"Tipo de Inmueble=%{y}\\u003cbr\\u003eCiudad=%{x}\\u003cbr\\u003eN\\u00famero de Inmuebles=%{marker.size}\\u003cextra\\u003e\\u003c\\u002fextra\\u003e\",\"legendgroup\":\"FINCA\",\"marker\":{\"color\":\"#EF553B\",\"size\":[1,1,1,3,1,1,2],\"sizemode\":\"area\",\"sizeref\":0.32,\"symbol\":\"circle\"},\"mode\":\"markers\",\"name\":\"FINCA\",\"orientation\":\"v\",\"showlegend\":true,\"x\":[\"BUENAVISTA\",\"CHIA\",\"LA DORADA\",\"MONTERIA\",\"NORCASIA\",\"PEREIRA\",\"VALENCIA\"],\"xaxis\":\"x\",\"y\":[\"FINCA\",\"FINCA\",\"FINCA\",\"FINCA\",\"FINCA\",\"FINCA\",\"FINCA\"],\"yaxis\":\"y\",\"type\":\"scatter\"},{\"hovertemplate\":\"Tipo de Inmueble=%{y}\\u003cbr\\u003eCiudad=%{x}\\u003cbr\\u003eN\\u00famero de Inmuebles=%{marker.size}\\u003cextra\\u003e\\u003c\\u002fextra\\u003e\",\"legendgroup\":\"LOTE MIXTO\",\"marker\":{\"color\":\"#00cc96\",\"size\":[1,1,1],\"sizemode\":\"area\",\"sizeref\":0.32,\"symbol\":\"circle\"},\"mode\":\"markers\",\"name\":\"LOTE MIXTO\",\"orientation\":\"v\",\"showlegend\":true,\"x\":[\"BUGA\",\"CALI\",\"CALIMA EL DARIEN\"],\"xaxis\":\"x\",\"y\":[\"LOTE MIXTO\",\"LOTE MIXTO\",\"LOTE MIXTO\"],\"yaxis\":\"y\",\"type\":\"scatter\"},{\"hovertemplate\":\"Tipo de Inmueble=%{y}\\u003cbr\\u003eCiudad=%{x}\\u003cbr\\u003eN\\u00famero de Inmuebles=%{marker.size}\\u003cextra\\u003e\\u003c\\u002fextra\\u003e\",\"legendgroup\":\"DEPOSITO\",\"marker\":{\"color\":\"#ab63fa\",\"size\":[1],\"sizemode\":\"area\",\"sizeref\":0.32,\"symbol\":\"circle\"},\"mode\":\"markers\",\"name\":\"DEPOSITO\",\"orientation\":\"v\",\"showlegend\":true,\"x\":[\"CALI\"],\"xaxis\":\"x\",\"y\":[\"DEPOSITO\"],\"yaxis\":\"y\",\"type\":\"scatter\"},{\"hovertemplate\":\"Tipo de Inmueble=%{y}\\u003cbr\\u003eCiudad=%{x}\\u003cbr\\u003eN\\u00famero de Inmuebles=%{marker.size}\\u003cextra\\u003e\\u003c\\u002fextra\\u003e\",\"legendgroup\":\"LOTE INDUSTRIAL\",\"marker\":{\"color\":\"#FFA15A\",\"size\":[1,1],\"sizemode\":\"area\",\"sizeref\":0.32,\"symbol\":\"circle\"},\"mode\":\"markers\",\"name\":\"LOTE INDUSTRIAL\",\"orientation\":\"v\",\"showlegend\":true,\"x\":[\"CARTAGENA\",\"SANTANDER DE QUILICHAO\"],\"xaxis\":\"x\",\"y\":[\"LOTE INDUSTRIAL\",\"LOTE INDUSTRIAL\"],\"yaxis\":\"y\",\"type\":\"scatter\"},{\"hovertemplate\":\"Tipo de Inmueble=%{y}\\u003cbr\\u003eCiudad=%{x}\\u003cbr\\u003eN\\u00famero de Inmuebles=%{marker.size}\\u003cextra\\u003e\\u003c\\u002fextra\\u003e\",\"legendgroup\":\"LOTE\",\"marker\":{\"color\":\"#19d3f3\",\"size\":[1,2],\"sizemode\":\"area\",\"sizeref\":0.32,\"symbol\":\"circle\"},\"mode\":\"markers\",\"name\":\"LOTE\",\"orientation\":\"v\",\"showlegend\":true,\"x\":[\"CAUCASIA\",\"TARAZA\"],\"xaxis\":\"x\",\"y\":[\"LOTE\",\"LOTE\"],\"yaxis\":\"y\",\"type\":\"scatter\"},{\"hovertemplate\":\"Tipo de Inmueble=%{y}\\u003cbr\\u003eCiudad=%{x}\\u003cbr\\u003eN\\u00famero de Inmuebles=%{marker.size}\\u003cextra\\u003e\\u003c\\u002fextra\\u003e\",\"legendgroup\":\"CLINICA\",\"marker\":{\"color\":\"#FF6692\",\"size\":[1,1],\"sizemode\":\"area\",\"sizeref\":0.32,\"symbol\":\"circle\"},\"mode\":\"markers\",\"name\":\"CLINICA\",\"orientation\":\"v\",\"showlegend\":true,\"x\":[\"PEREIRA\",\"SOGAMOSO\"],\"xaxis\":\"x\",\"y\":[\"CLINICA\",\"CLINICA\"],\"yaxis\":\"y\",\"type\":\"scatter\"},{\"hovertemplate\":\"Tipo de Inmueble=%{y}\\u003cbr\\u003eCiudad=%{x}\\u003cbr\\u003eN\\u00famero de Inmuebles=%{marker.size}\\u003cextra\\u003e\\u003c\\u002fextra\\u003e\",\"legendgroup\":\"HOTEL\",\"marker\":{\"color\":\"#B6E880\",\"size\":[1],\"sizemode\":\"area\",\"sizeref\":0.32,\"symbol\":\"circle\"},\"mode\":\"markers\",\"name\":\"HOTEL\",\"orientation\":\"v\",\"showlegend\":true,\"x\":[\"RICAURTE\"],\"xaxis\":\"x\",\"y\":[\"HOTEL\"],\"yaxis\":\"y\",\"type\":\"scatter\"},{\"hovertemplate\":\"Tipo de Inmueble=%{y}\\u003cbr\\u003eCiudad=%{x}\\u003cbr\\u003eN\\u00famero de Inmuebles=%{marker.size}\\u003cextra\\u003e\\u003c\\u002fextra\\u003e\",\"legendgroup\":\"LOTE AGRICOLA\",\"marker\":{\"color\":\"#FF97FF\",\"size\":[1],\"sizemode\":\"area\",\"sizeref\":0.32,\"symbol\":\"circle\"},\"mode\":\"markers\",\"name\":\"LOTE AGRICOLA\",\"orientation\":\"v\",\"showlegend\":true,\"x\":[\"VALENCIA\"],\"xaxis\":\"x\",\"y\":[\"LOTE AGRICOLA\"],\"yaxis\":\"y\",\"type\":\"scatter\"}],                        {\"template\":{\"data\":{\"histogram2dcontour\":[{\"type\":\"histogram2dcontour\",\"colorbar\":{\"outlinewidth\":0,\"ticks\":\"\"},\"colorscale\":[[0.0,\"#0d0887\"],[0.1111111111111111,\"#46039f\"],[0.2222222222222222,\"#7201a8\"],[0.3333333333333333,\"#9c179e\"],[0.4444444444444444,\"#bd3786\"],[0.5555555555555556,\"#d8576b\"],[0.6666666666666666,\"#ed7953\"],[0.7777777777777778,\"#fb9f3a\"],[0.8888888888888888,\"#fdca26\"],[1.0,\"#f0f921\"]]}],\"choropleth\":[{\"type\":\"choropleth\",\"colorbar\":{\"outlinewidth\":0,\"ticks\":\"\"}}],\"histogram2d\":[{\"type\":\"histogram2d\",\"colorbar\":{\"outlinewidth\":0,\"ticks\":\"\"},\"colorscale\":[[0.0,\"#0d0887\"],[0.1111111111111111,\"#46039f\"],[0.2222222222222222,\"#7201a8\"],[0.3333333333333333,\"#9c179e\"],[0.4444444444444444,\"#bd3786\"],[0.5555555555555556,\"#d8576b\"],[0.6666666666666666,\"#ed7953\"],[0.7777777777777778,\"#fb9f3a\"],[0.8888888888888888,\"#fdca26\"],[1.0,\"#f0f921\"]]}],\"heatmap\":[{\"type\":\"heatmap\",\"colorbar\":{\"outlinewidth\":0,\"ticks\":\"\"},\"colorscale\":[[0.0,\"#0d0887\"],[0.1111111111111111,\"#46039f\"],[0.2222222222222222,\"#7201a8\"],[0.3333333333333333,\"#9c179e\"],[0.4444444444444444,\"#bd3786\"],[0.5555555555555556,\"#d8576b\"],[0.6666666666666666,\"#ed7953\"],[0.7777777777777778,\"#fb9f3a\"],[0.8888888888888888,\"#fdca26\"],[1.0,\"#f0f921\"]]}],\"heatmapgl\":[{\"type\":\"heatmapgl\",\"colorbar\":{\"outlinewidth\":0,\"ticks\":\"\"},\"colorscale\":[[0.0,\"#0d0887\"],[0.1111111111111111,\"#46039f\"],[0.2222222222222222,\"#7201a8\"],[0.3333333333333333,\"#9c179e\"],[0.4444444444444444,\"#bd3786\"],[0.5555555555555556,\"#d8576b\"],[0.6666666666666666,\"#ed7953\"],[0.7777777777777778,\"#fb9f3a\"],[0.8888888888888888,\"#fdca26\"],[1.0,\"#f0f921\"]]}],\"contourcarpet\":[{\"type\":\"contourcarpet\",\"colorbar\":{\"outlinewidth\":0,\"ticks\":\"\"}}],\"contour\":[{\"type\":\"contour\",\"colorbar\":{\"outlinewidth\":0,\"ticks\":\"\"},\"colorscale\":[[0.0,\"#0d0887\"],[0.1111111111111111,\"#46039f\"],[0.2222222222222222,\"#7201a8\"],[0.3333333333333333,\"#9c179e\"],[0.4444444444444444,\"#bd3786\"],[0.5555555555555556,\"#d8576b\"],[0.6666666666666666,\"#ed7953\"],[0.7777777777777778,\"#fb9f3a\"],[0.8888888888888888,\"#fdca26\"],[1.0,\"#f0f921\"]]}],\"surface\":[{\"type\":\"surface\",\"colorbar\":{\"outlinewidth\":0,\"ticks\":\"\"},\"colorscale\":[[0.0,\"#0d0887\"],[0.1111111111111111,\"#46039f\"],[0.2222222222222222,\"#7201a8\"],[0.3333333333333333,\"#9c179e\"],[0.4444444444444444,\"#bd3786\"],[0.5555555555555556,\"#d8576b\"],[0.6666666666666666,\"#ed7953\"],[0.7777777777777778,\"#fb9f3a\"],[0.8888888888888888,\"#fdca26\"],[1.0,\"#f0f921\"]]}],\"mesh3d\":[{\"type\":\"mesh3d\",\"colorbar\":{\"outlinewidth\":0,\"ticks\":\"\"}}],\"scatter\":[{\"fillpattern\":{\"fillmode\":\"overlay\",\"size\":10,\"solidity\":0.2},\"type\":\"scatter\"}],\"parcoords\":[{\"type\":\"parcoords\",\"line\":{\"colorbar\":{\"outlinewidth\":0,\"ticks\":\"\"}}}],\"scatterpolargl\":[{\"type\":\"scatterpolargl\",\"marker\":{\"colorbar\":{\"outlinewidth\":0,\"ticks\":\"\"}}}],\"bar\":[{\"error_x\":{\"color\":\"#2a3f5f\"},\"error_y\":{\"color\":\"#2a3f5f\"},\"marker\":{\"line\":{\"color\":\"#E5ECF6\",\"width\":0.5},\"pattern\":{\"fillmode\":\"overlay\",\"size\":10,\"solidity\":0.2}},\"type\":\"bar\"}],\"scattergeo\":[{\"type\":\"scattergeo\",\"marker\":{\"colorbar\":{\"outlinewidth\":0,\"ticks\":\"\"}}}],\"scatterpolar\":[{\"type\":\"scatterpolar\",\"marker\":{\"colorbar\":{\"outlinewidth\":0,\"ticks\":\"\"}}}],\"histogram\":[{\"marker\":{\"pattern\":{\"fillmode\":\"overlay\",\"size\":10,\"solidity\":0.2}},\"type\":\"histogram\"}],\"scattergl\":[{\"type\":\"scattergl\",\"marker\":{\"colorbar\":{\"outlinewidth\":0,\"ticks\":\"\"}}}],\"scatter3d\":[{\"type\":\"scatter3d\",\"line\":{\"colorbar\":{\"outlinewidth\":0,\"ticks\":\"\"}},\"marker\":{\"colorbar\":{\"outlinewidth\":0,\"ticks\":\"\"}}}],\"scattermapbox\":[{\"type\":\"scattermapbox\",\"marker\":{\"colorbar\":{\"outlinewidth\":0,\"ticks\":\"\"}}}],\"scatterternary\":[{\"type\":\"scatterternary\",\"marker\":{\"colorbar\":{\"outlinewidth\":0,\"ticks\":\"\"}}}],\"scattercarpet\":[{\"type\":\"scattercarpet\",\"marker\":{\"colorbar\":{\"outlinewidth\":0,\"ticks\":\"\"}}}],\"carpet\":[{\"aaxis\":{\"endlinecolor\":\"#2a3f5f\",\"gridcolor\":\"white\",\"linecolor\":\"white\",\"minorgridcolor\":\"white\",\"startlinecolor\":\"#2a3f5f\"},\"baxis\":{\"endlinecolor\":\"#2a3f5f\",\"gridcolor\":\"white\",\"linecolor\":\"white\",\"minorgridcolor\":\"white\",\"startlinecolor\":\"#2a3f5f\"},\"type\":\"carpet\"}],\"table\":[{\"cells\":{\"fill\":{\"color\":\"#EBF0F8\"},\"line\":{\"color\":\"white\"}},\"header\":{\"fill\":{\"color\":\"#C8D4E3\"},\"line\":{\"color\":\"white\"}},\"type\":\"table\"}],\"barpolar\":[{\"marker\":{\"line\":{\"color\":\"#E5ECF6\",\"width\":0.5},\"pattern\":{\"fillmode\":\"overlay\",\"size\":10,\"solidity\":0.2}},\"type\":\"barpolar\"}],\"pie\":[{\"automargin\":true,\"type\":\"pie\"}]},\"layout\":{\"autotypenumbers\":\"strict\",\"colorway\":[\"#636efa\",\"#EF553B\",\"#00cc96\",\"#ab63fa\",\"#FFA15A\",\"#19d3f3\",\"#FF6692\",\"#B6E880\",\"#FF97FF\",\"#FECB52\"],\"font\":{\"color\":\"#2a3f5f\"},\"hovermode\":\"closest\",\"hoverlabel\":{\"align\":\"left\"},\"paper_bgcolor\":\"white\",\"plot_bgcolor\":\"#E5ECF6\",\"polar\":{\"bgcolor\":\"#E5ECF6\",\"angularaxis\":{\"gridcolor\":\"white\",\"linecolor\":\"white\",\"ticks\":\"\"},\"radialaxis\":{\"gridcolor\":\"white\",\"linecolor\":\"white\",\"ticks\":\"\"}},\"ternary\":{\"bgcolor\":\"#E5ECF6\",\"aaxis\":{\"gridcolor\":\"white\",\"linecolor\":\"white\",\"ticks\":\"\"},\"baxis\":{\"gridcolor\":\"white\",\"linecolor\":\"white\",\"ticks\":\"\"},\"caxis\":{\"gridcolor\":\"white\",\"linecolor\":\"white\",\"ticks\":\"\"}},\"coloraxis\":{\"colorbar\":{\"outlinewidth\":0,\"ticks\":\"\"}},\"colorscale\":{\"sequential\":[[0.0,\"#0d0887\"],[0.1111111111111111,\"#46039f\"],[0.2222222222222222,\"#7201a8\"],[0.3333333333333333,\"#9c179e\"],[0.4444444444444444,\"#bd3786\"],[0.5555555555555556,\"#d8576b\"],[0.6666666666666666,\"#ed7953\"],[0.7777777777777778,\"#fb9f3a\"],[0.8888888888888888,\"#fdca26\"],[1.0,\"#f0f921\"]],\"sequentialminus\":[[0.0,\"#0d0887\"],[0.1111111111111111,\"#46039f\"],[0.2222222222222222,\"#7201a8\"],[0.3333333333333333,\"#9c179e\"],[0.4444444444444444,\"#bd3786\"],[0.5555555555555556,\"#d8576b\"],[0.6666666666666666,\"#ed7953\"],[0.7777777777777778,\"#fb9f3a\"],[0.8888888888888888,\"#fdca26\"],[1.0,\"#f0f921\"]],\"diverging\":[[0,\"#8e0152\"],[0.1,\"#c51b7d\"],[0.2,\"#de77ae\"],[0.3,\"#f1b6da\"],[0.4,\"#fde0ef\"],[0.5,\"#f7f7f7\"],[0.6,\"#e6f5d0\"],[0.7,\"#b8e186\"],[0.8,\"#7fbc41\"],[0.9,\"#4d9221\"],[1,\"#276419\"]]},\"xaxis\":{\"gridcolor\":\"white\",\"linecolor\":\"white\",\"ticks\":\"\",\"title\":{\"standoff\":15},\"zerolinecolor\":\"white\",\"automargin\":true,\"zerolinewidth\":2},\"yaxis\":{\"gridcolor\":\"white\",\"linecolor\":\"white\",\"ticks\":\"\",\"title\":{\"standoff\":15},\"zerolinecolor\":\"white\",\"automargin\":true,\"zerolinewidth\":2},\"scene\":{\"xaxis\":{\"backgroundcolor\":\"#E5ECF6\",\"gridcolor\":\"white\",\"linecolor\":\"white\",\"showbackground\":true,\"ticks\":\"\",\"zerolinecolor\":\"white\",\"gridwidth\":2},\"yaxis\":{\"backgroundcolor\":\"#E5ECF6\",\"gridcolor\":\"white\",\"linecolor\":\"white\",\"showbackground\":true,\"ticks\":\"\",\"zerolinecolor\":\"white\",\"gridwidth\":2},\"zaxis\":{\"backgroundcolor\":\"#E5ECF6\",\"gridcolor\":\"white\",\"linecolor\":\"white\",\"showbackground\":true,\"ticks\":\"\",\"zerolinecolor\":\"white\",\"gridwidth\":2}},\"shapedefaults\":{\"line\":{\"color\":\"#2a3f5f\"}},\"annotationdefaults\":{\"arrowcolor\":\"#2a3f5f\",\"arrowhead\":0,\"arrowwidth\":1},\"geo\":{\"bgcolor\":\"white\",\"landcolor\":\"#E5ECF6\",\"subunitcolor\":\"white\",\"showland\":true,\"showlakes\":true,\"lakecolor\":\"white\"},\"title\":{\"x\":0.05},\"mapbox\":{\"style\":\"light\"}}},\"xaxis\":{\"anchor\":\"y\",\"domain\":[0.0,1.0],\"title\":{\"text\":\"Ciudad\"}},\"yaxis\":{\"anchor\":\"x\",\"domain\":[0.0,1.0],\"title\":{\"text\":\"Tipo de Inmueble\"},\"categoryorder\":\"array\",\"categoryarray\":[\"LOTE AGRICOLA\",\"HOTEL\",\"CLINICA\",\"LOTE\",\"LOTE INDUSTRIAL\",\"DEPOSITO\",\"LOTE MIXTO\",\"FINCA\",\"EDIFICIO OFICINAS\",\"LOTE COMERCIAL\",\"GARAJE\",\"CASA\",\"BODEGA\",\"APARTAMENTO\",\"OFICINA\",\"LOTE CON CONSTRUCCION\",\"LOCAL\",\"EDIFICIO\",\"LOTE VIVIENDA\"]},\"legend\":{\"title\":{\"text\":\"Tipo de Inmueble\"},\"tracegroupgap\":0,\"itemsizing\":\"constant\"},\"title\":{\"text\":\"N\\u00famero de Inmuebles por Ciudad y Tipo de Inmueble\"},\"height\":600},                        {\"responsive\": true}                    ).then(function(){\n",
              "                            \n",
              "var gd = document.getElementById('3fbb0082-c15d-4b4e-8fd2-dafd32f26738');\n",
              "var x = new MutationObserver(function (mutations, observer) {{\n",
              "        var display = window.getComputedStyle(gd).display;\n",
              "        if (!display || display === 'none') {{\n",
              "            console.log([gd, 'removed!']);\n",
              "            Plotly.purge(gd);\n",
              "            observer.disconnect();\n",
              "        }}\n",
              "}});\n",
              "\n",
              "// Listen for the removal of the full notebook cells\n",
              "var notebookContainer = gd.closest('#notebook-container');\n",
              "if (notebookContainer) {{\n",
              "    x.observe(notebookContainer, {childList: true});\n",
              "}}\n",
              "\n",
              "// Listen for the clearing of the current output cell\n",
              "var outputEl = gd.closest('.output');\n",
              "if (outputEl) {{\n",
              "    x.observe(outputEl, {childList: true});\n",
              "}}\n",
              "\n",
              "                        })                };                            </script>        </div>\n",
              "</body>\n",
              "</html>"
            ]
          },
          "metadata": {}
        }
      ]
    },
    {
      "cell_type": "code",
      "source": [
        "# Scatter plot: Precio vs. Área Construida (en lugar de metros_cuadrados)\n",
        "# Gráfico de dispersión interactivo\n",
        "fig = px.scatter(df,\n",
        "                 x='Area Construida',\n",
        "                 y='Precio',\n",
        "                 color='Tipo de Inmueble',\n",
        "                 title='Precio vs Área Construida',\n",
        "                 labels={'Area Construida': 'Área Construida', 'Precio': 'Precio'},\n",
        "                 height=600)\n",
        "\n",
        "# Mostrar el gráfico\n",
        "fig.show()"
      ],
      "metadata": {
        "colab": {
          "base_uri": "https://localhost:8080/",
          "height": 617
        },
        "id": "WLDtcmjM9KIb",
        "outputId": "779a69ef-73a8-404f-af13-363600e5dfbd"
      },
      "execution_count": 16,
      "outputs": [
        {
          "output_type": "display_data",
          "data": {
            "text/html": [
              "<html>\n",
              "<head><meta charset=\"utf-8\" /></head>\n",
              "<body>\n",
              "    <div>            <script src=\"https://cdnjs.cloudflare.com/ajax/libs/mathjax/2.7.5/MathJax.js?config=TeX-AMS-MML_SVG\"></script><script type=\"text/javascript\">if (window.MathJax && window.MathJax.Hub && window.MathJax.Hub.Config) {window.MathJax.Hub.Config({SVG: {font: \"STIX-Web\"}});}</script>                <script type=\"text/javascript\">window.PlotlyConfig = {MathJaxConfig: 'local'};</script>\n",
              "        <script charset=\"utf-8\" src=\"https://cdn.plot.ly/plotly-2.24.1.min.js\"></script>                <div id=\"789277d1-0507-41c0-9df3-c929a3b043ab\" class=\"plotly-graph-div\" style=\"height:600px; width:100%;\"></div>            <script type=\"text/javascript\">                                    window.PLOTLYENV=window.PLOTLYENV || {};                                    if (document.getElementById(\"789277d1-0507-41c0-9df3-c929a3b043ab\")) {                    Plotly.newPlot(                        \"789277d1-0507-41c0-9df3-c929a3b043ab\",                        [{\"hovertemplate\":\"Tipo de Inmueble=LOTE COMERCIAL\\u003cbr\\u003e\\u00c1rea Construida=%{x}\\u003cbr\\u003ePrecio=%{y}\\u003cextra\\u003e\\u003c\\u002fextra\\u003e\",\"legendgroup\":\"LOTE COMERCIAL\",\"marker\":{\"color\":\"#636efa\",\"symbol\":\"circle\"},\"mode\":\"markers\",\"name\":\"LOTE COMERCIAL\",\"orientation\":\"v\",\"showlegend\":true,\"x\":[0.0],\"xaxis\":\"x\",\"y\":[29580811900.0],\"yaxis\":\"y\",\"type\":\"scatter\"},{\"hovertemplate\":\"Tipo de Inmueble=EDIFICIO\\u003cbr\\u003e\\u00c1rea Construida=%{x}\\u003cbr\\u003ePrecio=%{y}\\u003cextra\\u003e\\u003c\\u002fextra\\u003e\",\"legendgroup\":\"EDIFICIO\",\"marker\":{\"color\":\"#EF553B\",\"symbol\":\"circle\"},\"mode\":\"markers\",\"name\":\"EDIFICIO\",\"orientation\":\"v\",\"showlegend\":true,\"x\":[0.0,0.0,0.0,0.0],\"xaxis\":\"x\",\"y\":[16460591500.0,16460591500.0,682988850.0,1589428800.0],\"yaxis\":\"y\",\"type\":\"scatter\"},{\"hovertemplate\":\"Tipo de Inmueble=CLINICA\\u003cbr\\u003e\\u00c1rea Construida=%{x}\\u003cbr\\u003ePrecio=%{y}\\u003cextra\\u003e\\u003c\\u002fextra\\u003e\",\"legendgroup\":\"CLINICA\",\"marker\":{\"color\":\"#00cc96\",\"symbol\":\"circle\"},\"mode\":\"markers\",\"name\":\"CLINICA\",\"orientation\":\"v\",\"showlegend\":true,\"x\":[7269.0,0.0],\"xaxis\":\"x\",\"y\":[13768280900.0,3931747250.0],\"yaxis\":\"y\",\"type\":\"scatter\"},{\"hovertemplate\":\"Tipo de Inmueble=LOTE MIXTO\\u003cbr\\u003e\\u00c1rea Construida=%{x}\\u003cbr\\u003ePrecio=%{y}\\u003cextra\\u003e\\u003c\\u002fextra\\u003e\",\"legendgroup\":\"LOTE MIXTO\",\"marker\":{\"color\":\"#ab63fa\",\"symbol\":\"circle\"},\"mode\":\"markers\",\"name\":\"LOTE MIXTO\",\"orientation\":\"v\",\"showlegend\":true,\"x\":[22724.0,0.0,0.0],\"xaxis\":\"x\",\"y\":[45233789820.0,2406650268.0,29407403.52],\"yaxis\":\"y\",\"type\":\"scatter\"},{\"hovertemplate\":\"Tipo de Inmueble=LOTE CON CONSTRUCCION\\u003cbr\\u003e\\u00c1rea Construida=%{x}\\u003cbr\\u003ePrecio=%{y}\\u003cextra\\u003e\\u003c\\u002fextra\\u003e\",\"legendgroup\":\"LOTE CON CONSTRUCCION\",\"marker\":{\"color\":\"#FFA15A\",\"symbol\":\"circle\"},\"mode\":\"markers\",\"name\":\"LOTE CON CONSTRUCCION\",\"orientation\":\"v\",\"showlegend\":true,\"x\":[0.0,0.0,0.0,0.0,0.0,0.0,0.0,0.0,0.0,0.0,0.0,0.0,0.0,0.0,0.0],\"xaxis\":\"x\",\"y\":[4190155021.0,3109306614.0,693405250.0,616860411.0,610203893.0,591399414.0,589300353.0,389433000.0,230611914.0,185848000.0,3535117700.0,10683777981.0,38149440.0,31062880.0,15348020.0],\"yaxis\":\"y\",\"type\":\"scatter\"},{\"hovertemplate\":\"Tipo de Inmueble=HOTEL\\u003cbr\\u003e\\u00c1rea Construida=%{x}\\u003cbr\\u003ePrecio=%{y}\\u003cextra\\u003e\\u003c\\u002fextra\\u003e\",\"legendgroup\":\"HOTEL\",\"marker\":{\"color\":\"#19d3f3\",\"symbol\":\"circle\"},\"mode\":\"markers\",\"name\":\"HOTEL\",\"orientation\":\"v\",\"showlegend\":true,\"x\":[5142.0],\"xaxis\":\"x\",\"y\":[10407336173.0],\"yaxis\":\"y\",\"type\":\"scatter\"},{\"hovertemplate\":\"Tipo de Inmueble=BODEGA\\u003cbr\\u003e\\u00c1rea Construida=%{x}\\u003cbr\\u003ePrecio=%{y}\\u003cextra\\u003e\\u003c\\u002fextra\\u003e\",\"legendgroup\":\"BODEGA\",\"marker\":{\"color\":\"#FF6692\",\"symbol\":\"circle\"},\"mode\":\"markers\",\"name\":\"BODEGA\",\"orientation\":\"v\",\"showlegend\":true,\"x\":[0.0,0.0,750.64,0.0,0.0,0.0,0.0,0.0,0.0,0.0,0.0,0.0,0.0,0.0,0.0,0.0,0.0,0.0,0.0,0.0,0.0,0.0,0.0],\"xaxis\":\"x\",\"y\":[2100890600.0,1802514500.0,1169682630.0,25416536260.0,513681000.0,1101246490.0,3336090000.0,1764406000.0,1504512000.0,1452272000.0,1092904000.0,1262902000.0,1247230000.0,1223722000.0,1221390000.0,1115324000.0,970358000.0,925954000.0,569416000.0,564192000.0,536766000.0,518482000.0,377434000.0],\"yaxis\":\"y\",\"type\":\"scatter\"},{\"hovertemplate\":\"Tipo de Inmueble=APARTAMENTO\\u003cbr\\u003e\\u00c1rea Construida=%{x}\\u003cbr\\u003ePrecio=%{y}\\u003cextra\\u003e\\u003c\\u002fextra\\u003e\",\"legendgroup\":\"APARTAMENTO\",\"marker\":{\"color\":\"#B6E880\",\"symbol\":\"circle\"},\"mode\":\"markers\",\"name\":\"APARTAMENTO\",\"orientation\":\"v\",\"showlegend\":true,\"x\":[0.0,0.0,0.0,0.0,0.0,0.0,0.0],\"xaxis\":\"x\",\"y\":[2042687988.0,1190905320.0,428457000.0,83179100.0,66744770.0,131355000.0,125370000.0],\"yaxis\":\"y\",\"type\":\"scatter\"},{\"hovertemplate\":\"Tipo de Inmueble=LOTE VIVIENDA\\u003cbr\\u003e\\u00c1rea Construida=%{x}\\u003cbr\\u003ePrecio=%{y}\\u003cextra\\u003e\\u003c\\u002fextra\\u003e\",\"legendgroup\":\"LOTE VIVIENDA\",\"marker\":{\"color\":\"#FF97FF\",\"symbol\":\"circle\"},\"mode\":\"markers\",\"name\":\"LOTE VIVIENDA\",\"orientation\":\"v\",\"showlegend\":true,\"x\":[0.0,0.0,0.0,0.0,763.06,0.0,745.33,0.0,0.0,0.0,0.0,0.0,0.0,0.0,0.0,700.0,0.0,0.0,1765.0,0.0,0.0,0.0,0.0,0.0,0.0,0.0,0.0,0.0,0.0,0.0,0.0,0.0,0.0,0.0,0.0,0.0,0.0,0.0,0.0,0.0,0.0,0.0,0.0,0.0,0.0,0.0,0.0,0.0],\"xaxis\":\"x\",\"y\":[2041211340.0,5171323500.0,454689116.4,447827419.0,3027404897.0,2704524600.0,2700092084.0,2237659000.0,182340000.0,1754039040.0,144636000.0,130099200.0,552000000.0,100138200.0,99324000.0,1042886694.0,93776684.08,80844118.53,810975010.0,67320232.56,53401590.0,50600000.0,34015370.0,28427892.82,26924299.0,19062435.15,14488072.83,12240000.0,12240000.0,12240000.0,11232000.0,11232000.0,11232000.0,11232000.0,11232000.0,11232000.0,11232000.0,10152000.0,10152000.0,10152000.0,10152000.0,10152000.0,10152000.0,6832720.0,1667784060.0,6333900.0,49168000.0,282520862.6],\"yaxis\":\"y\",\"type\":\"scatter\"},{\"hovertemplate\":\"Tipo de Inmueble=FINCA\\u003cbr\\u003e\\u00c1rea Construida=%{x}\\u003cbr\\u003ePrecio=%{y}\\u003cextra\\u003e\\u003c\\u002fextra\\u003e\",\"legendgroup\":\"FINCA\",\"marker\":{\"color\":\"#FECB52\",\"symbol\":\"circle\"},\"mode\":\"markers\",\"name\":\"FINCA\",\"orientation\":\"v\",\"showlegend\":true,\"x\":[0.0,570.0,0.0,0.0,0.0,0.0,0.0,0.0,0.0,0.0],\"xaxis\":\"x\",\"y\":[1946238900.0,2558936000.0,19522132996.0,404780000.0,392665000.0,264330000.0,214110000.0,145587375.0,100645710.0,66820196.0],\"yaxis\":\"y\",\"type\":\"scatter\"},{\"hovertemplate\":\"Tipo de Inmueble=EDIFICIO OFICINAS\\u003cbr\\u003e\\u00c1rea Construida=%{x}\\u003cbr\\u003ePrecio=%{y}\\u003cextra\\u003e\\u003c\\u002fextra\\u003e\",\"legendgroup\":\"EDIFICIO OFICINAS\",\"marker\":{\"color\":\"#636efa\",\"symbol\":\"circle\"},\"mode\":\"markers\",\"name\":\"EDIFICIO OFICINAS\",\"orientation\":\"v\",\"showlegend\":true,\"x\":[0.0],\"xaxis\":\"x\",\"y\":[1935725000.0],\"yaxis\":\"y\",\"type\":\"scatter\"},{\"hovertemplate\":\"Tipo de Inmueble=CASA\\u003cbr\\u003e\\u00c1rea Construida=%{x}\\u003cbr\\u003ePrecio=%{y}\\u003cextra\\u003e\\u003c\\u002fextra\\u003e\",\"legendgroup\":\"CASA\",\"marker\":{\"color\":\"#EF553B\",\"symbol\":\"circle\"},\"mode\":\"markers\",\"name\":\"CASA\",\"orientation\":\"v\",\"showlegend\":true,\"x\":[0.0,0.0,0.0,0.0,0.0,0.0,0.0,0.0,0.0,0.0,0.0,0.0,0.0,0.0,0.0,0.0,0.0],\"xaxis\":\"x\",\"y\":[1040013730.0,4747362800.0,866644750.0,713410050.0,550361250.0,535670500.0,514454000.0,453180000.0,1448241600.0,268574800.0,228904300.0,187458000.0,178310000.0,167418000.0,98360090.0,72976720.0,1448241600.0],\"yaxis\":\"y\",\"type\":\"scatter\"},{\"hovertemplate\":\"Tipo de Inmueble=LOCAL\\u003cbr\\u003e\\u00c1rea Construida=%{x}\\u003cbr\\u003ePrecio=%{y}\\u003cextra\\u003e\\u003c\\u002fextra\\u003e\",\"legendgroup\":\"LOCAL\",\"marker\":{\"color\":\"#00cc96\",\"symbol\":\"circle\"},\"mode\":\"markers\",\"name\":\"LOCAL\",\"orientation\":\"v\",\"showlegend\":true,\"x\":[0.0,0.0,0.0,0.0,91.47,0.0,0.0,0.0,0.0,0.0,0.0,0.0,0.0,0.0,0.0,0.0,0.0,0.0,0.0,0.0,0.0,0.0,0.0,0.0,0.0,0.0,0.0,0.0,0.0,0.0,0.0,0.0,0.0,0.0,0.0,0.0,0.0,0.0,0.0,0.0,0.0,0.0,0.0,0.0,0.0,0.0,0.0,0.0,0.0,0.0,0.0,0.0,0.0,0.0,0.0,0.0,0.0,0.0,0.0,0.0,0.0,0.0,0.0,0.0,0.0,0.0,0.0,0.0,0.0,0.0,0.0,0.0,0.0,0.0,0.0,0.0,0.0,0.0,0.0,0.0,0.0,0.0,0.0,0.0,0.0,0.0,0.0,0.0,0.0,0.0,0.0,0.0,0.0,0.0,0.0,0.0,0.0,0.0,0.0,0.0,0.0,0.0,0.0,0.0,0.0,0.0,0.0,0.0,0.0,0.0,0.0,0.0,0.0,0.0,0.0,0.0,0.0,0.0,0.0,0.0,0.0,0.0,0.0,0.0,0.0,0.0,0.0,0.0,0.0,0.0,0.0,0.0,0.0,0.0,0.0,0.0,0.0,0.0,0.0,0.0,0.0,0.0,0.0,0.0,0.0,0.0,0.0,0.0,0.0,0.0,0.0,0.0,0.0,0.0,0.0,0.0,0.0,0.0,0.0,0.0,0.0,0.0,0.0,0.0,0.0,0.0,0.0,0.0,0.0,0.0,0.0,0.0,0.0,0.0,0.0,0.0,0.0,0.0,0.0,0.0,0.0,0.0,0.0,0.0,0.0,0.0,0.0,0.0,0.0,0.0,0.0,0.0,0.0,0.0,0.0,0.0,0.0,0.0,0.0,0.0,0.0,0.0,0.0,0.0,0.0,0.0,0.0,0.0,0.0,0.0,0.0,0.0,0.0,0.0,0.0,0.0,0.0,0.0,0.0,0.0,0.0,0.0,0.0,0.0,0.0,0.0,0.0,0.0,0.0,0.0,0.0,0.0,0.0,0.0,0.0,0.0,0.0,0.0,0.0,0.0,0.0,0.0,0.0,0.0,0.0,0.0,0.0,0.0,0.0,0.0,0.0,0.0,0.0,0.0,0.0,0.0,0.0,0.0,0.0,0.0,0.0,0.0,0.0,0.0,0.0,0.0,0.0,0.0,0.0,0.0,0.0,0.0,0.0,0.0,0.0,0.0,0.0,0.0,0.0,0.0,0.0,0.0,0.0,0.0,0.0,0.0,0.0,0.0,0.0,0.0,0.0,0.0,0.0,0.0,0.0,0.0,0.0,0.0,0.0,0.0,0.0,0.0,0.0,0.0,0.0],\"xaxis\":\"x\",\"y\":[784336820.0,697548450.0,466226810.0,730379000.0,837590790.0,168826320.0,42570000.0,40468000.0,37509500.0,36039500.0,31335500.0,30368800.0,29596000.0,29596000.0,29596000.0,29596000.0,28959000.0,84262517.5,27034500.0,26130000.0,25896500.0,25406500.0,25093000.0,159924173.1,24012000.0,23920000.0,23920000.0,23920000.0,23517000.0,23517000.0,23517000.0,23250500.0,22295000.0,21708000.0,21708000.0,21708000.0,21316750.0,21168000.0,20874000.0,20310500.0,19918500.0,19832000.0,19596000.0,19067000.0,19067000.0,18446000.0,18252500.0,18228000.0,18203500.0,18007500.0,17566500.0,17566500.0,17419500.0,17419500.0,17223500.0,17199000.0,17199000.0,17199000.0,17199000.0,17199000.0,17150000.0,17120000.0,110257063.9,16997000.0,16997000.0,16537000.0,16491000.0,16415000.0,16169000.0,16169000.0,16169000.0,16169000.0,16169000.0,16169000.0,16169000.0,16169000.0,16169000.0,16169000.0,16169000.0,16169000.0,16169000.0,16169000.0,16169000.0,16169000.0,16169000.0,16169000.0,16169000.0,16169000.0,15974000.0,15870000.0,15870000.0,15870000.0,15870000.0,15870000.0,15870000.0,15870000.0,15870000.0,15870000.0,15870000.0,15870000.0,15870000.0,15870000.0,15870000.0,15870000.0,15870000.0,15870000.0,15732000.0,15709000.0,15680000.0,15043000.0,14904000.0,14357000.0,14099000.0,13989500.0,13846000.0,13455000.0,13455000.0,13440000.0,13386000.0,13386000.0,13386000.0,13386000.0,13386000.0,13386000.0,13386000.0,13386000.0,13107500.0,13107500.0,13009500.0,13009500.0,12936000.0,12857000.0,12857000.0,12857000.0,12696000.0,12466000.0,12416000.0,12305000.0,12305000.0,12305000.0,12305000.0,12305000.0,12305000.0,12305000.0,12305000.0,12305000.0,12305000.0,12305000.0,12305000.0,12305000.0,12305000.0,12305000.0,12305000.0,12305000.0,12305000.0,12305000.0,12305000.0,12305000.0,12305000.0,12305000.0,12305000.0,12305000.0,12305000.0,12305000.0,12305000.0,12305000.0,12305000.0,12305000.0,12305000.0,12305000.0,12305000.0,12305000.0,12305000.0,12305000.0,12305000.0,12305000.0,12305000.0,12305000.0,12305000.0,12305000.0,12305000.0,12305000.0,12305000.0,12305000.0,12305000.0,12305000.0,12305000.0,12305000.0,12305000.0,12305000.0,12305000.0,12305000.0,12305000.0,12305000.0,12305000.0,12305000.0,12305000.0,12305000.0,12305000.0,12305000.0,12305000.0,12305000.0,12305000.0,12305000.0,12305000.0,12305000.0,12305000.0,12305000.0,12305000.0,12305000.0,12305000.0,12305000.0,12305000.0,12305000.0,12305000.0,12305000.0,12305000.0,12305000.0,12305000.0,12305000.0,12305000.0,12305000.0,12305000.0,12305000.0,12305000.0,12305000.0,12305000.0,12171250.0,11680000.0,11680000.0,11680000.0,11680000.0,11680000.0,10284500.0,9800000.0,9800000.0,8624000.0,8379000.0,552738798.5,7350000.0,7350000.0,7350000.0,7350000.0,7350000.0,7350000.0,7350000.0,7350000.0,7350000.0,7350000.0,7350000.0,7350000.0,7350000.0,7350000.0,7350000.0,7350000.0,7350000.0,7350000.0,7350000.0,7350000.0,7350000.0,7350000.0,7350000.0,7350000.0,7350000.0,7350000.0,7350000.0,7350000.0,7350000.0,7350000.0,7350000.0,7350000.0,7350000.0,7350000.0,7350000.0,7350000.0,7350000.0,7350000.0,7350000.0,7350000.0,7350000.0,7350000.0,7350000.0,7350000.0,7350000.0,7350000.0,7350000.0,7350000.0,7350000.0,7350000.0,7350000.0,7350000.0,7350000.0,7350000.0,7350000.0,7350000.0,7350000.0,7350000.0,7350000.0,6884500.0,6835500.0,24000000.0,29605338.62,20701337.03,20608003.68,20608003.68],\"yaxis\":\"y\",\"type\":\"scatter\"},{\"hovertemplate\":\"Tipo de Inmueble=LOTE INDUSTRIAL\\u003cbr\\u003e\\u00c1rea Construida=%{x}\\u003cbr\\u003ePrecio=%{y}\\u003cextra\\u003e\\u003c\\u002fextra\\u003e\",\"legendgroup\":\"LOTE INDUSTRIAL\",\"marker\":{\"color\":\"#ab63fa\",\"symbol\":\"circle\"},\"mode\":\"markers\",\"name\":\"LOTE INDUSTRIAL\",\"orientation\":\"v\",\"showlegend\":true,\"x\":[0.0,0.0],\"xaxis\":\"x\",\"y\":[4527473614.0,1416213286.0],\"yaxis\":\"y\",\"type\":\"scatter\"},{\"hovertemplate\":\"Tipo de Inmueble=LOTE\\u003cbr\\u003e\\u00c1rea Construida=%{x}\\u003cbr\\u003ePrecio=%{y}\\u003cextra\\u003e\\u003c\\u002fextra\\u003e\",\"legendgroup\":\"LOTE\",\"marker\":{\"color\":\"#FFA15A\",\"symbol\":\"circle\"},\"mode\":\"markers\",\"name\":\"LOTE\",\"orientation\":\"v\",\"showlegend\":true,\"x\":[0.0,0.0,0.0],\"xaxis\":\"x\",\"y\":[552796000.0,178106700.0,20381660.0],\"yaxis\":\"y\",\"type\":\"scatter\"},{\"hovertemplate\":\"Tipo de Inmueble=OFICINA\\u003cbr\\u003e\\u00c1rea Construida=%{x}\\u003cbr\\u003ePrecio=%{y}\\u003cextra\\u003e\\u003c\\u002fextra\\u003e\",\"legendgroup\":\"OFICINA\",\"marker\":{\"color\":\"#19d3f3\",\"symbol\":\"circle\"},\"mode\":\"markers\",\"name\":\"OFICINA\",\"orientation\":\"v\",\"showlegend\":true,\"x\":[0.0,0.0,0.0,0.0,0.0,0.0,0.0,0.0,0.0,0.0,0.0,0.0,0.0,0.0,0.0,0.0,0.0],\"xaxis\":\"x\",\"y\":[503871960.0,691426800.0,268847500.0,253872000.0,222132480.0,222132480.0,213205760.0,213205760.0,213205760.0,213205760.0,186144000.0,186144000.0,186144000.0,186144000.0,159019520.0,159019520.0,77202090.0],\"yaxis\":\"y\",\"type\":\"scatter\"},{\"hovertemplate\":\"Tipo de Inmueble=GARAJE\\u003cbr\\u003e\\u00c1rea Construida=%{x}\\u003cbr\\u003ePrecio=%{y}\\u003cextra\\u003e\\u003c\\u002fextra\\u003e\",\"legendgroup\":\"GARAJE\",\"marker\":{\"color\":\"#FF6692\",\"symbol\":\"circle\"},\"mode\":\"markers\",\"name\":\"GARAJE\",\"orientation\":\"v\",\"showlegend\":true,\"x\":[0.0,0.0],\"xaxis\":\"x\",\"y\":[29185200.0,28981920.0],\"yaxis\":\"y\",\"type\":\"scatter\"},{\"hovertemplate\":\"Tipo de Inmueble=DEPOSITO\\u003cbr\\u003e\\u00c1rea Construida=%{x}\\u003cbr\\u003ePrecio=%{y}\\u003cextra\\u003e\\u003c\\u002fextra\\u003e\",\"legendgroup\":\"DEPOSITO\",\"marker\":{\"color\":\"#B6E880\",\"symbol\":\"circle\"},\"mode\":\"markers\",\"name\":\"DEPOSITO\",\"orientation\":\"v\",\"showlegend\":true,\"x\":[0.0],\"xaxis\":\"x\",\"y\":[7152000.0],\"yaxis\":\"y\",\"type\":\"scatter\"},{\"hovertemplate\":\"Tipo de Inmueble=LOTE AGRICOLA\\u003cbr\\u003e\\u00c1rea Construida=%{x}\\u003cbr\\u003ePrecio=%{y}\\u003cextra\\u003e\\u003c\\u002fextra\\u003e\",\"legendgroup\":\"LOTE AGRICOLA\",\"marker\":{\"color\":\"#FF97FF\",\"symbol\":\"circle\"},\"mode\":\"markers\",\"name\":\"LOTE AGRICOLA\",\"orientation\":\"v\",\"showlegend\":true,\"x\":[0.0],\"xaxis\":\"x\",\"y\":[4650000.0],\"yaxis\":\"y\",\"type\":\"scatter\"}],                        {\"template\":{\"data\":{\"histogram2dcontour\":[{\"type\":\"histogram2dcontour\",\"colorbar\":{\"outlinewidth\":0,\"ticks\":\"\"},\"colorscale\":[[0.0,\"#0d0887\"],[0.1111111111111111,\"#46039f\"],[0.2222222222222222,\"#7201a8\"],[0.3333333333333333,\"#9c179e\"],[0.4444444444444444,\"#bd3786\"],[0.5555555555555556,\"#d8576b\"],[0.6666666666666666,\"#ed7953\"],[0.7777777777777778,\"#fb9f3a\"],[0.8888888888888888,\"#fdca26\"],[1.0,\"#f0f921\"]]}],\"choropleth\":[{\"type\":\"choropleth\",\"colorbar\":{\"outlinewidth\":0,\"ticks\":\"\"}}],\"histogram2d\":[{\"type\":\"histogram2d\",\"colorbar\":{\"outlinewidth\":0,\"ticks\":\"\"},\"colorscale\":[[0.0,\"#0d0887\"],[0.1111111111111111,\"#46039f\"],[0.2222222222222222,\"#7201a8\"],[0.3333333333333333,\"#9c179e\"],[0.4444444444444444,\"#bd3786\"],[0.5555555555555556,\"#d8576b\"],[0.6666666666666666,\"#ed7953\"],[0.7777777777777778,\"#fb9f3a\"],[0.8888888888888888,\"#fdca26\"],[1.0,\"#f0f921\"]]}],\"heatmap\":[{\"type\":\"heatmap\",\"colorbar\":{\"outlinewidth\":0,\"ticks\":\"\"},\"colorscale\":[[0.0,\"#0d0887\"],[0.1111111111111111,\"#46039f\"],[0.2222222222222222,\"#7201a8\"],[0.3333333333333333,\"#9c179e\"],[0.4444444444444444,\"#bd3786\"],[0.5555555555555556,\"#d8576b\"],[0.6666666666666666,\"#ed7953\"],[0.7777777777777778,\"#fb9f3a\"],[0.8888888888888888,\"#fdca26\"],[1.0,\"#f0f921\"]]}],\"heatmapgl\":[{\"type\":\"heatmapgl\",\"colorbar\":{\"outlinewidth\":0,\"ticks\":\"\"},\"colorscale\":[[0.0,\"#0d0887\"],[0.1111111111111111,\"#46039f\"],[0.2222222222222222,\"#7201a8\"],[0.3333333333333333,\"#9c179e\"],[0.4444444444444444,\"#bd3786\"],[0.5555555555555556,\"#d8576b\"],[0.6666666666666666,\"#ed7953\"],[0.7777777777777778,\"#fb9f3a\"],[0.8888888888888888,\"#fdca26\"],[1.0,\"#f0f921\"]]}],\"contourcarpet\":[{\"type\":\"contourcarpet\",\"colorbar\":{\"outlinewidth\":0,\"ticks\":\"\"}}],\"contour\":[{\"type\":\"contour\",\"colorbar\":{\"outlinewidth\":0,\"ticks\":\"\"},\"colorscale\":[[0.0,\"#0d0887\"],[0.1111111111111111,\"#46039f\"],[0.2222222222222222,\"#7201a8\"],[0.3333333333333333,\"#9c179e\"],[0.4444444444444444,\"#bd3786\"],[0.5555555555555556,\"#d8576b\"],[0.6666666666666666,\"#ed7953\"],[0.7777777777777778,\"#fb9f3a\"],[0.8888888888888888,\"#fdca26\"],[1.0,\"#f0f921\"]]}],\"surface\":[{\"type\":\"surface\",\"colorbar\":{\"outlinewidth\":0,\"ticks\":\"\"},\"colorscale\":[[0.0,\"#0d0887\"],[0.1111111111111111,\"#46039f\"],[0.2222222222222222,\"#7201a8\"],[0.3333333333333333,\"#9c179e\"],[0.4444444444444444,\"#bd3786\"],[0.5555555555555556,\"#d8576b\"],[0.6666666666666666,\"#ed7953\"],[0.7777777777777778,\"#fb9f3a\"],[0.8888888888888888,\"#fdca26\"],[1.0,\"#f0f921\"]]}],\"mesh3d\":[{\"type\":\"mesh3d\",\"colorbar\":{\"outlinewidth\":0,\"ticks\":\"\"}}],\"scatter\":[{\"fillpattern\":{\"fillmode\":\"overlay\",\"size\":10,\"solidity\":0.2},\"type\":\"scatter\"}],\"parcoords\":[{\"type\":\"parcoords\",\"line\":{\"colorbar\":{\"outlinewidth\":0,\"ticks\":\"\"}}}],\"scatterpolargl\":[{\"type\":\"scatterpolargl\",\"marker\":{\"colorbar\":{\"outlinewidth\":0,\"ticks\":\"\"}}}],\"bar\":[{\"error_x\":{\"color\":\"#2a3f5f\"},\"error_y\":{\"color\":\"#2a3f5f\"},\"marker\":{\"line\":{\"color\":\"#E5ECF6\",\"width\":0.5},\"pattern\":{\"fillmode\":\"overlay\",\"size\":10,\"solidity\":0.2}},\"type\":\"bar\"}],\"scattergeo\":[{\"type\":\"scattergeo\",\"marker\":{\"colorbar\":{\"outlinewidth\":0,\"ticks\":\"\"}}}],\"scatterpolar\":[{\"type\":\"scatterpolar\",\"marker\":{\"colorbar\":{\"outlinewidth\":0,\"ticks\":\"\"}}}],\"histogram\":[{\"marker\":{\"pattern\":{\"fillmode\":\"overlay\",\"size\":10,\"solidity\":0.2}},\"type\":\"histogram\"}],\"scattergl\":[{\"type\":\"scattergl\",\"marker\":{\"colorbar\":{\"outlinewidth\":0,\"ticks\":\"\"}}}],\"scatter3d\":[{\"type\":\"scatter3d\",\"line\":{\"colorbar\":{\"outlinewidth\":0,\"ticks\":\"\"}},\"marker\":{\"colorbar\":{\"outlinewidth\":0,\"ticks\":\"\"}}}],\"scattermapbox\":[{\"type\":\"scattermapbox\",\"marker\":{\"colorbar\":{\"outlinewidth\":0,\"ticks\":\"\"}}}],\"scatterternary\":[{\"type\":\"scatterternary\",\"marker\":{\"colorbar\":{\"outlinewidth\":0,\"ticks\":\"\"}}}],\"scattercarpet\":[{\"type\":\"scattercarpet\",\"marker\":{\"colorbar\":{\"outlinewidth\":0,\"ticks\":\"\"}}}],\"carpet\":[{\"aaxis\":{\"endlinecolor\":\"#2a3f5f\",\"gridcolor\":\"white\",\"linecolor\":\"white\",\"minorgridcolor\":\"white\",\"startlinecolor\":\"#2a3f5f\"},\"baxis\":{\"endlinecolor\":\"#2a3f5f\",\"gridcolor\":\"white\",\"linecolor\":\"white\",\"minorgridcolor\":\"white\",\"startlinecolor\":\"#2a3f5f\"},\"type\":\"carpet\"}],\"table\":[{\"cells\":{\"fill\":{\"color\":\"#EBF0F8\"},\"line\":{\"color\":\"white\"}},\"header\":{\"fill\":{\"color\":\"#C8D4E3\"},\"line\":{\"color\":\"white\"}},\"type\":\"table\"}],\"barpolar\":[{\"marker\":{\"line\":{\"color\":\"#E5ECF6\",\"width\":0.5},\"pattern\":{\"fillmode\":\"overlay\",\"size\":10,\"solidity\":0.2}},\"type\":\"barpolar\"}],\"pie\":[{\"automargin\":true,\"type\":\"pie\"}]},\"layout\":{\"autotypenumbers\":\"strict\",\"colorway\":[\"#636efa\",\"#EF553B\",\"#00cc96\",\"#ab63fa\",\"#FFA15A\",\"#19d3f3\",\"#FF6692\",\"#B6E880\",\"#FF97FF\",\"#FECB52\"],\"font\":{\"color\":\"#2a3f5f\"},\"hovermode\":\"closest\",\"hoverlabel\":{\"align\":\"left\"},\"paper_bgcolor\":\"white\",\"plot_bgcolor\":\"#E5ECF6\",\"polar\":{\"bgcolor\":\"#E5ECF6\",\"angularaxis\":{\"gridcolor\":\"white\",\"linecolor\":\"white\",\"ticks\":\"\"},\"radialaxis\":{\"gridcolor\":\"white\",\"linecolor\":\"white\",\"ticks\":\"\"}},\"ternary\":{\"bgcolor\":\"#E5ECF6\",\"aaxis\":{\"gridcolor\":\"white\",\"linecolor\":\"white\",\"ticks\":\"\"},\"baxis\":{\"gridcolor\":\"white\",\"linecolor\":\"white\",\"ticks\":\"\"},\"caxis\":{\"gridcolor\":\"white\",\"linecolor\":\"white\",\"ticks\":\"\"}},\"coloraxis\":{\"colorbar\":{\"outlinewidth\":0,\"ticks\":\"\"}},\"colorscale\":{\"sequential\":[[0.0,\"#0d0887\"],[0.1111111111111111,\"#46039f\"],[0.2222222222222222,\"#7201a8\"],[0.3333333333333333,\"#9c179e\"],[0.4444444444444444,\"#bd3786\"],[0.5555555555555556,\"#d8576b\"],[0.6666666666666666,\"#ed7953\"],[0.7777777777777778,\"#fb9f3a\"],[0.8888888888888888,\"#fdca26\"],[1.0,\"#f0f921\"]],\"sequentialminus\":[[0.0,\"#0d0887\"],[0.1111111111111111,\"#46039f\"],[0.2222222222222222,\"#7201a8\"],[0.3333333333333333,\"#9c179e\"],[0.4444444444444444,\"#bd3786\"],[0.5555555555555556,\"#d8576b\"],[0.6666666666666666,\"#ed7953\"],[0.7777777777777778,\"#fb9f3a\"],[0.8888888888888888,\"#fdca26\"],[1.0,\"#f0f921\"]],\"diverging\":[[0,\"#8e0152\"],[0.1,\"#c51b7d\"],[0.2,\"#de77ae\"],[0.3,\"#f1b6da\"],[0.4,\"#fde0ef\"],[0.5,\"#f7f7f7\"],[0.6,\"#e6f5d0\"],[0.7,\"#b8e186\"],[0.8,\"#7fbc41\"],[0.9,\"#4d9221\"],[1,\"#276419\"]]},\"xaxis\":{\"gridcolor\":\"white\",\"linecolor\":\"white\",\"ticks\":\"\",\"title\":{\"standoff\":15},\"zerolinecolor\":\"white\",\"automargin\":true,\"zerolinewidth\":2},\"yaxis\":{\"gridcolor\":\"white\",\"linecolor\":\"white\",\"ticks\":\"\",\"title\":{\"standoff\":15},\"zerolinecolor\":\"white\",\"automargin\":true,\"zerolinewidth\":2},\"scene\":{\"xaxis\":{\"backgroundcolor\":\"#E5ECF6\",\"gridcolor\":\"white\",\"linecolor\":\"white\",\"showbackground\":true,\"ticks\":\"\",\"zerolinecolor\":\"white\",\"gridwidth\":2},\"yaxis\":{\"backgroundcolor\":\"#E5ECF6\",\"gridcolor\":\"white\",\"linecolor\":\"white\",\"showbackground\":true,\"ticks\":\"\",\"zerolinecolor\":\"white\",\"gridwidth\":2},\"zaxis\":{\"backgroundcolor\":\"#E5ECF6\",\"gridcolor\":\"white\",\"linecolor\":\"white\",\"showbackground\":true,\"ticks\":\"\",\"zerolinecolor\":\"white\",\"gridwidth\":2}},\"shapedefaults\":{\"line\":{\"color\":\"#2a3f5f\"}},\"annotationdefaults\":{\"arrowcolor\":\"#2a3f5f\",\"arrowhead\":0,\"arrowwidth\":1},\"geo\":{\"bgcolor\":\"white\",\"landcolor\":\"#E5ECF6\",\"subunitcolor\":\"white\",\"showland\":true,\"showlakes\":true,\"lakecolor\":\"white\"},\"title\":{\"x\":0.05},\"mapbox\":{\"style\":\"light\"}}},\"xaxis\":{\"anchor\":\"y\",\"domain\":[0.0,1.0],\"title\":{\"text\":\"\\u00c1rea Construida\"}},\"yaxis\":{\"anchor\":\"x\",\"domain\":[0.0,1.0],\"title\":{\"text\":\"Precio\"}},\"legend\":{\"title\":{\"text\":\"Tipo de Inmueble\"},\"tracegroupgap\":0},\"title\":{\"text\":\"Precio vs \\u00c1rea Construida\"},\"height\":600},                        {\"responsive\": true}                    ).then(function(){\n",
              "                            \n",
              "var gd = document.getElementById('789277d1-0507-41c0-9df3-c929a3b043ab');\n",
              "var x = new MutationObserver(function (mutations, observer) {{\n",
              "        var display = window.getComputedStyle(gd).display;\n",
              "        if (!display || display === 'none') {{\n",
              "            console.log([gd, 'removed!']);\n",
              "            Plotly.purge(gd);\n",
              "            observer.disconnect();\n",
              "        }}\n",
              "}});\n",
              "\n",
              "// Listen for the removal of the full notebook cells\n",
              "var notebookContainer = gd.closest('#notebook-container');\n",
              "if (notebookContainer) {{\n",
              "    x.observe(notebookContainer, {childList: true});\n",
              "}}\n",
              "\n",
              "// Listen for the clearing of the current output cell\n",
              "var outputEl = gd.closest('.output');\n",
              "if (outputEl) {{\n",
              "    x.observe(outputEl, {childList: true});\n",
              "}}\n",
              "\n",
              "                        })                };                            </script>        </div>\n",
              "</body>\n",
              "</html>"
            ]
          },
          "metadata": {}
        }
      ]
    },
    {
      "cell_type": "code",
      "source": [
        "# Contar la cantidad de inmuebles por tipo y ciudad\n",
        "df_counts = df.groupby(['Ciudad', 'Tipo de Inmueble']).size().reset_index(name='Cantidad')\n",
        "\n",
        "# Gráfico de dispersión\n",
        "fig = px.scatter(\n",
        "    df_counts,\n",
        "    x='Ciudad',\n",
        "    y='Cantidad',\n",
        "    color='Tipo de Inmueble',\n",
        "    size='Cantidad',\n",
        "    title='Cantidad de Inmuebles por Tipo en Cada Ciudad',\n",
        "    labels={'Cantidad': 'Número de Inmuebles', 'Ciudad': 'Ciudad'},\n",
        "    height=600\n",
        ")\n",
        "\n",
        "# Actualizacion diseño del gráfico\n",
        "fig.update_layout(\n",
        "    xaxis_title='Ciudad',\n",
        "    yaxis_title='Número de Inmuebles',\n",
        "    legend_title='Tipo de Inmueble',\n",
        "    xaxis=dict(tickangle=-45)  # Rotar etiquetas del eje x para mejor visualización\n",
        ")\n",
        "\n",
        "# Mostrar el gráfico\n",
        "fig.show()"
      ],
      "metadata": {
        "colab": {
          "base_uri": "https://localhost:8080/",
          "height": 617
        },
        "id": "QuzAUIcv9KK5",
        "outputId": "8856fef1-397e-40c2-e788-464faa4e93ed"
      },
      "execution_count": 17,
      "outputs": [
        {
          "output_type": "display_data",
          "data": {
            "text/html": [
              "<html>\n",
              "<head><meta charset=\"utf-8\" /></head>\n",
              "<body>\n",
              "    <div>            <script src=\"https://cdnjs.cloudflare.com/ajax/libs/mathjax/2.7.5/MathJax.js?config=TeX-AMS-MML_SVG\"></script><script type=\"text/javascript\">if (window.MathJax && window.MathJax.Hub && window.MathJax.Hub.Config) {window.MathJax.Hub.Config({SVG: {font: \"STIX-Web\"}});}</script>                <script type=\"text/javascript\">window.PlotlyConfig = {MathJaxConfig: 'local'};</script>\n",
              "        <script charset=\"utf-8\" src=\"https://cdn.plot.ly/plotly-2.24.1.min.js\"></script>                <div id=\"c15d8a5e-4cd8-4c70-8427-fab31562d0f9\" class=\"plotly-graph-div\" style=\"height:600px; width:100%;\"></div>            <script type=\"text/javascript\">                                    window.PLOTLYENV=window.PLOTLYENV || {};                                    if (document.getElementById(\"c15d8a5e-4cd8-4c70-8427-fab31562d0f9\")) {                    Plotly.newPlot(                        \"c15d8a5e-4cd8-4c70-8427-fab31562d0f9\",                        [{\"hovertemplate\":\"Tipo de Inmueble=LOTE VIVIENDA\\u003cbr\\u003eCiudad=%{x}\\u003cbr\\u003eN\\u00famero de Inmuebles=%{marker.size}\\u003cextra\\u003e\\u003c\\u002fextra\\u003e\",\"legendgroup\":\"LOTE VIVIENDA\",\"marker\":{\"color\":\"#636efa\",\"size\":[2,2,1,1,9,1,1,1,1,16,11,1,1],\"sizemode\":\"area\",\"sizeref\":0.72,\"symbol\":\"circle\"},\"mode\":\"markers\",\"name\":\"LOTE VIVIENDA\",\"orientation\":\"v\",\"showlegend\":true,\"x\":[\"ACANDI\",\"BARRANQUILLA\",\"BUENAVENTURA\",\"CALI\",\"CALIMA EL DARIEN\",\"EL PLAYON\",\"ENVIGADO\",\"LA CALERA\",\"MANIZALES\",\"PACORA\",\"PEREIRA\",\"SAN MARTIN\",\"TULUA\"],\"xaxis\":\"x\",\"y\":[2,2,1,1,9,1,1,1,1,16,11,1,1],\"yaxis\":\"y\",\"type\":\"scatter\"},{\"hovertemplate\":\"Tipo de Inmueble=EDIFICIO\\u003cbr\\u003eCiudad=%{x}\\u003cbr\\u003eN\\u00famero de Inmuebles=%{marker.size}\\u003cextra\\u003e\\u003c\\u002fextra\\u003e\",\"legendgroup\":\"EDIFICIO\",\"marker\":{\"color\":\"#EF553B\",\"size\":[1,2,1],\"sizemode\":\"area\",\"sizeref\":0.72,\"symbol\":\"circle\"},\"mode\":\"markers\",\"name\":\"EDIFICIO\",\"orientation\":\"v\",\"showlegend\":true,\"x\":[\"BARRANQUILLA\",\"BOGOTA\",\"SOATA\"],\"xaxis\":\"x\",\"y\":[1,2,1],\"yaxis\":\"y\",\"type\":\"scatter\"},{\"hovertemplate\":\"Tipo de Inmueble=LOCAL\\u003cbr\\u003eCiudad=%{x}\\u003cbr\\u003eN\\u00famero de Inmuebles=%{marker.size}\\u003cextra\\u003e\\u003c\\u002fextra\\u003e\",\"legendgroup\":\"LOCAL\",\"marker\":{\"color\":\"#00cc96\",\"size\":[1,5,4,2,2,1,2,288],\"sizemode\":\"area\",\"sizeref\":0.72,\"symbol\":\"circle\"},\"mode\":\"markers\",\"name\":\"LOCAL\",\"orientation\":\"v\",\"showlegend\":true,\"x\":[\"BARRANQUILLA\",\"BOGOTA\",\"CALI\",\"GIRARDOT\",\"MANIZALES\",\"MARSELLA\",\"MEDELLIN\",\"VILLAVICENCIO\"],\"xaxis\":\"x\",\"y\":[1,5,4,2,2,1,2,288],\"yaxis\":\"y\",\"type\":\"scatter\"},{\"hovertemplate\":\"Tipo de Inmueble=LOTE CON CONSTRUCCION\\u003cbr\\u003eCiudad=%{x}\\u003cbr\\u003eN\\u00famero de Inmuebles=%{marker.size}\\u003cextra\\u003e\\u003c\\u002fextra\\u003e\",\"legendgroup\":\"LOTE CON CONSTRUCCION\",\"marker\":{\"color\":\"#ab63fa\",\"size\":[1,2,1,1,1,1,1,1,6],\"sizemode\":\"area\",\"sizeref\":0.72,\"symbol\":\"circle\"},\"mode\":\"markers\",\"name\":\"LOTE CON CONSTRUCCION\",\"orientation\":\"v\",\"showlegend\":true,\"x\":[\"BARRANQUILLA\",\"CALI\",\"EL ROSAL\",\"LA CEJA\",\"PUERTO LOPEZ\",\"SANMIGUEL\",\"SANTANDER DE QUILICHAO\",\"SONSON\",\"TARAZA\"],\"xaxis\":\"x\",\"y\":[1,2,1,1,1,1,1,1,6],\"yaxis\":\"y\",\"type\":\"scatter\"},{\"hovertemplate\":\"Tipo de Inmueble=OFICINA\\u003cbr\\u003eCiudad=%{x}\\u003cbr\\u003eN\\u00famero de Inmuebles=%{marker.size}\\u003cextra\\u003e\\u003c\\u002fextra\\u003e\",\"legendgroup\":\"OFICINA\",\"marker\":{\"color\":\"#FFA15A\",\"size\":[12,2,3],\"sizemode\":\"area\",\"sizeref\":0.72,\"symbol\":\"circle\"},\"mode\":\"markers\",\"name\":\"OFICINA\",\"orientation\":\"v\",\"showlegend\":true,\"x\":[\"BARRANQUILLA\",\"BOGOTA\",\"MEDELLIN\"],\"xaxis\":\"x\",\"y\":[12,2,3],\"yaxis\":\"y\",\"type\":\"scatter\"},{\"hovertemplate\":\"Tipo de Inmueble=APARTAMENTO\\u003cbr\\u003eCiudad=%{x}\\u003cbr\\u003eN\\u00famero de Inmuebles=%{marker.size}\\u003cextra\\u003e\\u003c\\u002fextra\\u003e\",\"legendgroup\":\"APARTAMENTO\",\"marker\":{\"color\":\"#19d3f3\",\"size\":[2,2,1,2],\"sizemode\":\"area\",\"sizeref\":0.72,\"symbol\":\"circle\"},\"mode\":\"markers\",\"name\":\"APARTAMENTO\",\"orientation\":\"v\",\"showlegend\":true,\"x\":[\"BOGOTA\",\"CARTAGENA\",\"MEDELLIN\",\"TARAZA\"],\"xaxis\":\"x\",\"y\":[2,2,1,2],\"yaxis\":\"y\",\"type\":\"scatter\"},{\"hovertemplate\":\"Tipo de Inmueble=BODEGA\\u003cbr\\u003eCiudad=%{x}\\u003cbr\\u003eN\\u00famero de Inmuebles=%{marker.size}\\u003cextra\\u003e\\u003c\\u002fextra\\u003e\",\"legendgroup\":\"BODEGA\",\"marker\":{\"color\":\"#FF6692\",\"size\":[3,1,1,15,1,1,1],\"sizemode\":\"area\",\"sizeref\":0.72,\"symbol\":\"circle\"},\"mode\":\"markers\",\"name\":\"BODEGA\",\"orientation\":\"v\",\"showlegend\":true,\"x\":[\"BOGOTA\",\"BUCARAMANGA\",\"CALI\",\"CARTAGENA\",\"FUNZA\",\"PEREIRA\",\"TURBO\"],\"xaxis\":\"x\",\"y\":[3,1,1,15,1,1,1],\"yaxis\":\"y\",\"type\":\"scatter\"},{\"hovertemplate\":\"Tipo de Inmueble=CASA\\u003cbr\\u003eCiudad=%{x}\\u003cbr\\u003eN\\u00famero de Inmuebles=%{marker.size}\\u003cextra\\u003e\\u003c\\u002fextra\\u003e\",\"legendgroup\":\"CASA\",\"marker\":{\"color\":\"#B6E880\",\"size\":[6,2,1,4,1,1,2],\"sizemode\":\"area\",\"sizeref\":0.72,\"symbol\":\"circle\"},\"mode\":\"markers\",\"name\":\"CASA\",\"orientation\":\"v\",\"showlegend\":true,\"x\":[\"BOGOTA\",\"MONTERIA\",\"PIEDECUESTA\",\"PUERTO BOYACA\",\"SONSON\",\"TIERRALTA\",\"VILLAVICENCIO\"],\"xaxis\":\"x\",\"y\":[6,2,1,4,1,1,2],\"yaxis\":\"y\",\"type\":\"scatter\"},{\"hovertemplate\":\"Tipo de Inmueble=GARAJE\\u003cbr\\u003eCiudad=%{x}\\u003cbr\\u003eN\\u00famero de Inmuebles=%{marker.size}\\u003cextra\\u003e\\u003c\\u002fextra\\u003e\",\"legendgroup\":\"GARAJE\",\"marker\":{\"color\":\"#FF97FF\",\"size\":[2],\"sizemode\":\"area\",\"sizeref\":0.72,\"symbol\":\"circle\"},\"mode\":\"markers\",\"name\":\"GARAJE\",\"orientation\":\"v\",\"showlegend\":true,\"x\":[\"BOGOTA\"],\"xaxis\":\"x\",\"y\":[2],\"yaxis\":\"y\",\"type\":\"scatter\"},{\"hovertemplate\":\"Tipo de Inmueble=LOTE COMERCIAL\\u003cbr\\u003eCiudad=%{x}\\u003cbr\\u003eN\\u00famero de Inmuebles=%{marker.size}\\u003cextra\\u003e\\u003c\\u002fextra\\u003e\",\"legendgroup\":\"LOTE COMERCIAL\",\"marker\":{\"color\":\"#FECB52\",\"size\":[1],\"sizemode\":\"area\",\"sizeref\":0.72,\"symbol\":\"circle\"},\"mode\":\"markers\",\"name\":\"LOTE COMERCIAL\",\"orientation\":\"v\",\"showlegend\":true,\"x\":[\"BOGOTA\"],\"xaxis\":\"x\",\"y\":[1],\"yaxis\":\"y\",\"type\":\"scatter\"},{\"hovertemplate\":\"Tipo de Inmueble=EDIFICIO OFICINAS\\u003cbr\\u003eCiudad=%{x}\\u003cbr\\u003eN\\u00famero de Inmuebles=%{marker.size}\\u003cextra\\u003e\\u003c\\u002fextra\\u003e\",\"legendgroup\":\"EDIFICIO OFICINAS\",\"marker\":{\"color\":\"#636efa\",\"size\":[1],\"sizemode\":\"area\",\"sizeref\":0.72,\"symbol\":\"circle\"},\"mode\":\"markers\",\"name\":\"EDIFICIO OFICINAS\",\"orientation\":\"v\",\"showlegend\":true,\"x\":[\"BUCARAMANGA\"],\"xaxis\":\"x\",\"y\":[1],\"yaxis\":\"y\",\"type\":\"scatter\"},{\"hovertemplate\":\"Tipo de Inmueble=FINCA\\u003cbr\\u003eCiudad=%{x}\\u003cbr\\u003eN\\u00famero de Inmuebles=%{marker.size}\\u003cextra\\u003e\\u003c\\u002fextra\\u003e\",\"legendgroup\":\"FINCA\",\"marker\":{\"color\":\"#EF553B\",\"size\":[1,1,1,3,1,1,2],\"sizemode\":\"area\",\"sizeref\":0.72,\"symbol\":\"circle\"},\"mode\":\"markers\",\"name\":\"FINCA\",\"orientation\":\"v\",\"showlegend\":true,\"x\":[\"BUENAVISTA\",\"CHIA\",\"LA DORADA\",\"MONTERIA\",\"NORCASIA\",\"PEREIRA\",\"VALENCIA\"],\"xaxis\":\"x\",\"y\":[1,1,1,3,1,1,2],\"yaxis\":\"y\",\"type\":\"scatter\"},{\"hovertemplate\":\"Tipo de Inmueble=LOTE MIXTO\\u003cbr\\u003eCiudad=%{x}\\u003cbr\\u003eN\\u00famero de Inmuebles=%{marker.size}\\u003cextra\\u003e\\u003c\\u002fextra\\u003e\",\"legendgroup\":\"LOTE MIXTO\",\"marker\":{\"color\":\"#00cc96\",\"size\":[1,1,1],\"sizemode\":\"area\",\"sizeref\":0.72,\"symbol\":\"circle\"},\"mode\":\"markers\",\"name\":\"LOTE MIXTO\",\"orientation\":\"v\",\"showlegend\":true,\"x\":[\"BUGA\",\"CALI\",\"CALIMA EL DARIEN\"],\"xaxis\":\"x\",\"y\":[1,1,1],\"yaxis\":\"y\",\"type\":\"scatter\"},{\"hovertemplate\":\"Tipo de Inmueble=DEPOSITO\\u003cbr\\u003eCiudad=%{x}\\u003cbr\\u003eN\\u00famero de Inmuebles=%{marker.size}\\u003cextra\\u003e\\u003c\\u002fextra\\u003e\",\"legendgroup\":\"DEPOSITO\",\"marker\":{\"color\":\"#ab63fa\",\"size\":[1],\"sizemode\":\"area\",\"sizeref\":0.72,\"symbol\":\"circle\"},\"mode\":\"markers\",\"name\":\"DEPOSITO\",\"orientation\":\"v\",\"showlegend\":true,\"x\":[\"CALI\"],\"xaxis\":\"x\",\"y\":[1],\"yaxis\":\"y\",\"type\":\"scatter\"},{\"hovertemplate\":\"Tipo de Inmueble=LOTE INDUSTRIAL\\u003cbr\\u003eCiudad=%{x}\\u003cbr\\u003eN\\u00famero de Inmuebles=%{marker.size}\\u003cextra\\u003e\\u003c\\u002fextra\\u003e\",\"legendgroup\":\"LOTE INDUSTRIAL\",\"marker\":{\"color\":\"#FFA15A\",\"size\":[1,1],\"sizemode\":\"area\",\"sizeref\":0.72,\"symbol\":\"circle\"},\"mode\":\"markers\",\"name\":\"LOTE INDUSTRIAL\",\"orientation\":\"v\",\"showlegend\":true,\"x\":[\"CARTAGENA\",\"SANTANDER DE QUILICHAO\"],\"xaxis\":\"x\",\"y\":[1,1],\"yaxis\":\"y\",\"type\":\"scatter\"},{\"hovertemplate\":\"Tipo de Inmueble=LOTE\\u003cbr\\u003eCiudad=%{x}\\u003cbr\\u003eN\\u00famero de Inmuebles=%{marker.size}\\u003cextra\\u003e\\u003c\\u002fextra\\u003e\",\"legendgroup\":\"LOTE\",\"marker\":{\"color\":\"#19d3f3\",\"size\":[1,2],\"sizemode\":\"area\",\"sizeref\":0.72,\"symbol\":\"circle\"},\"mode\":\"markers\",\"name\":\"LOTE\",\"orientation\":\"v\",\"showlegend\":true,\"x\":[\"CAUCASIA\",\"TARAZA\"],\"xaxis\":\"x\",\"y\":[1,2],\"yaxis\":\"y\",\"type\":\"scatter\"},{\"hovertemplate\":\"Tipo de Inmueble=CLINICA\\u003cbr\\u003eCiudad=%{x}\\u003cbr\\u003eN\\u00famero de Inmuebles=%{marker.size}\\u003cextra\\u003e\\u003c\\u002fextra\\u003e\",\"legendgroup\":\"CLINICA\",\"marker\":{\"color\":\"#FF6692\",\"size\":[1,1],\"sizemode\":\"area\",\"sizeref\":0.72,\"symbol\":\"circle\"},\"mode\":\"markers\",\"name\":\"CLINICA\",\"orientation\":\"v\",\"showlegend\":true,\"x\":[\"PEREIRA\",\"SOGAMOSO\"],\"xaxis\":\"x\",\"y\":[1,1],\"yaxis\":\"y\",\"type\":\"scatter\"},{\"hovertemplate\":\"Tipo de Inmueble=HOTEL\\u003cbr\\u003eCiudad=%{x}\\u003cbr\\u003eN\\u00famero de Inmuebles=%{marker.size}\\u003cextra\\u003e\\u003c\\u002fextra\\u003e\",\"legendgroup\":\"HOTEL\",\"marker\":{\"color\":\"#B6E880\",\"size\":[1],\"sizemode\":\"area\",\"sizeref\":0.72,\"symbol\":\"circle\"},\"mode\":\"markers\",\"name\":\"HOTEL\",\"orientation\":\"v\",\"showlegend\":true,\"x\":[\"RICAURTE\"],\"xaxis\":\"x\",\"y\":[1],\"yaxis\":\"y\",\"type\":\"scatter\"},{\"hovertemplate\":\"Tipo de Inmueble=LOTE AGRICOLA\\u003cbr\\u003eCiudad=%{x}\\u003cbr\\u003eN\\u00famero de Inmuebles=%{marker.size}\\u003cextra\\u003e\\u003c\\u002fextra\\u003e\",\"legendgroup\":\"LOTE AGRICOLA\",\"marker\":{\"color\":\"#FF97FF\",\"size\":[1],\"sizemode\":\"area\",\"sizeref\":0.72,\"symbol\":\"circle\"},\"mode\":\"markers\",\"name\":\"LOTE AGRICOLA\",\"orientation\":\"v\",\"showlegend\":true,\"x\":[\"VALENCIA\"],\"xaxis\":\"x\",\"y\":[1],\"yaxis\":\"y\",\"type\":\"scatter\"}],                        {\"template\":{\"data\":{\"histogram2dcontour\":[{\"type\":\"histogram2dcontour\",\"colorbar\":{\"outlinewidth\":0,\"ticks\":\"\"},\"colorscale\":[[0.0,\"#0d0887\"],[0.1111111111111111,\"#46039f\"],[0.2222222222222222,\"#7201a8\"],[0.3333333333333333,\"#9c179e\"],[0.4444444444444444,\"#bd3786\"],[0.5555555555555556,\"#d8576b\"],[0.6666666666666666,\"#ed7953\"],[0.7777777777777778,\"#fb9f3a\"],[0.8888888888888888,\"#fdca26\"],[1.0,\"#f0f921\"]]}],\"choropleth\":[{\"type\":\"choropleth\",\"colorbar\":{\"outlinewidth\":0,\"ticks\":\"\"}}],\"histogram2d\":[{\"type\":\"histogram2d\",\"colorbar\":{\"outlinewidth\":0,\"ticks\":\"\"},\"colorscale\":[[0.0,\"#0d0887\"],[0.1111111111111111,\"#46039f\"],[0.2222222222222222,\"#7201a8\"],[0.3333333333333333,\"#9c179e\"],[0.4444444444444444,\"#bd3786\"],[0.5555555555555556,\"#d8576b\"],[0.6666666666666666,\"#ed7953\"],[0.7777777777777778,\"#fb9f3a\"],[0.8888888888888888,\"#fdca26\"],[1.0,\"#f0f921\"]]}],\"heatmap\":[{\"type\":\"heatmap\",\"colorbar\":{\"outlinewidth\":0,\"ticks\":\"\"},\"colorscale\":[[0.0,\"#0d0887\"],[0.1111111111111111,\"#46039f\"],[0.2222222222222222,\"#7201a8\"],[0.3333333333333333,\"#9c179e\"],[0.4444444444444444,\"#bd3786\"],[0.5555555555555556,\"#d8576b\"],[0.6666666666666666,\"#ed7953\"],[0.7777777777777778,\"#fb9f3a\"],[0.8888888888888888,\"#fdca26\"],[1.0,\"#f0f921\"]]}],\"heatmapgl\":[{\"type\":\"heatmapgl\",\"colorbar\":{\"outlinewidth\":0,\"ticks\":\"\"},\"colorscale\":[[0.0,\"#0d0887\"],[0.1111111111111111,\"#46039f\"],[0.2222222222222222,\"#7201a8\"],[0.3333333333333333,\"#9c179e\"],[0.4444444444444444,\"#bd3786\"],[0.5555555555555556,\"#d8576b\"],[0.6666666666666666,\"#ed7953\"],[0.7777777777777778,\"#fb9f3a\"],[0.8888888888888888,\"#fdca26\"],[1.0,\"#f0f921\"]]}],\"contourcarpet\":[{\"type\":\"contourcarpet\",\"colorbar\":{\"outlinewidth\":0,\"ticks\":\"\"}}],\"contour\":[{\"type\":\"contour\",\"colorbar\":{\"outlinewidth\":0,\"ticks\":\"\"},\"colorscale\":[[0.0,\"#0d0887\"],[0.1111111111111111,\"#46039f\"],[0.2222222222222222,\"#7201a8\"],[0.3333333333333333,\"#9c179e\"],[0.4444444444444444,\"#bd3786\"],[0.5555555555555556,\"#d8576b\"],[0.6666666666666666,\"#ed7953\"],[0.7777777777777778,\"#fb9f3a\"],[0.8888888888888888,\"#fdca26\"],[1.0,\"#f0f921\"]]}],\"surface\":[{\"type\":\"surface\",\"colorbar\":{\"outlinewidth\":0,\"ticks\":\"\"},\"colorscale\":[[0.0,\"#0d0887\"],[0.1111111111111111,\"#46039f\"],[0.2222222222222222,\"#7201a8\"],[0.3333333333333333,\"#9c179e\"],[0.4444444444444444,\"#bd3786\"],[0.5555555555555556,\"#d8576b\"],[0.6666666666666666,\"#ed7953\"],[0.7777777777777778,\"#fb9f3a\"],[0.8888888888888888,\"#fdca26\"],[1.0,\"#f0f921\"]]}],\"mesh3d\":[{\"type\":\"mesh3d\",\"colorbar\":{\"outlinewidth\":0,\"ticks\":\"\"}}],\"scatter\":[{\"fillpattern\":{\"fillmode\":\"overlay\",\"size\":10,\"solidity\":0.2},\"type\":\"scatter\"}],\"parcoords\":[{\"type\":\"parcoords\",\"line\":{\"colorbar\":{\"outlinewidth\":0,\"ticks\":\"\"}}}],\"scatterpolargl\":[{\"type\":\"scatterpolargl\",\"marker\":{\"colorbar\":{\"outlinewidth\":0,\"ticks\":\"\"}}}],\"bar\":[{\"error_x\":{\"color\":\"#2a3f5f\"},\"error_y\":{\"color\":\"#2a3f5f\"},\"marker\":{\"line\":{\"color\":\"#E5ECF6\",\"width\":0.5},\"pattern\":{\"fillmode\":\"overlay\",\"size\":10,\"solidity\":0.2}},\"type\":\"bar\"}],\"scattergeo\":[{\"type\":\"scattergeo\",\"marker\":{\"colorbar\":{\"outlinewidth\":0,\"ticks\":\"\"}}}],\"scatterpolar\":[{\"type\":\"scatterpolar\",\"marker\":{\"colorbar\":{\"outlinewidth\":0,\"ticks\":\"\"}}}],\"histogram\":[{\"marker\":{\"pattern\":{\"fillmode\":\"overlay\",\"size\":10,\"solidity\":0.2}},\"type\":\"histogram\"}],\"scattergl\":[{\"type\":\"scattergl\",\"marker\":{\"colorbar\":{\"outlinewidth\":0,\"ticks\":\"\"}}}],\"scatter3d\":[{\"type\":\"scatter3d\",\"line\":{\"colorbar\":{\"outlinewidth\":0,\"ticks\":\"\"}},\"marker\":{\"colorbar\":{\"outlinewidth\":0,\"ticks\":\"\"}}}],\"scattermapbox\":[{\"type\":\"scattermapbox\",\"marker\":{\"colorbar\":{\"outlinewidth\":0,\"ticks\":\"\"}}}],\"scatterternary\":[{\"type\":\"scatterternary\",\"marker\":{\"colorbar\":{\"outlinewidth\":0,\"ticks\":\"\"}}}],\"scattercarpet\":[{\"type\":\"scattercarpet\",\"marker\":{\"colorbar\":{\"outlinewidth\":0,\"ticks\":\"\"}}}],\"carpet\":[{\"aaxis\":{\"endlinecolor\":\"#2a3f5f\",\"gridcolor\":\"white\",\"linecolor\":\"white\",\"minorgridcolor\":\"white\",\"startlinecolor\":\"#2a3f5f\"},\"baxis\":{\"endlinecolor\":\"#2a3f5f\",\"gridcolor\":\"white\",\"linecolor\":\"white\",\"minorgridcolor\":\"white\",\"startlinecolor\":\"#2a3f5f\"},\"type\":\"carpet\"}],\"table\":[{\"cells\":{\"fill\":{\"color\":\"#EBF0F8\"},\"line\":{\"color\":\"white\"}},\"header\":{\"fill\":{\"color\":\"#C8D4E3\"},\"line\":{\"color\":\"white\"}},\"type\":\"table\"}],\"barpolar\":[{\"marker\":{\"line\":{\"color\":\"#E5ECF6\",\"width\":0.5},\"pattern\":{\"fillmode\":\"overlay\",\"size\":10,\"solidity\":0.2}},\"type\":\"barpolar\"}],\"pie\":[{\"automargin\":true,\"type\":\"pie\"}]},\"layout\":{\"autotypenumbers\":\"strict\",\"colorway\":[\"#636efa\",\"#EF553B\",\"#00cc96\",\"#ab63fa\",\"#FFA15A\",\"#19d3f3\",\"#FF6692\",\"#B6E880\",\"#FF97FF\",\"#FECB52\"],\"font\":{\"color\":\"#2a3f5f\"},\"hovermode\":\"closest\",\"hoverlabel\":{\"align\":\"left\"},\"paper_bgcolor\":\"white\",\"plot_bgcolor\":\"#E5ECF6\",\"polar\":{\"bgcolor\":\"#E5ECF6\",\"angularaxis\":{\"gridcolor\":\"white\",\"linecolor\":\"white\",\"ticks\":\"\"},\"radialaxis\":{\"gridcolor\":\"white\",\"linecolor\":\"white\",\"ticks\":\"\"}},\"ternary\":{\"bgcolor\":\"#E5ECF6\",\"aaxis\":{\"gridcolor\":\"white\",\"linecolor\":\"white\",\"ticks\":\"\"},\"baxis\":{\"gridcolor\":\"white\",\"linecolor\":\"white\",\"ticks\":\"\"},\"caxis\":{\"gridcolor\":\"white\",\"linecolor\":\"white\",\"ticks\":\"\"}},\"coloraxis\":{\"colorbar\":{\"outlinewidth\":0,\"ticks\":\"\"}},\"colorscale\":{\"sequential\":[[0.0,\"#0d0887\"],[0.1111111111111111,\"#46039f\"],[0.2222222222222222,\"#7201a8\"],[0.3333333333333333,\"#9c179e\"],[0.4444444444444444,\"#bd3786\"],[0.5555555555555556,\"#d8576b\"],[0.6666666666666666,\"#ed7953\"],[0.7777777777777778,\"#fb9f3a\"],[0.8888888888888888,\"#fdca26\"],[1.0,\"#f0f921\"]],\"sequentialminus\":[[0.0,\"#0d0887\"],[0.1111111111111111,\"#46039f\"],[0.2222222222222222,\"#7201a8\"],[0.3333333333333333,\"#9c179e\"],[0.4444444444444444,\"#bd3786\"],[0.5555555555555556,\"#d8576b\"],[0.6666666666666666,\"#ed7953\"],[0.7777777777777778,\"#fb9f3a\"],[0.8888888888888888,\"#fdca26\"],[1.0,\"#f0f921\"]],\"diverging\":[[0,\"#8e0152\"],[0.1,\"#c51b7d\"],[0.2,\"#de77ae\"],[0.3,\"#f1b6da\"],[0.4,\"#fde0ef\"],[0.5,\"#f7f7f7\"],[0.6,\"#e6f5d0\"],[0.7,\"#b8e186\"],[0.8,\"#7fbc41\"],[0.9,\"#4d9221\"],[1,\"#276419\"]]},\"xaxis\":{\"gridcolor\":\"white\",\"linecolor\":\"white\",\"ticks\":\"\",\"title\":{\"standoff\":15},\"zerolinecolor\":\"white\",\"automargin\":true,\"zerolinewidth\":2},\"yaxis\":{\"gridcolor\":\"white\",\"linecolor\":\"white\",\"ticks\":\"\",\"title\":{\"standoff\":15},\"zerolinecolor\":\"white\",\"automargin\":true,\"zerolinewidth\":2},\"scene\":{\"xaxis\":{\"backgroundcolor\":\"#E5ECF6\",\"gridcolor\":\"white\",\"linecolor\":\"white\",\"showbackground\":true,\"ticks\":\"\",\"zerolinecolor\":\"white\",\"gridwidth\":2},\"yaxis\":{\"backgroundcolor\":\"#E5ECF6\",\"gridcolor\":\"white\",\"linecolor\":\"white\",\"showbackground\":true,\"ticks\":\"\",\"zerolinecolor\":\"white\",\"gridwidth\":2},\"zaxis\":{\"backgroundcolor\":\"#E5ECF6\",\"gridcolor\":\"white\",\"linecolor\":\"white\",\"showbackground\":true,\"ticks\":\"\",\"zerolinecolor\":\"white\",\"gridwidth\":2}},\"shapedefaults\":{\"line\":{\"color\":\"#2a3f5f\"}},\"annotationdefaults\":{\"arrowcolor\":\"#2a3f5f\",\"arrowhead\":0,\"arrowwidth\":1},\"geo\":{\"bgcolor\":\"white\",\"landcolor\":\"#E5ECF6\",\"subunitcolor\":\"white\",\"showland\":true,\"showlakes\":true,\"lakecolor\":\"white\"},\"title\":{\"x\":0.05},\"mapbox\":{\"style\":\"light\"}}},\"xaxis\":{\"anchor\":\"y\",\"domain\":[0.0,1.0],\"title\":{\"text\":\"Ciudad\"},\"tickangle\":-45},\"yaxis\":{\"anchor\":\"x\",\"domain\":[0.0,1.0],\"title\":{\"text\":\"N\\u00famero de Inmuebles\"}},\"legend\":{\"title\":{\"text\":\"Tipo de Inmueble\"},\"tracegroupgap\":0,\"itemsizing\":\"constant\"},\"title\":{\"text\":\"Cantidad de Inmuebles por Tipo en Cada Ciudad\"},\"height\":600},                        {\"responsive\": true}                    ).then(function(){\n",
              "                            \n",
              "var gd = document.getElementById('c15d8a5e-4cd8-4c70-8427-fab31562d0f9');\n",
              "var x = new MutationObserver(function (mutations, observer) {{\n",
              "        var display = window.getComputedStyle(gd).display;\n",
              "        if (!display || display === 'none') {{\n",
              "            console.log([gd, 'removed!']);\n",
              "            Plotly.purge(gd);\n",
              "            observer.disconnect();\n",
              "        }}\n",
              "}});\n",
              "\n",
              "// Listen for the removal of the full notebook cells\n",
              "var notebookContainer = gd.closest('#notebook-container');\n",
              "if (notebookContainer) {{\n",
              "    x.observe(notebookContainer, {childList: true});\n",
              "}}\n",
              "\n",
              "// Listen for the clearing of the current output cell\n",
              "var outputEl = gd.closest('.output');\n",
              "if (outputEl) {{\n",
              "    x.observe(outputEl, {childList: true});\n",
              "}}\n",
              "\n",
              "                        })                };                            </script>        </div>\n",
              "</body>\n",
              "</html>"
            ]
          },
          "metadata": {}
        }
      ]
    },
    {
      "cell_type": "code",
      "source": [
        "# Tabla de contingencia de número de inmuebles por ciudad y tipo de inmueble\n",
        "contingency_table = pd.crosstab(df['Ciudad'], df['Tipo de Inmueble'])\n",
        "\n",
        "# Matriz de correlación\n",
        "corr_matrix = contingency_table.corr()\n",
        "\n",
        "# Mapa de calor usando Plotly con la escala de colores 'Electric' para un estilo fluorescente\n",
        "fig = go.Figure(data=go.Heatmap(\n",
        "    z=corr_matrix.values,\n",
        "    x=corr_matrix.columns.tolist(),\n",
        "    y=corr_matrix.columns.tolist(),\n",
        "    colorscale='Electric',  # Escala de colores fluorescente 'Electric'\n",
        "    zmin=-1,\n",
        "    zmax=1,\n",
        "    colorbar=dict(title='Correlación'),\n",
        "    text=corr_matrix.round(2).values,  # Usar valores redondeados para las anotaciones\n",
        "    hoverinfo='text'  # Mostrar solo las anotaciones en hover\n",
        "))\n",
        "\n",
        "# Actualización del diseño del gráfico\n",
        "fig.update_layout(\n",
        "    title='Mapa de Calor de Correlaciones entre Tipos de Inmuebles y Ciudades',\n",
        "    xaxis_title='Tipos de Inmuebles',\n",
        "    yaxis_title='Ciudades',\n",
        "    xaxis=dict(tickangle=-45),\n",
        "    yaxis=dict(tickangle=0),\n",
        "    height=600\n",
        ")\n",
        "\n",
        "# Mostrar el gráfico\n",
        "fig.show()"
      ],
      "metadata": {
        "colab": {
          "base_uri": "https://localhost:8080/",
          "height": 617
        },
        "id": "5YZf5GkJ9KQP",
        "outputId": "82fc3bf1-712b-49cf-d580-899d0b576b87"
      },
      "execution_count": 24,
      "outputs": [
        {
          "output_type": "display_data",
          "data": {
            "text/html": [
              "<html>\n",
              "<head><meta charset=\"utf-8\" /></head>\n",
              "<body>\n",
              "    <div>            <script src=\"https://cdnjs.cloudflare.com/ajax/libs/mathjax/2.7.5/MathJax.js?config=TeX-AMS-MML_SVG\"></script><script type=\"text/javascript\">if (window.MathJax && window.MathJax.Hub && window.MathJax.Hub.Config) {window.MathJax.Hub.Config({SVG: {font: \"STIX-Web\"}});}</script>                <script type=\"text/javascript\">window.PlotlyConfig = {MathJaxConfig: 'local'};</script>\n",
              "        <script charset=\"utf-8\" src=\"https://cdn.plot.ly/plotly-2.24.1.min.js\"></script>                <div id=\"a9e04257-7cfe-4274-85c5-417be8178475\" class=\"plotly-graph-div\" style=\"height:600px; width:100%;\"></div>            <script type=\"text/javascript\">                                    window.PLOTLYENV=window.PLOTLYENV || {};                                    if (document.getElementById(\"a9e04257-7cfe-4274-85c5-417be8178475\")) {                    Plotly.newPlot(                        \"a9e04257-7cfe-4274-85c5-417be8178475\",                        [{\"colorbar\":{\"title\":{\"text\":\"Correlaci\\u00f3n\"}},\"colorscale\":[[0.0,\"rgb(0,0,0)\"],[0.2,\"rgb(30,0,100)\"],[0.4,\"rgb(120,0,100)\"],[0.6,\"rgb(160,90,0)\"],[0.8,\"rgb(230,200,0)\"],[1.0,\"rgb(255,250,220)\"]],\"hoverinfo\":\"text\",\"text\":[[1.0,0.62,0.36,-0.07,-0.05,0.41,-0.05,-0.12,0.54,-0.05,-0.04,0.47,-0.05,0.54,0.43,0.35,-0.08,-0.11,0.1],[0.62,1.0,0.08,-0.0,0.03,0.11,0.03,-0.07,0.17,-0.04,-0.03,-0.05,-0.04,0.17,-0.06,0.67,-0.02,-0.04,-0.02],[0.36,0.08,1.0,-0.08,-0.05,0.59,-0.05,0.07,0.76,-0.05,0.23,-0.07,-0.05,0.76,-0.1,-0.08,-0.09,-0.12,0.06],[-0.07,-0.0,-0.08,1.0,-0.03,-0.06,-0.03,0.1,-0.03,-0.03,-0.04,-0.05,-0.03,-0.03,-0.08,-0.05,-0.06,0.31,-0.05],[-0.05,0.03,-0.05,-0.03,1.0,-0.04,-0.02,-0.06,-0.02,-0.02,-0.01,-0.03,-0.02,-0.02,0.26,-0.03,0.56,-0.01,-0.03],[0.41,0.11,0.59,-0.06,-0.04,1.0,-0.04,-0.1,0.81,-0.04,-0.03,-0.05,-0.04,0.81,-0.03,-0.06,-0.07,-0.05,0.5],[-0.05,0.03,-0.05,-0.03,-0.02,-0.04,1.0,-0.06,-0.02,-0.02,-0.03,-0.03,-0.02,-0.02,-0.05,-0.03,-0.04,-0.06,-0.03],[-0.12,-0.07,0.07,0.1,-0.06,-0.1,-0.06,1.0,-0.06,-0.06,-0.06,-0.08,0.45,-0.06,-0.14,-0.09,-0.11,-0.0,-0.08],[0.54,0.17,0.76,-0.03,-0.02,0.81,-0.02,-0.06,1.0,-0.02,-0.01,-0.03,-0.02,1.0,-0.05,-0.03,-0.04,-0.06,0.13],[-0.05,-0.04,-0.05,-0.03,-0.02,-0.04,-0.02,-0.06,-0.02,1.0,-0.03,-0.03,-0.02,-0.02,-0.05,-0.03,-0.04,-0.06,-0.03],[-0.04,-0.03,0.23,-0.04,-0.01,-0.03,-0.03,-0.06,-0.01,-0.03,1.0,-0.03,-0.03,-0.01,-0.05,-0.04,-0.04,-0.06,-0.03],[0.47,-0.05,-0.07,-0.05,-0.03,-0.05,-0.03,-0.08,-0.03,-0.03,-0.03,1.0,-0.03,-0.03,0.77,-0.05,-0.06,-0.07,-0.04],[-0.05,-0.04,-0.05,-0.03,-0.02,-0.04,-0.02,0.45,-0.02,-0.02,-0.03,-0.03,1.0,-0.02,-0.05,-0.03,-0.04,-0.06,-0.03],[0.54,0.17,0.76,-0.03,-0.02,0.81,-0.02,-0.06,1.0,-0.02,-0.01,-0.03,-0.02,1.0,-0.05,-0.03,-0.04,-0.06,0.13],[0.43,-0.06,-0.1,-0.08,0.26,-0.03,-0.05,-0.14,-0.05,-0.05,-0.05,0.77,-0.05,-0.05,1.0,0.03,0.09,-0.1,0.08],[0.35,0.67,-0.08,-0.05,-0.03,-0.06,-0.03,-0.09,-0.03,-0.03,-0.04,-0.05,-0.03,-0.03,0.03,1.0,-0.06,-0.08,-0.05],[-0.08,-0.02,-0.09,-0.06,0.56,-0.07,-0.04,-0.11,-0.04,-0.04,-0.04,-0.06,-0.04,-0.04,0.09,-0.06,1.0,0.19,-0.06],[-0.11,-0.04,-0.12,0.31,-0.01,-0.05,-0.06,-0.0,-0.06,-0.06,-0.06,-0.07,-0.06,-0.06,-0.1,-0.08,0.19,1.0,0.02],[0.1,-0.02,0.06,-0.05,-0.03,0.5,-0.03,-0.08,0.13,-0.03,-0.03,-0.04,-0.03,0.13,0.08,-0.05,-0.06,0.02,1.0]],\"x\":[\"APARTAMENTO\",\"BODEGA\",\"CASA\",\"CLINICA\",\"DEPOSITO\",\"EDIFICIO\",\"EDIFICIO OFICINAS\",\"FINCA\",\"GARAJE\",\"HOTEL\",\"LOCAL\",\"LOTE\",\"LOTE AGRICOLA\",\"LOTE COMERCIAL\",\"LOTE CON CONSTRUCCION\",\"LOTE INDUSTRIAL\",\"LOTE MIXTO\",\"LOTE VIVIENDA\",\"OFICINA\"],\"y\":[\"APARTAMENTO\",\"BODEGA\",\"CASA\",\"CLINICA\",\"DEPOSITO\",\"EDIFICIO\",\"EDIFICIO OFICINAS\",\"FINCA\",\"GARAJE\",\"HOTEL\",\"LOCAL\",\"LOTE\",\"LOTE AGRICOLA\",\"LOTE COMERCIAL\",\"LOTE CON CONSTRUCCION\",\"LOTE INDUSTRIAL\",\"LOTE MIXTO\",\"LOTE VIVIENDA\",\"OFICINA\"],\"z\":[[1.0,0.6220619146761347,0.35735324960158166,-0.06845986232735529,-0.04782867026529596,0.40989226325573414,-0.04782867026529595,-0.11939413781377672,0.5397807072797686,-0.047828670265295956,-0.03845263670759412,0.4658630321714268,-0.047828670265295956,0.5397807072797686,0.42944106151036476,0.3520792919692556,-0.08488746876271656,-0.11065702709673449,0.10025425708842531],[0.6220619146761347,1.0,0.07885574347015735,-0.003355494785655768,0.03125702140866867,0.10807933025580531,0.03125702140866868,-0.07295480450216743,0.16566221346594392,-0.035945574619968945,-0.033671167546150696,-0.04869201199112261,-0.03594557461996894,0.16566221346594392,-0.061899741827244864,0.6699804588692654,-0.02403947421664572,-0.04429394629937709,-0.016757545369134978],[0.35735324960158166,0.07885574347015735,1.0,-0.07632455974110465,-0.053323247767363746,0.5854133850229064,-0.05332324776736373,0.06890409625495551,0.7559354536432156,-0.05332324776736373,0.22758390985654361,-0.07223187408031262,-0.05332324776736373,0.7559354536432156,-0.10168924239652614,-0.07632455974110466,-0.09463937642571373,-0.12336935232256444,0.05740301417439974],[-0.06845986232735529,-0.003355494785655768,-0.07632455974110465,1.0,-0.03407990882954986,-0.05679045886858405,-0.03407990882954987,0.09783425935202925,-0.03407990882954987,-0.03407990882954985,-0.03613160659691194,-0.046164774020970724,-0.034079908829549845,-0.03407990882954987,-0.07817378901899674,-0.048780487804878064,-0.060485837890913385,0.3096415501491411,-0.04670770343132051],[-0.04782867026529596,0.03125702140866867,-0.053323247767363746,-0.03407990882954986,1.0,-0.03967598004290774,-0.023809523809523832,-0.059435429653944064,-0.023809523809523832,-0.023809523809523815,-0.011007567566270875,-0.032252471440314796,-0.02380952380952381,-0.023809523809523832,0.2585118986416579,-0.03407990882954985,0.5634361698190108,-0.005738127158565687,-0.032631782628829646],[0.40989226325573414,0.10807933025580531,0.5854133850229064,-0.05679045886858405,-0.03967598004290774,1.0,-0.0396759800429077,-0.09904267467324428,0.813357590879608,-0.039675980042907726,-0.02575593278028948,-0.053745233354415986,-0.03967598004290772,0.813357590879608,-0.02578624307391366,-0.05679045886858405,-0.07041787902195307,-0.05067841122635204,0.49579315857718326],[-0.04782867026529595,0.03125702140866868,-0.05332324776736373,-0.03407990882954987,-0.023809523809523832,-0.0396759800429077,1.0,-0.0594354296539441,-0.02380952380952377,-0.023809523809523826,-0.02524291810310239,-0.0322524714403148,-0.023809523809523822,-0.02380952380952377,-0.054615189853871454,-0.03407990882954985,-0.04225771273642587,-0.0550860207222305,-0.03263178262882957],[-0.11939413781377672,-0.07295480450216743,0.06890409625495551,0.09783425935202925,-0.059435429653944064,-0.09904267467324428,-0.0594354296539441,1.0,-0.059435429653944084,-0.05943542965394406,-0.0630135946934429,-0.08051145889318015,0.4517092653699749,-0.059435429653944084,-0.13633524553305612,-0.08507326900176457,-0.1054874231326614,-0.0020053625521005035,-0.08145832887858112],[0.5397807072797686,0.16566221346594392,0.7559354536432156,-0.03407990882954987,-0.023809523809523832,0.813357590879608,-0.02380952380952377,-0.059435429653944084,1.0,-0.023809523809523826,-0.007448729932063007,-0.0322524714403148,-0.023809523809523822,1.0,-0.054615189853871454,-0.03407990882954985,-0.04225771273642587,-0.0550860207222305,0.1324466471405438],[-0.047828670265295956,-0.035945574619968945,-0.05332324776736373,-0.03407990882954985,-0.023809523809523815,-0.039675980042907726,-0.023809523809523826,-0.05943542965394406,-0.023809523809523826,1.0,-0.025242918103102373,-0.0322524714403148,-0.023809523809523808,-0.023809523809523826,-0.05461518985387142,-0.034079908829549865,-0.04225771273642583,-0.05508602072223046,-0.03263178262882964],[-0.03845263670759412,-0.033671167546150696,0.22758390985654361,-0.03613160659691194,-0.011007567566270875,-0.02575593278028948,-0.02524291810310239,-0.0630135946934429,-0.007448729932063007,-0.025242918103102373,1.0,-0.03419415279800163,-0.025242918103102373,-0.007448729932063001,-0.05300512597110546,-0.03613160659691195,-0.03637998828523247,-0.05703004478246147,-0.026562751836947847],[0.4658630321714268,-0.04869201199112261,-0.07223187408031262,-0.046164774020970724,-0.032252471440314796,-0.053745233354415986,-0.0322524714403148,-0.08051145889318015,-0.0322524714403148,-0.0322524714403148,-0.03419415279800163,1.0,-0.0322524714403148,-0.0322524714403148,0.77434434448613,-0.046164774020970724,-0.05724245827291322,-0.07461973302438173,-0.04420313676588131],[-0.047828670265295956,-0.03594557461996894,-0.05332324776736373,-0.034079908829549845,-0.02380952380952381,-0.03967598004290772,-0.023809523809523822,0.4517092653699749,-0.023809523809523822,-0.023809523809523808,-0.025242918103102373,-0.0322524714403148,1.0,-0.023809523809523826,-0.05461518985387141,-0.03407990882954986,-0.04225771273642583,-0.055086020722230455,-0.03263178262882964],[0.5397807072797686,0.16566221346594392,0.7559354536432156,-0.03407990882954987,-0.023809523809523832,0.813357590879608,-0.02380952380952377,-0.059435429653944084,1.0,-0.023809523809523826,-0.007448729932063001,-0.0322524714403148,-0.023809523809523826,1.0,-0.054615189853871454,-0.03407990882954985,-0.04225771273642587,-0.0550860207222305,0.1324466471405438],[0.42944106151036476,-0.061899741827244864,-0.10168924239652614,-0.07817378901899674,0.2585118986416579,-0.02578624307391366,-0.054615189853871454,-0.13633524553305612,-0.054615189853871454,-0.05461518985387142,-0.05300512597110546,0.77434434448613,-0.05461518985387141,-0.054615189853871454,1.0,0.03387530857489855,0.0883161376155338,-0.09617278691191054,0.07661324619940024],[0.3520792919692556,0.6699804588692654,-0.07632455974110466,-0.048780487804878064,-0.03407990882954985,-0.05679045886858405,-0.03407990882954985,-0.08507326900176457,-0.03407990882954985,-0.034079908829549865,-0.03613160659691195,-0.046164774020970724,-0.03407990882954986,-0.03407990882954985,0.03387530857489855,1.0,-0.060485837890913365,-0.07884771568784495,-0.04670770343132048],[-0.08488746876271656,-0.02403947421664572,-0.09463937642571373,-0.060485837890913385,0.5634361698190108,-0.07041787902195307,-0.04225771273642587,-0.1054874231326614,-0.04225771273642587,-0.04225771273642583,-0.03637998828523247,-0.05724245827291322,-0.04225771273642583,-0.04225771273642587,0.0883161376155338,-0.060485837890913365,1.0,0.19417808739269066,-0.05791566884907602],[-0.11065702709673449,-0.04429394629937709,-0.12336935232256444,0.3096415501491411,-0.005738127158565687,-0.05067841122635204,-0.0550860207222305,-0.0020053625521005035,-0.0550860207222305,-0.05508602072223046,-0.05703004478246147,-0.07461973302438173,-0.055086020722230455,-0.0550860207222305,-0.09617278691191054,-0.07884771568784495,0.19417808739269066,1.0,0.019984582660232977],[0.10025425708842531,-0.016757545369134978,0.05740301417439974,-0.04670770343132051,-0.032631782628829646,0.49579315857718326,-0.03263178262882957,-0.08145832887858112,0.1324466471405438,-0.03263178262882964,-0.026562751836947847,-0.04420313676588131,-0.03263178262882964,0.1324466471405438,0.07661324619940024,-0.04670770343132048,-0.05791566884907602,0.019984582660232977,1.0]],\"zmax\":1,\"zmin\":-1,\"type\":\"heatmap\"}],                        {\"template\":{\"data\":{\"histogram2dcontour\":[{\"type\":\"histogram2dcontour\",\"colorbar\":{\"outlinewidth\":0,\"ticks\":\"\"},\"colorscale\":[[0.0,\"#0d0887\"],[0.1111111111111111,\"#46039f\"],[0.2222222222222222,\"#7201a8\"],[0.3333333333333333,\"#9c179e\"],[0.4444444444444444,\"#bd3786\"],[0.5555555555555556,\"#d8576b\"],[0.6666666666666666,\"#ed7953\"],[0.7777777777777778,\"#fb9f3a\"],[0.8888888888888888,\"#fdca26\"],[1.0,\"#f0f921\"]]}],\"choropleth\":[{\"type\":\"choropleth\",\"colorbar\":{\"outlinewidth\":0,\"ticks\":\"\"}}],\"histogram2d\":[{\"type\":\"histogram2d\",\"colorbar\":{\"outlinewidth\":0,\"ticks\":\"\"},\"colorscale\":[[0.0,\"#0d0887\"],[0.1111111111111111,\"#46039f\"],[0.2222222222222222,\"#7201a8\"],[0.3333333333333333,\"#9c179e\"],[0.4444444444444444,\"#bd3786\"],[0.5555555555555556,\"#d8576b\"],[0.6666666666666666,\"#ed7953\"],[0.7777777777777778,\"#fb9f3a\"],[0.8888888888888888,\"#fdca26\"],[1.0,\"#f0f921\"]]}],\"heatmap\":[{\"type\":\"heatmap\",\"colorbar\":{\"outlinewidth\":0,\"ticks\":\"\"},\"colorscale\":[[0.0,\"#0d0887\"],[0.1111111111111111,\"#46039f\"],[0.2222222222222222,\"#7201a8\"],[0.3333333333333333,\"#9c179e\"],[0.4444444444444444,\"#bd3786\"],[0.5555555555555556,\"#d8576b\"],[0.6666666666666666,\"#ed7953\"],[0.7777777777777778,\"#fb9f3a\"],[0.8888888888888888,\"#fdca26\"],[1.0,\"#f0f921\"]]}],\"heatmapgl\":[{\"type\":\"heatmapgl\",\"colorbar\":{\"outlinewidth\":0,\"ticks\":\"\"},\"colorscale\":[[0.0,\"#0d0887\"],[0.1111111111111111,\"#46039f\"],[0.2222222222222222,\"#7201a8\"],[0.3333333333333333,\"#9c179e\"],[0.4444444444444444,\"#bd3786\"],[0.5555555555555556,\"#d8576b\"],[0.6666666666666666,\"#ed7953\"],[0.7777777777777778,\"#fb9f3a\"],[0.8888888888888888,\"#fdca26\"],[1.0,\"#f0f921\"]]}],\"contourcarpet\":[{\"type\":\"contourcarpet\",\"colorbar\":{\"outlinewidth\":0,\"ticks\":\"\"}}],\"contour\":[{\"type\":\"contour\",\"colorbar\":{\"outlinewidth\":0,\"ticks\":\"\"},\"colorscale\":[[0.0,\"#0d0887\"],[0.1111111111111111,\"#46039f\"],[0.2222222222222222,\"#7201a8\"],[0.3333333333333333,\"#9c179e\"],[0.4444444444444444,\"#bd3786\"],[0.5555555555555556,\"#d8576b\"],[0.6666666666666666,\"#ed7953\"],[0.7777777777777778,\"#fb9f3a\"],[0.8888888888888888,\"#fdca26\"],[1.0,\"#f0f921\"]]}],\"surface\":[{\"type\":\"surface\",\"colorbar\":{\"outlinewidth\":0,\"ticks\":\"\"},\"colorscale\":[[0.0,\"#0d0887\"],[0.1111111111111111,\"#46039f\"],[0.2222222222222222,\"#7201a8\"],[0.3333333333333333,\"#9c179e\"],[0.4444444444444444,\"#bd3786\"],[0.5555555555555556,\"#d8576b\"],[0.6666666666666666,\"#ed7953\"],[0.7777777777777778,\"#fb9f3a\"],[0.8888888888888888,\"#fdca26\"],[1.0,\"#f0f921\"]]}],\"mesh3d\":[{\"type\":\"mesh3d\",\"colorbar\":{\"outlinewidth\":0,\"ticks\":\"\"}}],\"scatter\":[{\"fillpattern\":{\"fillmode\":\"overlay\",\"size\":10,\"solidity\":0.2},\"type\":\"scatter\"}],\"parcoords\":[{\"type\":\"parcoords\",\"line\":{\"colorbar\":{\"outlinewidth\":0,\"ticks\":\"\"}}}],\"scatterpolargl\":[{\"type\":\"scatterpolargl\",\"marker\":{\"colorbar\":{\"outlinewidth\":0,\"ticks\":\"\"}}}],\"bar\":[{\"error_x\":{\"color\":\"#2a3f5f\"},\"error_y\":{\"color\":\"#2a3f5f\"},\"marker\":{\"line\":{\"color\":\"#E5ECF6\",\"width\":0.5},\"pattern\":{\"fillmode\":\"overlay\",\"size\":10,\"solidity\":0.2}},\"type\":\"bar\"}],\"scattergeo\":[{\"type\":\"scattergeo\",\"marker\":{\"colorbar\":{\"outlinewidth\":0,\"ticks\":\"\"}}}],\"scatterpolar\":[{\"type\":\"scatterpolar\",\"marker\":{\"colorbar\":{\"outlinewidth\":0,\"ticks\":\"\"}}}],\"histogram\":[{\"marker\":{\"pattern\":{\"fillmode\":\"overlay\",\"size\":10,\"solidity\":0.2}},\"type\":\"histogram\"}],\"scattergl\":[{\"type\":\"scattergl\",\"marker\":{\"colorbar\":{\"outlinewidth\":0,\"ticks\":\"\"}}}],\"scatter3d\":[{\"type\":\"scatter3d\",\"line\":{\"colorbar\":{\"outlinewidth\":0,\"ticks\":\"\"}},\"marker\":{\"colorbar\":{\"outlinewidth\":0,\"ticks\":\"\"}}}],\"scattermapbox\":[{\"type\":\"scattermapbox\",\"marker\":{\"colorbar\":{\"outlinewidth\":0,\"ticks\":\"\"}}}],\"scatterternary\":[{\"type\":\"scatterternary\",\"marker\":{\"colorbar\":{\"outlinewidth\":0,\"ticks\":\"\"}}}],\"scattercarpet\":[{\"type\":\"scattercarpet\",\"marker\":{\"colorbar\":{\"outlinewidth\":0,\"ticks\":\"\"}}}],\"carpet\":[{\"aaxis\":{\"endlinecolor\":\"#2a3f5f\",\"gridcolor\":\"white\",\"linecolor\":\"white\",\"minorgridcolor\":\"white\",\"startlinecolor\":\"#2a3f5f\"},\"baxis\":{\"endlinecolor\":\"#2a3f5f\",\"gridcolor\":\"white\",\"linecolor\":\"white\",\"minorgridcolor\":\"white\",\"startlinecolor\":\"#2a3f5f\"},\"type\":\"carpet\"}],\"table\":[{\"cells\":{\"fill\":{\"color\":\"#EBF0F8\"},\"line\":{\"color\":\"white\"}},\"header\":{\"fill\":{\"color\":\"#C8D4E3\"},\"line\":{\"color\":\"white\"}},\"type\":\"table\"}],\"barpolar\":[{\"marker\":{\"line\":{\"color\":\"#E5ECF6\",\"width\":0.5},\"pattern\":{\"fillmode\":\"overlay\",\"size\":10,\"solidity\":0.2}},\"type\":\"barpolar\"}],\"pie\":[{\"automargin\":true,\"type\":\"pie\"}]},\"layout\":{\"autotypenumbers\":\"strict\",\"colorway\":[\"#636efa\",\"#EF553B\",\"#00cc96\",\"#ab63fa\",\"#FFA15A\",\"#19d3f3\",\"#FF6692\",\"#B6E880\",\"#FF97FF\",\"#FECB52\"],\"font\":{\"color\":\"#2a3f5f\"},\"hovermode\":\"closest\",\"hoverlabel\":{\"align\":\"left\"},\"paper_bgcolor\":\"white\",\"plot_bgcolor\":\"#E5ECF6\",\"polar\":{\"bgcolor\":\"#E5ECF6\",\"angularaxis\":{\"gridcolor\":\"white\",\"linecolor\":\"white\",\"ticks\":\"\"},\"radialaxis\":{\"gridcolor\":\"white\",\"linecolor\":\"white\",\"ticks\":\"\"}},\"ternary\":{\"bgcolor\":\"#E5ECF6\",\"aaxis\":{\"gridcolor\":\"white\",\"linecolor\":\"white\",\"ticks\":\"\"},\"baxis\":{\"gridcolor\":\"white\",\"linecolor\":\"white\",\"ticks\":\"\"},\"caxis\":{\"gridcolor\":\"white\",\"linecolor\":\"white\",\"ticks\":\"\"}},\"coloraxis\":{\"colorbar\":{\"outlinewidth\":0,\"ticks\":\"\"}},\"colorscale\":{\"sequential\":[[0.0,\"#0d0887\"],[0.1111111111111111,\"#46039f\"],[0.2222222222222222,\"#7201a8\"],[0.3333333333333333,\"#9c179e\"],[0.4444444444444444,\"#bd3786\"],[0.5555555555555556,\"#d8576b\"],[0.6666666666666666,\"#ed7953\"],[0.7777777777777778,\"#fb9f3a\"],[0.8888888888888888,\"#fdca26\"],[1.0,\"#f0f921\"]],\"sequentialminus\":[[0.0,\"#0d0887\"],[0.1111111111111111,\"#46039f\"],[0.2222222222222222,\"#7201a8\"],[0.3333333333333333,\"#9c179e\"],[0.4444444444444444,\"#bd3786\"],[0.5555555555555556,\"#d8576b\"],[0.6666666666666666,\"#ed7953\"],[0.7777777777777778,\"#fb9f3a\"],[0.8888888888888888,\"#fdca26\"],[1.0,\"#f0f921\"]],\"diverging\":[[0,\"#8e0152\"],[0.1,\"#c51b7d\"],[0.2,\"#de77ae\"],[0.3,\"#f1b6da\"],[0.4,\"#fde0ef\"],[0.5,\"#f7f7f7\"],[0.6,\"#e6f5d0\"],[0.7,\"#b8e186\"],[0.8,\"#7fbc41\"],[0.9,\"#4d9221\"],[1,\"#276419\"]]},\"xaxis\":{\"gridcolor\":\"white\",\"linecolor\":\"white\",\"ticks\":\"\",\"title\":{\"standoff\":15},\"zerolinecolor\":\"white\",\"automargin\":true,\"zerolinewidth\":2},\"yaxis\":{\"gridcolor\":\"white\",\"linecolor\":\"white\",\"ticks\":\"\",\"title\":{\"standoff\":15},\"zerolinecolor\":\"white\",\"automargin\":true,\"zerolinewidth\":2},\"scene\":{\"xaxis\":{\"backgroundcolor\":\"#E5ECF6\",\"gridcolor\":\"white\",\"linecolor\":\"white\",\"showbackground\":true,\"ticks\":\"\",\"zerolinecolor\":\"white\",\"gridwidth\":2},\"yaxis\":{\"backgroundcolor\":\"#E5ECF6\",\"gridcolor\":\"white\",\"linecolor\":\"white\",\"showbackground\":true,\"ticks\":\"\",\"zerolinecolor\":\"white\",\"gridwidth\":2},\"zaxis\":{\"backgroundcolor\":\"#E5ECF6\",\"gridcolor\":\"white\",\"linecolor\":\"white\",\"showbackground\":true,\"ticks\":\"\",\"zerolinecolor\":\"white\",\"gridwidth\":2}},\"shapedefaults\":{\"line\":{\"color\":\"#2a3f5f\"}},\"annotationdefaults\":{\"arrowcolor\":\"#2a3f5f\",\"arrowhead\":0,\"arrowwidth\":1},\"geo\":{\"bgcolor\":\"white\",\"landcolor\":\"#E5ECF6\",\"subunitcolor\":\"white\",\"showland\":true,\"showlakes\":true,\"lakecolor\":\"white\"},\"title\":{\"x\":0.05},\"mapbox\":{\"style\":\"light\"}}},\"xaxis\":{\"title\":{\"text\":\"Tipos de Inmuebles\"},\"tickangle\":-45},\"yaxis\":{\"title\":{\"text\":\"Ciudades\"},\"tickangle\":0},\"title\":{\"text\":\"Mapa de Calor de Correlaciones entre Tipos de Inmuebles y Ciudades\"},\"height\":600},                        {\"responsive\": true}                    ).then(function(){\n",
              "                            \n",
              "var gd = document.getElementById('a9e04257-7cfe-4274-85c5-417be8178475');\n",
              "var x = new MutationObserver(function (mutations, observer) {{\n",
              "        var display = window.getComputedStyle(gd).display;\n",
              "        if (!display || display === 'none') {{\n",
              "            console.log([gd, 'removed!']);\n",
              "            Plotly.purge(gd);\n",
              "            observer.disconnect();\n",
              "        }}\n",
              "}});\n",
              "\n",
              "// Listen for the removal of the full notebook cells\n",
              "var notebookContainer = gd.closest('#notebook-container');\n",
              "if (notebookContainer) {{\n",
              "    x.observe(notebookContainer, {childList: true});\n",
              "}}\n",
              "\n",
              "// Listen for the clearing of the current output cell\n",
              "var outputEl = gd.closest('.output');\n",
              "if (outputEl) {{\n",
              "    x.observe(outputEl, {childList: true});\n",
              "}}\n",
              "\n",
              "                        })                };                            </script>        </div>\n",
              "</body>\n",
              "</html>"
            ]
          },
          "metadata": {}
        }
      ]
    },
    {
      "cell_type": "code",
      "source": [
        "# Número total de inmuebles por ciudad\n",
        "inmuebles_por_ciudad = df['Ciudad'].value_counts().reset_index()\n",
        "inmuebles_por_ciudad.columns = ['Ciudad', 'Número de Inmuebles']\n",
        "\n",
        "# Mostrar resultados en la consola\n",
        "print(\"Número total de inmuebles por ciudad:\")\n",
        "print(inmuebles_por_ciudad)"
      ],
      "metadata": {
        "colab": {
          "base_uri": "https://localhost:8080/"
        },
        "id": "oLCJByGf8uUa",
        "outputId": "9fabedea-eb08-4a9e-c940-a003f287869e"
      },
      "execution_count": 19,
      "outputs": [
        {
          "output_type": "stream",
          "name": "stdout",
          "text": [
            "Número total de inmuebles por ciudad:\n",
            "                    Ciudad  Número de Inmuebles\n",
            "0            VILLAVICENCIO                  290\n",
            "1                   BOGOTA                   23\n",
            "2                CARTAGENA                   18\n",
            "3             BARRANQUILLA                   17\n",
            "4                   PACORA                   16\n",
            "5                  PEREIRA                   14\n",
            "6                     CALI                   10\n",
            "7         CALIMA EL DARIEN                   10\n",
            "8                   TARAZA                   10\n",
            "9                 MEDELLIN                    6\n",
            "10                MONTERIA                    5\n",
            "11           PUERTO BOYACA                    4\n",
            "12                VALENCIA                    3\n",
            "13               MANIZALES                    3\n",
            "14                GIRARDOT                    2\n",
            "15                  ACANDI                    2\n",
            "16  SANTANDER DE QUILICHAO                    2\n",
            "17             BUCARAMANGA                    2\n",
            "18                  SONSON                    2\n",
            "19              SAN MARTIN                    1\n",
            "20                EL ROSAL                    1\n",
            "21            BUENAVENTURA                    1\n",
            "22               SANMIGUEL                    1\n",
            "23               TIERRALTA                    1\n",
            "24               LA CALERA                    1\n",
            "25                   TULUA                    1\n",
            "26                    BUGA                    1\n",
            "27             PIEDECUESTA                    1\n",
            "28                ENVIGADO                    1\n",
            "29                NORCASIA                    1\n",
            "30                   SOATA                    1\n",
            "31              BUENAVISTA                    1\n",
            "32            PUERTO LOPEZ                    1\n",
            "33               EL PLAYON                    1\n",
            "34                SOGAMOSO                    1\n",
            "35               LA DORADA                    1\n",
            "36                   TURBO                    1\n",
            "37                CAUCASIA                    1\n",
            "38                 LA CEJA                    1\n",
            "39                RICAURTE                    1\n",
            "40                    CHIA                    1\n",
            "41                   FUNZA                    1\n",
            "42                MARSELLA                    1\n"
          ]
        }
      ]
    },
    {
      "cell_type": "code",
      "source": [
        "# Número de inmuebles por tipo en cada ciudad\n",
        "inmuebles_por_tipo_ciudad = df.groupby(['Ciudad', 'Tipo de Inmueble']).size().reset_index(name='Número de Inmuebles')\n",
        "\n",
        "# Mostrar resultados en la consola\n",
        "print(\"\\nNúmero de inmuebles por tipo en cada ciudad:\")\n",
        "print(inmuebles_por_tipo_ciudad)"
      ],
      "metadata": {
        "colab": {
          "base_uri": "https://localhost:8080/"
        },
        "id": "YG16gZYl9Y72",
        "outputId": "22535cd4-ec80-437d-967d-0de73ef4eb28"
      },
      "execution_count": 20,
      "outputs": [
        {
          "output_type": "stream",
          "name": "stdout",
          "text": [
            "\n",
            "Número de inmuebles por tipo en cada ciudad:\n",
            "           Ciudad       Tipo de Inmueble  Número de Inmuebles\n",
            "0          ACANDI          LOTE VIVIENDA                    2\n",
            "1    BARRANQUILLA               EDIFICIO                    1\n",
            "2    BARRANQUILLA                  LOCAL                    1\n",
            "3    BARRANQUILLA  LOTE CON CONSTRUCCION                    1\n",
            "4    BARRANQUILLA          LOTE VIVIENDA                    2\n",
            "..            ...                    ...                  ...\n",
            "71          TURBO                 BODEGA                    1\n",
            "72       VALENCIA                  FINCA                    2\n",
            "73       VALENCIA          LOTE AGRICOLA                    1\n",
            "74  VILLAVICENCIO                   CASA                    2\n",
            "75  VILLAVICENCIO                  LOCAL                  288\n",
            "\n",
            "[76 rows x 3 columns]\n"
          ]
        }
      ]
    },
    {
      "cell_type": "code",
      "source": [
        "# Número total de inmuebles por tipo\n",
        "inmuebles_por_tipo = df['Tipo de Inmueble'].value_counts().reset_index()\n",
        "inmuebles_por_tipo.columns = ['Tipo de Inmueble', 'Número de Inmuebles']\n",
        "\n",
        "# Mostrar resultados en la consola\n",
        "print(\"\\nNúmero total de inmuebles por tipo:\")\n",
        "print(inmuebles_por_tipo)"
      ],
      "metadata": {
        "colab": {
          "base_uri": "https://localhost:8080/"
        },
        "id": "OyofLiqc9Y-p",
        "outputId": "3e03c835-4762-44c6-ae1b-b0b5f3259c29"
      },
      "execution_count": 21,
      "outputs": [
        {
          "output_type": "stream",
          "name": "stdout",
          "text": [
            "\n",
            "Número total de inmuebles por tipo:\n",
            "         Tipo de Inmueble  Número de Inmuebles\n",
            "0                   LOCAL                  305\n",
            "1           LOTE VIVIENDA                   48\n",
            "2                  BODEGA                   23\n",
            "3                 OFICINA                   17\n",
            "4                    CASA                   17\n",
            "5   LOTE CON CONSTRUCCION                   15\n",
            "6                   FINCA                   10\n",
            "7             APARTAMENTO                    7\n",
            "8                EDIFICIO                    4\n",
            "9              LOTE MIXTO                    3\n",
            "10                   LOTE                    3\n",
            "11                CLINICA                    2\n",
            "12                 GARAJE                    2\n",
            "13        LOTE INDUSTRIAL                    2\n",
            "14               DEPOSITO                    1\n",
            "15         LOTE COMERCIAL                    1\n",
            "16      EDIFICIO OFICINAS                    1\n",
            "17                  HOTEL                    1\n",
            "18          LOTE AGRICOLA                    1\n"
          ]
        }
      ]
    },
    {
      "cell_type": "code",
      "source": [
        "# Opcional: Guardar los resultados en archivos CSV\n",
        "inmuebles_por_ciudad.to_csv('inmuebles_por_ciudad.csv', index=False)\n",
        "inmuebles_por_tipo_ciudad.to_csv('inmuebles_por_tipo_ciudad.csv', index=False)\n",
        "inmuebles_por_tipo.to_csv('inmuebles_por_tipo.csv', index=False)"
      ],
      "metadata": {
        "id": "t9nLfoR79ZBx"
      },
      "execution_count": null,
      "outputs": []
    },
    {
      "cell_type": "markdown",
      "source": [
        "# Conclusiones\n",
        "\n",
        "El análisis exploratorio de datos revela una alta variabilidad en los precios y tamaños de los inmuebles, con una notable concentración en ciertas ciudades. Se identificaron un total de 463 inmuebles en el dataset, clasificados en siete tipos distintos. El tipo \"LOCAL\" es el más prevalente, con 305 inmuebles, mientras que otros tipos como \"LOTE VIVIENDA\" y \"BODEGA\" tienen menos representación.\n",
        "\n",
        "En términos de distribución por ciudad, VILLAVICENCIO destaca con 290 inmuebles, lo que sugiere una mayor actividad en esa área. En Calima del Darien, el tipo \"LOTE CON VIVIENDA\" es el más frecuente, con nueve inmuebles. Cali también presenta una cantidad significativa de inmuebles, especialmente del tipo \"LOCAL\".\n",
        "\n",
        "Las visualizaciones han proporcionado una comprensión clara de las distribuciones y relaciones entre las variables del dataset, permitiendo una evaluación exhaustiva del mercado inmobiliario."
      ],
      "metadata": {
        "id": "6lN-4_a29usO"
      }
    },
    {
      "cell_type": "markdown",
      "source": [],
      "metadata": {
        "id": "ZhXrxxzH9tX0"
      }
    }
  ]
}